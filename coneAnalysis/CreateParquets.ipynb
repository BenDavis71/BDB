{
 "cells": [
  {
   "cell_type": "code",
   "execution_count": 1,
   "id": "8825f4f3-e5d2-4cf0-b1b4-7e1d49072bf6",
   "metadata": {},
   "outputs": [],
   "source": [
    "import numpy as np\n",
    "import pandas as pd\n",
    "import polars as pl\n",
    "import glob"
   ]
  },
  {
   "cell_type": "code",
   "execution_count": 2,
   "id": "521d4fd8-4276-47f1-8d3f-c313acc992a6",
   "metadata": {},
   "outputs": [
    {
     "ename": "TypeError",
     "evalue": "read_csv() got an unexpected keyword argument 'infer_schema_length'",
     "output_type": "error",
     "traceback": [
      "\u001b[1;31m---------------------------------------------------------------------------\u001b[0m",
      "\u001b[1;31mTypeError\u001b[0m                                 Traceback (most recent call last)",
      "Cell \u001b[1;32mIn[2], line 1\u001b[0m\n\u001b[1;32m----> 1\u001b[0m players \u001b[38;5;241m=\u001b[39m \u001b[43mpd\u001b[49m\u001b[38;5;241;43m.\u001b[39;49m\u001b[43mread_csv\u001b[49m\u001b[43m(\u001b[49m\u001b[38;5;124;43m'\u001b[39;49m\u001b[38;5;124;43m../nfl-big-data-bowl-2024/players.csv\u001b[39;49m\u001b[38;5;124;43m'\u001b[39;49m\u001b[43m,\u001b[49m\u001b[43m \u001b[49m\u001b[43minfer_schema_length\u001b[49m\u001b[38;5;241;43m=\u001b[39;49m\u001b[38;5;241;43m10000\u001b[39;49m\u001b[43m)\u001b[49m\n\u001b[0;32m      2\u001b[0m plays \u001b[38;5;241m=\u001b[39m pd\u001b[38;5;241m.\u001b[39mread_csv(\u001b[38;5;124m'\u001b[39m\u001b[38;5;124m../nfl-big-data-bowl-2024/plays.csv\u001b[39m\u001b[38;5;124m'\u001b[39m, infer_schema_length\u001b[38;5;241m=\u001b[39m\u001b[38;5;241m10000\u001b[39m)\n\u001b[0;32m      3\u001b[0m games \u001b[38;5;241m=\u001b[39m pd\u001b[38;5;241m.\u001b[39mread_csv(\u001b[38;5;124m'\u001b[39m\u001b[38;5;124m../nfl-big-data-bowl-2024/games.csv\u001b[39m\u001b[38;5;124m'\u001b[39m, infer_schema_length\u001b[38;5;241m=\u001b[39m\u001b[38;5;241m10000\u001b[39m)\n",
      "\u001b[1;31mTypeError\u001b[0m: read_csv() got an unexpected keyword argument 'infer_schema_length'"
     ]
    }
   ],
   "source": [
    "players = pd.read_csv('../nfl-big-data-bowl-2024/players.csv', infer_schema_length=10000)\n",
    "plays = pd.read_csv('../nfl-big-data-bowl-2024/plays.csv', infer_schema_length=10000)\n",
    "games = pd.read_csv('../nfl-big-data-bowl-2024/games.csv', infer_schema_length=10000)"
   ]
  },
  {
   "cell_type": "code",
   "execution_count": 3,
   "id": "1316f109-e435-45cb-92bb-4171a949958e",
   "metadata": {},
   "outputs": [
    {
     "ename": "NameError",
     "evalue": "name 'players' is not defined",
     "output_type": "error",
     "traceback": [
      "\u001b[1;31m---------------------------------------------------------------------------\u001b[0m",
      "\u001b[1;31mNameError\u001b[0m                                 Traceback (most recent call last)",
      "Cell \u001b[1;32mIn[3], line 1\u001b[0m\n\u001b[1;32m----> 1\u001b[0m \u001b[43mplayers\u001b[49m\u001b[38;5;241m.\u001b[39mto_parquet(\u001b[38;5;124m\"\u001b[39m\u001b[38;5;124m./players.parquet\u001b[39m\u001b[38;5;124m\"\u001b[39m)\n\u001b[0;32m      2\u001b[0m plays\u001b[38;5;241m.\u001b[39mto_parquet(\u001b[38;5;124m\"\u001b[39m\u001b[38;5;124m./plays.parquet\u001b[39m\u001b[38;5;124m\"\u001b[39m)\n\u001b[0;32m      3\u001b[0m games\u001b[38;5;241m.\u001b[39mto_parquet(\u001b[38;5;124m\"\u001b[39m\u001b[38;5;124m./games.parquet\u001b[39m\u001b[38;5;124m\"\u001b[39m)\n",
      "\u001b[1;31mNameError\u001b[0m: name 'players' is not defined"
     ]
    }
   ],
   "source": [
    "players.to_parquet(\"./players.parquet\")\n",
    "plays.to_parquet(\"./plays.parquet\")\n",
    "games.to_parquet(\"./games.parquet\")\n"
   ]
  },
  {
   "cell_type": "code",
   "execution_count": 9,
   "id": "5ae8739d-baf2-455e-9350-001451c25139",
   "metadata": {},
   "outputs": [],
   "source": [
    "for week in range(1,10):\n",
    "    tracking = pl.read_csv(f'../nfl-big-data-bowl-2024/tracking_week_{week}.csv',infer_schema_length=10000)\n",
    "    tracking = tracking.select(\n",
    "        'gameId',\n",
    "        'playId',\n",
    "        'frameId',\n",
    "        'playDirection',\n",
    "        'x',\n",
    "        'y',\n",
    "        'o',\n",
    "        'club',\n",
    "        'nflId',\n",
    "        'jerseyNumber'\n",
    "    )\n",
    "    tracking.write_parquet(f'../Data/tracking_week_{week}.parquet')"
   ]
  },
  {
   "cell_type": "code",
   "execution_count": 6,
   "id": "9f8acaf2-c996-4bff-a685-b8f24acd135b",
   "metadata": {},
   "outputs": [],
   "source": [
    "    players = pl.read_parquet('..\\Data\\\\players.parquet')\n",
    "    plays = pl.read_parquet('..\\Data\\\\plays.parquet')\n",
    "    games = pl.read_parquet('..\\Data\\\\games.parquet')\n",
    "    tracking = pl.read_parquet('..\\Data\\\\tracking_week_*.parquet')\n",
    "    play_results = pl.read_parquet('..\\Data\\\\results.parquet')"
   ]
  },
  {
   "cell_type": "code",
   "execution_count": 8,
   "id": "9cf4a5d3-2dd2-4c9c-99e9-612f89f726ec",
   "metadata": {},
   "outputs": [
    {
     "data": {
      "text/plain": [
       "{'gameId': Int64,\n",
       " 'playId': Int64,\n",
       " 'frameId': Int64,\n",
       " 'playDirection': Utf8,\n",
       " 'x': Float64,\n",
       " 'y': Float64,\n",
       " 'o': Utf8,\n",
       " 'club': Utf8,\n",
       " 'nflId': Utf8,\n",
       " 'jerseyNumber': Utf8}"
      ]
     },
     "execution_count": 8,
     "metadata": {},
     "output_type": "execute_result"
    }
   ],
   "source": [
    "tracking.schema"
   ]
  },
  {
   "cell_type": "code",
   "execution_count": 9,
   "id": "eb710665-8037-4673-bd70-b16a45944675",
   "metadata": {},
   "outputs": [
    {
     "data": {
      "text/plain": [
       "{'gameId': Int64,\n",
       " 'playId': Int64,\n",
       " 'ballCarrierId': Int64,\n",
       " 'ballCarrierDisplayName': Utf8,\n",
       " 'playDescription': Utf8,\n",
       " 'quarter': Int64,\n",
       " 'down': Int64,\n",
       " 'yardsToGo': Int64,\n",
       " 'possessionTeam': Utf8,\n",
       " 'defensiveTeam': Utf8,\n",
       " 'yardlineSide': Utf8,\n",
       " 'yardlineNumber': Int64,\n",
       " 'gameClock': Utf8,\n",
       " 'preSnapHomeScore': Int64,\n",
       " 'preSnapVisitorScore': Int64,\n",
       " 'passResult': Utf8,\n",
       " 'passLength': Float64,\n",
       " 'penaltyYards': Float64,\n",
       " 'prePenaltyPlayResult': Int64,\n",
       " 'playResult': Int64,\n",
       " 'playNullifiedByPenalty': Utf8,\n",
       " 'absoluteYardlineNumber': Int64,\n",
       " 'offenseFormation': Utf8,\n",
       " 'defendersInTheBox': Float64,\n",
       " 'passProbability': Float64,\n",
       " 'preSnapHomeTeamWinProbability': Float64,\n",
       " 'preSnapVisitorTeamWinProbability': Float64,\n",
       " 'homeTeamWinProbabilityAdded': Float64,\n",
       " 'visitorTeamWinProbilityAdded': Float64,\n",
       " 'expectedPoints': Float64,\n",
       " 'expectedPointsAdded': Float64,\n",
       " 'foulName1': Utf8,\n",
       " 'foulName2': Utf8,\n",
       " 'foulNFLId1': Float64,\n",
       " 'foulNFLId2': Float64}"
      ]
     },
     "execution_count": 9,
     "metadata": {},
     "output_type": "execute_result"
    }
   ],
   "source": [
    "plays.schema"
   ]
  },
  {
   "cell_type": "code",
   "execution_count": 10,
   "id": "af0d47f6-1c3f-44a1-82f6-0b8b92eb5ce6",
   "metadata": {},
   "outputs": [
    {
     "data": {
      "text/plain": [
       "{'gameId': Int64,\n",
       " 'season': Int64,\n",
       " 'week': Int64,\n",
       " 'gameDate': Utf8,\n",
       " 'gameTimeEastern': Utf8,\n",
       " 'homeTeamAbbr': Utf8,\n",
       " 'visitorTeamAbbr': Utf8,\n",
       " 'homeFinalScore': Int64,\n",
       " 'visitorFinalScore': Int64}"
      ]
     },
     "execution_count": 10,
     "metadata": {},
     "output_type": "execute_result"
    }
   ],
   "source": [
    "games.schema"
   ]
  },
  {
   "cell_type": "code",
   "execution_count": 11,
   "id": "8a7ebe30-9106-44fd-b191-7fcf4e3a0989",
   "metadata": {},
   "outputs": [
    {
     "data": {
      "text/plain": [
       "{'nflId': Int64,\n",
       " 'height': Utf8,\n",
       " 'weight': Int64,\n",
       " 'birthDate': Utf8,\n",
       " 'collegeName': Utf8,\n",
       " 'position': Utf8,\n",
       " 'displayName': Utf8}"
      ]
     },
     "execution_count": 11,
     "metadata": {},
     "output_type": "execute_result"
    }
   ],
   "source": [
    "players.schema"
   ]
  },
  {
   "cell_type": "code",
   "execution_count": 13,
   "id": "50830d38-afb8-403d-8267-b53ed3b6a906",
   "metadata": {},
   "outputs": [
    {
     "data": {
      "text/html": [
       "<div><style>\n",
       ".dataframe > thead > tr > th,\n",
       ".dataframe > tbody > tr > td {\n",
       "  text-align: right;\n",
       "}\n",
       "</style>\n",
       "<small>shape: (12_486, 36)</small><table border=\"1\" class=\"dataframe\"><thead><tr><th>gameId</th><th>playId</th><th>ballCarrierId</th><th>ballCarrierDisplayName</th><th>playDescription</th><th>quarter</th><th>down</th><th>yardsToGo</th><th>possessionTeam</th><th>defensiveTeam</th><th>yardlineSide</th><th>yardlineNumber</th><th>gameClock</th><th>preSnapHomeScore</th><th>preSnapVisitorScore</th><th>passResult</th><th>passLength</th><th>penaltyYards</th><th>prePenaltyPlayResult</th><th>playResult</th><th>playNullifiedByPenalty</th><th>absoluteYardlineNumber</th><th>offenseFormation</th><th>defendersInTheBox</th><th>passProbability</th><th>preSnapHomeTeamWinProbability</th><th>preSnapVisitorTeamWinProbability</th><th>homeTeamWinProbabilityAdded</th><th>visitorTeamWinProbilityAdded</th><th>expectedPoints</th><th>expectedPointsAdded</th><th>foulName1</th><th>foulName2</th><th>foulNFLId1</th><th>foulNFLId2</th><th>test</th></tr><tr><td>i64</td><td>i64</td><td>i64</td><td>str</td><td>str</td><td>i64</td><td>i64</td><td>i64</td><td>str</td><td>str</td><td>str</td><td>i64</td><td>str</td><td>i64</td><td>i64</td><td>str</td><td>f64</td><td>f64</td><td>i64</td><td>i64</td><td>str</td><td>i64</td><td>str</td><td>f64</td><td>f64</td><td>f64</td><td>f64</td><td>f64</td><td>f64</td><td>f64</td><td>f64</td><td>str</td><td>str</td><td>f64</td><td>f64</td><td>f64</td></tr></thead><tbody><tr><td>2022100908</td><td>3537</td><td>48723</td><td>&quot;Parker Hesse&quot;</td><td>&quot;(7:52) (Shotgu…</td><td>4</td><td>1</td><td>10</td><td>&quot;ATL&quot;</td><td>&quot;TB&quot;</td><td>&quot;ATL&quot;</td><td>41</td><td>&quot;7:52&quot;</td><td>21</td><td>7</td><td>&quot;C&quot;</td><td>6.0</td><td>null</td><td>9</td><td>9</td><td>&quot;N&quot;</td><td>69</td><td>&quot;SHOTGUN&quot;</td><td>7.0</td><td>0.747284</td><td>0.976785</td><td>0.023215</td><td>-0.00611</td><td>0.00611</td><td>2.360609</td><td>0.981955</td><td>null</td><td>null</td><td>null</td><td>null</td><td>0.981955</td></tr><tr><td>2022091103</td><td>3126</td><td>52457</td><td>&quot;Chase Claypool…</td><td>&quot;(7:38) (Shotgu…</td><td>4</td><td>1</td><td>10</td><td>&quot;PIT&quot;</td><td>&quot;CIN&quot;</td><td>&quot;PIT&quot;</td><td>34</td><td>&quot;7:38&quot;</td><td>14</td><td>20</td><td>null</td><td>null</td><td>null</td><td>3</td><td>3</td><td>&quot;N&quot;</td><td>76</td><td>&quot;SHOTGUN&quot;</td><td>7.0</td><td>0.416454</td><td>0.160485</td><td>0.839515</td><td>-0.010865</td><td>0.010865</td><td>1.733344</td><td>-0.263424</td><td>null</td><td>null</td><td>null</td><td>null</td><td>-0.263424</td></tr><tr><td>2022091111</td><td>1148</td><td>42547</td><td>&quot;Darren Waller&quot;</td><td>&quot;(8:57) D.Carr …</td><td>2</td><td>2</td><td>5</td><td>&quot;LV&quot;</td><td>&quot;LAC&quot;</td><td>&quot;LV&quot;</td><td>30</td><td>&quot;8:57&quot;</td><td>10</td><td>3</td><td>&quot;C&quot;</td><td>11.0</td><td>null</td><td>15</td><td>15</td><td>&quot;N&quot;</td><td>40</td><td>&quot;I_FORM&quot;</td><td>6.0</td><td>0.267933</td><td>0.756661</td><td>0.243339</td><td>-0.037409</td><td>0.037409</td><td>1.312855</td><td>1.133666</td><td>null</td><td>null</td><td>null</td><td>null</td><td>1.133666</td></tr><tr><td>2022100212</td><td>2007</td><td>46461</td><td>&quot;Mike Boone&quot;</td><td>&quot;(13:12) M.Boon…</td><td>3</td><td>2</td><td>10</td><td>&quot;DEN&quot;</td><td>&quot;LV&quot;</td><td>&quot;DEN&quot;</td><td>37</td><td>&quot;13:12&quot;</td><td>19</td><td>16</td><td>null</td><td>null</td><td>null</td><td>7</td><td>7</td><td>&quot;N&quot;</td><td>47</td><td>&quot;SINGLEBACK&quot;</td><td>6.0</td><td>0.592704</td><td>0.620552</td><td>0.379448</td><td>-0.002451</td><td>0.002451</td><td>1.641006</td><td>-0.04358</td><td>null</td><td>null</td><td>null</td><td>null</td><td>-0.04358</td></tr><tr><td>2022091900</td><td>1372</td><td>47857</td><td>&quot;Devin Singleta…</td><td>&quot;(8:33) D.Singl…</td><td>2</td><td>1</td><td>10</td><td>&quot;BUF&quot;</td><td>&quot;TEN&quot;</td><td>&quot;TEN&quot;</td><td>35</td><td>&quot;8:33&quot;</td><td>7</td><td>7</td><td>null</td><td>null</td><td>null</td><td>3</td><td>3</td><td>&quot;N&quot;</td><td>75</td><td>&quot;I_FORM&quot;</td><td>7.0</td><td>0.470508</td><td>0.83629</td><td>0.16371</td><td>0.001053</td><td>-0.001053</td><td>3.686428</td><td>-0.167903</td><td>null</td><td>null</td><td>null</td><td>null</td><td>-0.167903</td></tr><tr><td>2022103001</td><td>2165</td><td>54616</td><td>&quot;Tyler Allgeier…</td><td>&quot;(10:14) (Shotg…</td><td>3</td><td>3</td><td>17</td><td>&quot;ATL&quot;</td><td>&quot;CAR&quot;</td><td>&quot;ATL&quot;</td><td>18</td><td>&quot;10:14&quot;</td><td>14</td><td>13</td><td>&quot;C&quot;</td><td>-5.0</td><td>null</td><td>5</td><td>5</td><td>&quot;N&quot;</td><td>28</td><td>&quot;SHOTGUN&quot;</td><td>5.0</td><td>0.90887</td><td>0.599479</td><td>0.400521</td><td>-0.030628</td><td>0.030628</td><td>-1.484904</td><td>-0.639661</td><td>null</td><td>null</td><td>null</td><td>null</td><td>-0.639661</td></tr><tr><td>2022100207</td><td>2933</td><td>38538</td><td>&quot;Ryan Tannehill…</td><td>&quot;(13:31) (Shotg…</td><td>4</td><td>3</td><td>5</td><td>&quot;TEN&quot;</td><td>&quot;IND&quot;</td><td>&quot;TEN&quot;</td><td>25</td><td>&quot;13:31&quot;</td><td>17</td><td>24</td><td>&quot;R&quot;</td><td>null</td><td>null</td><td>3</td><td>3</td><td>&quot;N&quot;</td><td>85</td><td>&quot;EMPTY&quot;</td><td>4.0</td><td>0.973272</td><td>0.2308814</td><td>0.7691186</td><td>0.027645</td><td>-0.027645</td><td>0.137272</td><td>-1.269624</td><td>null</td><td>null</td><td>null</td><td>null</td><td>-1.269624</td></tr><tr><td>2022102310</td><td>56</td><td>46377</td><td>&quot;Jeffery Wilson…</td><td>&quot;(15:00) J.Wils…</td><td>1</td><td>1</td><td>10</td><td>&quot;SF&quot;</td><td>&quot;KC&quot;</td><td>&quot;SF&quot;</td><td>25</td><td>&quot;15:00&quot;</td><td>0</td><td>0</td><td>null</td><td>null</td><td>null</td><td>7</td><td>7</td><td>&quot;N&quot;</td><td>85</td><td>&quot;SINGLEBACK&quot;</td><td>7.0</td><td>0.497866</td><td>0.568721</td><td>0.431279</td><td>0.001382</td><td>-0.001382</td><td>1.298699</td><td>0.28234</td><td>null</td><td>null</td><td>null</td><td>null</td><td>0.28234</td></tr><tr><td>2022102310</td><td>1318</td><td>41325</td><td>&quot;Jerick McKinno…</td><td>&quot;(10:31) (Shotg…</td><td>2</td><td>1</td><td>10</td><td>&quot;KC&quot;</td><td>&quot;SF&quot;</td><td>&quot;KC&quot;</td><td>40</td><td>&quot;10:31&quot;</td><td>13</td><td>7</td><td>null</td><td>null</td><td>null</td><td>9</td><td>9</td><td>&quot;N&quot;</td><td>70</td><td>&quot;SHOTGUN&quot;</td><td>6.0</td><td>0.496857</td><td>0.679606</td><td>0.320394</td><td>-0.015303</td><td>0.015303</td><td>1.827773</td><td>0.73341</td><td>null</td><td>null</td><td>null</td><td>null</td><td>0.73341</td></tr><tr><td>2022092511</td><td>2903</td><td>46096</td><td>&quot;Rashaad Penny&quot;</td><td>&quot;(:35) (Shotgun…</td><td>3</td><td>1</td><td>10</td><td>&quot;SEA&quot;</td><td>&quot;ATL&quot;</td><td>&quot;SEA&quot;</td><td>25</td><td>&quot;0:35&quot;</td><td>23</td><td>27</td><td>&quot;C&quot;</td><td>-5.0</td><td>null</td><td>3</td><td>3</td><td>&quot;N&quot;</td><td>85</td><td>&quot;SHOTGUN&quot;</td><td>7.0</td><td>0.604374</td><td>0.344336</td><td>0.655664</td><td>-0.018103</td><td>0.018103</td><td>0.986438</td><td>-0.477845</td><td>null</td><td>null</td><td>null</td><td>null</td><td>-0.477845</td></tr><tr><td>2022091112</td><td>1994</td><td>52470</td><td>&quot;A.J. Dillon&quot;</td><td>&quot;(13:44) (Shotg…</td><td>3</td><td>3</td><td>1</td><td>&quot;GB&quot;</td><td>&quot;MIN&quot;</td><td>&quot;GB&quot;</td><td>27</td><td>&quot;13:44&quot;</td><td>17</td><td>0</td><td>null</td><td>null</td><td>null</td><td>3</td><td>3</td><td>&quot;N&quot;</td><td>37</td><td>&quot;SHOTGUN&quot;</td><td>6.0</td><td>0.337682</td><td>0.91647</td><td>0.08353</td><td>-0.001424</td><td>0.001424</td><td>1.084807</td><td>0.506989</td><td>null</td><td>null</td><td>null</td><td>null</td><td>0.506989</td></tr><tr><td>2022110606</td><td>2433</td><td>53431</td><td>&quot;Zach Wilson&quot;</td><td>&quot;(4:47) (Shotgu…</td><td>3</td><td>3</td><td>3</td><td>&quot;NYJ&quot;</td><td>&quot;BUF&quot;</td><td>&quot;BUF&quot;</td><td>12</td><td>&quot;4:47&quot;</td><td>10</td><td>14</td><td>&quot;R&quot;</td><td>null</td><td>null</td><td>5</td><td>5</td><td>&quot;N&quot;</td><td>22</td><td>&quot;SHOTGUN&quot;</td><td>6.0</td><td>0.880266</td><td>0.268702</td><td>0.731298</td><td>0.038116</td><td>-0.038116</td><td>4.453594</td><td>1.200647</td><td>null</td><td>null</td><td>null</td><td>null</td><td>1.200647</td></tr><tr><td>&hellip;</td><td>&hellip;</td><td>&hellip;</td><td>&hellip;</td><td>&hellip;</td><td>&hellip;</td><td>&hellip;</td><td>&hellip;</td><td>&hellip;</td><td>&hellip;</td><td>&hellip;</td><td>&hellip;</td><td>&hellip;</td><td>&hellip;</td><td>&hellip;</td><td>&hellip;</td><td>&hellip;</td><td>&hellip;</td><td>&hellip;</td><td>&hellip;</td><td>&hellip;</td><td>&hellip;</td><td>&hellip;</td><td>&hellip;</td><td>&hellip;</td><td>&hellip;</td><td>&hellip;</td><td>&hellip;</td><td>&hellip;</td><td>&hellip;</td><td>&hellip;</td><td>&hellip;</td><td>&hellip;</td><td>&hellip;</td><td>&hellip;</td><td>&hellip;</td></tr><tr><td>2022103001</td><td>3650</td><td>44901</td><td>&quot;D&#x27;Onta Foreman…</td><td>&quot;(2:14) (Shotgu…</td><td>4</td><td>1</td><td>10</td><td>&quot;CAR&quot;</td><td>&quot;ATL&quot;</td><td>&quot;CAR&quot;</td><td>25</td><td>&quot;2:14&quot;</td><td>31</td><td>28</td><td>null</td><td>null</td><td>null</td><td>1</td><td>1</td><td>&quot;N&quot;</td><td>35</td><td>&quot;SHOTGUN&quot;</td><td>6.0</td><td>0.862575</td><td>0.696049</td><td>0.303951</td><td>0.028497</td><td>-0.028497</td><td>1.463666</td><td>-0.477659</td><td>null</td><td>null</td><td>null</td><td>null</td><td>-0.477659</td></tr><tr><td>2022101300</td><td>2082</td><td>54563</td><td>&quot;Brian Robinson…</td><td>&quot;(14:19) (Shotg…</td><td>3</td><td>2</td><td>6</td><td>&quot;WAS&quot;</td><td>&quot;CHI&quot;</td><td>&quot;WAS&quot;</td><td>29</td><td>&quot;14:19&quot;</td><td>0</td><td>3</td><td>null</td><td>null</td><td>null</td><td>7</td><td>7</td><td>&quot;N&quot;</td><td>39</td><td>&quot;SHOTGUN&quot;</td><td>6.0</td><td>0.619684</td><td>0.333898</td><td>0.666102</td><td>-0.02175</td><td>0.02175</td><td>1.113147</td><td>0.945554</td><td>null</td><td>null</td><td>null</td><td>null</td><td>0.945554</td></tr><tr><td>2022110607</td><td>2806</td><td>54563</td><td>&quot;Brian Robinson…</td><td>&quot;(15:00) B.Robi…</td><td>4</td><td>1</td><td>10</td><td>&quot;WAS&quot;</td><td>&quot;MIN&quot;</td><td>&quot;MIN&quot;</td><td>11</td><td>&quot;15:00&quot;</td><td>10</td><td>7</td><td>null</td><td>null</td><td>null</td><td>5</td><td>5</td><td>&quot;N&quot;</td><td>21</td><td>&quot;SINGLEBACK&quot;</td><td>7.0</td><td>0.369957</td><td>0.772169</td><td>0.227831</td><td>0.008132</td><td>-0.008132</td><td>4.863587</td><td>0.144554</td><td>null</td><td>null</td><td>null</td><td>null</td><td>0.144554</td></tr><tr><td>2022102307</td><td>1224</td><td>42358</td><td>&quot;Melvin Gordon&quot;</td><td>&quot;(14:18) (Shotg…</td><td>2</td><td>2</td><td>8</td><td>&quot;DEN&quot;</td><td>&quot;NYJ&quot;</td><td>null</td><td>50</td><td>&quot;14:18&quot;</td><td>6</td><td>7</td><td>null</td><td>null</td><td>null</td><td>1</td><td>1</td><td>&quot;N&quot;</td><td>60</td><td>&quot;SHOTGUN&quot;</td><td>6.0</td><td>0.721505</td><td>0.458804</td><td>0.541196</td><td>-0.036002</td><td>0.036002</td><td>1.939443</td><td>-0.817222</td><td>null</td><td>null</td><td>null</td><td>null</td><td>-0.817222</td></tr><tr><td>2022100213</td><td>811</td><td>40011</td><td>&quot;Travis Kelce&quot;</td><td>&quot;(1:27) P.Mahom…</td><td>1</td><td>2</td><td>2</td><td>&quot;KC&quot;</td><td>&quot;TB&quot;</td><td>&quot;KC&quot;</td><td>26</td><td>&quot;1:27&quot;</td><td>3</td><td>14</td><td>&quot;C&quot;</td><td>5.0</td><td>null</td><td>7</td><td>7</td><td>&quot;N&quot;</td><td>84</td><td>&quot;SINGLEBACK&quot;</td><td>7.0</td><td>0.336611</td><td>0.167661</td><td>0.832339</td><td>0.001442</td><td>-0.001442</td><td>1.018668</td><td>0.35483</td><td>null</td><td>null</td><td>null</td><td>null</td><td>0.35483</td></tr><tr><td>2022092504</td><td>2509</td><td>52725</td><td>&quot;Ben Ellefson&quot;</td><td>&quot;(8:31) K.Cousi…</td><td>3</td><td>1</td><td>10</td><td>&quot;MIN&quot;</td><td>&quot;DET&quot;</td><td>&quot;MIN&quot;</td><td>23</td><td>&quot;8:31&quot;</td><td>14</td><td>17</td><td>&quot;C&quot;</td><td>12.0</td><td>null</td><td>12</td><td>12</td><td>&quot;N&quot;</td><td>87</td><td>&quot;I_FORM&quot;</td><td>8.0</td><td>0.467718</td><td>0.569608</td><td>0.430392</td><td>0.024005</td><td>-0.024005</td><td>1.105009</td><td>0.715667</td><td>null</td><td>null</td><td>null</td><td>null</td><td>0.715667</td></tr><tr><td>2022100910</td><td>105</td><td>44959</td><td>&quot;George Kittle&quot;</td><td>&quot;(13:43) (Shotg…</td><td>1</td><td>3</td><td>6</td><td>&quot;SF&quot;</td><td>&quot;CAR&quot;</td><td>&quot;SF&quot;</td><td>29</td><td>&quot;13:43&quot;</td><td>0</td><td>0</td><td>&quot;C&quot;</td><td>17.0</td><td>null</td><td>20</td><td>20</td><td>&quot;N&quot;</td><td>81</td><td>&quot;SHOTGUN&quot;</td><td>7.0</td><td>0.99047</td><td>0.395102</td><td>0.604898</td><td>-0.068616</td><td>0.068616</td><td>0.172976</td><td>2.691196</td><td>null</td><td>null</td><td>null</td><td>null</td><td>2.691196</td></tr><tr><td>2022100204</td><td>123</td><td>43293</td><td>&quot;Ezekiel Elliot…</td><td>&quot;(13:31) E.Elli…</td><td>1</td><td>1</td><td>10</td><td>&quot;DAL&quot;</td><td>&quot;WAS&quot;</td><td>&quot;WAS&quot;</td><td>39</td><td>&quot;13:31&quot;</td><td>0</td><td>0</td><td>null</td><td>null</td><td>null</td><td>1</td><td>1</td><td>&quot;N&quot;</td><td>49</td><td>&quot;SINGLEBACK&quot;</td><td>6.0</td><td>0.5778</td><td>0.6386</td><td>0.3614</td><td>-0.011542</td><td>0.011542</td><td>3.642571</td><td>-0.504018</td><td>null</td><td>null</td><td>null</td><td>null</td><td>-0.504018</td></tr><tr><td>2022091200</td><td>3467</td><td>46189</td><td>&quot;Will Dissly&quot;</td><td>&quot;(6:08) G.Smith…</td><td>4</td><td>1</td><td>10</td><td>&quot;SEA&quot;</td><td>&quot;DEN&quot;</td><td>&quot;SEA&quot;</td><td>30</td><td>&quot;6:08&quot;</td><td>17</td><td>16</td><td>&quot;C&quot;</td><td>0.0</td><td>null</td><td>2</td><td>2</td><td>&quot;N&quot;</td><td>40</td><td>&quot;SINGLEBACK&quot;</td><td>7.0</td><td>0.298983</td><td>0.615241</td><td>0.384759</td><td>-0.025458</td><td>0.025458</td><td>1.43458</td><td>-0.444642</td><td>null</td><td>null</td><td>null</td><td>null</td><td>-0.444642</td></tr><tr><td>2022101605</td><td>3371</td><td>44860</td><td>&quot;Joe Mixon&quot;</td><td>&quot;(9:35) (Shotgu…</td><td>4</td><td>1</td><td>10</td><td>&quot;CIN&quot;</td><td>&quot;NO&quot;</td><td>&quot;CIN&quot;</td><td>41</td><td>&quot;9:35&quot;</td><td>26</td><td>21</td><td>null</td><td>null</td><td>null</td><td>6</td><td>6</td><td>&quot;N&quot;</td><td>69</td><td>&quot;SHOTGUN&quot;</td><td>6.0</td><td>0.639439</td><td>0.667054</td><td>0.332946</td><td>-0.005164</td><td>0.005164</td><td>2.115356</td><td>0.203819</td><td>null</td><td>null</td><td>null</td><td>null</td><td>0.203819</td></tr><tr><td>2022100207</td><td>2777</td><td>52449</td><td>&quot;Jonathan Taylo…</td><td>&quot;(2:02) (Shotgu…</td><td>3</td><td>1</td><td>10</td><td>&quot;IND&quot;</td><td>&quot;TEN&quot;</td><td>&quot;TEN&quot;</td><td>34</td><td>&quot;2:02&quot;</td><td>17</td><td>24</td><td>null</td><td>null</td><td>null</td><td>-2</td><td>-2</td><td>&quot;N&quot;</td><td>44</td><td>&quot;SHOTGUN&quot;</td><td>6.0</td><td>0.518695</td><td>0.410611</td><td>0.589389</td><td>-0.046648</td><td>0.046648</td><td>3.946232</td><td>-0.976039</td><td>null</td><td>null</td><td>null</td><td>null</td><td>-0.976039</td></tr><tr><td>2022102308</td><td>905</td><td>54572</td><td>&quot;Dameon Pierce&quot;</td><td>&quot;(12:51) C.Heck…</td><td>2</td><td>3</td><td>1</td><td>&quot;HOU&quot;</td><td>&quot;LV&quot;</td><td>&quot;LV&quot;</td><td>17</td><td>&quot;12:51&quot;</td><td>3</td><td>0</td><td>null</td><td>null</td><td>null</td><td>3</td><td>3</td><td>&quot;N&quot;</td><td>27</td><td>&quot;I_FORM&quot;</td><td>8.0</td><td>0.101552</td><td>0.726639</td><td>0.273361</td><td>-0.015028</td><td>0.015028</td><td>4.685974</td><td>0.25158</td><td>null</td><td>null</td><td>null</td><td>null</td><td>0.25158</td></tr></tbody></table></div>"
      ],
      "text/plain": [
       "shape: (12_486, 36)\n",
       "┌────────────┬────────┬───────────────┬────────────────────────┬───┬───────────┬────────────┬────────────┬───────────┐\n",
       "│ gameId     ┆ playId ┆ ballCarrierId ┆ ballCarrierDisplayName ┆ … ┆ foulName2 ┆ foulNFLId1 ┆ foulNFLId2 ┆ test      │\n",
       "│ ---        ┆ ---    ┆ ---           ┆ ---                    ┆   ┆ ---       ┆ ---        ┆ ---        ┆ ---       │\n",
       "│ i64        ┆ i64    ┆ i64           ┆ str                    ┆   ┆ str       ┆ f64        ┆ f64        ┆ f64       │\n",
       "╞════════════╪════════╪═══════════════╪════════════════════════╪═══╪═══════════╪════════════╪════════════╪═══════════╡\n",
       "│ 2022100908 ┆ 3537   ┆ 48723         ┆ Parker Hesse           ┆ … ┆ null      ┆ null       ┆ null       ┆ 0.981955  │\n",
       "│ 2022091103 ┆ 3126   ┆ 52457         ┆ Chase Claypool         ┆ … ┆ null      ┆ null       ┆ null       ┆ -0.263424 │\n",
       "│ 2022091111 ┆ 1148   ┆ 42547         ┆ Darren Waller          ┆ … ┆ null      ┆ null       ┆ null       ┆ 1.133666  │\n",
       "│ 2022100212 ┆ 2007   ┆ 46461         ┆ Mike Boone             ┆ … ┆ null      ┆ null       ┆ null       ┆ -0.04358  │\n",
       "│ …          ┆ …      ┆ …             ┆ …                      ┆ … ┆ …         ┆ …          ┆ …          ┆ …         │\n",
       "│ 2022091200 ┆ 3467   ┆ 46189         ┆ Will Dissly            ┆ … ┆ null      ┆ null       ┆ null       ┆ -0.444642 │\n",
       "│ 2022101605 ┆ 3371   ┆ 44860         ┆ Joe Mixon              ┆ … ┆ null      ┆ null       ┆ null       ┆ 0.203819  │\n",
       "│ 2022100207 ┆ 2777   ┆ 52449         ┆ Jonathan Taylor        ┆ … ┆ null      ┆ null       ┆ null       ┆ -0.976039 │\n",
       "│ 2022102308 ┆ 905    ┆ 54572         ┆ Dameon Pierce          ┆ … ┆ null      ┆ null       ┆ null       ┆ 0.25158   │\n",
       "└────────────┴────────┴───────────────┴────────────────────────┴───┴───────────┴────────────┴────────────┴───────────┘"
      ]
     },
     "execution_count": 13,
     "metadata": {},
     "output_type": "execute_result"
    }
   ],
   "source": [
    "plays.with_columns(pl.col('expectedPointsAdded').alias('test'))"
   ]
  },
  {
   "cell_type": "code",
   "execution_count": null,
   "id": "38692445-788e-4107-902c-a5b63e5f0f5f",
   "metadata": {},
   "outputs": [],
   "source": []
  }
 ],
 "metadata": {
  "kernelspec": {
   "display_name": "Python 3 (ipykernel)",
   "language": "python",
   "name": "python3"
  },
  "language_info": {
   "codemirror_mode": {
    "name": "ipython",
    "version": 3
   },
   "file_extension": ".py",
   "mimetype": "text/x-python",
   "name": "python",
   "nbconvert_exporter": "python",
   "pygments_lexer": "ipython3",
   "version": "3.11.0"
  }
 },
 "nbformat": 4,
 "nbformat_minor": 5
}
