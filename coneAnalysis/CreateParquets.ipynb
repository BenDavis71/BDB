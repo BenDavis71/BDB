{
 "cells": [
  {
   "cell_type": "code",
   "execution_count": 1,
   "id": "8825f4f3-e5d2-4cf0-b1b4-7e1d49072bf6",
   "metadata": {},
   "outputs": [],
   "source": [
    "import numpy as np\n",
    "import pandas as pd\n",
    "import polars as pl\n",
    "import glob"
   ]
  },
  {
   "cell_type": "code",
   "execution_count": 2,
   "id": "521d4fd8-4276-47f1-8d3f-c313acc992a6",
   "metadata": {},
   "outputs": [],
   "source": [
    "players = pd.read_csv('../nfl-big-data-bowl-2024/players.csv')\n",
    "plays = pd.read_csv('../nfl-big-data-bowl-2024/plays.csv')\n",
    "games = pd.read_csv('../nfl-big-data-bowl-2024/games.csv')"
   ]
  },
  {
   "cell_type": "code",
   "execution_count": 4,
   "id": "1316f109-e435-45cb-92bb-4171a949958e",
   "metadata": {},
   "outputs": [],
   "source": [
    "players.to_parquet(\"./players.parquet\")\n",
    "plays.to_parquet(\"./plays.parquet\")\n",
    "games.to_parquet(\"./games.parquet\")\n"
   ]
  },
  {
   "cell_type": "code",
   "execution_count": null,
   "id": "5ae8739d-baf2-455e-9350-001451c25139",
   "metadata": {},
   "outputs": [],
   "source": []
  }
 ],
 "metadata": {
  "kernelspec": {
   "display_name": "Python 3 (ipykernel)",
   "language": "python",
   "name": "python3"
  },
  "language_info": {
   "codemirror_mode": {
    "name": "ipython",
    "version": 3
   },
   "file_extension": ".py",
   "mimetype": "text/x-python",
   "name": "python",
   "nbconvert_exporter": "python",
   "pygments_lexer": "ipython3",
   "version": "3.11.0"
  }
 },
 "nbformat": 4,
 "nbformat_minor": 5
}
