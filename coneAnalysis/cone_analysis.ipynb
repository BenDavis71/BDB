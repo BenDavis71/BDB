{
 "cells": [
  {
   "cell_type": "code",
   "execution_count": 1,
   "id": "a691a07c-00b8-4843-90f2-efaaa252ea85",
   "metadata": {},
   "outputs": [],
   "source": [
    "import polars as pl\n",
    "import pandas as pd\n",
    "import numpy as np\n",
    "import math as math"
   ]
  },
  {
   "cell_type": "code",
   "execution_count": 3,
   "id": "668e7aa3-6f90-4ca7-b9e8-b6e1e0573005",
   "metadata": {},
   "outputs": [],
   "source": [
    "# read all data\n",
    "players = pl.read_csv('../nfl-big-data-bowl-2024/players.csv')\n",
    "plays = pl.read_csv('../nfl-big-data-bowl-2024/plays.csv',infer_schema_length=100000)\n",
    "games = pl.read_csv('../nfl-big-data-bowl-2024/games.csv',infer_schema_length=10000)\n",
    "tracking = pl.read_csv('../nfl-big-data-bowl-2024/tracking_week*.csv',infer_schema_length=10000)"
   ]
  },
  {
   "cell_type": "code",
   "execution_count": 11,
   "id": "147a0c33-dad8-4f51-a150-69b2fbbef229",
   "metadata": {},
   "outputs": [],
   "source": [
    "# normalize data\n",
    "players = players.with_columns([pl.col('nflId').cast(str)])\n",
    "plays = plays.join(games,on='gameId')\n",
    "plays = plays.with_columns([\n",
    "    (pl.col('gameId').cast(str) + '-'\n",
    "     + pl.col('playId').cast(str)).alias('uniquePlayId')\n",
    "])\n",
    "\n",
    "tracking = tracking.with_columns(\n",
    "    (pl.col('gameId').cast(str) + '-'\n",
    "     + pl.col('playId').cast(str)).alias('uniquePlayId'),\n",
    "    (pl.col('gameId').cast(str) + '-'\n",
    "     + pl.col('playId').cast(str) + '-'\n",
    "     + pl.col('nflId').cast(str)).alias('uniquePlayerId'),\n",
    ")\n",
    "\n",
    "# normalize position\n",
    "tracking=tracking.with_columns([\n",
    "    pl.when(pl.col('playDirection')=='right').then(53.3-pl.col('y')).otherwise(pl.col('y')).alias('adjustedX'),\n",
    "    pl.when(pl.col('playDirection')=='right').then(pl.col('x')).otherwise(120-pl.col('x')).alias('adjustedY')\n",
    "])\n",
    "\n",
    "tracking=tracking.with_columns([\n",
    "    pl.when(pl.col('event')=='ball_snap').then(pl.col('frameId')).otherwise(-1).alias('startingFrameId'),\n",
    "])\n",
    "tracking=tracking.with_columns([\n",
    "    pl.col('startingFrameId').max().over(pl.col('uniquePlayId')),\n",
    "])\n",
    "tracking=tracking.with_columns([\n",
    "    (pl.col('frameId') - pl.col('startingFrameId')).alias('framesSinceSnap'),\n",
    "])\n",
    "\n",
    "# normalize orientation 'o' and direction 'dir'\n",
    "# convert 'NA' to 0\n",
    "replacement_values = {'NA': '0'}\n",
    "tracking = tracking.with_columns(\n",
    "    pl.col('o').apply(lambda x: replacement_values.get(x, x)),\n",
    "    pl.col('dir').apply(lambda x: replacement_values.get(x, x)),\n",
    ")\n",
    "\n",
    "tracking=tracking.with_columns([\n",
    "    pl.when(pl.col('playDirection')=='right').then(pl.col('dir').cast(pl.Float64)).otherwise(180-pl.col('dir').cast(pl.Float64)).alias('adjustedDir'),\n",
    "    pl.when(pl.col('playDirection')=='right').then(pl.col('o').cast(pl.Float64)).otherwise(180-pl.col('o').cast(pl.Float64)).alias('adjustedO'),\n",
    "])"
   ]
  },
  {
   "cell_type": "code",
   "execution_count": null,
   "id": "53fa5a97-e18c-4bc1-8a2d-c784d4927c48",
   "metadata": {},
   "outputs": [],
   "source": []
  },
  {
   "cell_type": "code",
   "execution_count": 39,
   "id": "8b95e15d-5986-4c0e-9b63-948e509e2a56",
   "metadata": {},
   "outputs": [],
   "source": [
    "def is_in_vision_cone(index, df):\n",
    "    # Calculate angle between origin and point\n",
    "    angle = math.atan2(y1 - y_origin, x1 - x_origin)\n",
    "    # Convert angle to degrees\n",
    "    angle_degrees = math.degrees(angle) % 360\n",
    "    # Calculate angle difference between the point and the cone's direction\n",
    "    angle_difference = abs((angle_degrees - degree + 360) % 360 - 180)\n",
    "    \n",
    "    # Check if the point is within the cone's vision\n",
    "    if angle_difference <= 0.5 * degree and math.sqrt((x1 - x_origin) ** 2 + (y1 - y_origin) ** 2) <= radius:\n",
    "        return True\n",
    "    else:\n",
    "        return False"
   ]
  },
  {
   "cell_type": "code",
   "execution_count": 91,
   "id": "7b736fed-d08b-4e61-86f1-cbb02166fd3c",
   "metadata": {},
   "outputs": [],
   "source": [
    "cone_angle = 25 # degrees\n",
    "max_distance = 10 # feet\n",
    "\n",
    "def is_in_vision_cone(player1_row: pl.DataFrame, player2_row) -> bool:\n",
    "    return (is_in_angle(player1_row, player2_row) and is_in_distance(player1_row, player2_row))\n",
    "\n",
    "def is_in_angle(player1, player2) -> bool:\n",
    "    half_cone_angle = cone_angle / 2;\n",
    "\n",
    "    y_dist = player2.select(pl.col('adjustedY')).item() - player1.select(pl.col('adjustedY')).item()\n",
    "    x_dist = player2.select(pl.col('adjustedX')).item() - player1.select(pl.col('adjustedX')).item()\n",
    "\n",
    "    player1_orientation = player1.select(pl.col('adjustedO')).item()\n",
    "\n",
    "    angle = math.degrees(math.atan2(y_dist, x_dist))\n",
    "\n",
    "    if player1_orientation - half_cone_angle <= angle <= player1_orientation + half_cone_angle:\n",
    "        return True\n",
    "    \n",
    "    return False\n",
    "\n",
    "def is_in_distance(player1_index, player2_index) -> bool:\n",
    "    y_dist = abs(player1.select(pl.col('adjustedY')).item() - player2.select(pl.col('adjustedY')).item())\n",
    "    x_dist = abs(player1.select(pl.col('adjustedX')).item() - player2.select(pl.col('adjustedX')).item())\n",
    "\n",
    "    distance_between_players = math.sqrt(x_dist**2 + y_dist**2)\n",
    "    \n",
    "    if distance_between_players <= max_distance:\n",
    "        return True\n",
    "    \n",
    "    return False"
   ]
  },
  {
   "cell_type": "code",
   "execution_count": 92,
   "id": "f8dabf1e-faea-4ab2-a8c0-526545b03cfe",
   "metadata": {},
   "outputs": [
    {
     "name": "stdout",
     "output_type": "stream",
     "text": [
      "shape: (1, 3)\n",
      "┌───────────┬───────────┬───────────┐\n",
      "│ adjustedX ┆ adjustedY ┆ adjustedO │\n",
      "│ ---       ┆ ---       ┆ ---       │\n",
      "│ f64       ┆ f64       ┆ f64       │\n",
      "╞═══════════╪═══════════╪═══════════╡\n",
      "│ 50.0      ┆ 45.0      ┆ 90.0      │\n",
      "└───────────┴───────────┴───────────┘\n",
      "shape: (1, 3)\n",
      "┌───────────┬───────────┬───────────┐\n",
      "│ adjustedX ┆ adjustedY ┆ adjustedO │\n",
      "│ ---       ┆ ---       ┆ ---       │\n",
      "│ f64       ┆ f64       ┆ f64       │\n",
      "╞═══════════╪═══════════╪═══════════╡\n",
      "│ 50.0      ┆ 46.0      ┆ 270.0     │\n",
      "└───────────┴───────────┴───────────┘\n"
     ]
    },
    {
     "data": {
      "text/plain": [
       "True"
      ]
     },
     "execution_count": 92,
     "metadata": {},
     "output_type": "execute_result"
    }
   ],
   "source": [
    "gameId = 2022090800\n",
    "playId = 56\n",
    "frameId = 1\n",
    "\n",
    "current_game_play_frame = (\n",
    "    tracking.filter(pl.col('gameId')==gameId)\n",
    "        .filter(pl.col('playId')==playId)\n",
    "        .filter(pl.col('frameId')==frameId)\n",
    ")\n",
    "\n",
    "# validating :)\n",
    "data = {\n",
    "    'adjustedX': [50.00, 50.00],\n",
    "    'adjustedY': [45.00, 46.00],\n",
    "    'adjustedO': [90.00, 270.00]\n",
    "}\n",
    "\n",
    "test_df = pl.DataFrame(data)\n",
    "\n",
    "player1 = test_df[0]\n",
    "player2 = test_df[1]\n",
    "\n",
    "print(player1)\n",
    "print(player2)\n",
    "\n",
    "is_in_vision_cone(player1, player2)"
   ]
  },
  {
   "cell_type": "code",
   "execution_count": 87,
   "id": "f74bc3e4-7599-405c-8b96-89b80ddb45f1",
   "metadata": {},
   "outputs": [
    {
     "data": {
      "text/plain": [
       "polars.dataframe.frame.DataFrame"
      ]
     },
     "execution_count": 87,
     "metadata": {},
     "output_type": "execute_result"
    }
   ],
   "source": [
    "type(tracking)"
   ]
  },
  {
   "cell_type": "code",
   "execution_count": null,
   "id": "1420988d-4f2f-4475-820b-4ebaf909cefd",
   "metadata": {},
   "outputs": [],
   "source": []
  }
 ],
 "metadata": {
  "kernelspec": {
   "display_name": "Python 3 (ipykernel)",
   "language": "python",
   "name": "python3"
  },
  "language_info": {
   "codemirror_mode": {
    "name": "ipython",
    "version": 3
   },
   "file_extension": ".py",
   "mimetype": "text/x-python",
   "name": "python",
   "nbconvert_exporter": "python",
   "pygments_lexer": "ipython3",
   "version": "3.9.6"
  }
 },
 "nbformat": 4,
 "nbformat_minor": 5
}
