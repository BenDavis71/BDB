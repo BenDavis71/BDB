{
 "cells": [
  {
   "cell_type": "code",
   "execution_count": 32,
   "id": "a691a07c-00b8-4843-90f2-efaaa252ea85",
   "metadata": {},
   "outputs": [],
   "source": [
    "import polars as pl\n",
    "import pandas as pd\n",
    "import numpy as np\n",
    "import math as math\n",
    "# find a better way to import?\n",
    "import sys\n",
    "import os\n",
    "sys.path.append(os.path.join(os.path.dirname(''), '..'))\n",
    "\n",
    "from constants import *\n"
   ]
  },
  {
   "cell_type": "code",
   "execution_count": 33,
   "id": "668e7aa3-6f90-4ca7-b9e8-b6e1e0573005",
   "metadata": {},
   "outputs": [],
   "source": [
    "# read all data\n",
    "players = pl.read_csv('../nfl-big-data-bowl-2024/players.csv')\n",
    "plays = pl.read_csv('../nfl-big-data-bowl-2024/plays.csv',infer_schema_length=100000)\n",
    "games = pl.read_csv('../nfl-big-data-bowl-2024/games.csv',infer_schema_length=10000)\n",
    "tracking = pl.read_csv('../nfl-big-data-bowl-2024/tracking_week*.csv',infer_schema_length=10000)"
   ]
  },
  {
   "cell_type": "code",
   "execution_count": 34,
   "id": "147a0c33-dad8-4f51-a150-69b2fbbef229",
   "metadata": {},
   "outputs": [],
   "source": [
    "# normalize data\n",
    "players = players.with_columns([pl.col('nflId').cast(str)])\n",
    "plays = plays.join(games,on='gameId')\n",
    "plays = plays.with_columns([\n",
    "    (pl.col('gameId').cast(str) + '-'\n",
    "     + pl.col('playId').cast(str)).alias('uniquePlayId')\n",
    "])\n",
    "\n",
    "tracking = tracking.with_columns(\n",
    "    (pl.col('gameId').cast(str) + '-'\n",
    "     + pl.col('playId').cast(str)).alias('uniquePlayId'),\n",
    "    (pl.col('gameId').cast(str) + '-'\n",
    "     + pl.col('playId').cast(str) + '-'\n",
    "     + pl.col('nflId').cast(str)).alias('uniquePlayerId'),\n",
    ")\n",
    "\n",
    "# normalize position\n",
    "tracking=tracking.with_columns([\n",
    "    pl.when(pl.col('playDirection')=='right').then(53.3-pl.col('y')).otherwise(pl.col('y')).alias('adjustedX'),\n",
    "    pl.when(pl.col('playDirection')=='right').then(pl.col('x')).otherwise(120-pl.col('x')).alias('adjustedY')\n",
    "])\n",
    "\n",
    "tracking=tracking.with_columns([\n",
    "    pl.when(pl.col('event')=='ball_snap').then(pl.col('frameId')).otherwise(-1).alias('startingFrameId'),\n",
    "])\n",
    "tracking=tracking.with_columns([\n",
    "    pl.col('startingFrameId').max().over(pl.col('uniquePlayId')),\n",
    "])\n",
    "tracking=tracking.with_columns([\n",
    "    (pl.col('frameId') - pl.col('startingFrameId')).alias('framesSinceSnap'),\n",
    "])\n",
    "\n",
    "# normalize orientation 'o' and direction 'dir'\n",
    "# convert 'NA' to 0\n",
    "replacement_values = {'NA': '0'}\n",
    "tracking = tracking.with_columns(\n",
    "    pl.col('o').apply(lambda x: replacement_values.get(x, x)),\n",
    "    pl.col('dir').apply(lambda x: replacement_values.get(x, x)),\n",
    ")\n",
    "\n",
    "tracking=tracking.with_columns([\n",
    "    pl.when(pl.col('playDirection')=='right').then(pl.col('dir').cast(pl.Float64)).otherwise(180-pl.col('dir').cast(pl.Float64)).alias('adjustedDir'),\n",
    "    pl.when(pl.col('playDirection')=='right').then(pl.col('o').cast(pl.Float64)).otherwise(180-pl.col('o').cast(pl.Float64)).alias('adjustedO'),\n",
    "])"
   ]
  },
  {
   "cell_type": "code",
   "execution_count": 35,
   "id": "8b95e15d-5986-4c0e-9b63-948e509e2a56",
   "metadata": {},
   "outputs": [],
   "source": [
    "CONE_ANGLE = 15 # degrees\n",
    "MAX_DISTANCE = 5 # feet\n",
    "BLOCKING_RADIUS = 1 # feet\n",
    "\n",
    "def looking_to_block_or_blocking(player1: pl.DataFrame, player2: pl.DataFrame) -> int:\n",
    "    if is_blocking(player1, player2):\n",
    "        return 2\n",
    "\n",
    "    if is_in_vision_cone(player1, player2):\n",
    "        return 1\n",
    "\n",
    "    return 0\n",
    "\n",
    "def is_in_vision_cone(player1: pl.DataFrame, player2: pl.DataFrame) -> bool:\n",
    "    return (is_in_angle(player1, player2) and is_in_distance(player1, player2))\n",
    "\n",
    "def is_in_angle(player1: pl.DataFrame, player2: pl.DataFrame) -> bool:\n",
    "    half_cone_angle = CONE_ANGLE / 2\n",
    "\n",
    "    y_dist = player2.select(pl.col('adjustedY')).item() - player1.select(pl.col('adjustedY')).item()\n",
    "    x_dist = player2.select(pl.col('adjustedX')).item() - player1.select(pl.col('adjustedX')).item()\n",
    "\n",
    "    player1_orientation = player1.select(pl.col('adjustedO')).item()\n",
    "\n",
    "    angle = math.degrees(math.atan2(y_dist, x_dist))\n",
    "\n",
    "    if player1_orientation - half_cone_angle <= angle <= player1_orientation + half_cone_angle:\n",
    "        return True\n",
    "    \n",
    "    return False\n",
    "\n",
    "def is_in_distance(player1: pl.DataFrame, player2: pl.DataFrame) -> bool:\n",
    "    distance_between_players = calculate_distance(player1, player2)\n",
    "    print(distance_between_players)\n",
    "    if distance_between_players <= MAX_DISTANCE:\n",
    "        return True\n",
    "    \n",
    "    return False\n",
    "\n",
    "def is_blocking(player1: pl.DataFrame, player2: pl.DataFrame) -> bool:\n",
    "    distance_between_players = calculate_distance(player1, player2)\n",
    "    if distance_between_players <= BLOCKING_RADIUS:\n",
    "        return True\n",
    "\n",
    "    return False\n",
    "\n",
    "\n",
    "def calculate_distance(player1: pl.DataFrame, player2: pl.DataFrame) -> float:\n",
    "    y_dist = abs(player1.select(pl.col('adjustedY')).item() - player2.select(pl.col('adjustedY')).item())\n",
    "    x_dist = abs(player1.select(pl.col('adjustedX')).item() - player2.select(pl.col('adjustedX')).item())\n",
    "\n",
    "    return math.sqrt(x_dist**2 + y_dist**2)"
   ]
  },
  {
   "cell_type": "code",
   "execution_count": 36,
   "id": "f8dabf1e-faea-4ab2-a8c0-526545b03cfe",
   "metadata": {},
   "outputs": [
    {
     "data": {
      "text/plain": [
       "2"
      ]
     },
     "execution_count": 36,
     "metadata": {},
     "output_type": "execute_result"
    }
   ],
   "source": [
    "gameId = 2022090800\n",
    "playId = 56\n",
    "frameId = 1\n",
    "\n",
    "current_game_play_frame = (\n",
    "    tracking.filter(pl.col('gameId')==gameId)\n",
    "        .filter(pl.col('playId')==playId)\n",
    "        .filter(pl.col('frameId')==frameId)\n",
    ")\n",
    "\n",
    "# validating :)\n",
    "data = {\n",
    "    'adjustedX': [50.00, 50.00],\n",
    "    'adjustedY': [49.00, 50.00],\n",
    "    'adjustedO': [90.00, 270.00]\n",
    "}\n",
    "\n",
    "test_df = pl.DataFrame(data)\n",
    "\n",
    "player1 = test_df[0]\n",
    "player2 = test_df[1]\n",
    "\n",
    "looking_to_block_or_blocking(player1, player2)"
   ]
  },
  {
   "cell_type": "code",
   "execution_count": 37,
   "id": "329dcaeb-adb4-40ed-8755-90d7030ed284",
   "metadata": {},
   "outputs": [],
   "source": [
    "test = pl.read_parquet('../labeledDataAttempt/labeledBlocks.parquet')"
   ]
  },
  {
   "cell_type": "code",
   "execution_count": 41,
   "id": "122993b0-97d0-4179-9d3b-57be22a773d5",
   "metadata": {},
   "outputs": [
    {
     "ename": "ColumnNotFoundError",
     "evalue": "adjustedO\n\nError originated just after this operation:\nDF [\"gameId\", \"playId\", \"ballCarrierId\", \"quarter\"]; PROJECT */47 COLUMNS; SELECTION: \"None\"",
     "output_type": "error",
     "traceback": [
      "\u001b[0;31m---------------------------------------------------------------------------\u001b[0m",
      "\u001b[0;31mColumnNotFoundError\u001b[0m                       Traceback (most recent call last)",
      "Cell \u001b[0;32mIn[41], line 1\u001b[0m\n\u001b[0;32m----> 1\u001b[0m \u001b[43mtest\u001b[49m\u001b[43m[\u001b[49m\u001b[38;5;241;43m0\u001b[39;49m\u001b[43m]\u001b[49m\u001b[38;5;241;43m.\u001b[39;49m\u001b[43mselect\u001b[49m\u001b[43m(\u001b[49m\u001b[38;5;124;43m'\u001b[39;49m\u001b[38;5;124;43madjustedX\u001b[39;49m\u001b[38;5;124;43m'\u001b[39;49m\u001b[43m,\u001b[49m\u001b[43m \u001b[49m\u001b[38;5;124;43m'\u001b[39;49m\u001b[38;5;124;43madjustedY\u001b[39;49m\u001b[38;5;124;43m'\u001b[39;49m\u001b[43m,\u001b[49m\u001b[43m \u001b[49m\u001b[38;5;124;43m'\u001b[39;49m\u001b[38;5;124;43madjustedO\u001b[39;49m\u001b[38;5;124;43m'\u001b[39;49m\u001b[43m)\u001b[49m\n",
      "File \u001b[0;32m~/Desktop/code/BDB/virtual_env/lib/python3.9/site-packages/polars/dataframe/frame.py:7103\u001b[0m, in \u001b[0;36mDataFrame.select\u001b[0;34m(self, exprs, *more_exprs, **named_exprs)\u001b[0m\n\u001b[1;32m   6996\u001b[0m \u001b[38;5;28;01mdef\u001b[39;00m \u001b[38;5;21mselect\u001b[39m(\n\u001b[1;32m   6997\u001b[0m     \u001b[38;5;28mself\u001b[39m,\n\u001b[1;32m   6998\u001b[0m     exprs: IntoExpr \u001b[38;5;241m|\u001b[39m Iterable[IntoExpr] \u001b[38;5;241m|\u001b[39m \u001b[38;5;28;01mNone\u001b[39;00m \u001b[38;5;241m=\u001b[39m \u001b[38;5;28;01mNone\u001b[39;00m,\n\u001b[1;32m   6999\u001b[0m     \u001b[38;5;241m*\u001b[39mmore_exprs: IntoExpr,\n\u001b[1;32m   7000\u001b[0m     \u001b[38;5;241m*\u001b[39m\u001b[38;5;241m*\u001b[39mnamed_exprs: IntoExpr,\n\u001b[1;32m   7001\u001b[0m ) \u001b[38;5;241m-\u001b[39m\u001b[38;5;241m>\u001b[39m DataFrame:\n\u001b[1;32m   7002\u001b[0m \u001b[38;5;250m    \u001b[39m\u001b[38;5;124;03m\"\"\"\u001b[39;00m\n\u001b[1;32m   7003\u001b[0m \u001b[38;5;124;03m    Select columns from this DataFrame.\u001b[39;00m\n\u001b[1;32m   7004\u001b[0m \n\u001b[0;32m   (...)\u001b[0m\n\u001b[1;32m   7100\u001b[0m \n\u001b[1;32m   7101\u001b[0m \u001b[38;5;124;03m    \"\"\"\u001b[39;00m\n\u001b[1;32m   7102\u001b[0m     \u001b[38;5;28;01mreturn\u001b[39;00m (\n\u001b[0;32m-> 7103\u001b[0m         \u001b[38;5;28;43mself\u001b[39;49m\u001b[38;5;241;43m.\u001b[39;49m\u001b[43mlazy\u001b[49m\u001b[43m(\u001b[49m\u001b[43m)\u001b[49m\n\u001b[1;32m   7104\u001b[0m \u001b[43m        \u001b[49m\u001b[38;5;241;43m.\u001b[39;49m\u001b[43mselect\u001b[49m\u001b[43m(\u001b[49m\u001b[43mexprs\u001b[49m\u001b[43m,\u001b[49m\u001b[43m \u001b[49m\u001b[38;5;241;43m*\u001b[39;49m\u001b[43mmore_exprs\u001b[49m\u001b[43m,\u001b[49m\u001b[43m \u001b[49m\u001b[38;5;241;43m*\u001b[39;49m\u001b[38;5;241;43m*\u001b[39;49m\u001b[43mnamed_exprs\u001b[49m\u001b[43m)\u001b[49m\n\u001b[1;32m   7105\u001b[0m \u001b[43m        \u001b[49m\u001b[38;5;241;43m.\u001b[39;49m\u001b[43mcollect\u001b[49m\u001b[43m(\u001b[49m\u001b[43mno_optimization\u001b[49m\u001b[38;5;241;43m=\u001b[39;49m\u001b[38;5;28;43;01mTrue\u001b[39;49;00m\u001b[43m)\u001b[49m\n\u001b[1;32m   7106\u001b[0m     )\n",
      "File \u001b[0;32m~/Desktop/code/BDB/virtual_env/lib/python3.9/site-packages/polars/lazyframe/frame.py:1501\u001b[0m, in \u001b[0;36mLazyFrame.collect\u001b[0;34m(self, type_coercion, predicate_pushdown, projection_pushdown, simplify_expression, no_optimization, slice_pushdown, common_subplan_elimination, streaming)\u001b[0m\n\u001b[1;32m   1490\u001b[0m     common_subplan_elimination \u001b[38;5;241m=\u001b[39m \u001b[38;5;28;01mFalse\u001b[39;00m\n\u001b[1;32m   1492\u001b[0m ldf \u001b[38;5;241m=\u001b[39m \u001b[38;5;28mself\u001b[39m\u001b[38;5;241m.\u001b[39m_ldf\u001b[38;5;241m.\u001b[39moptimization_toggle(\n\u001b[1;32m   1493\u001b[0m     type_coercion,\n\u001b[1;32m   1494\u001b[0m     predicate_pushdown,\n\u001b[0;32m   (...)\u001b[0m\n\u001b[1;32m   1499\u001b[0m     streaming,\n\u001b[1;32m   1500\u001b[0m )\n\u001b[0;32m-> 1501\u001b[0m \u001b[38;5;28;01mreturn\u001b[39;00m wrap_df(\u001b[43mldf\u001b[49m\u001b[38;5;241;43m.\u001b[39;49m\u001b[43mcollect\u001b[49m\u001b[43m(\u001b[49m\u001b[43m)\u001b[49m)\n",
      "\u001b[0;31mColumnNotFoundError\u001b[0m: adjustedO\n\nError originated just after this operation:\nDF [\"gameId\", \"playId\", \"ballCarrierId\", \"quarter\"]; PROJECT */47 COLUMNS; SELECTION: \"None\""
     ]
    }
   ],
   "source": [
    "test[0].select('adjustedX', 'adjustedY', 'adjustedO')"
   ]
  },
  {
   "cell_type": "code",
   "execution_count": null,
   "id": "4899dec8-b764-4d6a-a465-cbb3b6fb0280",
   "metadata": {},
   "outputs": [],
   "source": []
  }
 ],
 "metadata": {
  "kernelspec": {
   "display_name": "Python 3 (ipykernel)",
   "language": "python",
   "name": "python3"
  },
  "language_info": {
   "codemirror_mode": {
    "name": "ipython",
    "version": 3
   },
   "file_extension": ".py",
   "mimetype": "text/x-python",
   "name": "python",
   "nbconvert_exporter": "python",
   "pygments_lexer": "ipython3",
   "version": "3.9.6"
  }
 },
 "nbformat": 4,
 "nbformat_minor": 5
}
