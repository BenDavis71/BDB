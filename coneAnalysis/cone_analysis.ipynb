{
 "cells": [
  {
   "cell_type": "code",
   "execution_count": 1,
   "id": "a691a07c-00b8-4843-90f2-efaaa252ea85",
   "metadata": {},
   "outputs": [],
   "source": [
    "import polars as pl\n",
    "import pandas as pd\n",
    "import numpy as np"
   ]
  },
  {
   "cell_type": "code",
   "execution_count": 6,
   "id": "668e7aa3-6f90-4ca7-b9e8-b6e1e0573005",
   "metadata": {},
   "outputs": [],
   "source": [
    "# read all data\n",
    "players = pl.read_csv('../nfl-big-data-bowl-2024/players.csv')\n",
    "plays = pl.read_csv('../nfl-big-data-bowl-2024/plays.csv',infer_schema_length=100000)\n",
    "games = pl.read_csv('../nfl-big-data-bowl-2024/games.csv',infer_schema_length=10000)\n",
    "tracking = pl.read_csv('../nfl-big-data-bowl-2024/tracking_week*.csv',infer_schema_length=10000)"
   ]
  },
  {
   "cell_type": "code",
   "execution_count": 7,
   "id": "147a0c33-dad8-4f51-a150-69b2fbbef229",
   "metadata": {},
   "outputs": [],
   "source": [
    "# normalize data\n",
    "players = players.with_columns([pl.col('nflId').cast(str)])\n",
    "plays = plays.join(games,on='gameId')\n",
    "plays = plays.with_columns([\n",
    "    (pl.col('gameId').cast(str) + '-'\n",
    "     + pl.col('playId').cast(str)).alias('uniquePlayId')\n",
    "])\n",
    "\n",
    "tracking = tracking.with_columns(\n",
    "    (pl.col('gameId').cast(str) + '-'\n",
    "     + pl.col('playId').cast(str)).alias('uniquePlayId'),\n",
    "    (pl.col('gameId').cast(str) + '-'\n",
    "     + pl.col('playId').cast(str) + '-'\n",
    "     + pl.col('nflId').cast(str)).alias('uniquePlayerId'),\n",
    ")\n",
    "\n",
    "tracking=tracking.with_columns([\n",
    "    pl.when(pl.col('playDirection')=='right').then(53.3-pl.col('y')).otherwise(pl.col('y')).alias('adjustedX'),\n",
    "    pl.when(pl.col('playDirection')=='right').then(pl.col('x')).otherwise(120-pl.col('x')).alias('adjustedY')\n",
    "])\n",
    "\n",
    "tracking=tracking.with_columns([\n",
    "    pl.when(pl.col('event')=='ball_snap').then(pl.col('frameId')).otherwise(-1).alias('startingFrameId'),\n",
    "])\n",
    "tracking=tracking.with_columns([\n",
    "    pl.col('startingFrameId').max().over(pl.col('uniquePlayId')),\n",
    "])\n",
    "tracking=tracking.with_columns([\n",
    "    (pl.col('frameId') - pl.col('startingFrameId')).alias('framesSinceSnap'),\n",
    "])"
   ]
  },
  {
   "cell_type": "code",
   "execution_count": 16,
   "id": "53fb3942-5f27-4ddc-833b-ba289d5506db",
   "metadata": {},
   "outputs": [
    {
     "data": {
      "text/html": [
       "<div><style>\n",
       ".dataframe > thead > tr > th,\n",
       ".dataframe > tbody > tr > td {\n",
       "  text-align: right;\n",
       "}\n",
       "</style>\n",
       "<small>shape: (897, 23)</small><table border=\"1\" class=\"dataframe\"><thead><tr><th>gameId</th><th>playId</th><th>nflId</th><th>displayName</th><th>frameId</th><th>time</th><th>jerseyNumber</th><th>club</th><th>playDirection</th><th>x</th><th>y</th><th>s</th><th>a</th><th>dis</th><th>o</th><th>dir</th><th>event</th><th>uniquePlayId</th><th>uniquePlayerId</th><th>adjustedX</th><th>adjustedY</th><th>startingFrameId</th><th>framesSinceSnap</th></tr><tr><td>i64</td><td>i64</td><td>str</td><td>str</td><td>i64</td><td>str</td><td>str</td><td>str</td><td>str</td><td>f64</td><td>f64</td><td>f64</td><td>f64</td><td>f64</td><td>str</td><td>str</td><td>str</td><td>str</td><td>str</td><td>f64</td><td>f64</td><td>i64</td><td>i64</td></tr></thead><tbody><tr><td>2022090800</td><td>56</td><td>&quot;35472&quot;</td><td>&quot;Rodger Saffold…</td><td>1</td><td>&quot;2022-09-08 20:…</td><td>&quot;76&quot;</td><td>&quot;BUF&quot;</td><td>&quot;left&quot;</td><td>88.37</td><td>27.27</td><td>1.62</td><td>1.15</td><td>0.16</td><td>&quot;231.74&quot;</td><td>&quot;147.9&quot;</td><td>&quot;NA&quot;</td><td>&quot;2022090800-56&quot;</td><td>&quot;2022090800-56-…</td><td>27.27</td><td>31.63</td><td>-1</td><td>2</td></tr><tr><td>2022090800</td><td>56</td><td>&quot;38577&quot;</td><td>&quot;Bobby Wagner&quot;</td><td>1</td><td>&quot;2022-09-08 20:…</td><td>&quot;45&quot;</td><td>&quot;LA&quot;</td><td>&quot;left&quot;</td><td>78.25</td><td>27.53</td><td>1.24</td><td>3.81</td><td>0.11</td><td>&quot;4.2&quot;</td><td>&quot;331.67&quot;</td><td>&quot;NA&quot;</td><td>&quot;2022090800-56&quot;</td><td>&quot;2022090800-56-…</td><td>27.53</td><td>41.75</td><td>-1</td><td>2</td></tr><tr><td>2022090800</td><td>56</td><td>&quot;41239&quot;</td><td>&quot;Aaron Donald&quot;</td><td>1</td><td>&quot;2022-09-08 20:…</td><td>&quot;99&quot;</td><td>&quot;LA&quot;</td><td>&quot;left&quot;</td><td>91.08</td><td>31.61</td><td>3.91</td><td>2.34</td><td>0.4</td><td>&quot;168.33&quot;</td><td>&quot;132.02&quot;</td><td>&quot;NA&quot;</td><td>&quot;2022090800-56&quot;</td><td>&quot;2022090800-56-…</td><td>31.61</td><td>28.92</td><td>-1</td><td>2</td></tr><tr><td>2022090800</td><td>56</td><td>&quot;42392&quot;</td><td>&quot;Mitch Morse&quot;</td><td>1</td><td>&quot;2022-09-08 20:…</td><td>&quot;60&quot;</td><td>&quot;BUF&quot;</td><td>&quot;left&quot;</td><td>88.25</td><td>28.74</td><td>0.67</td><td>1.97</td><td>0.07</td><td>&quot;244.21&quot;</td><td>&quot;30.29&quot;</td><td>&quot;NA&quot;</td><td>&quot;2022090800-56&quot;</td><td>&quot;2022090800-56-…</td><td>28.74</td><td>31.75</td><td>-1</td><td>2</td></tr><tr><td>2022090800</td><td>56</td><td>&quot;42489&quot;</td><td>&quot;Stefon Diggs&quot;</td><td>1</td><td>&quot;2022-09-08 20:…</td><td>&quot;14&quot;</td><td>&quot;BUF&quot;</td><td>&quot;left&quot;</td><td>80.6</td><td>38.29</td><td>6.23</td><td>0.9</td><td>0.62</td><td>&quot;140.05&quot;</td><td>&quot;189.38&quot;</td><td>&quot;NA&quot;</td><td>&quot;2022090800-56&quot;</td><td>&quot;2022090800-56-…</td><td>38.29</td><td>39.4</td><td>-1</td><td>2</td></tr><tr><td>2022090800</td><td>56</td><td>&quot;42816&quot;</td><td>&quot;Troy Hill&quot;</td><td>1</td><td>&quot;2022-09-08 20:…</td><td>&quot;2&quot;</td><td>&quot;LA&quot;</td><td>&quot;left&quot;</td><td>72.34</td><td>7.81</td><td>4.36</td><td>0.91</td><td>0.43</td><td>&quot;338.33&quot;</td><td>&quot;257.23&quot;</td><td>&quot;NA&quot;</td><td>&quot;2022090800-56&quot;</td><td>&quot;2022090800-56-…</td><td>7.81</td><td>47.66</td><td>-1</td><td>2</td></tr><tr><td>2022090800</td><td>56</td><td>&quot;43294&quot;</td><td>&quot;Jalen Ramsey&quot;</td><td>1</td><td>&quot;2022-09-08 20:…</td><td>&quot;5&quot;</td><td>&quot;LA&quot;</td><td>&quot;left&quot;</td><td>77.95</td><td>40.78</td><td>5.5</td><td>3.0</td><td>0.54</td><td>&quot;139.54&quot;</td><td>&quot;172.5&quot;</td><td>&quot;NA&quot;</td><td>&quot;2022090800-56&quot;</td><td>&quot;2022090800-56-…</td><td>40.78</td><td>42.05</td><td>-1</td><td>2</td></tr><tr><td>2022090800</td><td>56</td><td>&quot;43298&quot;</td><td>&quot;Leonard Floyd&quot;</td><td>1</td><td>&quot;2022-09-08 20:…</td><td>&quot;54&quot;</td><td>&quot;LA&quot;</td><td>&quot;left&quot;</td><td>91.99</td><td>33.78</td><td>1.86</td><td>4.76</td><td>0.2</td><td>&quot;155.94&quot;</td><td>&quot;136.01&quot;</td><td>&quot;NA&quot;</td><td>&quot;2022090800-56&quot;</td><td>&quot;2022090800-56-…</td><td>33.78</td><td>28.01</td><td>-1</td><td>2</td></tr><tr><td>2022090800</td><td>56</td><td>&quot;43335&quot;</td><td>&quot;A&#x27;Shawn Robins…</td><td>1</td><td>&quot;2022-09-08 20:…</td><td>&quot;94&quot;</td><td>&quot;LA&quot;</td><td>&quot;left&quot;</td><td>88.51</td><td>25.47</td><td>1.09</td><td>2.88</td><td>0.1</td><td>&quot;13.98&quot;</td><td>&quot;43.43&quot;</td><td>&quot;NA&quot;</td><td>&quot;2022090800-56&quot;</td><td>&quot;2022090800-56-…</td><td>25.47</td><td>31.49</td><td>-1</td><td>2</td></tr><tr><td>2022090800</td><td>56</td><td>&quot;44875&quot;</td><td>&quot;Dion Dawkins&quot;</td><td>1</td><td>&quot;2022-09-08 20:…</td><td>&quot;73&quot;</td><td>&quot;BUF&quot;</td><td>&quot;left&quot;</td><td>89.42</td><td>25.81</td><td>1.89</td><td>2.47</td><td>0.18</td><td>&quot;242.67&quot;</td><td>&quot;65.25&quot;</td><td>&quot;NA&quot;</td><td>&quot;2022090800-56&quot;</td><td>&quot;2022090800-56-…</td><td>25.81</td><td>30.58</td><td>-1</td><td>2</td></tr><tr><td>2022090800</td><td>56</td><td>&quot;44985&quot;</td><td>&quot;Isaiah McKenzi…</td><td>1</td><td>&quot;2022-09-08 20:…</td><td>&quot;6&quot;</td><td>&quot;BUF&quot;</td><td>&quot;left&quot;</td><td>76.7</td><td>18.39</td><td>4.79</td><td>6.34</td><td>0.49</td><td>&quot;157.83&quot;</td><td>&quot;233.63&quot;</td><td>&quot;NA&quot;</td><td>&quot;2022090800-56&quot;</td><td>&quot;2022090800-56-…</td><td>18.39</td><td>43.3</td><td>-1</td><td>2</td></tr><tr><td>2022090800</td><td>56</td><td>&quot;46076&quot;</td><td>&quot;Josh Allen&quot;</td><td>1</td><td>&quot;2022-09-08 20:…</td><td>&quot;17&quot;</td><td>&quot;BUF&quot;</td><td>&quot;left&quot;</td><td>90.75</td><td>30.01</td><td>0.29</td><td>1.0</td><td>0.03</td><td>&quot;299.06&quot;</td><td>&quot;301.11&quot;</td><td>&quot;NA&quot;</td><td>&quot;2022090800-56&quot;</td><td>&quot;2022090800-56-…</td><td>30.01</td><td>29.25</td><td>-1</td><td>2</td></tr><tr><td>&hellip;</td><td>&hellip;</td><td>&hellip;</td><td>&hellip;</td><td>&hellip;</td><td>&hellip;</td><td>&hellip;</td><td>&hellip;</td><td>&hellip;</td><td>&hellip;</td><td>&hellip;</td><td>&hellip;</td><td>&hellip;</td><td>&hellip;</td><td>&hellip;</td><td>&hellip;</td><td>&hellip;</td><td>&hellip;</td><td>&hellip;</td><td>&hellip;</td><td>&hellip;</td><td>&hellip;</td><td>&hellip;</td></tr><tr><td>2022110700</td><td>56</td><td>&quot;45244&quot;</td><td>&quot;Taysom Hill&quot;</td><td>1</td><td>&quot;2022-11-07 20:…</td><td>&quot;7&quot;</td><td>&quot;NO&quot;</td><td>&quot;left&quot;</td><td>48.56</td><td>35.89</td><td>2.79</td><td>5.04</td><td>0.3</td><td>&quot;149.57&quot;</td><td>&quot;252.77&quot;</td><td>&quot;NA&quot;</td><td>&quot;2022110700-56&quot;</td><td>&quot;2022110700-56-…</td><td>35.89</td><td>71.44</td><td>-1</td><td>2</td></tr><tr><td>2022110700</td><td>56</td><td>&quot;46077&quot;</td><td>&quot;Roquan Smith&quot;</td><td>1</td><td>&quot;2022-11-07 20:…</td><td>&quot;18&quot;</td><td>&quot;BAL&quot;</td><td>&quot;left&quot;</td><td>65.41</td><td>43.39</td><td>7.1</td><td>3.01</td><td>0.71</td><td>&quot;44.34&quot;</td><td>&quot;21.19&quot;</td><td>&quot;NA&quot;</td><td>&quot;2022110700-56&quot;</td><td>&quot;2022110700-56-…</td><td>43.39</td><td>54.59</td><td>-1</td><td>2</td></tr><tr><td>2022110700</td><td>56</td><td>&quot;47831&quot;</td><td>&quot;Erik McCoy&quot;</td><td>1</td><td>&quot;2022-11-07 20:…</td><td>&quot;78&quot;</td><td>&quot;NO&quot;</td><td>&quot;left&quot;</td><td>88.12</td><td>34.32</td><td>3.7</td><td>1.34</td><td>0.38</td><td>&quot;298.67&quot;</td><td>&quot;302.41&quot;</td><td>&quot;NA&quot;</td><td>&quot;2022110700-56&quot;</td><td>&quot;2022110700-56-…</td><td>34.32</td><td>31.88</td><td>-1</td><td>2</td></tr><tr><td>2022110700</td><td>56</td><td>&quot;52432&quot;</td><td>&quot;Cesar Ruiz&quot;</td><td>1</td><td>&quot;2022-11-07 20:…</td><td>&quot;51&quot;</td><td>&quot;NO&quot;</td><td>&quot;left&quot;</td><td>86.53</td><td>37.0</td><td>3.13</td><td>1.63</td><td>0.33</td><td>&quot;336.67&quot;</td><td>&quot;322.88&quot;</td><td>&quot;NA&quot;</td><td>&quot;2022110700-56&quot;</td><td>&quot;2022110700-56-…</td><td>37.0</td><td>33.47</td><td>-1</td><td>2</td></tr><tr><td>2022110700</td><td>56</td><td>&quot;52436&quot;</td><td>&quot;Patrick Queen&quot;</td><td>1</td><td>&quot;2022-11-07 20:…</td><td>&quot;6&quot;</td><td>&quot;BAL&quot;</td><td>&quot;left&quot;</td><td>75.37</td><td>34.24</td><td>4.31</td><td>3.51</td><td>0.42</td><td>&quot;351.16&quot;</td><td>&quot;324.79&quot;</td><td>&quot;NA&quot;</td><td>&quot;2022110700-56&quot;</td><td>&quot;2022110700-56-…</td><td>34.24</td><td>44.63</td><td>-1</td><td>2</td></tr><tr><td>2022110700</td><td>56</td><td>&quot;52479&quot;</td><td>&quot;Justin Madubui…</td><td>1</td><td>&quot;2022-11-07 20:…</td><td>&quot;92&quot;</td><td>&quot;BAL&quot;</td><td>&quot;left&quot;</td><td>87.04</td><td>32.93</td><td>3.88</td><td>1.41</td><td>0.42</td><td>&quot;300.4&quot;</td><td>&quot;302.22&quot;</td><td>&quot;NA&quot;</td><td>&quot;2022110700-56&quot;</td><td>&quot;2022110700-56-…</td><td>32.93</td><td>32.96</td><td>-1</td><td>2</td></tr><tr><td>2022110700</td><td>56</td><td>&quot;52506&quot;</td><td>&quot;Malik Harrison…</td><td>1</td><td>&quot;2022-11-07 20:…</td><td>&quot;40&quot;</td><td>&quot;BAL&quot;</td><td>&quot;left&quot;</td><td>70.25</td><td>52.13</td><td>1.86</td><td>4.54</td><td>0.18</td><td>&quot;158.99&quot;</td><td>&quot;145.72&quot;</td><td>&quot;NA&quot;</td><td>&quot;2022110700-56&quot;</td><td>&quot;2022110700-56-…</td><td>52.13</td><td>49.75</td><td>-1</td><td>2</td></tr><tr><td>2022110700</td><td>56</td><td>&quot;52578&quot;</td><td>&quot;Broderick Wash…</td><td>1</td><td>&quot;2022-11-07 20:…</td><td>&quot;96&quot;</td><td>&quot;BAL&quot;</td><td>&quot;left&quot;</td><td>87.67</td><td>38.68</td><td>5.39</td><td>2.89</td><td>0.56</td><td>&quot;329.35&quot;</td><td>&quot;328.12&quot;</td><td>&quot;NA&quot;</td><td>&quot;2022110700-56&quot;</td><td>&quot;2022110700-56-…</td><td>38.68</td><td>32.33</td><td>-1</td><td>2</td></tr><tr><td>2022110700</td><td>56</td><td>&quot;52627&quot;</td><td>&quot;Geno Stone&quot;</td><td>1</td><td>&quot;2022-11-07 20:…</td><td>&quot;26&quot;</td><td>&quot;BAL&quot;</td><td>&quot;left&quot;</td><td>60.11</td><td>27.18</td><td>6.63</td><td>2.93</td><td>0.67</td><td>&quot;4.73&quot;</td><td>&quot;340.1&quot;</td><td>&quot;NA&quot;</td><td>&quot;2022110700-56&quot;</td><td>&quot;2022110700-56-…</td><td>27.18</td><td>59.89</td><td>-1</td><td>2</td></tr><tr><td>2022110700</td><td>56</td><td>&quot;52942&quot;</td><td>&quot;Juwan Johnson&quot;</td><td>1</td><td>&quot;2022-11-07 20:…</td><td>&quot;83&quot;</td><td>&quot;NO&quot;</td><td>&quot;left&quot;</td><td>72.2</td><td>52.69</td><td>3.27</td><td>1.72</td><td>0.32</td><td>&quot;165.55&quot;</td><td>&quot;110.38&quot;</td><td>&quot;NA&quot;</td><td>&quot;2022110700-56&quot;</td><td>&quot;2022110700-56-…</td><td>52.69</td><td>47.8</td><td>-1</td><td>2</td></tr><tr><td>2022110700</td><td>56</td><td>&quot;54476&quot;</td><td>&quot;Chris Olave&quot;</td><td>1</td><td>&quot;2022-11-07 20:…</td><td>&quot;12&quot;</td><td>&quot;NO&quot;</td><td>&quot;left&quot;</td><td>68.6</td><td>45.29</td><td>6.63</td><td>0.87</td><td>0.67</td><td>&quot;58.66&quot;</td><td>&quot;18.14&quot;</td><td>&quot;NA&quot;</td><td>&quot;2022110700-56&quot;</td><td>&quot;2022110700-56-…</td><td>45.29</td><td>51.4</td><td>-1</td><td>2</td></tr><tr><td>2022110700</td><td>56</td><td>&quot;NA&quot;</td><td>&quot;football&quot;</td><td>1</td><td>&quot;2022-11-07 20:…</td><td>&quot;NA&quot;</td><td>&quot;football&quot;</td><td>&quot;left&quot;</td><td>72.150002</td><td>45.470001</td><td>21.59</td><td>5.46</td><td>2.19</td><td>&quot;NA&quot;</td><td>&quot;NA&quot;</td><td>&quot;NA&quot;</td><td>&quot;2022110700-56&quot;</td><td>&quot;2022110700-56-…</td><td>45.470001</td><td>47.849998</td><td>-1</td><td>2</td></tr></tbody></table></div>"
      ],
      "text/plain": [
       "shape: (897, 23)\n",
       "┌────────────┬────────┬───────┬───────────┬───┬───────────┬───────────┬────────────┬───────────────┐\n",
       "│ gameId     ┆ playId ┆ nflId ┆ displayNa ┆ … ┆ adjustedX ┆ adjustedY ┆ startingFr ┆ framesSinceSn │\n",
       "│ ---        ┆ ---    ┆ ---   ┆ me        ┆   ┆ ---       ┆ ---       ┆ ameId      ┆ ap            │\n",
       "│ i64        ┆ i64    ┆ str   ┆ ---       ┆   ┆ f64       ┆ f64       ┆ ---        ┆ ---           │\n",
       "│            ┆        ┆       ┆ str       ┆   ┆           ┆           ┆ i64        ┆ i64           │\n",
       "╞════════════╪════════╪═══════╪═══════════╪═══╪═══════════╪═══════════╪════════════╪═══════════════╡\n",
       "│ 2022090800 ┆ 56     ┆ 35472 ┆ Rodger    ┆ … ┆ 27.27     ┆ 31.63     ┆ -1         ┆ 2             │\n",
       "│            ┆        ┆       ┆ Saffold   ┆   ┆           ┆           ┆            ┆               │\n",
       "│ 2022090800 ┆ 56     ┆ 38577 ┆ Bobby     ┆ … ┆ 27.53     ┆ 41.75     ┆ -1         ┆ 2             │\n",
       "│            ┆        ┆       ┆ Wagner    ┆   ┆           ┆           ┆            ┆               │\n",
       "│ 2022090800 ┆ 56     ┆ 41239 ┆ Aaron     ┆ … ┆ 31.61     ┆ 28.92     ┆ -1         ┆ 2             │\n",
       "│            ┆        ┆       ┆ Donald    ┆   ┆           ┆           ┆            ┆               │\n",
       "│ 2022090800 ┆ 56     ┆ 42392 ┆ Mitch     ┆ … ┆ 28.74     ┆ 31.75     ┆ -1         ┆ 2             │\n",
       "│            ┆        ┆       ┆ Morse     ┆   ┆           ┆           ┆            ┆               │\n",
       "│ …          ┆ …      ┆ …     ┆ …         ┆ … ┆ …         ┆ …         ┆ …          ┆ …             │\n",
       "│ 2022110700 ┆ 56     ┆ 52627 ┆ Geno      ┆ … ┆ 27.18     ┆ 59.89     ┆ -1         ┆ 2             │\n",
       "│            ┆        ┆       ┆ Stone     ┆   ┆           ┆           ┆            ┆               │\n",
       "│ 2022110700 ┆ 56     ┆ 52942 ┆ Juwan     ┆ … ┆ 52.69     ┆ 47.8      ┆ -1         ┆ 2             │\n",
       "│            ┆        ┆       ┆ Johnson   ┆   ┆           ┆           ┆            ┆               │\n",
       "│ 2022110700 ┆ 56     ┆ 54476 ┆ Chris     ┆ … ┆ 45.29     ┆ 51.4      ┆ -1         ┆ 2             │\n",
       "│            ┆        ┆       ┆ Olave     ┆   ┆           ┆           ┆            ┆               │\n",
       "│ 2022110700 ┆ 56     ┆ NA    ┆ football  ┆ … ┆ 45.470001 ┆ 47.849998 ┆ -1         ┆ 2             │\n",
       "└────────────┴────────┴───────┴───────────┴───┴───────────┴───────────┴────────────┴───────────────┘"
      ]
     },
     "execution_count": 16,
     "metadata": {},
     "output_type": "execute_result"
    }
   ],
   "source": [
    "test = tracking.filter(tracking['playId']==56)\n",
    "test.filter(test['framesSinceSnap']==2)"
   ]
  },
  {
   "cell_type": "code",
   "execution_count": 13,
   "id": "8b95e15d-5986-4c0e-9b63-948e509e2a56",
   "metadata": {},
   "outputs": [
    {
     "ename": "IndentationError",
     "evalue": "expected an indented block (259549654.py, line 1)",
     "output_type": "error",
     "traceback": [
      "\u001b[0;36m  Cell \u001b[0;32mIn[13], line 1\u001b[0;36m\u001b[0m\n\u001b[0;31m    def create_cone():\u001b[0m\n\u001b[0m                      ^\u001b[0m\n\u001b[0;31mIndentationError\u001b[0m\u001b[0;31m:\u001b[0m expected an indented block\n"
     ]
    }
   ],
   "source": [
    "def is_in_vision_cone(index, df):\n",
    "    # Calculate angle between origin and point\n",
    "    angle = math.atan2(y1 - y_origin, x1 - x_origin)\n",
    "    # Convert angle to degrees\n",
    "    angle_degrees = math.degrees(angle) % 360\n",
    "    # Calculate angle difference between the point and the cone's direction\n",
    "    angle_difference = abs((angle_degrees - degree + 360) % 360 - 180)\n",
    "    \n",
    "    # Check if the point is within the cone's vision\n",
    "    if angle_difference <= 0.5 * degree and math.sqrt((x1 - x_origin) ** 2 + (y1 - y_origin) ** 2) <= radius:\n",
    "        return True\n",
    "    else:\n",
    "        return False"
   ]
  },
  {
   "cell_type": "code",
   "execution_count": null,
   "id": "7b736fed-d08b-4e61-86f1-cbb02166fd3c",
   "metadata": {},
   "outputs": [],
   "source": []
  }
 ],
 "metadata": {
  "kernelspec": {
   "display_name": "Python 3 (ipykernel)",
   "language": "python",
   "name": "python3"
  },
  "language_info": {
   "codemirror_mode": {
    "name": "ipython",
    "version": 3
   },
   "file_extension": ".py",
   "mimetype": "text/x-python",
   "name": "python",
   "nbconvert_exporter": "python",
   "pygments_lexer": "ipython3",
   "version": "3.9.6"
  }
 },
 "nbformat": 4,
 "nbformat_minor": 5
}
