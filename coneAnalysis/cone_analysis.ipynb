{
 "cells": [
  {
   "cell_type": "code",
   "execution_count": 1,
   "id": "a691a07c-00b8-4843-90f2-efaaa252ea85",
   "metadata": {},
   "outputs": [],
   "source": [
    "import polars as pl\n",
    "import pandas as pd\n",
    "import numpy as np\n",
    "import math as math\n",
    "# find a better way to import?\n",
    "import sys\n",
    "import os\n",
    "sys.path.append(os.path.join(os.path.dirname(''), '..'))\n",
    "\n",
    "from constants import *\n"
   ]
  },
  {
   "cell_type": "code",
   "execution_count": 2,
   "id": "668e7aa3-6f90-4ca7-b9e8-b6e1e0573005",
   "metadata": {},
   "outputs": [],
   "source": [
    "# read all data\n",
    "players = pl.read_csv('../nfl-big-data-bowl-2024/players.csv')\n",
    "plays = pl.read_csv('../nfl-big-data-bowl-2024/plays.csv',infer_schema_length=100000)\n",
    "games = pl.read_csv('../nfl-big-data-bowl-2024/games.csv',infer_schema_length=10000)\n",
    "tracking = pl.read_csv('../nfl-big-data-bowl-2024/tracking_week*.csv',infer_schema_length=10000)"
   ]
  },
  {
   "cell_type": "code",
   "execution_count": 3,
   "id": "147a0c33-dad8-4f51-a150-69b2fbbef229",
   "metadata": {},
   "outputs": [],
   "source": [
    "# normalize data\n",
    "players = players.with_columns([pl.col('nflId').cast(str)])\n",
    "plays = plays.join(games,on='gameId')\n",
    "plays = plays.with_columns([\n",
    "    (pl.col('gameId').cast(str) + '-'\n",
    "     + pl.col('playId').cast(str)).alias('uniquePlayId')\n",
    "])\n",
    "\n",
    "tracking = tracking.with_columns(\n",
    "    (pl.col('gameId').cast(str) + '-'\n",
    "     + pl.col('playId').cast(str)).alias('uniquePlayId'),\n",
    "    (pl.col('gameId').cast(str) + '-'\n",
    "     + pl.col('playId').cast(str) + '-'\n",
    "     + pl.col('nflId').cast(str)).alias('uniquePlayerId'),\n",
    ")\n",
    "\n",
    "# normalize position\n",
    "tracking=tracking.with_columns([\n",
    "    pl.when(pl.col('playDirection')=='right').then(53.3-pl.col('y')).otherwise(pl.col('y')).alias('adjustedX'),\n",
    "    pl.when(pl.col('playDirection')=='right').then(pl.col('x')).otherwise(120-pl.col('x')).alias('adjustedY')\n",
    "])\n",
    "\n",
    "tracking=tracking.with_columns([\n",
    "    pl.when(pl.col('event')=='ball_snap').then(pl.col('frameId')).otherwise(-1).alias('startingFrameId'),\n",
    "])\n",
    "tracking=tracking.with_columns([\n",
    "    pl.col('startingFrameId').max().over(pl.col('uniquePlayId')),\n",
    "])\n",
    "tracking=tracking.with_columns([\n",
    "    (pl.col('frameId') - pl.col('startingFrameId')).alias('framesSinceSnap'),\n",
    "])\n",
    "\n",
    "# normalize orientation 'o' and direction 'dir'\n",
    "# convert 'NA' to 0\n",
    "replacement_values = {'NA': '0'}\n",
    "tracking = tracking.with_columns(\n",
    "    pl.col('o').apply(lambda x: replacement_values.get(x, x)),\n",
    "    pl.col('dir').apply(lambda x: replacement_values.get(x, x)),\n",
    ")\n",
    "\n",
    "tracking=tracking.with_columns([\n",
    "    pl.when(pl.col('playDirection')=='right').then(pl.col('dir').cast(pl.Float64)).otherwise(180-pl.col('dir').cast(pl.Float64)).alias('adjustedDir'),\n",
    "    pl.when(pl.col('playDirection')=='right').then(pl.col('o').cast(pl.Float64)).otherwise((180+pl.col('o').cast(pl.Float64))%360).alias('firstAdjustedO'),\n",
    "])\n",
    "\n",
    "tracking=tracking.with_columns([\n",
    "    pl.when(pl.col('firstAdjustedO') <= 180).then(180-pl.col('firstAdjustedO')).otherwise(540-pl.col('firstAdjustedO')).alias('adjustedO')\n",
    "])"
   ]
  },
  {
   "cell_type": "code",
   "execution_count": 4,
   "id": "b7e78355-854d-4f2d-9b59-a3f09080d0d6",
   "metadata": {},
   "outputs": [],
   "source": [
    "# This is just for testing - when we go for it we'll want to let it go against everything\n",
    "labeled = tracking.filter(pl.col('gameId')==2022091104)\n"
   ]
  },
  {
   "cell_type": "code",
   "execution_count": 55,
   "id": "e74626b0-a053-4344-bf2e-bdcd3e862b65",
   "metadata": {},
   "outputs": [],
   "source": [
    "CONE_ANGLE = 120 # degrees\n",
    "MAX_DISTANCE = 3 # yards\n",
    "BLOCKING_RADIUS = 1.25 # yards\n",
    "\n",
    "def angle_in_range(angle, left_boundary, right_boundary):\n",
    "    return (angle - left_boundary) % 360 <= (right_boundary - left_boundary) % 360\n",
    "\n",
    "# row = [o, dir, adjustedX, adjustedY, oDefender, dirDefender, adjustedXDefender, adjustedYDefender]\n",
    "def looking_to_block_or_blocking_df_fn(row) -> int:\n",
    "    blocking_status = 0\n",
    "    player1 = row[0:4]\n",
    "    player2 = row[4:]\n",
    "\n",
    "    if is_in_vision_cone(player1, player2):\n",
    "        blocking_status = 1\n",
    "\n",
    "    if is_blocking(player1, player2) and blocking_status == 1:\n",
    "        blocking_status = 2\n",
    "\n",
    "    return blocking_status\n",
    "    \n",
    "\n",
    "def looking_to_block_or_blocking(player1: tuple, player2: tuple) -> int:\n",
    "    blocking_status = 0\n",
    "    if is_in_vision_cone(player1, player2):\n",
    "        blocking_status = 1\n",
    "\n",
    "    if is_blocking(player1, player2) and blocking_status == 1:\n",
    "        blocking_status = 2\n",
    "\n",
    "    return 0\n",
    "\n",
    "def is_in_vision_cone(player1: tuple, player2: tuple, cone_angle=CONE_ANGLE) -> bool:\n",
    "    return (is_in_angle(player1, player2, cone_angle) and is_in_distance(player1, player2))\n",
    "\n",
    "def is_in_angle(player1: tuple, player2: tuple, cone_angle) -> bool:\n",
    "    half_cone_angle = cone_angle / 2\n",
    "\n",
    "    y_dist = player2[3] - player1[3]\n",
    "    x_dist = player2[2] - player1[2]\n",
    "    player1_orientation = float(player1[0]) if type(player1[0]) == str else player1[0]\n",
    "\n",
    "    # print(\"isinangle\")\n",
    "    # print(\"player1\")\n",
    "    # print(player1)\n",
    "\n",
    "    # print(\"player2\")\n",
    "    # print(player2)\n",
    "\n",
    "    # print(\"player1_ori\")\n",
    "    # print(player1_orientation)\n",
    "\n",
    "    angle = math.degrees(math.atan2(y_dist, x_dist))\n",
    "    angle = (angle + 360) % 360\n",
    "    \n",
    "    left_vision_boundary = (360 + player1_orientation - half_cone_angle) % 360\n",
    "    right_vision_boundary = (player1_orientation + half_cone_angle) % 360\n",
    "    \n",
    "    \n",
    "#     print(left_vision_boundary)\n",
    "#     print(angle)\n",
    "#     print(right_vision_boundary)\n",
    "#     print(angle_in_range(angle,left_vision_boundary,right_vision_boundary))\n",
    "\n",
    "    # print(\"angle\")\n",
    "    # print(angle)\n",
    "\n",
    "    if angle_in_range(angle,left_vision_boundary,right_vision_boundary):\n",
    "        return True\n",
    "    \n",
    "    return False\n",
    "\n",
    "def is_in_distance(player1: tuple, player2: tuple) -> bool:\n",
    "    distance_between_players = calculate_distance(player1, player2)\n",
    "    if distance_between_players <= MAX_DISTANCE:\n",
    "        return True\n",
    "    \n",
    "    return False\n",
    "\n",
    "def is_blocking(player1: tuple, player2: tuple) -> bool:\n",
    "    distance_between_players = calculate_distance(player1, player2)\n",
    "    if distance_between_players <= BLOCKING_RADIUS:\n",
    "        return True\n",
    "\n",
    "    return False\n",
    "\n",
    "\n",
    "def calculate_distance(player1: tuple, player2: tuple) -> float:\n",
    "    y_dist = abs(player1[3] - player2[3])\n",
    "    x_dist = abs(player1[2] - player2[2])\n",
    "\n",
    "    # print(y_dist)\n",
    "    # print(x_dist)\n",
    "    # print(math.sqrt(x_dist**2 + y_dist**2))\n",
    "\n",
    "    return math.sqrt(x_dist**2 + y_dist**2)"
   ]
  },
  {
   "cell_type": "code",
   "execution_count": 6,
   "id": "3120895b-29e3-4bbb-8b55-6ffcdf587384",
   "metadata": {},
   "outputs": [],
   "source": [
    "players = labeled.join(players,on='nflId',how='left')\n",
    "players = players.join(games.select(['gameId','homeTeamAbbr','visitorTeamAbbr']),on='gameId')\n",
    "players = players.with_columns([\n",
    "    pl.when(pl.col('club')==pl.col('homeTeamAbbr'))\n",
    "    .then(pl.col('visitorTeamAbbr'))\n",
    "    .otherwise(pl.col('homeTeamAbbr'))\n",
    "    .alias('opponentClub')\n",
    "])\n"
   ]
  },
  {
   "cell_type": "code",
   "execution_count": 7,
   "id": "4a9fd1a6-62ca-4c8c-86a8-12853d69cb11",
   "metadata": {},
   "outputs": [],
   "source": [
    "players = players.join(\n",
    "    players,\n",
    "    left_on=['gameId','playId','frameId','club'],\n",
    "    right_on=['gameId','playId','frameId','opponentClub'],\n",
    "    suffix='Defender'\n",
    ")"
   ]
  },
  {
   "cell_type": "code",
   "execution_count": 8,
   "id": "ef1f12a3-c2df-4692-88b0-06d7d0c5aa40",
   "metadata": {},
   "outputs": [],
   "source": [
    "blocking_df = players.select(\n",
    "    'adjustedO', 'adjustedDir', 'adjustedX', 'adjustedY', 'adjustedODefender', 'adjustedDirDefender', 'adjustedXDefender', 'adjustedYDefender'\n",
    ").apply(looking_to_block_or_blocking_df_fn)\n",
    "\n",
    "blocking_df = blocking_df.to_series()\n",
    "players = players.with_columns(blockType=blocking_df)"
   ]
  },
  {
   "cell_type": "code",
   "execution_count": 9,
   "id": "329dcaeb-adb4-40ed-8755-90d7030ed284",
   "metadata": {},
   "outputs": [],
   "source": [
    "test = pl.read_parquet('../labeledDataAttempt/labeledBlocks.parquet')"
   ]
  },
  {
   "cell_type": "code",
   "execution_count": 22,
   "id": "55dff58e-5318-4f3b-a680-5ca0da8dfadb",
   "metadata": {},
   "outputs": [],
   "source": [
    "test_data = players.filter(pl.col('gameId')==2022091104).filter(pl.col('playId')==86)\n",
    "# test_data = test_data.filter(pl.col('jerseyNumber')=='73').filter(pl.col('framesSinceSnap')==12)\n",
    "# test_data = test_data.filter(pl.col('jerseyNumberDefender')=='91')\n",
    "\n",
    "is_blocking_df = test_data.select(\n",
    "    'adjustedO', 'adjustedDir', 'adjustedX', 'adjustedY', 'adjustedODefender', \n",
    "    'adjustedDirDefender', 'adjustedXDefender', 'adjustedYDefender'\n",
    ").apply(looking_to_block_or_blocking_df_fn)\n",
    "\n",
    "is_blocking_df = is_blocking_df.to_series()\n",
    "test_data = test_data.with_columns(blockType=is_blocking_df)"
   ]
  },
  {
   "cell_type": "code",
   "execution_count": 53,
   "id": "96f46c36",
   "metadata": {},
   "outputs": [],
   "source": [
    "# 0 => None\n",
    "# 1 => Box\n",
    "# 2 => Dent\n",
    "# 3 => Spill\n",
    "def type_of_block_df_fn(row) -> int:\n",
    "    if (row[8] == 0):\n",
    "        return 0\n",
    "    \n",
    "    player1 = row[0:4]\n",
    "    player2 = row[4:]\n",
    "    \n",
    "    if is_box(player1, player2):\n",
    "        if is_dent(player1, player2):\n",
    "            return 2\n",
    "        return 1\n",
    "\n",
    "    if is_spill(player1, player2):\n",
    "        return 3\n",
    "    \n",
    "    return 0\n",
    "\n",
    "# Defender (player2) should face the outside\n",
    "def is_box(player1: tuple, player2: tuple) -> bool:\n",
    "    if (0 <= player2[0] <= 90 or 270 <= player2[0] <= 360):\n",
    "        return True\n",
    "    \n",
    "    return False\n",
    "\n",
    "# Both players can see each other\n",
    "def is_dent(player1: tuple, player2: tuple) -> bool:\n",
    "    return (\n",
    "        is_in_vision_cone(player1, player2, 30) and \n",
    "        is_in_vision_cone(player2, player1, 30)\n",
    "    )\n",
    "\n",
    "# Defender should face the inside\n",
    "def is_spill(player1: tuple, player2: tuple) -> bool:\n",
    "    if (90 <= player2[0] <= 270):\n",
    "        return True\n",
    "        \n",
    "    return False\n",
    "    "
   ]
  },
  {
   "cell_type": "code",
   "execution_count": 56,
   "id": "b215deae-24c8-4e0e-96d9-5e8d8cf6e9f2",
   "metadata": {},
   "outputs": [],
   "source": [
    "type_of_block_df = test_data.select(\n",
    "    'adjustedO', 'adjustedDir', 'adjustedX', 'adjustedY', 'adjustedODefender', \n",
    "    'adjustedDirDefender', 'adjustedXDefender', 'adjustedYDefender', 'blockType'\n",
    ").apply(type_of_block_df_fn)\n",
    "\n",
    "test_data = test_data.with_columns(boxDentSpill=type_of_block_df.to_series())"
   ]
  },
  {
   "cell_type": "code",
   "execution_count": 64,
   "id": "5cd73e2e-d5c8-4aec-8d02-f760abe869fe",
   "metadata": {},
   "outputs": [
    {
     "data": {
      "text/plain": [
       "23782"
      ]
     },
     "execution_count": 64,
     "metadata": {},
     "output_type": "execute_result"
    }
   ],
   "source": [
    "test_data.filter(pl.col('boxDentSpill') == 3).shape[0] + test_data.filter(pl.col('boxDentSpill') == 2).shape[0] + test_data.filter(pl.col('boxDentSpill') == 1).shape[0] + test_data.filter(pl.col('boxDentSpill') == 0).shape[0]"
   ]
  },
  {
   "cell_type": "code",
   "execution_count": 65,
   "id": "3c83e0e8-5202-4973-89f5-9c6abe422be2",
   "metadata": {},
   "outputs": [
    {
     "data": {
      "text/plain": [
       "22835"
      ]
     },
     "execution_count": 65,
     "metadata": {},
     "output_type": "execute_result"
    }
   ],
   "source": [
    "test_data.filter(pl.col('boxDentSpill') == 0).shape[0]"
   ]
  },
  {
   "cell_type": "code",
   "execution_count": 66,
   "id": "42e3c8e3-ed14-4b7e-8ae1-ffd9784cc237",
   "metadata": {},
   "outputs": [
    {
     "ename": "ValueError",
     "evalue": "Since Expr are lazy, the truthiness of an Expr is ambiguous. Hint: use '&' or '|' to logically combine Expr, not 'and'/'or', and use 'x.is_in([y,z])' instead of 'x in [y,z]' to check membership.",
     "output_type": "error",
     "traceback": [
      "\u001b[1;31m---------------------------------------------------------------------------\u001b[0m",
      "\u001b[1;31mValueError\u001b[0m                                Traceback (most recent call last)",
      "Cell \u001b[1;32mIn[66], line 1\u001b[0m\n\u001b[1;32m----> 1\u001b[0m test_data\u001b[38;5;241m.\u001b[39mfilter(\u001b[43mpl\u001b[49m\u001b[38;5;241;43m.\u001b[39;49m\u001b[43mcol\u001b[49m\u001b[43m(\u001b[49m\u001b[38;5;124;43m'\u001b[39;49m\u001b[38;5;124;43mboxDentSpill\u001b[39;49m\u001b[38;5;124;43m'\u001b[39;49m\u001b[43m)\u001b[49m\u001b[43m \u001b[49m\u001b[38;5;129;43;01mnot\u001b[39;49;00m\u001b[43m \u001b[49m\u001b[38;5;129;43;01min\u001b[39;49;00m\u001b[43m \u001b[49m\u001b[43m[\u001b[49m\u001b[38;5;241;43m0\u001b[39;49m\u001b[43m,\u001b[49m\u001b[43m \u001b[49m\u001b[38;5;241;43m1\u001b[39;49m\u001b[43m,\u001b[49m\u001b[43m \u001b[49m\u001b[38;5;241;43m2\u001b[39;49m\u001b[43m,\u001b[49m\u001b[43m \u001b[49m\u001b[38;5;241;43m3\u001b[39;49m\u001b[43m]\u001b[49m)\u001b[38;5;241m.\u001b[39mshape[\u001b[38;5;241m0\u001b[39m]\n",
      "File \u001b[1;32m~\\AppData\\Local\\Packages\\PythonSoftwareFoundation.Python.3.12_qbz5n2kfra8p0\\LocalCache\\local-packages\\Python312\\site-packages\\polars\\expr\\expr.py:117\u001b[0m, in \u001b[0;36mExpr.__bool__\u001b[1;34m(self)\u001b[0m\n\u001b[0;32m    116\u001b[0m \u001b[38;5;28;01mdef\u001b[39;00m \u001b[38;5;21m__bool__\u001b[39m(\u001b[38;5;28mself\u001b[39m) \u001b[38;5;241m-\u001b[39m\u001b[38;5;241m>\u001b[39m NoReturn:\n\u001b[1;32m--> 117\u001b[0m     \u001b[38;5;28;01mraise\u001b[39;00m \u001b[38;5;167;01mValueError\u001b[39;00m(\n\u001b[0;32m    118\u001b[0m         \u001b[38;5;124m\"\u001b[39m\u001b[38;5;124mSince Expr are lazy, the truthiness of an Expr is ambiguous. \u001b[39m\u001b[38;5;124m\"\u001b[39m\n\u001b[0;32m    119\u001b[0m         \u001b[38;5;124m\"\u001b[39m\u001b[38;5;124mHint: use \u001b[39m\u001b[38;5;124m'\u001b[39m\u001b[38;5;124m&\u001b[39m\u001b[38;5;124m'\u001b[39m\u001b[38;5;124m or \u001b[39m\u001b[38;5;124m'\u001b[39m\u001b[38;5;124m|\u001b[39m\u001b[38;5;124m'\u001b[39m\u001b[38;5;124m to logically combine Expr, not \u001b[39m\u001b[38;5;124m'\u001b[39m\u001b[38;5;124mand\u001b[39m\u001b[38;5;124m'\u001b[39m\u001b[38;5;124m/\u001b[39m\u001b[38;5;124m'\u001b[39m\u001b[38;5;124mor\u001b[39m\u001b[38;5;124m'\u001b[39m\u001b[38;5;124m, and \u001b[39m\u001b[38;5;124m\"\u001b[39m\n\u001b[0;32m    120\u001b[0m         \u001b[38;5;124m\"\u001b[39m\u001b[38;5;124muse \u001b[39m\u001b[38;5;124m'\u001b[39m\u001b[38;5;124mx.is_in([y,z])\u001b[39m\u001b[38;5;124m'\u001b[39m\u001b[38;5;124m instead of \u001b[39m\u001b[38;5;124m'\u001b[39m\u001b[38;5;124mx in [y,z]\u001b[39m\u001b[38;5;124m'\u001b[39m\u001b[38;5;124m to check membership.\u001b[39m\u001b[38;5;124m\"\u001b[39m\n\u001b[0;32m    121\u001b[0m     )\n",
      "\u001b[1;31mValueError\u001b[0m: Since Expr are lazy, the truthiness of an Expr is ambiguous. Hint: use '&' or '|' to logically combine Expr, not 'and'/'or', and use 'x.is_in([y,z])' instead of 'x in [y,z]' to check membership."
     ]
    }
   ],
   "source": [
    "test_data.filter(pl.col('boxDentSpill') not in [0, 1, 2, 3]).shape[0]"
   ]
  },
  {
   "cell_type": "code",
   "execution_count": null,
   "id": "6d686db0-b8c9-4a11-baea-45742fd3ed6f",
   "metadata": {},
   "outputs": [],
   "source": []
  }
 ],
 "metadata": {
  "kernelspec": {
   "display_name": "Python 3 (ipykernel)",
   "language": "python",
   "name": "python3"
  },
  "language_info": {
   "codemirror_mode": {
    "name": "ipython",
    "version": 3
   },
   "file_extension": ".py",
   "mimetype": "text/x-python",
   "name": "python",
   "nbconvert_exporter": "python",
   "pygments_lexer": "ipython3",
   "version": "3.12.1"
  }
 },
 "nbformat": 4,
 "nbformat_minor": 5
}
