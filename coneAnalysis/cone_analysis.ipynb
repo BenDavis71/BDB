{
 "cells": [
  {
   "cell_type": "code",
   "execution_count": 1,
   "id": "a691a07c-00b8-4843-90f2-efaaa252ea85",
   "metadata": {},
   "outputs": [],
   "source": [
    "import polars as pl\n",
    "import pandas as pd\n",
    "import numpy as np\n",
    "import math as math\n",
    "# find a better way to import?\n",
    "import sys\n",
    "import os\n",
    "sys.path.append(os.path.join(os.path.dirname(''), '..'))\n",
    "\n",
    "from constants import *\n"
   ]
  },
  {
   "cell_type": "code",
   "execution_count": 2,
   "id": "668e7aa3-6f90-4ca7-b9e8-b6e1e0573005",
   "metadata": {},
   "outputs": [],
   "source": [
    "# read all data\n",
    "players = pl.read_csv('../nfl-big-data-bowl-2024/players.csv')\n",
    "plays = pl.read_csv('../nfl-big-data-bowl-2024/plays.csv',infer_schema_length=100000)\n",
    "games = pl.read_csv('../nfl-big-data-bowl-2024/games.csv',infer_schema_length=10000)\n",
    "tracking = pl.read_csv('../nfl-big-data-bowl-2024/tracking_week*.csv',infer_schema_length=10000)"
   ]
  },
  {
   "cell_type": "code",
   "execution_count": 3,
   "id": "147a0c33-dad8-4f51-a150-69b2fbbef229",
   "metadata": {},
   "outputs": [],
   "source": [
    "# normalize data\n",
    "players = players.with_columns([pl.col('nflId').cast(str)])\n",
    "plays = plays.join(games,on='gameId')\n",
    "plays = plays.with_columns([\n",
    "    (pl.col('gameId').cast(str) + '-'\n",
    "     + pl.col('playId').cast(str)).alias('uniquePlayId')\n",
    "])\n",
    "\n",
    "tracking = tracking.with_columns(\n",
    "    (pl.col('gameId').cast(str) + '-'\n",
    "     + pl.col('playId').cast(str)).alias('uniquePlayId'),\n",
    "    (pl.col('gameId').cast(str) + '-'\n",
    "     + pl.col('playId').cast(str) + '-'\n",
    "     + pl.col('nflId').cast(str)).alias('uniquePlayerId'),\n",
    ")\n",
    "\n",
    "# normalize position\n",
    "tracking=tracking.with_columns([\n",
    "    pl.when(pl.col('playDirection')=='right').then(53.3-pl.col('y')).otherwise(pl.col('y')).alias('adjustedX'),\n",
    "    pl.when(pl.col('playDirection')=='right').then(pl.col('x')).otherwise(120-pl.col('x')).alias('adjustedY')\n",
    "])\n",
    "\n",
    "tracking=tracking.with_columns([\n",
    "    pl.when(pl.col('event')=='ball_snap').then(pl.col('frameId')).otherwise(-1).alias('startingFrameId'),\n",
    "])\n",
    "tracking=tracking.with_columns([\n",
    "    pl.col('startingFrameId').max().over(pl.col('uniquePlayId')),\n",
    "])\n",
    "tracking=tracking.with_columns([\n",
    "    (pl.col('frameId') - pl.col('startingFrameId')).alias('framesSinceSnap'),\n",
    "])\n",
    "\n",
    "# normalize orientation 'o' and direction 'dir'\n",
    "# convert 'NA' to 0\n",
    "replacement_values = {'NA': '0'}\n",
    "tracking = tracking.with_columns(\n",
    "    pl.col('o').apply(lambda x: replacement_values.get(x, x)),\n",
    "    pl.col('dir').apply(lambda x: replacement_values.get(x, x)),\n",
    ")\n",
    "\n",
    "tracking=tracking.with_columns([\n",
    "    pl.when(pl.col('playDirection')=='right').then(pl.col('dir').cast(pl.Float64)).otherwise(180-pl.col('dir').cast(pl.Float64)).alias('adjustedDir'),\n",
    "    pl.when(pl.col('playDirection')=='right').then(pl.col('o').cast(pl.Float64)).otherwise((180+pl.col('o').cast(pl.Float64))%360).alias('adjustedO'),\n",
    "])"
   ]
  },
  {
   "cell_type": "code",
   "execution_count": 55,
   "id": "8b95e15d-5986-4c0e-9b63-948e509e2a56",
   "metadata": {},
   "outputs": [],
   "source": [
    "CONE_ANGLE = 20 # degrees\n",
    "MAX_DISTANCE = 5 # yards\n",
    "BLOCKING_RADIUS = 1 # yards\n",
    "\n",
    "# row = [o, dir, adjustedX, adjustedY, oDefender, dirDefender, adjustedXDefender, adjustedYDefender]\n",
    "def looking_to_block_or_blocking_df_fn(row) -> int:\n",
    "    blocking_status = 0\n",
    "    player1 = row[0:4]\n",
    "    player2 = row[4:]\n",
    "\n",
    "    if is_in_vision_cone(player1, player2):\n",
    "        blocking_status = 1\n",
    "\n",
    "    if is_blocking(player1, player2):\n",
    "        blocking_status = 2\n",
    "\n",
    "    return blocking_status\n",
    "    \n",
    "\n",
    "def looking_to_block_or_blocking(player1: tuple, player2: tuple) -> int:\n",
    "    if is_in_vision_cone(player1, player2):\n",
    "        if is_blocking(player1, player2):\n",
    "            return 2\n",
    "            \n",
    "        return 1\n",
    "\n",
    "    return 0\n",
    "\n",
    "def is_in_vision_cone(player1: tuple, player2: tuple) -> bool:\n",
    "    return (is_in_angle(player1, player2) and is_in_distance(player1, player2))\n",
    "\n",
    "def is_in_angle(player1: tuple, player2: tuple) -> bool:\n",
    "    half_cone_angle = CONE_ANGLE / 2\n",
    "\n",
    "    y_dist = player2[3] - player1[3]\n",
    "    x_dist = player2[2] - player1[2]\n",
    "    player1_orientation = float(player1[0]) if type(player1[0]) == str else player1[0]\n",
    "\n",
    "    # print(\"isinangle\")\n",
    "    # print(\"player1\")\n",
    "    # print(player1)\n",
    "\n",
    "    # print(\"player2\")\n",
    "    # print(player2)\n",
    "\n",
    "    # print(\"player1_ori\")\n",
    "    # print(player1_orientation)\n",
    "\n",
    "    angle = math.degrees(math.atan2(y_dist, x_dist))\n",
    "\n",
    "    # print(\"angle\")\n",
    "    # print(angle)\n",
    "\n",
    "    if player1_orientation - half_cone_angle <= angle <= player1_orientation + half_cone_angle:\n",
    "        return True\n",
    "    \n",
    "    return False\n",
    "\n",
    "def is_in_distance(player1: tuple, player2: tuple) -> bool:\n",
    "    distance_between_players = calculate_distance(player1, player2)\n",
    "    if distance_between_players <= MAX_DISTANCE:\n",
    "        return True\n",
    "    \n",
    "    return False\n",
    "\n",
    "def is_blocking(player1: tuple, player2: tuple) -> bool:\n",
    "    distance_between_players = calculate_distance(player1, player2)\n",
    "    if distance_between_players <= BLOCKING_RADIUS:\n",
    "        return True\n",
    "\n",
    "    return False\n",
    "\n",
    "\n",
    "def calculate_distance(player1: tuple, player2: tuple) -> float:\n",
    "    y_dist = abs(player1[3] - player2[3])\n",
    "    x_dist = abs(player1[2] - player2[2])\n",
    "\n",
    "    # print(y_dist)\n",
    "    # print(x_dist)\n",
    "    # print(math.sqrt(x_dist**2 + y_dist**2))\n",
    "\n",
    "    return math.sqrt(x_dist**2 + y_dist**2)"
   ]
  },
  {
   "cell_type": "code",
   "execution_count": 5,
   "id": "b7e78355-854d-4f2d-9b59-a3f09080d0d6",
   "metadata": {},
   "outputs": [],
   "source": [
    "# This is just for testing - when we go for it we'll want to let it go against everything\n",
    "labeled = tracking.filter(pl.col('gameId')==2022091104)\n"
   ]
  },
  {
   "cell_type": "code",
   "execution_count": 6,
   "id": "3120895b-29e3-4bbb-8b55-6ffcdf587384",
   "metadata": {},
   "outputs": [],
   "source": [
    "players = labeled.join(players,on='nflId',how='left')\n",
    "players = players.join(games.select(['gameId','homeTeamAbbr','visitorTeamAbbr']),on='gameId')\n",
    "players = players.with_columns([\n",
    "    pl.when(pl.col('club')==pl.col('homeTeamAbbr'))\n",
    "    .then(pl.col('visitorTeamAbbr'))\n",
    "    .otherwise(pl.col('homeTeamAbbr'))\n",
    "    .alias('opponentClub')\n",
    "])\n"
   ]
  },
  {
   "cell_type": "code",
   "execution_count": 7,
   "id": "4a9fd1a6-62ca-4c8c-86a8-12853d69cb11",
   "metadata": {},
   "outputs": [],
   "source": [
    "players = players.join(\n",
    "    players,\n",
    "    left_on=['gameId','playId','frameId','club'],\n",
    "    right_on=['gameId','playId','frameId','opponentClub'],\n",
    "    suffix='Defender'\n",
    ")"
   ]
  },
  {
   "cell_type": "code",
   "execution_count": 8,
   "id": "ef1f12a3-c2df-4692-88b0-06d7d0c5aa40",
   "metadata": {},
   "outputs": [],
   "source": [
    "blocking_df = players.select(\n",
    "    'adjustedO', 'adjustedDir', 'adjustedX', 'adjustedY', 'adjustedODefender', 'adjustedDirDefender', 'adjustedXDefender', 'adjustedYDefender'\n",
    ").apply(looking_to_block_or_blocking_df_fn)"
   ]
  },
  {
   "cell_type": "code",
   "execution_count": 9,
   "id": "12c1d4dd-7e1b-4a96-bd8a-01c555ce47d1",
   "metadata": {},
   "outputs": [],
   "source": [
    "blocking_df = blocking_df.to_series()"
   ]
  },
  {
   "cell_type": "code",
   "execution_count": 10,
   "id": "ad08e3de-799b-4763-82af-7456d488456a",
   "metadata": {},
   "outputs": [],
   "source": [
    "players = players.with_columns(blockType=blocking_df)"
   ]
  },
  {
   "cell_type": "code",
   "execution_count": 11,
   "id": "329dcaeb-adb4-40ed-8755-90d7030ed284",
   "metadata": {},
   "outputs": [],
   "source": [
    "test = pl.read_parquet('../labeledDataAttempt/labeledBlocks.parquet')"
   ]
  },
  {
   "cell_type": "code",
   "execution_count": 12,
   "id": "98a3f19a-2d13-4cb6-a8e6-674ff15089a4",
   "metadata": {},
   "outputs": [],
   "source": [
    "blocking_df = players.select(\n",
    "    'adjustedO', 'adjustedDir', 'adjustedX', 'adjustedY', 'adjustedODefender', 'adjustedDirDefender', 'adjustedXDefender', 'adjustedYDefender'\n",
    ").apply(looking_to_block_or_blocking_df_fn)\n",
    "\n",
    "blocking_df = blocking_df.to_series()\n",
    "\n",
    "players = players.with_columns(blockType=blocking_df)"
   ]
  },
  {
   "cell_type": "code",
   "execution_count": 13,
   "id": "2562dd20-cd7e-4793-8cdb-ccefb272dae6",
   "metadata": {},
   "outputs": [
    {
     "data": {
      "text/html": [
       "<div><style>\n",
       ".dataframe > thead > tr > th,\n",
       ".dataframe > tbody > tr > td {\n",
       "  text-align: right;\n",
       "}\n",
       "</style>\n",
       "<small>shape: (2, 7)</small><table border=\"1\" class=\"dataframe\"><thead><tr><th>adjustedX</th><th>adjustedY</th><th>adjustedXDefender</th><th>adjustedYDefender</th><th>blockType</th><th>framesSinceSnap</th><th>playId</th></tr><tr><td>f64</td><td>f64</td><td>f64</td><td>f64</td><td>i32</td><td>i64</td><td>i64</td></tr></thead><tbody><tr><td>23.38</td><td>33.52</td><td>21.43</td><td>38.93</td><td>1</td><td>3</td><td>86</td></tr><tr><td>23.99</td><td>83.42</td><td>24.94</td><td>88.3</td><td>0</td><td>3</td><td>107</td></tr></tbody></table></div>"
      ],
      "text/plain": [
       "shape: (2, 7)\n",
       "┌───────────┬───────────┬───────────────────┬───────────────────┬───────────┬─────────────────┬────────┐\n",
       "│ adjustedX ┆ adjustedY ┆ adjustedXDefender ┆ adjustedYDefender ┆ blockType ┆ framesSinceSnap ┆ playId │\n",
       "│ ---       ┆ ---       ┆ ---               ┆ ---               ┆ ---       ┆ ---             ┆ ---    │\n",
       "│ f64       ┆ f64       ┆ f64               ┆ f64               ┆ i32       ┆ i64             ┆ i64    │\n",
       "╞═══════════╪═══════════╪═══════════════════╪═══════════════════╪═══════════╪═════════════════╪════════╡\n",
       "│ 23.38     ┆ 33.52     ┆ 21.43             ┆ 38.93             ┆ 1         ┆ 3               ┆ 86     │\n",
       "│ 23.99     ┆ 83.42     ┆ 24.94             ┆ 88.3              ┆ 0         ┆ 3               ┆ 107    │\n",
       "└───────────┴───────────┴───────────────────┴───────────────────┴───────────┴─────────────────┴────────┘"
      ]
     },
     "execution_count": 13,
     "metadata": {},
     "output_type": "execute_result"
    }
   ],
   "source": [
    "test.filter(pl.col('displayName')==\"Frank Ragnow\").filter(pl.col('displayNameDefender')==\"Kyzir White\").filter(pl.col('gameId')==2022091104).select(pl.col('adjustedX'), pl.col('adjustedY'), pl.col('adjustedXDefender'), pl.col('adjustedYDefender'), pl.col('blockType'), pl.col('framesSinceSnap'), pl.col('playId')).filter(pl.col('framesSinceSnap')==3)"
   ]
  },
  {
   "cell_type": "code",
   "execution_count": 14,
   "id": "9484dd10-7bdf-48ce-9064-31879d71e1a4",
   "metadata": {},
   "outputs": [
    {
     "data": {
      "text/html": [
       "<div><style>\n",
       ".dataframe > thead > tr > th,\n",
       ".dataframe > tbody > tr > td {\n",
       "  text-align: right;\n",
       "}\n",
       "</style>\n",
       "<small>shape: (1, 7)</small><table border=\"1\" class=\"dataframe\"><thead><tr><th>adjustedX</th><th>adjustedY</th><th>adjustedXDefender</th><th>adjustedYDefender</th><th>blockType</th><th>framesSinceSnap</th><th>playId</th></tr><tr><td>f64</td><td>f64</td><td>f64</td><td>f64</td><td>i64</td><td>i64</td><td>i64</td></tr></thead><tbody><tr><td>23.38</td><td>33.52</td><td>21.43</td><td>38.93</td><td>0</td><td>3</td><td>86</td></tr></tbody></table></div>"
      ],
      "text/plain": [
       "shape: (1, 7)\n",
       "┌───────────┬───────────┬───────────────────┬───────────────────┬───────────┬─────────────────┬────────┐\n",
       "│ adjustedX ┆ adjustedY ┆ adjustedXDefender ┆ adjustedYDefender ┆ blockType ┆ framesSinceSnap ┆ playId │\n",
       "│ ---       ┆ ---       ┆ ---               ┆ ---               ┆ ---       ┆ ---             ┆ ---    │\n",
       "│ f64       ┆ f64       ┆ f64               ┆ f64               ┆ i64       ┆ i64             ┆ i64    │\n",
       "╞═══════════╪═══════════╪═══════════════════╪═══════════════════╪═══════════╪═════════════════╪════════╡\n",
       "│ 23.38     ┆ 33.52     ┆ 21.43             ┆ 38.93             ┆ 0         ┆ 3               ┆ 86     │\n",
       "└───────────┴───────────┴───────────────────┴───────────────────┴───────────┴─────────────────┴────────┘"
      ]
     },
     "execution_count": 14,
     "metadata": {},
     "output_type": "execute_result"
    }
   ],
   "source": [
    "players.filter(pl.col('displayName')==\"Frank Ragnow\").filter(pl.col('displayNameDefender')==\"Kyzir White\").filter(pl.col('gameId')==2022091104).select(pl.col('adjustedX'), pl.col('adjustedY'), pl.col('adjustedXDefender'), pl.col('adjustedYDefender'), pl.col('blockType'), pl.col('framesSinceSnap'), pl.col('playId')).filter(pl.col('framesSinceSnap')==3).filter(pl.col('playId')==86)"
   ]
  },
  {
   "cell_type": "code",
   "execution_count": 56,
   "id": "55dff58e-5318-4f3b-a680-5ca0da8dfadb",
   "metadata": {},
   "outputs": [],
   "source": [
    "test_data = players.filter(pl.col('jerseyNumber')=='88').filter(pl.col('gameId')==2022091104).filter(pl.col('playId')==86)\n",
    "blocking_df = test_data.select(\n",
    "    'adjustedO', 'adjustedDir', 'adjustedX', 'adjustedY', 'adjustedODefender', 'adjustedDirDefender', 'adjustedXDefender', 'adjustedYDefender'\n",
    ").apply(looking_to_block_or_blocking_df_fn)\n",
    "\n",
    "blocking_df = blocking_df.to_series()\n",
    "\n",
    "test_data = test_data.with_columns(blockType=blocking_df)"
   ]
  },
  {
   "cell_type": "code",
   "execution_count": 57,
   "id": "5a783b5f-d4e9-4175-80d0-f1f9b26f86a5",
   "metadata": {},
   "outputs": [
    {
     "data": {
      "text/html": [
       "<div><style>\n",
       ".dataframe > thead > tr > th,\n",
       ".dataframe > tbody > tr > td {\n",
       "  text-align: right;\n",
       "}\n",
       "</style>\n",
       "<small>shape: (24, 3)</small><table border=\"1\" class=\"dataframe\"><thead><tr><th>jerseyNumberDefender</th><th>framesSinceSnap</th><th>blockType</th></tr><tr><td>str</td><td>i64</td><td>i64</td></tr></thead><tbody><tr><td>&quot;97&quot;</td><td>12</td><td>2</td></tr><tr><td>&quot;97&quot;</td><td>13</td><td>2</td></tr><tr><td>&quot;97&quot;</td><td>14</td><td>2</td></tr><tr><td>&quot;97&quot;</td><td>15</td><td>2</td></tr><tr><td>&quot;97&quot;</td><td>16</td><td>2</td></tr><tr><td>&quot;97&quot;</td><td>17</td><td>2</td></tr><tr><td>&quot;97&quot;</td><td>18</td><td>2</td></tr><tr><td>&quot;97&quot;</td><td>19</td><td>2</td></tr><tr><td>&quot;97&quot;</td><td>20</td><td>2</td></tr><tr><td>&quot;97&quot;</td><td>21</td><td>2</td></tr><tr><td>&quot;97&quot;</td><td>22</td><td>2</td></tr><tr><td>&quot;97&quot;</td><td>23</td><td>2</td></tr><tr><td>&quot;97&quot;</td><td>39</td><td>1</td></tr><tr><td>&quot;97&quot;</td><td>41</td><td>1</td></tr><tr><td>&quot;97&quot;</td><td>42</td><td>1</td></tr><tr><td>&quot;97&quot;</td><td>43</td><td>1</td></tr><tr><td>&quot;97&quot;</td><td>44</td><td>1</td></tr><tr><td>&quot;23&quot;</td><td>27</td><td>1</td></tr><tr><td>&quot;NA&quot;</td><td>19</td><td>1</td></tr><tr><td>&quot;NA&quot;</td><td>20</td><td>1</td></tr><tr><td>&quot;NA&quot;</td><td>21</td><td>1</td></tr><tr><td>&quot;NA&quot;</td><td>22</td><td>1</td></tr><tr><td>&quot;NA&quot;</td><td>23</td><td>1</td></tr><tr><td>&quot;NA&quot;</td><td>24</td><td>1</td></tr></tbody></table></div>"
      ],
      "text/plain": [
       "shape: (24, 3)\n",
       "┌──────────────────────┬─────────────────┬───────────┐\n",
       "│ jerseyNumberDefender ┆ framesSinceSnap ┆ blockType │\n",
       "│ ---                  ┆ ---             ┆ ---       │\n",
       "│ str                  ┆ i64             ┆ i64       │\n",
       "╞══════════════════════╪═════════════════╪═══════════╡\n",
       "│ 97                   ┆ 12              ┆ 2         │\n",
       "│ 97                   ┆ 13              ┆ 2         │\n",
       "│ 97                   ┆ 14              ┆ 2         │\n",
       "│ 97                   ┆ 15              ┆ 2         │\n",
       "│ 97                   ┆ 16              ┆ 2         │\n",
       "│ 97                   ┆ 17              ┆ 2         │\n",
       "│ 97                   ┆ 18              ┆ 2         │\n",
       "│ 97                   ┆ 19              ┆ 2         │\n",
       "│ 97                   ┆ 20              ┆ 2         │\n",
       "│ 97                   ┆ 21              ┆ 2         │\n",
       "│ 97                   ┆ 22              ┆ 2         │\n",
       "│ 97                   ┆ 23              ┆ 2         │\n",
       "│ 97                   ┆ 39              ┆ 1         │\n",
       "│ 97                   ┆ 41              ┆ 1         │\n",
       "│ 97                   ┆ 42              ┆ 1         │\n",
       "│ 97                   ┆ 43              ┆ 1         │\n",
       "│ 97                   ┆ 44              ┆ 1         │\n",
       "│ 23                   ┆ 27              ┆ 1         │\n",
       "│ NA                   ┆ 19              ┆ 1         │\n",
       "│ NA                   ┆ 20              ┆ 1         │\n",
       "│ NA                   ┆ 21              ┆ 1         │\n",
       "│ NA                   ┆ 22              ┆ 1         │\n",
       "│ NA                   ┆ 23              ┆ 1         │\n",
       "│ NA                   ┆ 24              ┆ 1         │\n",
       "└──────────────────────┴─────────────────┴───────────┘"
      ]
     },
     "execution_count": 57,
     "metadata": {},
     "output_type": "execute_result"
    }
   ],
   "source": [
    "pl.Config(tbl_rows=200)\n",
    "test_data.select(pl.col('jerseyNumberDefender'), pl.col('framesSinceSnap'), pl.col('blockType')).filter(pl.col('blockType')!=0)"
   ]
  },
  {
   "cell_type": "code",
   "execution_count": null,
   "id": "78d219af-7963-4fe5-93cd-33388242e615",
   "metadata": {},
   "outputs": [],
   "source": []
  }
 ],
 "metadata": {
  "kernelspec": {
   "display_name": "Python 3 (ipykernel)",
   "language": "python",
   "name": "python3"
  },
  "language_info": {
   "codemirror_mode": {
    "name": "ipython",
    "version": 3
   },
   "file_extension": ".py",
   "mimetype": "text/x-python",
   "name": "python",
   "nbconvert_exporter": "python",
   "pygments_lexer": "ipython3",
   "version": "3.12.1"
  }
 },
 "nbformat": 4,
 "nbformat_minor": 5
}
