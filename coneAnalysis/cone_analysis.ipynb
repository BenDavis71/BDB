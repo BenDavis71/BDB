{
 "cells": [
  {
   "cell_type": "code",
   "execution_count": 1,
   "id": "a691a07c-00b8-4843-90f2-efaaa252ea85",
   "metadata": {},
   "outputs": [],
   "source": [
    "import polars as pl\n",
    "import pandas as pd\n",
    "import numpy as np\n",
    "import math as math\n",
    "# find a better way to import?\n",
    "import sys\n",
    "import os\n",
    "sys.path.append(os.path.join(os.path.dirname(''), '..'))\n",
    "\n",
    "from constants import *\n"
   ]
  },
  {
   "cell_type": "code",
   "execution_count": 2,
   "id": "668e7aa3-6f90-4ca7-b9e8-b6e1e0573005",
   "metadata": {},
   "outputs": [],
   "source": [
    "# read all data\n",
    "players = pl.read_csv('../nfl-big-data-bowl-2024/players.csv')\n",
    "plays = pl.read_csv('../nfl-big-data-bowl-2024/plays.csv',infer_schema_length=100000)\n",
    "games = pl.read_csv('../nfl-big-data-bowl-2024/games.csv',infer_schema_length=10000)\n",
    "tracking = pl.read_csv('../nfl-big-data-bowl-2024/tracking_week*.csv',infer_schema_length=10000)"
   ]
  },
  {
   "cell_type": "code",
   "execution_count": 3,
   "id": "147a0c33-dad8-4f51-a150-69b2fbbef229",
   "metadata": {},
   "outputs": [],
   "source": [
    "# normalize data\n",
    "players = players.with_columns([pl.col('nflId').cast(str)])\n",
    "plays = plays.join(games,on='gameId')\n",
    "plays = plays.with_columns([\n",
    "    (pl.col('gameId').cast(str) + '-'\n",
    "     + pl.col('playId').cast(str)).alias('uniquePlayId')\n",
    "])\n",
    "\n",
    "tracking = tracking.with_columns(\n",
    "    (pl.col('gameId').cast(str) + '-'\n",
    "     + pl.col('playId').cast(str)).alias('uniquePlayId'),\n",
    "    (pl.col('gameId').cast(str) + '-'\n",
    "     + pl.col('playId').cast(str) + '-'\n",
    "     + pl.col('nflId').cast(str)).alias('uniquePlayerId'),\n",
    ")\n",
    "\n",
    "# normalize position\n",
    "tracking=tracking.with_columns([\n",
    "    pl.when(pl.col('playDirection')=='right').then(53.3-pl.col('y')).otherwise(pl.col('y')).alias('adjustedX'),\n",
    "    pl.when(pl.col('playDirection')=='right').then(pl.col('x')).otherwise(120-pl.col('x')).alias('adjustedY')\n",
    "])\n",
    "\n",
    "tracking=tracking.with_columns([\n",
    "    pl.when(pl.col('event')=='ball_snap').then(pl.col('frameId')).otherwise(-1).alias('startingFrameId'),\n",
    "])\n",
    "tracking=tracking.with_columns([\n",
    "    pl.col('startingFrameId').max().over(pl.col('uniquePlayId')),\n",
    "])\n",
    "tracking=tracking.with_columns([\n",
    "    (pl.col('frameId') - pl.col('startingFrameId')).alias('framesSinceSnap'),\n",
    "])\n",
    "\n",
    "# normalize orientation 'o' and direction 'dir'\n",
    "# convert 'NA' to 0\n",
    "replacement_values = {'NA': '0'}\n",
    "tracking = tracking.with_columns(\n",
    "    pl.col('o').apply(lambda x: replacement_values.get(x, x)),\n",
    "    pl.col('dir').apply(lambda x: replacement_values.get(x, x)),\n",
    ")\n",
    "\n",
    "tracking=tracking.with_columns([\n",
    "    pl.when(pl.col('playDirection')=='right').then(pl.col('dir').cast(pl.Float64)).otherwise(180-pl.col('dir').cast(pl.Float64)).alias('adjustedDir'),\n",
    "    pl.when(pl.col('playDirection')=='right').then(pl.col('o').cast(pl.Float64)).otherwise(180-pl.col('o').cast(pl.Float64)).alias('adjustedO'),\n",
    "])"
   ]
  },
  {
   "cell_type": "code",
   "execution_count": 4,
   "id": "8b95e15d-5986-4c0e-9b63-948e509e2a56",
   "metadata": {},
   "outputs": [],
   "source": [
    "CONE_ANGLE = 15 # degrees\n",
    "MAX_DISTANCE = 5 # feet\n",
    "BLOCKING_RADIUS = 1 # feet\n",
    "\n",
    "# row = [o, dir, adjustedX, adjustedY, oDefender, dirDefender, adjustedXDefender, adjustedYDefender]\n",
    "def looking_to_block_or_blocking_df_fn(row) -> int:\n",
    "    blocking_status = 0\n",
    "    player1 = row[0:4]\n",
    "    player2 = row[4:]\n",
    "\n",
    "    if is_in_vision_cone(player1, player2):\n",
    "        blocking_status = 1\n",
    "\n",
    "    if is_blocking(player1, player2):\n",
    "        blocking_status = 2\n",
    "\n",
    "    return blocking_status\n",
    "    \n",
    "\n",
    "def looking_to_block_or_blocking(player1: tuple, player2: tuple) -> int:\n",
    "    if is_in_vision_cone(player1, player2):\n",
    "        if is_blocking(player1, player2):\n",
    "            return 2\n",
    "            \n",
    "        return 1\n",
    "\n",
    "    return 0\n",
    "\n",
    "def is_in_vision_cone(player1: tuple, player2: tuple) -> bool:\n",
    "    return (is_in_angle(player1, player2) and is_in_distance(player1, player2))\n",
    "\n",
    "def is_in_angle(player1: tuple, player2: tuple) -> bool:\n",
    "    half_cone_angle = CONE_ANGLE / 2\n",
    "\n",
    "    y_dist = player2[3] - player1[3]\n",
    "    x_dist = player2[2] - player1[2]\n",
    "    player1_orientation = float(player1[0]) if type(player1[0]) == str else player1[0]\n",
    "\n",
    "    angle = math.degrees(math.atan2(y_dist, x_dist))\n",
    "\n",
    "    if player1_orientation - half_cone_angle <= angle <= player1_orientation + half_cone_angle:\n",
    "        return True\n",
    "    \n",
    "    return False\n",
    "\n",
    "def is_in_distance(player1: tuple, player2: tuple) -> bool:\n",
    "    distance_between_players = calculate_distance(player1, player2)\n",
    "    if distance_between_players <= MAX_DISTANCE:\n",
    "        return True\n",
    "    \n",
    "    return False\n",
    "\n",
    "def is_blocking(player1: tuple, player2: tuple) -> bool:\n",
    "    distance_between_players = calculate_distance(player1, player2)\n",
    "    if distance_between_players <= BLOCKING_RADIUS:\n",
    "        return True\n",
    "\n",
    "    return False\n",
    "\n",
    "\n",
    "def calculate_distance(player1: tuple, player2: tuple) -> float:\n",
    "    y_dist = abs(player1[3] - player2[3])\n",
    "    x_dist = abs(player1[2] - player2[2])\n",
    "\n",
    "    return math.sqrt(x_dist**2 + y_dist**2)"
   ]
  },
  {
   "cell_type": "code",
   "execution_count": 5,
   "id": "b7e78355-854d-4f2d-9b59-a3f09080d0d6",
   "metadata": {},
   "outputs": [],
   "source": [
    "# This is just for testing - when we go for it we'll want to let it go against everything\n",
    "labeled = tracking.filter(pl.col('gameId')==2022091104).filter(pl.col('frameId')==1)\n"
   ]
  },
  {
   "cell_type": "code",
   "execution_count": 6,
   "id": "3120895b-29e3-4bbb-8b55-6ffcdf587384",
   "metadata": {},
   "outputs": [],
   "source": [
    "players = labeled.join(players,on='nflId',how='left')\n",
    "players = players.join(games.select(['gameId','homeTeamAbbr','visitorTeamAbbr']),on='gameId')\n",
    "players = players.with_columns([\n",
    "    pl.when(pl.col('club')==pl.col('homeTeamAbbr'))\n",
    "    .then(pl.col('visitorTeamAbbr'))\n",
    "    .otherwise(pl.col('homeTeamAbbr'))\n",
    "    .alias('opponentClub')\n",
    "])\n"
   ]
  },
  {
   "cell_type": "code",
   "execution_count": 7,
   "id": "4a9fd1a6-62ca-4c8c-86a8-12853d69cb11",
   "metadata": {},
   "outputs": [],
   "source": [
    "players = players.join(\n",
    "    players,\n",
    "    left_on=['gameId','playId','frameId','club'],\n",
    "    right_on=['gameId','playId','frameId','opponentClub'],\n",
    "    suffix='Defender'\n",
    ")"
   ]
  },
  {
   "cell_type": "code",
   "execution_count": 8,
   "id": "ef1f12a3-c2df-4692-88b0-06d7d0c5aa40",
   "metadata": {},
   "outputs": [],
   "source": [
    "blocking_df = players.select(\n",
    "    'o', 'dir', 'adjustedX', 'adjustedY', 'oDefender', 'dirDefender', 'adjustedXDefender', 'adjustedYDefender'\n",
    ").apply(looking_to_block_or_blocking_df_fn)"
   ]
  },
  {
   "cell_type": "code",
   "execution_count": 9,
   "id": "12c1d4dd-7e1b-4a96-bd8a-01c555ce47d1",
   "metadata": {},
   "outputs": [],
   "source": [
    "blocking_df = blocking_df.to_series()"
   ]
  },
  {
   "cell_type": "code",
   "execution_count": 25,
   "id": "ad08e3de-799b-4763-82af-7456d488456a",
   "metadata": {},
   "outputs": [],
   "source": [
    "players = players.with_columns(blockType=blocking_df)"
   ]
  },
  {
   "cell_type": "code",
   "execution_count": 20,
   "id": "ac849814-c221-4d4f-a908-07e0105f99ee",
   "metadata": {},
   "outputs": [
    {
     "data": {
      "text/html": [
       "<div><style>\n",
       ".dataframe > thead > tr > th,\n",
       ".dataframe > tbody > tr > td {\n",
       "  text-align: right;\n",
       "}\n",
       "</style>\n",
       "<small>shape: (429, 1)</small><table border=\"1\" class=\"dataframe\"><thead><tr><th>displayName</th></tr><tr><td>str</td></tr></thead><tbody><tr><td>&quot;Frank Ragnow&quot;</td></tr><tr><td>&quot;Fletcher Cox&quot;</td></tr><tr><td>&quot;Josh Sweat&quot;</td></tr><tr><td>&quot;Jonah Jackson&quot;</td></tr><tr><td>&quot;Josh Sweat&quot;</td></tr><tr><td>&quot;Josh Sweat&quot;</td></tr><tr><td>&quot;Frank Ragnow&quot;</td></tr><tr><td>&quot;Frank Ragnow&quot;</td></tr><tr><td>&quot;Frank Ragnow&quot;</td></tr><tr><td>&quot;Frank Ragnow&quot;</td></tr><tr><td>&quot;Milton William…</td></tr><tr><td>&quot;Frank Ragnow&quot;</td></tr><tr><td>&hellip;</td></tr><tr><td>&quot;Landon Dickers…</td></tr><tr><td>&quot;Isaac Seumalo&quot;</td></tr><tr><td>&quot;Jack Stoll&quot;</td></tr><tr><td>&quot;Zach Pascal&quot;</td></tr><tr><td>&quot;Noah Togiai&quot;</td></tr><tr><td>&quot;Jason Kelce&quot;</td></tr><tr><td>&quot;Benito Jones&quot;</td></tr><tr><td>&quot;Dallas Goedert…</td></tr><tr><td>&quot;Jason Kelce&quot;</td></tr><tr><td>&quot;Jack Stoll&quot;</td></tr><tr><td>&quot;Benito Jones&quot;</td></tr><tr><td>&quot;Alim McNeill&quot;</td></tr></tbody></table></div>"
      ],
      "text/plain": [
       "shape: (429, 1)\n",
       "┌───────────────┐\n",
       "│ displayName   │\n",
       "│ ---           │\n",
       "│ str           │\n",
       "╞═══════════════╡\n",
       "│ Frank Ragnow  │\n",
       "│ Fletcher Cox  │\n",
       "│ Josh Sweat    │\n",
       "│ Jonah Jackson │\n",
       "│ …             │\n",
       "│ Jason Kelce   │\n",
       "│ Jack Stoll    │\n",
       "│ Benito Jones  │\n",
       "│ Alim McNeill  │\n",
       "└───────────────┘"
      ]
     },
     "execution_count": 20,
     "metadata": {},
     "output_type": "execute_result"
    }
   ],
   "source": [
    "players.filter(pl.col('blockingStatus')!=0).select(pl.col('displayName'))"
   ]
  },
  {
   "cell_type": "code",
   "execution_count": 13,
   "id": "329dcaeb-adb4-40ed-8755-90d7030ed284",
   "metadata": {},
   "outputs": [],
   "source": [
    "test = pl.read_parquet('../labeledDataAttempt/labeledBlocks.parquet')\n"
   ]
  },
  {
   "cell_type": "code",
   "execution_count": 30,
   "id": "2562dd20-cd7e-4793-8cdb-ccefb272dae6",
   "metadata": {},
   "outputs": [
    {
     "data": {
      "text/html": [
       "<div><style>\n",
       ".dataframe > thead > tr > th,\n",
       ".dataframe > tbody > tr > td {\n",
       "  text-align: right;\n",
       "}\n",
       "</style>\n",
       "<small>shape: (43, 1)</small><table border=\"1\" class=\"dataframe\"><thead><tr><th>blockType</th></tr><tr><td>i32</td></tr></thead><tbody><tr><td>1</td></tr><tr><td>1</td></tr><tr><td>1</td></tr><tr><td>1</td></tr><tr><td>1</td></tr><tr><td>1</td></tr><tr><td>1</td></tr><tr><td>1</td></tr><tr><td>1</td></tr><tr><td>1</td></tr><tr><td>1</td></tr><tr><td>1</td></tr><tr><td>&hellip;</td></tr><tr><td>2</td></tr><tr><td>2</td></tr><tr><td>2</td></tr><tr><td>2</td></tr><tr><td>1</td></tr><tr><td>1</td></tr><tr><td>1</td></tr><tr><td>1</td></tr><tr><td>1</td></tr><tr><td>1</td></tr><tr><td>1</td></tr><tr><td>1</td></tr></tbody></table></div>"
      ],
      "text/plain": [
       "shape: (43, 1)\n",
       "┌───────────┐\n",
       "│ blockType │\n",
       "│ ---       │\n",
       "│ i32       │\n",
       "╞═══════════╡\n",
       "│ 1         │\n",
       "│ 1         │\n",
       "│ 1         │\n",
       "│ 1         │\n",
       "│ …         │\n",
       "│ 1         │\n",
       "│ 1         │\n",
       "│ 1         │\n",
       "│ 1         │\n",
       "└───────────┘"
      ]
     },
     "execution_count": 30,
     "metadata": {},
     "output_type": "execute_result"
    }
   ],
   "source": [
    "test.filter(pl.col('displayName')==\"Frank Ragnow\").select(pl.col('blockType'))"
   ]
  },
  {
   "cell_type": "code",
   "execution_count": 31,
   "id": "4d5bde94-3d6c-4699-af12-939ca06a6a95",
   "metadata": {},
   "outputs": [
    {
     "data": {
      "text/html": [
       "<div><style>\n",
       ".dataframe > thead > tr > th,\n",
       ".dataframe > tbody > tr > td {\n",
       "  text-align: right;\n",
       "}\n",
       "</style>\n",
       "<small>shape: (12, 1)</small><table border=\"1\" class=\"dataframe\"><thead><tr><th>blockType</th></tr><tr><td>i64</td></tr></thead><tbody><tr><td>2</td></tr><tr><td>0</td></tr><tr><td>0</td></tr><tr><td>0</td></tr><tr><td>0</td></tr><tr><td>0</td></tr><tr><td>0</td></tr><tr><td>0</td></tr><tr><td>0</td></tr><tr><td>0</td></tr><tr><td>0</td></tr><tr><td>0</td></tr></tbody></table></div>"
      ],
      "text/plain": [
       "shape: (12, 1)\n",
       "┌───────────┐\n",
       "│ blockType │\n",
       "│ ---       │\n",
       "│ i64       │\n",
       "╞═══════════╡\n",
       "│ 2         │\n",
       "│ 0         │\n",
       "│ 0         │\n",
       "│ 0         │\n",
       "│ …         │\n",
       "│ 0         │\n",
       "│ 0         │\n",
       "│ 0         │\n",
       "│ 0         │\n",
       "└───────────┘"
      ]
     },
     "execution_count": 31,
     "metadata": {},
     "output_type": "execute_result"
    }
   ],
   "source": [
    "players.filter(pl.col('displayName')==\"Frank Ragnow\").filter(pl.col('playId')==58).select(pl.col('blockType'))"
   ]
  },
  {
   "cell_type": "code",
   "execution_count": null,
   "id": "87e4ec7d-d056-48ca-a7e4-916ec2501223",
   "metadata": {},
   "outputs": [],
   "source": []
  },
  {
   "cell_type": "code",
   "execution_count": null,
   "id": "b31a8cfd-69e7-4d86-8c3e-4ed19fb03f7e",
   "metadata": {},
   "outputs": [],
   "source": []
  }
 ],
 "metadata": {
  "kernelspec": {
   "display_name": "Python 3 (ipykernel)",
   "language": "python",
   "name": "python3"
  },
  "language_info": {
   "codemirror_mode": {
    "name": "ipython",
    "version": 3
   },
   "file_extension": ".py",
   "mimetype": "text/x-python",
   "name": "python",
   "nbconvert_exporter": "python",
   "pygments_lexer": "ipython3",
   "version": "3.9.6"
  }
 },
 "nbformat": 4,
 "nbformat_minor": 5
}
