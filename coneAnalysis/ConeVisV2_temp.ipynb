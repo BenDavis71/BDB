{
 "cells": [
  {
   "cell_type": "code",
   "execution_count": 21,
   "id": "4b838cfd-6961-4853-bb36-ac1f28cecfcd",
   "metadata": {},
   "outputs": [],
   "source": [
    "# Original script credit goes to Hunter Kempf\n",
    "# https://www.kaggle.com/code/huntingdata11/plotly-animated-and-interactive-nfl-plays/input\n",
    "\n",
    "import numpy as np\n",
    "import pandas as pd\n",
    "import polars as pl\n",
    "import glob"
   ]
  },
  {
   "cell_type": "code",
   "execution_count": 46,
   "id": "530f2e54-6305-4e58-a1ca-72c628197a91",
   "metadata": {},
   "outputs": [],
   "source": [
    "# read all data\n",
    "players = pl.read_parquet('../Data/players.parquet')\n",
    "plays = pl.read_parquet('../Data/plays.parquet')\n",
    "games = pl.read_parquet('../Data/games.parquet')\n",
    "tracking = pl.read_parquet('../Data/tracking_week_*.parquet')\n",
    "\n",
    "# normalize orientation 'o' and direction 'dir'\n",
    "# convert 'NA' to 0\n",
    "replacement_values = {'NA': '0'}\n",
    "tracking = tracking.with_columns(\n",
    "    pl.col('o').apply(lambda x: replacement_values.get(x, x)),\n",
    ")\n",
    "\n",
    "tracking=tracking.with_columns([\n",
    "    pl.when(pl.col('playDirection')=='right').then(pl.col('o').cast(pl.Float64)).otherwise((180+pl.col('o').cast(pl.Float64))%360).alias('firstAdjustedO'),\n",
    "])\n",
    "\n",
    "tracking=tracking.with_columns([\n",
    "    pl.when(pl.col('firstAdjustedO') <= 180).then(180-pl.col('firstAdjustedO')).otherwise(540-pl.col('firstAdjustedO')).alias('adjustedO')\n",
    "])\n",
    "\n",
    "tracking=tracking.with_columns([\n",
    "    pl.when(pl.col('playDirection')=='right').then(53.3-pl.col('y')).otherwise(pl.col('y')).alias('x'),\n",
    "    pl.when(pl.col('playDirection')=='right').then(pl.col('x')).otherwise(120-pl.col('x')).alias('y')\n",
    "])\n",
    "\n",
    "players = players.with_columns([pl.col('nflId').cast(pl.Utf8)])\n"
   ]
  },
  {
   "cell_type": "code",
   "execution_count": 41,
   "id": "bd24c602-8678-4d51-8735-eb8687b1f5d8",
   "metadata": {},
   "outputs": [],
   "source": [
    "import seaborn as sns \n",
    "import matplotlib.pyplot as plt \n",
    "import plotly.graph_objects as go\n",
    "\n",
    "# for mpl animation\n",
    "import matplotlib.animation as animation\n",
    "from matplotlib import rc\n",
    "rc('animation', html='html5')"
   ]
  },
  {
   "cell_type": "code",
   "execution_count": 42,
   "id": "5a52d1bc-3f0e-46d6-b407-fdb242dde459",
   "metadata": {},
   "outputs": [],
   "source": [
    "colors = {\n",
    "    'ARI':[\"#97233F\",\"#000000\",\"#FFB612\"], \n",
    "    'ATL':[\"#A71930\",\"#000000\",\"#A5ACAF\"], \n",
    "    'BAL':[\"#241773\",\"#000000\"], \n",
    "    'BUF':[\"#00338D\",\"#C60C30\"], \n",
    "    'CAR':[\"#0085CA\",\"#101820\",\"#BFC0BF\"], \n",
    "    'CHI':[\"#0B162A\",\"#C83803\"], \n",
    "    'CIN':[\"#FB4F14\",\"#000000\"], \n",
    "    'CLE':[\"#311D00\",\"#FF3C00\"], \n",
    "    'DAL':[\"#003594\",\"#041E42\",\"#869397\"],\n",
    "    'DEN':[\"#FB4F14\",\"#002244\"], \n",
    "    'DET':[\"#0076B6\",\"#B0B7BC\",\"#000000\"], \n",
    "    'GB' :[\"#203731\",\"#FFB612\"], \n",
    "    'HOU':[\"#03202F\",\"#A71930\"], \n",
    "    'IND':[\"#002C5F\",\"#A2AAAD\"], \n",
    "    'JAX':[\"#101820\",\"#D7A22A\",\"#9F792C\"], \n",
    "    'KC' :[\"#E31837\",\"#FFB81C\"], \n",
    "    'LA' :[\"#003594\",\"#FFA300\",\"#FF8200\"], \n",
    "    'LAC':[\"#0080C6\",\"#FFC20E\",\"#FFFFFF\"], \n",
    "    'LV' :[\"#000000\",\"#A5ACAF\"],\n",
    "    'MIA':[\"#008E97\",\"#FC4C02\",\"#005778\"], \n",
    "    'MIN':[\"#4F2683\",\"#FFC62F\"], \n",
    "    'NE' :[\"#002244\",\"#C60C30\",\"#B0B7BC\"], \n",
    "    'NO' :[\"#101820\",\"#D3BC8D\"], \n",
    "    'NYG':[\"#0B2265\",\"#A71930\",\"#A5ACAF\"], \n",
    "    'NYJ':[\"#125740\",\"#000000\",\"#FFFFFF\"], \n",
    "    'PHI':[\"#004C54\",\"#A5ACAF\",\"#ACC0C6\"], \n",
    "    'PIT':[\"#FFB612\",\"#101820\"], \n",
    "    'SEA':[\"#002244\",\"#69BE28\",\"#A5ACAF\"], \n",
    "    'SF' :[\"#AA0000\",\"#B3995D\"],\n",
    "    'TB' :[\"#D50A0A\",\"#FF7900\",\"#0A0A08\"], \n",
    "    'TEN':[\"#0C2340\",\"#4B92DB\",\"#C8102E\"], \n",
    "    'WAS':[\"#5A1414\",\"#FFB612\"], \n",
    "    'football':[\"#CBB67C\",\"#663831\"]\n",
    "}\n",
    "\n",
    "def hex_to_rgb_array(hex_color):\n",
    "    '''take in hex val and return rgb np array'''\n",
    "    return np.array(tuple(int(hex_color.lstrip('#')[i:i+2], 16) for i in (0, 2, 4))) \n",
    "\n",
    "def ColorDistance(hex1,hex2):\n",
    "    '''d = {} distance between two colors(3)'''\n",
    "    if hex1 == hex2:\n",
    "        return 0\n",
    "    rgb1 = hex_to_rgb_array(hex1)\n",
    "    rgb2 = hex_to_rgb_array(hex2)\n",
    "    rm = 0.5*(rgb1[0]+rgb2[0])\n",
    "    d = abs(sum((2+rm,4,3-rm)*(rgb1-rgb2)**2))**0.5\n",
    "    return d\n",
    "\n",
    "def ColorPairs(team1,team2):\n",
    "    color_array_1 = colors[team1]\n",
    "    color_array_2 = colors[team2]\n",
    "\n",
    "    # If color distance is small enough then flip color order\n",
    "    if ColorDistance(color_array_1[0],color_array_2[0])<500:\n",
    "        return {team1:[color_array_1[0],color_array_1[1]],team2:[color_array_2[1],color_array_2[0]],'football':colors['football']}\n",
    "    else:\n",
    "        return {team1:[color_array_1[0],color_array_1[1]],team2:[color_array_2[0],color_array_2[1]],'football':colors['football']}"
   ]
  },
  {
   "cell_type": "code",
   "execution_count": 61,
   "id": "d5d550c7-62fc-47ae-b6d9-be3cb32c4aef",
   "metadata": {},
   "outputs": [],
   "source": [
    "def animate_play(games,tracking_df,play_df,players,gameId,playId, highlighted_players = []):\n",
    "    selected_game_df = games[games.gameId==gameId].copy()\n",
    "    selected_play_df = play_df[(play_df.playId==playId)&(play_df.gameId==gameId)].copy()\n",
    "    \n",
    "    tracking_players_df = pd.merge(tracking_df,players,how=\"left\",on = \"nflId\")\n",
    "    selected_tracking_df = tracking_players_df[(tracking_players_df.playId==playId)&(tracking_players_df.gameId==gameId)].copy()\n",
    "\n",
    "    sorted_frame_list = selected_tracking_df.frameId.unique()\n",
    "    sorted_frame_list.sort()\n",
    "    \n",
    "    # get good color combos\n",
    "    team_combos = list(set(selected_tracking_df.club.unique())-set([\"football\"]))\n",
    "    \n",
    "    color_orders = ColorPairs(team_combos[0],team_combos[1])\n",
    "    \n",
    "    # get play General information \n",
    "    line_of_scrimmage = np.where(selected_tracking_df.playDirection.values[0] == \"right\", selected_play_df.absoluteYardlineNumber.values[0], 120 - selected_play_df.absoluteYardlineNumber.values[0])\n",
    "    \n",
    "    ## Fixing first down marker issue from last year\n",
    "    if selected_tracking_df.playDirection.values[0] == \"right\":\n",
    "        first_down_marker = line_of_scrimmage - selected_play_df.yardsToGo.values[0]\n",
    "    else:\n",
    "        first_down_marker = line_of_scrimmage + selected_play_df.yardsToGo.values[0]\n",
    "    down = selected_play_df.down.values[0]\n",
    "    quarter = selected_play_df.quarter.values[0]\n",
    "    gameClock = selected_play_df.gameClock.values[0]\n",
    "    playDescription = selected_play_df.playDescription.values[0]\n",
    "    # Handle case where we have a really long Play Description and want to split it into two lines\n",
    "    if len(playDescription.split(\" \"))>15 and len(playDescription)>115:\n",
    "        playDescription = \" \".join(playDescription.split(\" \")[0:16]) + \"<br>\" + \" \".join(playDescription.split(\" \")[16:])\n",
    "\n",
    "    # initialize plotly start and stop buttons for animation\n",
    "    updatemenus_dict = [\n",
    "        {\n",
    "            \"buttons\": [\n",
    "                {\n",
    "                    \"args\": [None, {\"frame\": {\"duration\": 100, \"redraw\": False},\n",
    "                                \"fromcurrent\": True, \"transition\": {\"duration\": 0}}],\n",
    "                    \"label\": \"Play\",\n",
    "                    \"method\": \"animate\"\n",
    "                },\n",
    "                {\n",
    "                    \"args\": [[None], {\"frame\": {\"duration\": 0, \"redraw\": False},\n",
    "                                      \"mode\": \"immediate\",\n",
    "                                      \"transition\": {\"duration\": 0}}],\n",
    "                    \"label\": \"Pause\",\n",
    "                    \"method\": \"animate\"\n",
    "                }\n",
    "            ],\n",
    "            \"direction\": \"left\",\n",
    "            \"pad\": {\"r\": 10, \"t\": 87},\n",
    "            \"showactive\": False,\n",
    "            \"type\": \"buttons\",\n",
    "            \"x\": 0.1,\n",
    "            \"xanchor\": \"right\",\n",
    "            \"y\": 0,\n",
    "            \"yanchor\": \"top\"\n",
    "        }\n",
    "    ]\n",
    "    # initialize plotly slider to show frame position in animation\n",
    "    sliders_dict = {\n",
    "        \"active\": 0,\n",
    "        \"yanchor\": \"top\",\n",
    "        \"xanchor\": \"left\",\n",
    "        \"currentvalue\": {\n",
    "            \"font\": {\"size\": 20},\n",
    "            \"prefix\": \"Frame:\",\n",
    "            \"visible\": True,\n",
    "            \"xanchor\": \"right\"\n",
    "        },\n",
    "        \"transition\": {\"duration\": 10, \"easing\": \"cubic-in-out\"},\n",
    "        \"pad\": {\"b\": 10, \"t\": 50},\n",
    "        \"len\": 0.9,\n",
    "        \"x\": 0.1,\n",
    "        \"y\": 0,\n",
    "        \"steps\": []\n",
    "    }\n",
    "\n",
    "\n",
    "    frames = []\n",
    "    for frameId in sorted_frame_list:\n",
    "        data = []\n",
    "        # Add Numbers to Field \n",
    "        data.append(\n",
    "            go.Scatter(\n",
    "                y=np.arange(20,110,10), \n",
    "                x=[5]*len(np.arange(20,110,10)),\n",
    "                mode='text',\n",
    "                text=list(map(str,list(np.arange(20, 61, 10)-10)+list(np.arange(40, 9, -10)))),\n",
    "                textfont_size = 30,\n",
    "                textfont_family = \"Courier New, monospace\",\n",
    "                textfont_color = \"#ffffff\",\n",
    "                showlegend=False,\n",
    "                hoverinfo='none'\n",
    "            )\n",
    "        )\n",
    "        data.append(\n",
    "            go.Scatter(\n",
    "                y=np.arange(20,110,10), \n",
    "                x=[53.5-5]*len(np.arange(20,110,10)),\n",
    "                mode='text',\n",
    "                text=list(map(str,list(np.arange(20, 61, 10)-10)+list(np.arange(40, 9, -10)))),\n",
    "                textfont_size = 30,\n",
    "                textfont_family = \"Courier New, monospace\",\n",
    "                textfont_color = \"#ffffff\",\n",
    "                showlegend=False,\n",
    "                hoverinfo='none'\n",
    "            )\n",
    "        )\n",
    "        # Add line of scrimage \n",
    "        data.append(\n",
    "            go.Scatter(\n",
    "                y=[line_of_scrimmage,line_of_scrimmage], \n",
    "                x=[0,53.5],\n",
    "                line_dash='dash',\n",
    "                line_color='blue',\n",
    "                showlegend=False,\n",
    "                hoverinfo='none'\n",
    "            )\n",
    "        )\n",
    "        # # Add First down line \n",
    "        # data.append(\n",
    "        #     go.Scatter(\n",
    "        #         y=[first_down_marker,first_down_marker], \n",
    "        #         x=[0,53.5],\n",
    "        #         line_dash='dash',\n",
    "        #         line_color='yellow',\n",
    "        #         showlegend=False,\n",
    "        #         hoverinfo='none'\n",
    "        #     )\n",
    "        # )\n",
    "        # Add Endzone Colors \n",
    "        endzoneColors = {0:color_orders[selected_game_df.homeTeamAbbr.values[0]][0],\n",
    "                         110:color_orders[selected_game_df.visitorTeamAbbr.values[0]][0]}\n",
    "        for x_min in [0,110]:\n",
    "            data.append(\n",
    "                go.Scatter(\n",
    "                    y=[x_min,x_min,x_min+10,x_min+10,x_min],\n",
    "                    x=[0,53.5,53.5,0,0],\n",
    "                    fill=\"toself\",\n",
    "                    fillcolor=endzoneColors[x_min],\n",
    "                    mode=\"lines\",\n",
    "                    line=dict(\n",
    "                        color=\"white\",\n",
    "                        width=3\n",
    "                        ),\n",
    "                    opacity=1,\n",
    "                    showlegend= False,\n",
    "                    hoverinfo =\"skip\"\n",
    "                )\n",
    "            )\n",
    "        # Plot Players\n",
    "        # Note: references to \"x\" and \"y\" are using \"adjustedX\" and \"adjustedY\"\n",
    "        for team in selected_tracking_df.club.unique():\n",
    "            plot_df = selected_tracking_df[(selected_tracking_df.club==team)&(selected_tracking_df.frameId==frameId)].copy()\n",
    "            if team != \"football\":\n",
    "                hover_text_array=[]\n",
    "                for nflId in plot_df.nflId:\n",
    "                    selected_player_df = plot_df[plot_df.nflId==nflId]\n",
    "\n",
    "                    if selected_player_df.jerseyNumber.values[0] in highlighted_players:\n",
    "                        vision_cone = get_vision_cone_coordinates(selected_player_df)\n",
    "                        data.append(go.Scatter(\n",
    "                            x=vision_cone[0], y=vision_cone[1], mode='lines', line_shape='spline', fill='toself',  # Fill the area inside the polygon\n",
    "                            fillcolor='rgba(255,255,153,0.6)', line=dict(color='rgba(255,255,153,0)', width=2), showlegend=False)\n",
    "                        )\n",
    "                        data.append(go.Scatter(\n",
    "                            x=vision_cone[2], y=vision_cone[3], mode='lines', line_shape='spline', fill='toself',  # Fill the area inside the polygon\n",
    "                            fillcolor='rgba(255,255,153,0.6)', line=dict(color='rgba(255,255,153,0)', width=2), showlegend=False)\n",
    "                        )\n",
    "                    hover_text_array.append(\"nflId:{}<br>displayName:{}<br>\".format(selected_player_df[\"nflId\"].values[0],\n",
    "                                                                                      selected_player_df[\"displayName\"].values[0]))\n",
    "                data.append(go.Scatter(x=plot_df[\"x\"], y=plot_df[\"y\"],mode = 'markers',marker=go.scatter.Marker(\n",
    "                                                                                             color=color_orders[team][0],\n",
    "                                                                                             line=go.scatter.marker.Line(width=2,\n",
    "                                                                                                            color=color_orders[team][1]),\n",
    "                                                                                             size=10),\n",
    "                                        name=team,hovertext=hover_text_array,hoverinfo=\"text\"))\n",
    "            else:\n",
    "                data.append(go.Scatter(x=plot_df[\"x\"], y=plot_df[\"y\"],mode = 'markers',marker=go.scatter.Marker(\n",
    "                                                                                             color=color_orders[team][0],\n",
    "                                                                                             line=go.scatter.marker.Line(width=2,\n",
    "                                                                                                            color=color_orders[team][1]),\n",
    "                                                                                             size=10),\n",
    "                                        name=team,hoverinfo='none'))\n",
    "        # add frame to slider\n",
    "        slider_step = {\"args\": [\n",
    "            [frameId],\n",
    "            {\"frame\": {\"duration\": 100, \"redraw\": False},\n",
    "             \"mode\": \"immediate\",\n",
    "             \"transition\": {\"duration\": 0}}\n",
    "        ],\n",
    "            \"label\": str(frameId),\n",
    "            \"method\": \"animate\"}\n",
    "        sliders_dict[\"steps\"].append(slider_step)\n",
    "        frames.append(go.Frame(data=data, name=str(frameId)))\n",
    "\n",
    "    scale=10\n",
    "    layout = go.Layout(\n",
    "        autosize=False,\n",
    "        height=120*scale,\n",
    "        width=60*scale,\n",
    "        yaxis=dict(range=[0, 120], autorange=False, tickmode='array',tickvals=np.arange(10, 111, 5).tolist(),showticklabels=False),\n",
    "        xaxis=dict(range=[0, 53.3], autorange=False,showgrid=False,showticklabels=False),\n",
    "\n",
    "        plot_bgcolor='#00B140',\n",
    "        updatemenus=updatemenus_dict,\n",
    "        sliders = [sliders_dict]\n",
    "    )\n",
    "\n",
    "    fig = go.Figure(\n",
    "        data=frames[0][\"data\"],\n",
    "        layout= layout,\n",
    "        frames=frames[1:]\n",
    "    )\n",
    "    # # Create First Down Markers \n",
    "    # for y_val in [0,53]:\n",
    "    #     fig.add_annotation(\n",
    "    #             y=first_down_marker,\n",
    "    #             x=y_val,\n",
    "    #             text=str(down),\n",
    "    #             showarrow=False,\n",
    "    #             font=dict(\n",
    "    #                 family=\"Courier New, monospace\",\n",
    "    #                 size=16,\n",
    "    #                 color=\"black\"\n",
    "    #                 ),\n",
    "    #             align=\"center\",\n",
    "    #             bordercolor=\"black\",\n",
    "    #             borderwidth=2,\n",
    "    #             borderpad=4,\n",
    "    #             bgcolor=\"#ff7f0e\",\n",
    "    #             opacity=1\n",
    "    #             )\n",
    "    \n",
    "    # Add Team Abbreviations in EndZone's\n",
    "    for y_min in [0,110]:\n",
    "        if y_min == 0:\n",
    "            teamName=selected_game_df.homeTeamAbbr.values[0]\n",
    "        else:\n",
    "            teamName=selected_game_df.visitorTeamAbbr.values[0]\n",
    "            \n",
    "        fig.add_annotation(\n",
    "            y=y_min+5,\n",
    "            x=53.5/2,\n",
    "            text=teamName,\n",
    "            showarrow=False,\n",
    "            font=dict(\n",
    "                family=\"Courier New, monospace\",\n",
    "                size=32,\n",
    "                color=\"White\"\n",
    "                ),\n",
    "            textangle = 0\n",
    "        )\n",
    "        \n",
    "    buffer = 15\n",
    "    fb = selected_tracking_df[selected_tracking_df['club']=='football']\n",
    "    origin_fb_loc = fb.iloc[0]\n",
    "\n",
    "    max_diff = 0\n",
    "    if (abs(fb['x'].max()-origin_fb_loc['x']) > abs(fb['x'].min()-origin_fb_loc['x'])):\n",
    "        max_dff = abs(fb['x'].max()-origin_fb_loc['x'])\n",
    "    else:\n",
    "        max_diff = abs(fb['x'].min()-origin_fb_loc['x'])\n",
    "    return fig\n",
    "\n",
    "def get_vision_cone_coordinates(player):\n",
    "    import math\n",
    "    DIST = 3\n",
    "    DIST_MULTIPLIER = .95\n",
    "    ANGLE = 22.5\n",
    "\n",
    "    player_x = player['x'].iloc[0]\n",
    "    player_y = player['y'].iloc[0]\n",
    "    player_orientation = float(player['adjustedO'].iloc[0])\n",
    "\n",
    "    # bad design but it's ok for now\n",
    "    x_values = []\n",
    "    y_values = []\n",
    "    \n",
    "    x1_values = []\n",
    "    y1_values = []\n",
    "    \n",
    "    x1 = player_x + (DIST) * math.cos(math.radians(player_orientation+ANGLE))\n",
    "    y1 = player_y + (DIST) * math.sin(math.radians(player_orientation+ANGLE))\n",
    "\n",
    "    x2 = player_x + (DIST) * math.cos(math.radians(player_orientation-ANGLE))\n",
    "    y2 = player_y + (DIST) * math.sin(math.radians(player_orientation-ANGLE))\n",
    "\n",
    "    x1_with_multiplier = player_x + (DIST*DIST_MULTIPLIER) * math.cos(math.radians(player_orientation+ANGLE))\n",
    "    y1_with_multiplier = player_y + (DIST*DIST_MULTIPLIER) * math.sin(math.radians(player_orientation+ANGLE))\n",
    "    x2_with_multiplier = player_x + (DIST*DIST_MULTIPLIER) * math.cos(math.radians(player_orientation+ANGLE))\n",
    "    y2_with_multiplier = player_y + (DIST*DIST_MULTIPLIER) * math.sin(math.radians(player_orientation+ANGLE))\n",
    "\n",
    "    x1 = player_x + (DIST*DIST_MULTIPLIER) * math.cos(math.radians(player_orientation+ANGLE))\n",
    "    y1 = player_y + (DIST*DIST_MULTIPLIER) * math.sin(math.radians(player_orientation+ANGLE))\n",
    "\n",
    "    x3 = player_x + (DIST) * math.cos(math.radians(player_orientation))\n",
    "    y3 = player_y + (DIST) * math.sin(math.radians(player_orientation))\n",
    "\n",
    "    # print(\"hyp1: \", high_on_potenuse, \" player_orientation: \", player_orientation)\n",
    "    # print(\"player_x \", player_x, \" player_y \", player_y)\n",
    "    # print(\"x1: \", x1, \" y1: \", y1)\n",
    "    # print(\"x2: \", x2, \" y2: \", y2)\n",
    "\n",
    "    x_values.append(x1)\n",
    "    y_values.append(y1)\n",
    "\n",
    "    x_values.append(x3)\n",
    "    y_values.append(y3)\n",
    "    \n",
    "    x_values.append(x2)\n",
    "    y_values.append(y2)\n",
    "\n",
    "    x1_values.append(x1)\n",
    "    y1_values.append(y1)\n",
    "    x1_values.append(player_x)\n",
    "    y1_values.append(player_y)\n",
    "    x1_values.append(x2)\n",
    "    y1_values.append(y2)\n",
    "\n",
    "    # print(\"player: \", player_x, \", \", player_y)\n",
    "    # print(x3_values)\n",
    "    # print(y3_values)\n",
    "    \n",
    "    return (x_values, y_values, x1_values, y1_values)"
   ]
  },
  {
   "cell_type": "code",
   "execution_count": 62,
   "id": "05896289-4b73-476d-8553-4d5ddbd01086",
   "metadata": {},
   "outputs": [
    {
     "data": {
      "application/vnd.plotly.v1+json": {
       "config": {
        "plotlyServerURL": "https://plot.ly"
       },
       "data": [
        {
         "hoverinfo": "none",
         "mode": "text",
         "showlegend": false,
         "text": [
          "10",
          "20",
          "30",
          "40",
          "50",
          "40",
          "30",
          "20",
          "10"
         ],
         "textfont": {
          "color": "#ffffff",
          "family": "Courier New, monospace",
          "size": 30
         },
         "type": "scatter",
         "x": [
          5,
          5,
          5,
          5,
          5,
          5,
          5,
          5,
          5
         ],
         "y": [
          20,
          30,
          40,
          50,
          60,
          70,
          80,
          90,
          100
         ]
        },
        {
         "hoverinfo": "none",
         "mode": "text",
         "showlegend": false,
         "text": [
          "10",
          "20",
          "30",
          "40",
          "50",
          "40",
          "30",
          "20",
          "10"
         ],
         "textfont": {
          "color": "#ffffff",
          "family": "Courier New, monospace",
          "size": 30
         },
         "type": "scatter",
         "x": [
          48.5,
          48.5,
          48.5,
          48.5,
          48.5,
          48.5,
          48.5,
          48.5,
          48.5
         ],
         "y": [
          20,
          30,
          40,
          50,
          60,
          70,
          80,
          90,
          100
         ]
        },
        {
         "hoverinfo": "none",
         "line": {
          "color": "blue",
          "dash": "dash"
         },
         "showlegend": false,
         "type": "scatter",
         "x": [
          0,
          53.5
         ],
         "y": [
          83,
          83
         ]
        },
        {
         "fill": "toself",
         "fillcolor": "#000000",
         "hoverinfo": "skip",
         "line": {
          "color": "white",
          "width": 3
         },
         "mode": "lines",
         "opacity": 1,
         "showlegend": false,
         "type": "scatter",
         "x": [
          0,
          53.5,
          53.5,
          0,
          0
         ],
         "y": [
          0,
          0,
          10,
          10,
          0
         ]
        },
        {
         "fill": "toself",
         "fillcolor": "#241773",
         "hoverinfo": "skip",
         "line": {
          "color": "white",
          "width": 3
         },
         "mode": "lines",
         "opacity": 1,
         "showlegend": false,
         "type": "scatter",
         "x": [
          0,
          53.5,
          53.5,
          0,
          0
         ],
         "y": [
          110,
          110,
          120,
          120,
          110
         ]
        },
        {
         "hoverinfo": "text",
         "hovertext": [
          "nflId:33099<br>displayName:Joe Flacco<br>",
          "nflId:42371<br>displayName:Laken Tomlinson<br>",
          "nflId:43433<br>displayName:Connor McGovern<br>",
          "nflId:43586<br>displayName:George Fant<br>",
          "nflId:44817<br>displayName:Corey Davis<br>",
          "nflId:46226<br>displayName:Tyler Conklin<br>",
          "nflId:46279<br>displayName:Braxton Berrios<br>",
          "nflId:53443<br>displayName:Alijah Vera-Tucker<br>",
          "nflId:53463<br>displayName:Elijah Moore<br>",
          "nflId:53536<br>displayName:Michael Carter<br>",
          "nflId:54576<br>displayName:Max Mitchell<br>"
         ],
         "marker": {
          "color": "#000000",
          "line": {
           "color": "#125740",
           "width": 2
          },
          "size": 10
         },
         "mode": "markers",
         "name": "NYJ",
         "type": "scatter",
         "x": [
          23.609999999999996,
          20.939999999999998,
          24.779999999999998,
          24.709999999999997,
          19.75,
          19.729999999999997,
          44.44,
          22.009999999999998,
          41.97,
          21.14,
          27.83
         ],
         "y": [
          77.69,
          83.89,
          82.44,
          87.62,
          85.89,
          84.71,
          80.36,
          82.1,
          83.98,
          83.12,
          82.83
         ]
        },
        {
         "hoverinfo": "text",
         "hovertext": [
          "nflId:33131<br>displayName:Calais Campbell<br>",
          "nflId:37145<br>displayName:Justin Houston<br>",
          "nflId:37778<br>displayName:Josh Bynes<br>",
          "nflId:40095<br>displayName:Steven Means<br>",
          "nflId:41240<br>displayName:Kyle Fuller<br>",
          "nflId:43694<br>displayName:Michael Pierce<br>",
          "nflId:44828<br>displayName:Marlon Humphrey<br>",
          "nflId:44854<br>displayName:Marcus Williams<br>",
          "nflId:44999<br>displayName:Chuck Clark<br>",
          "nflId:52436<br>displayName:Patrick Queen<br>",
          "nflId:53533<br>displayName:Brandon Stephens<br>"
         ],
         "marker": {
          "color": "#241773",
          "line": {
           "color": "#000000",
           "width": 2
          },
          "size": 10
         },
         "mode": "markers",
         "name": "BAL",
         "type": "scatter",
         "x": [
          20.939999999999998,
          22.479999999999997,
          24.249999999999996,
          27.089999999999996,
          40.31999999999999,
          23.479999999999997,
          19.449999999999996,
          20.509999999999998,
          24.529999999999998,
          20.299999999999997,
          32.709999999999994
         ],
         "y": [
          85.54,
          83.36,
          87.95,
          83.39,
          86.68,
          82.07,
          88.48,
          85.6,
          94.05,
          85.12,
          91.8
         ]
        },
        {
         "hoverinfo": "none",
         "marker": {
          "color": "#CBB67C",
          "line": {
           "color": "#663831",
           "width": 2
          },
          "size": 10
         },
         "mode": "markers",
         "name": "football",
         "type": "scatter",
         "x": [
          21.020001220703094
         ],
         "y": [
          83.0899963378906
         ]
        }
       ],
       "frames": [
        {
         "data": [
          {
           "hoverinfo": "none",
           "mode": "text",
           "showlegend": false,
           "text": [
            "10",
            "20",
            "30",
            "40",
            "50",
            "40",
            "30",
            "20",
            "10"
           ],
           "textfont": {
            "color": "#ffffff",
            "family": "Courier New, monospace",
            "size": 30
           },
           "type": "scatter",
           "x": [
            5,
            5,
            5,
            5,
            5,
            5,
            5,
            5,
            5
           ],
           "y": [
            20,
            30,
            40,
            50,
            60,
            70,
            80,
            90,
            100
           ]
          },
          {
           "hoverinfo": "none",
           "mode": "text",
           "showlegend": false,
           "text": [
            "10",
            "20",
            "30",
            "40",
            "50",
            "40",
            "30",
            "20",
            "10"
           ],
           "textfont": {
            "color": "#ffffff",
            "family": "Courier New, monospace",
            "size": 30
           },
           "type": "scatter",
           "x": [
            48.5,
            48.5,
            48.5,
            48.5,
            48.5,
            48.5,
            48.5,
            48.5,
            48.5
           ],
           "y": [
            20,
            30,
            40,
            50,
            60,
            70,
            80,
            90,
            100
           ]
          },
          {
           "hoverinfo": "none",
           "line": {
            "color": "blue",
            "dash": "dash"
           },
           "showlegend": false,
           "type": "scatter",
           "x": [
            0,
            53.5
           ],
           "y": [
            83,
            83
           ]
          },
          {
           "fill": "toself",
           "fillcolor": "#000000",
           "hoverinfo": "skip",
           "line": {
            "color": "white",
            "width": 3
           },
           "mode": "lines",
           "opacity": 1,
           "showlegend": false,
           "type": "scatter",
           "x": [
            0,
            53.5,
            53.5,
            0,
            0
           ],
           "y": [
            0,
            0,
            10,
            10,
            0
           ]
          },
          {
           "fill": "toself",
           "fillcolor": "#241773",
           "hoverinfo": "skip",
           "line": {
            "color": "white",
            "width": 3
           },
           "mode": "lines",
           "opacity": 1,
           "showlegend": false,
           "type": "scatter",
           "x": [
            0,
            53.5,
            53.5,
            0,
            0
           ],
           "y": [
            110,
            110,
            120,
            120,
            110
           ]
          },
          {
           "hoverinfo": "text",
           "hovertext": [
            "nflId:33099<br>displayName:Joe Flacco<br>",
            "nflId:42371<br>displayName:Laken Tomlinson<br>",
            "nflId:43433<br>displayName:Connor McGovern<br>",
            "nflId:43586<br>displayName:George Fant<br>",
            "nflId:44817<br>displayName:Corey Davis<br>",
            "nflId:46226<br>displayName:Tyler Conklin<br>",
            "nflId:46279<br>displayName:Braxton Berrios<br>",
            "nflId:53443<br>displayName:Alijah Vera-Tucker<br>",
            "nflId:53463<br>displayName:Elijah Moore<br>",
            "nflId:53536<br>displayName:Michael Carter<br>",
            "nflId:54576<br>displayName:Max Mitchell<br>"
           ],
           "marker": {
            "color": "#000000",
            "line": {
             "color": "#125740",
             "width": 2
            },
            "size": 10
           },
           "mode": "markers",
           "name": "NYJ",
           "type": "scatter",
           "x": [
            23.549999999999997,
            21.839999999999996,
            23.459999999999997,
            20.379999999999995,
            15.449999999999996,
            18.57,
            36.06,
            25.169999999999998,
            34.099999999999994,
            25.389999999999997,
            26.679999999999996
           ],
           "y": [
            78.45,
            82.09,
            82.84,
            82.09,
            81.57,
            82.12,
            80.98,
            82.3,
            82.56,
            77.57,
            82.03
           ]
          },
          {
           "hoverinfo": "text",
           "hovertext": [
            "nflId:33131<br>displayName:Calais Campbell<br>",
            "nflId:37145<br>displayName:Justin Houston<br>",
            "nflId:37778<br>displayName:Josh Bynes<br>",
            "nflId:40095<br>displayName:Steven Means<br>",
            "nflId:41240<br>displayName:Kyle Fuller<br>",
            "nflId:43694<br>displayName:Michael Pierce<br>",
            "nflId:44828<br>displayName:Marlon Humphrey<br>",
            "nflId:44854<br>displayName:Marcus Williams<br>",
            "nflId:44999<br>displayName:Chuck Clark<br>",
            "nflId:52436<br>displayName:Patrick Queen<br>",
            "nflId:53533<br>displayName:Brandon Stephens<br>"
           ],
           "marker": {
            "color": "#241773",
            "line": {
             "color": "#000000",
             "width": 2
            },
            "size": 10
           },
           "mode": "markers",
           "name": "BAL",
           "type": "scatter",
           "x": [
            21.529999999999998,
            17.43,
            25.81,
            28.97,
            36.08,
            25.199999999999996,
            13.939999999999998,
            17.599999999999994,
            30.199999999999996,
            22.259999999999998,
            35.209999999999994
           ],
           "y": [
            83.96,
            83.6,
            87.61,
            84.05,
            84.07,
            84.17,
            90.14,
            89.14,
            95.86,
            87.26,
            89.74
           ]
          },
          {
           "hoverinfo": "none",
           "marker": {
            "color": "#CBB67C",
            "line": {
             "color": "#663831",
             "width": 2
            },
            "size": 10
           },
           "mode": "markers",
           "name": "football",
           "type": "scatter",
           "x": [
            23.580000686645498
           ],
           "y": [
            82.8499984741211
           ]
          }
         ],
         "name": "2"
        },
        {
         "data": [
          {
           "hoverinfo": "none",
           "mode": "text",
           "showlegend": false,
           "text": [
            "10",
            "20",
            "30",
            "40",
            "50",
            "40",
            "30",
            "20",
            "10"
           ],
           "textfont": {
            "color": "#ffffff",
            "family": "Courier New, monospace",
            "size": 30
           },
           "type": "scatter",
           "x": [
            5,
            5,
            5,
            5,
            5,
            5,
            5,
            5,
            5
           ],
           "y": [
            20,
            30,
            40,
            50,
            60,
            70,
            80,
            90,
            100
           ]
          },
          {
           "hoverinfo": "none",
           "mode": "text",
           "showlegend": false,
           "text": [
            "10",
            "20",
            "30",
            "40",
            "50",
            "40",
            "30",
            "20",
            "10"
           ],
           "textfont": {
            "color": "#ffffff",
            "family": "Courier New, monospace",
            "size": 30
           },
           "type": "scatter",
           "x": [
            48.5,
            48.5,
            48.5,
            48.5,
            48.5,
            48.5,
            48.5,
            48.5,
            48.5
           ],
           "y": [
            20,
            30,
            40,
            50,
            60,
            70,
            80,
            90,
            100
           ]
          },
          {
           "hoverinfo": "none",
           "line": {
            "color": "blue",
            "dash": "dash"
           },
           "showlegend": false,
           "type": "scatter",
           "x": [
            0,
            53.5
           ],
           "y": [
            83,
            83
           ]
          },
          {
           "fill": "toself",
           "fillcolor": "#000000",
           "hoverinfo": "skip",
           "line": {
            "color": "white",
            "width": 3
           },
           "mode": "lines",
           "opacity": 1,
           "showlegend": false,
           "type": "scatter",
           "x": [
            0,
            53.5,
            53.5,
            0,
            0
           ],
           "y": [
            0,
            0,
            10,
            10,
            0
           ]
          },
          {
           "fill": "toself",
           "fillcolor": "#241773",
           "hoverinfo": "skip",
           "line": {
            "color": "white",
            "width": 3
           },
           "mode": "lines",
           "opacity": 1,
           "showlegend": false,
           "type": "scatter",
           "x": [
            0,
            53.5,
            53.5,
            0,
            0
           ],
           "y": [
            110,
            110,
            120,
            120,
            110
           ]
          },
          {
           "hoverinfo": "text",
           "hovertext": [
            "nflId:33099<br>displayName:Joe Flacco<br>",
            "nflId:42371<br>displayName:Laken Tomlinson<br>",
            "nflId:43433<br>displayName:Connor McGovern<br>",
            "nflId:43586<br>displayName:George Fant<br>",
            "nflId:44817<br>displayName:Corey Davis<br>",
            "nflId:46226<br>displayName:Tyler Conklin<br>",
            "nflId:46279<br>displayName:Braxton Berrios<br>",
            "nflId:53443<br>displayName:Alijah Vera-Tucker<br>",
            "nflId:53463<br>displayName:Elijah Moore<br>",
            "nflId:53536<br>displayName:Michael Carter<br>",
            "nflId:54576<br>displayName:Max Mitchell<br>"
           ],
           "marker": {
            "color": "#000000",
            "line": {
             "color": "#125740",
             "width": 2
            },
            "size": 10
           },
           "mode": "markers",
           "name": "NYJ",
           "type": "scatter",
           "x": [
            23.549999999999997,
            21.839999999999996,
            23.459999999999997,
            20.39,
            15.449999999999996,
            18.61,
            36.06,
            25.169999999999998,
            34.099999999999994,
            25.389999999999997,
            26.679999999999996
           ],
           "y": [
            78.45,
            82.09,
            82.84,
            82.1,
            81.57,
            82.13,
            80.98,
            82.29,
            82.56,
            77.57,
            82.03
           ]
          },
          {
           "hoverinfo": "text",
           "hovertext": [
            "nflId:33131<br>displayName:Calais Campbell<br>",
            "nflId:37145<br>displayName:Justin Houston<br>",
            "nflId:37778<br>displayName:Josh Bynes<br>",
            "nflId:40095<br>displayName:Steven Means<br>",
            "nflId:41240<br>displayName:Kyle Fuller<br>",
            "nflId:43694<br>displayName:Michael Pierce<br>",
            "nflId:44828<br>displayName:Marlon Humphrey<br>",
            "nflId:44854<br>displayName:Marcus Williams<br>",
            "nflId:44999<br>displayName:Chuck Clark<br>",
            "nflId:52436<br>displayName:Patrick Queen<br>",
            "nflId:53533<br>displayName:Brandon Stephens<br>"
           ],
           "marker": {
            "color": "#241773",
            "line": {
             "color": "#000000",
             "width": 2
            },
            "size": 10
           },
           "mode": "markers",
           "name": "BAL",
           "type": "scatter",
           "x": [
            21.519999999999996,
            17.449999999999996,
            25.819999999999997,
            28.959999999999997,
            36.11,
            24.97,
            13.979999999999997,
            17.589999999999996,
            30.159999999999997,
            22.259999999999998,
            35.23
           ],
           "y": [
            83.96,
            83.58,
            87.63,
            84.06,
            84.05,
            84.18,
            90.25,
            88.95,
            96.01,
            87.23,
            89.85
           ]
          },
          {
           "hoverinfo": "none",
           "marker": {
            "color": "#CBB67C",
            "line": {
             "color": "#663831",
             "width": 2
            },
            "size": 10
           },
           "mode": "markers",
           "name": "football",
           "type": "scatter",
           "x": [
            23.580000686645498
           ],
           "y": [
            82.8499984741211
           ]
          }
         ],
         "name": "3"
        },
        {
         "data": [
          {
           "hoverinfo": "none",
           "mode": "text",
           "showlegend": false,
           "text": [
            "10",
            "20",
            "30",
            "40",
            "50",
            "40",
            "30",
            "20",
            "10"
           ],
           "textfont": {
            "color": "#ffffff",
            "family": "Courier New, monospace",
            "size": 30
           },
           "type": "scatter",
           "x": [
            5,
            5,
            5,
            5,
            5,
            5,
            5,
            5,
            5
           ],
           "y": [
            20,
            30,
            40,
            50,
            60,
            70,
            80,
            90,
            100
           ]
          },
          {
           "hoverinfo": "none",
           "mode": "text",
           "showlegend": false,
           "text": [
            "10",
            "20",
            "30",
            "40",
            "50",
            "40",
            "30",
            "20",
            "10"
           ],
           "textfont": {
            "color": "#ffffff",
            "family": "Courier New, monospace",
            "size": 30
           },
           "type": "scatter",
           "x": [
            48.5,
            48.5,
            48.5,
            48.5,
            48.5,
            48.5,
            48.5,
            48.5,
            48.5
           ],
           "y": [
            20,
            30,
            40,
            50,
            60,
            70,
            80,
            90,
            100
           ]
          },
          {
           "hoverinfo": "none",
           "line": {
            "color": "blue",
            "dash": "dash"
           },
           "showlegend": false,
           "type": "scatter",
           "x": [
            0,
            53.5
           ],
           "y": [
            83,
            83
           ]
          },
          {
           "fill": "toself",
           "fillcolor": "#000000",
           "hoverinfo": "skip",
           "line": {
            "color": "white",
            "width": 3
           },
           "mode": "lines",
           "opacity": 1,
           "showlegend": false,
           "type": "scatter",
           "x": [
            0,
            53.5,
            53.5,
            0,
            0
           ],
           "y": [
            0,
            0,
            10,
            10,
            0
           ]
          },
          {
           "fill": "toself",
           "fillcolor": "#241773",
           "hoverinfo": "skip",
           "line": {
            "color": "white",
            "width": 3
           },
           "mode": "lines",
           "opacity": 1,
           "showlegend": false,
           "type": "scatter",
           "x": [
            0,
            53.5,
            53.5,
            0,
            0
           ],
           "y": [
            110,
            110,
            120,
            120,
            110
           ]
          },
          {
           "hoverinfo": "text",
           "hovertext": [
            "nflId:33099<br>displayName:Joe Flacco<br>",
            "nflId:42371<br>displayName:Laken Tomlinson<br>",
            "nflId:43433<br>displayName:Connor McGovern<br>",
            "nflId:43586<br>displayName:George Fant<br>",
            "nflId:44817<br>displayName:Corey Davis<br>",
            "nflId:46226<br>displayName:Tyler Conklin<br>",
            "nflId:46279<br>displayName:Braxton Berrios<br>",
            "nflId:53443<br>displayName:Alijah Vera-Tucker<br>",
            "nflId:53463<br>displayName:Elijah Moore<br>",
            "nflId:53536<br>displayName:Michael Carter<br>",
            "nflId:54576<br>displayName:Max Mitchell<br>"
           ],
           "marker": {
            "color": "#000000",
            "line": {
             "color": "#125740",
             "width": 2
            },
            "size": 10
           },
           "mode": "markers",
           "name": "NYJ",
           "type": "scatter",
           "x": [
            23.549999999999997,
            21.839999999999996,
            23.47,
            20.4,
            15.439999999999998,
            18.629999999999995,
            36.06,
            25.159999999999997,
            34.099999999999994,
            25.379999999999995,
            26.689999999999998
           ],
           "y": [
            78.45,
            82.09,
            82.84,
            82.1,
            81.58,
            82.13,
            80.98,
            82.29,
            82.56,
            77.56,
            82.03
           ]
          },
          {
           "hoverinfo": "text",
           "hovertext": [
            "nflId:33131<br>displayName:Calais Campbell<br>",
            "nflId:37145<br>displayName:Justin Houston<br>",
            "nflId:37778<br>displayName:Josh Bynes<br>",
            "nflId:40095<br>displayName:Steven Means<br>",
            "nflId:41240<br>displayName:Kyle Fuller<br>",
            "nflId:43694<br>displayName:Michael Pierce<br>",
            "nflId:44828<br>displayName:Marlon Humphrey<br>",
            "nflId:44854<br>displayName:Marcus Williams<br>",
            "nflId:44999<br>displayName:Chuck Clark<br>",
            "nflId:52436<br>displayName:Patrick Queen<br>",
            "nflId:53533<br>displayName:Brandon Stephens<br>"
           ],
           "marker": {
            "color": "#241773",
            "line": {
             "color": "#000000",
             "width": 2
            },
            "size": 10
           },
           "mode": "markers",
           "name": "BAL",
           "type": "scatter",
           "x": [
            21.509999999999998,
            17.489999999999995,
            25.81,
            28.97,
            36.15,
            24.949999999999996,
            14.029999999999994,
            17.589999999999996,
            30.089999999999996,
            22.259999999999998,
            35.26
           ],
           "y": [
            83.96,
            83.57,
            87.67,
            84.05,
            84.04,
            84.15,
            90.35,
            88.77,
            96.17,
            87.2,
            89.96
           ]
          },
          {
           "hoverinfo": "none",
           "marker": {
            "color": "#CBB67C",
            "line": {
             "color": "#663831",
             "width": 2
            },
            "size": 10
           },
           "mode": "markers",
           "name": "football",
           "type": "scatter",
           "x": [
            23.580000686645498
           ],
           "y": [
            82.8499984741211
           ]
          }
         ],
         "name": "4"
        },
        {
         "data": [
          {
           "hoverinfo": "none",
           "mode": "text",
           "showlegend": false,
           "text": [
            "10",
            "20",
            "30",
            "40",
            "50",
            "40",
            "30",
            "20",
            "10"
           ],
           "textfont": {
            "color": "#ffffff",
            "family": "Courier New, monospace",
            "size": 30
           },
           "type": "scatter",
           "x": [
            5,
            5,
            5,
            5,
            5,
            5,
            5,
            5,
            5
           ],
           "y": [
            20,
            30,
            40,
            50,
            60,
            70,
            80,
            90,
            100
           ]
          },
          {
           "hoverinfo": "none",
           "mode": "text",
           "showlegend": false,
           "text": [
            "10",
            "20",
            "30",
            "40",
            "50",
            "40",
            "30",
            "20",
            "10"
           ],
           "textfont": {
            "color": "#ffffff",
            "family": "Courier New, monospace",
            "size": 30
           },
           "type": "scatter",
           "x": [
            48.5,
            48.5,
            48.5,
            48.5,
            48.5,
            48.5,
            48.5,
            48.5,
            48.5
           ],
           "y": [
            20,
            30,
            40,
            50,
            60,
            70,
            80,
            90,
            100
           ]
          },
          {
           "hoverinfo": "none",
           "line": {
            "color": "blue",
            "dash": "dash"
           },
           "showlegend": false,
           "type": "scatter",
           "x": [
            0,
            53.5
           ],
           "y": [
            83,
            83
           ]
          },
          {
           "fill": "toself",
           "fillcolor": "#000000",
           "hoverinfo": "skip",
           "line": {
            "color": "white",
            "width": 3
           },
           "mode": "lines",
           "opacity": 1,
           "showlegend": false,
           "type": "scatter",
           "x": [
            0,
            53.5,
            53.5,
            0,
            0
           ],
           "y": [
            0,
            0,
            10,
            10,
            0
           ]
          },
          {
           "fill": "toself",
           "fillcolor": "#241773",
           "hoverinfo": "skip",
           "line": {
            "color": "white",
            "width": 3
           },
           "mode": "lines",
           "opacity": 1,
           "showlegend": false,
           "type": "scatter",
           "x": [
            0,
            53.5,
            53.5,
            0,
            0
           ],
           "y": [
            110,
            110,
            120,
            120,
            110
           ]
          },
          {
           "hoverinfo": "text",
           "hovertext": [
            "nflId:33099<br>displayName:Joe Flacco<br>",
            "nflId:42371<br>displayName:Laken Tomlinson<br>",
            "nflId:43433<br>displayName:Connor McGovern<br>",
            "nflId:43586<br>displayName:George Fant<br>",
            "nflId:44817<br>displayName:Corey Davis<br>",
            "nflId:46226<br>displayName:Tyler Conklin<br>",
            "nflId:46279<br>displayName:Braxton Berrios<br>",
            "nflId:53443<br>displayName:Alijah Vera-Tucker<br>",
            "nflId:53463<br>displayName:Elijah Moore<br>",
            "nflId:53536<br>displayName:Michael Carter<br>",
            "nflId:54576<br>displayName:Max Mitchell<br>"
           ],
           "marker": {
            "color": "#000000",
            "line": {
             "color": "#125740",
             "width": 2
            },
            "size": 10
           },
           "mode": "markers",
           "name": "NYJ",
           "type": "scatter",
           "x": [
            23.549999999999997,
            21.839999999999996,
            23.49,
            20.409999999999997,
            15.439999999999998,
            18.64,
            36.06,
            25.15,
            34.099999999999994,
            25.369999999999997,
            26.689999999999998
           ],
           "y": [
            78.45,
            82.1,
            82.84,
            82.11,
            81.57,
            82.14,
            80.98,
            82.27,
            82.56,
            77.57,
            82.04
           ]
          },
          {
           "hoverinfo": "text",
           "hovertext": [
            "nflId:33131<br>displayName:Calais Campbell<br>",
            "nflId:37145<br>displayName:Justin Houston<br>",
            "nflId:37778<br>displayName:Josh Bynes<br>",
            "nflId:40095<br>displayName:Steven Means<br>",
            "nflId:41240<br>displayName:Kyle Fuller<br>",
            "nflId:43694<br>displayName:Michael Pierce<br>",
            "nflId:44828<br>displayName:Marlon Humphrey<br>",
            "nflId:44854<br>displayName:Marcus Williams<br>",
            "nflId:44999<br>displayName:Chuck Clark<br>",
            "nflId:52436<br>displayName:Patrick Queen<br>",
            "nflId:53533<br>displayName:Brandon Stephens<br>"
           ],
           "marker": {
            "color": "#241773",
            "line": {
             "color": "#000000",
             "width": 2
            },
            "size": 10
           },
           "mode": "markers",
           "name": "BAL",
           "type": "scatter",
           "x": [
            21.519999999999996,
            17.529999999999994,
            25.769999999999996,
            28.97,
            36.17,
            24.889999999999997,
            14.059999999999995,
            17.58,
            29.99,
            22.249999999999996,
            35.28999999999999
           ],
           "y": [
            84.01,
            83.52,
            87.7,
            84.04,
            84.03,
            84.13,
            90.46,
            88.59,
            96.36,
            87.18,
            90.07
           ]
          },
          {
           "hoverinfo": "none",
           "marker": {
            "color": "#CBB67C",
            "line": {
             "color": "#663831",
             "width": 2
            },
            "size": 10
           },
           "mode": "markers",
           "name": "football",
           "type": "scatter",
           "x": [
            23.580000686645498
           ],
           "y": [
            82.8499984741211
           ]
          }
         ],
         "name": "5"
        },
        {
         "data": [
          {
           "hoverinfo": "none",
           "mode": "text",
           "showlegend": false,
           "text": [
            "10",
            "20",
            "30",
            "40",
            "50",
            "40",
            "30",
            "20",
            "10"
           ],
           "textfont": {
            "color": "#ffffff",
            "family": "Courier New, monospace",
            "size": 30
           },
           "type": "scatter",
           "x": [
            5,
            5,
            5,
            5,
            5,
            5,
            5,
            5,
            5
           ],
           "y": [
            20,
            30,
            40,
            50,
            60,
            70,
            80,
            90,
            100
           ]
          },
          {
           "hoverinfo": "none",
           "mode": "text",
           "showlegend": false,
           "text": [
            "10",
            "20",
            "30",
            "40",
            "50",
            "40",
            "30",
            "20",
            "10"
           ],
           "textfont": {
            "color": "#ffffff",
            "family": "Courier New, monospace",
            "size": 30
           },
           "type": "scatter",
           "x": [
            48.5,
            48.5,
            48.5,
            48.5,
            48.5,
            48.5,
            48.5,
            48.5,
            48.5
           ],
           "y": [
            20,
            30,
            40,
            50,
            60,
            70,
            80,
            90,
            100
           ]
          },
          {
           "hoverinfo": "none",
           "line": {
            "color": "blue",
            "dash": "dash"
           },
           "showlegend": false,
           "type": "scatter",
           "x": [
            0,
            53.5
           ],
           "y": [
            83,
            83
           ]
          },
          {
           "fill": "toself",
           "fillcolor": "#000000",
           "hoverinfo": "skip",
           "line": {
            "color": "white",
            "width": 3
           },
           "mode": "lines",
           "opacity": 1,
           "showlegend": false,
           "type": "scatter",
           "x": [
            0,
            53.5,
            53.5,
            0,
            0
           ],
           "y": [
            0,
            0,
            10,
            10,
            0
           ]
          },
          {
           "fill": "toself",
           "fillcolor": "#241773",
           "hoverinfo": "skip",
           "line": {
            "color": "white",
            "width": 3
           },
           "mode": "lines",
           "opacity": 1,
           "showlegend": false,
           "type": "scatter",
           "x": [
            0,
            53.5,
            53.5,
            0,
            0
           ],
           "y": [
            110,
            110,
            120,
            120,
            110
           ]
          },
          {
           "hoverinfo": "text",
           "hovertext": [
            "nflId:33099<br>displayName:Joe Flacco<br>",
            "nflId:42371<br>displayName:Laken Tomlinson<br>",
            "nflId:43433<br>displayName:Connor McGovern<br>",
            "nflId:43586<br>displayName:George Fant<br>",
            "nflId:44817<br>displayName:Corey Davis<br>",
            "nflId:46226<br>displayName:Tyler Conklin<br>",
            "nflId:46279<br>displayName:Braxton Berrios<br>",
            "nflId:53443<br>displayName:Alijah Vera-Tucker<br>",
            "nflId:53463<br>displayName:Elijah Moore<br>",
            "nflId:53536<br>displayName:Michael Carter<br>",
            "nflId:54576<br>displayName:Max Mitchell<br>"
           ],
           "marker": {
            "color": "#000000",
            "line": {
             "color": "#125740",
             "width": 2
            },
            "size": 10
           },
           "mode": "markers",
           "name": "NYJ",
           "type": "scatter",
           "x": [
            23.539999999999996,
            21.889999999999997,
            23.529999999999998,
            20.43,
            15.439999999999998,
            18.739999999999995,
            36.06,
            25.089999999999996,
            34.099999999999994,
            25.389999999999997,
            26.709999999999997
           ],
           "y": [
            78.44,
            82.15,
            82.84,
            82.14,
            81.57,
            82.16,
            80.97,
            82.24,
            82.56,
            77.59,
            82.04
           ]
          },
          {
           "hoverinfo": "text",
           "hovertext": [
            "nflId:33131<br>displayName:Calais Campbell<br>",
            "nflId:37145<br>displayName:Justin Houston<br>",
            "nflId:37778<br>displayName:Josh Bynes<br>",
            "nflId:40095<br>displayName:Steven Means<br>",
            "nflId:41240<br>displayName:Kyle Fuller<br>",
            "nflId:43694<br>displayName:Michael Pierce<br>",
            "nflId:44828<br>displayName:Marlon Humphrey<br>",
            "nflId:44854<br>displayName:Marcus Williams<br>",
            "nflId:44999<br>displayName:Chuck Clark<br>",
            "nflId:52436<br>displayName:Patrick Queen<br>",
            "nflId:53533<br>displayName:Brandon Stephens<br>"
           ],
           "marker": {
            "color": "#241773",
            "line": {
             "color": "#000000",
             "width": 2
            },
            "size": 10
           },
           "mode": "markers",
           "name": "BAL",
           "type": "scatter",
           "x": [
            21.589999999999996,
            17.58,
            25.72,
            28.959999999999997,
            36.22,
            24.859999999999996,
            14.099999999999994,
            17.58,
            29.879999999999995,
            22.22,
            35.339999999999996
           ],
           "y": [
            84,
            83.47,
            87.73,
            84.01,
            84.02,
            84.07,
            90.56,
            88.41,
            96.56,
            87.12,
            90.18
           ]
          },
          {
           "hoverinfo": "none",
           "marker": {
            "color": "#CBB67C",
            "line": {
             "color": "#663831",
             "width": 2
            },
            "size": 10
           },
           "mode": "markers",
           "name": "football",
           "type": "scatter",
           "x": [
            23.599999237060498
           ],
           "y": [
            82.8300018310547
           ]
          }
         ],
         "name": "6"
        },
        {
         "data": [
          {
           "hoverinfo": "none",
           "mode": "text",
           "showlegend": false,
           "text": [
            "10",
            "20",
            "30",
            "40",
            "50",
            "40",
            "30",
            "20",
            "10"
           ],
           "textfont": {
            "color": "#ffffff",
            "family": "Courier New, monospace",
            "size": 30
           },
           "type": "scatter",
           "x": [
            5,
            5,
            5,
            5,
            5,
            5,
            5,
            5,
            5
           ],
           "y": [
            20,
            30,
            40,
            50,
            60,
            70,
            80,
            90,
            100
           ]
          },
          {
           "hoverinfo": "none",
           "mode": "text",
           "showlegend": false,
           "text": [
            "10",
            "20",
            "30",
            "40",
            "50",
            "40",
            "30",
            "20",
            "10"
           ],
           "textfont": {
            "color": "#ffffff",
            "family": "Courier New, monospace",
            "size": 30
           },
           "type": "scatter",
           "x": [
            48.5,
            48.5,
            48.5,
            48.5,
            48.5,
            48.5,
            48.5,
            48.5,
            48.5
           ],
           "y": [
            20,
            30,
            40,
            50,
            60,
            70,
            80,
            90,
            100
           ]
          },
          {
           "hoverinfo": "none",
           "line": {
            "color": "blue",
            "dash": "dash"
           },
           "showlegend": false,
           "type": "scatter",
           "x": [
            0,
            53.5
           ],
           "y": [
            83,
            83
           ]
          },
          {
           "fill": "toself",
           "fillcolor": "#000000",
           "hoverinfo": "skip",
           "line": {
            "color": "white",
            "width": 3
           },
           "mode": "lines",
           "opacity": 1,
           "showlegend": false,
           "type": "scatter",
           "x": [
            0,
            53.5,
            53.5,
            0,
            0
           ],
           "y": [
            0,
            0,
            10,
            10,
            0
           ]
          },
          {
           "fill": "toself",
           "fillcolor": "#241773",
           "hoverinfo": "skip",
           "line": {
            "color": "white",
            "width": 3
           },
           "mode": "lines",
           "opacity": 1,
           "showlegend": false,
           "type": "scatter",
           "x": [
            0,
            53.5,
            53.5,
            0,
            0
           ],
           "y": [
            110,
            110,
            120,
            120,
            110
           ]
          },
          {
           "hoverinfo": "text",
           "hovertext": [
            "nflId:33099<br>displayName:Joe Flacco<br>",
            "nflId:42371<br>displayName:Laken Tomlinson<br>",
            "nflId:43433<br>displayName:Connor McGovern<br>",
            "nflId:43586<br>displayName:George Fant<br>",
            "nflId:44817<br>displayName:Corey Davis<br>",
            "nflId:46226<br>displayName:Tyler Conklin<br>",
            "nflId:46279<br>displayName:Braxton Berrios<br>",
            "nflId:53443<br>displayName:Alijah Vera-Tucker<br>",
            "nflId:53463<br>displayName:Elijah Moore<br>",
            "nflId:53536<br>displayName:Michael Carter<br>",
            "nflId:54576<br>displayName:Max Mitchell<br>"
           ],
           "marker": {
            "color": "#000000",
            "line": {
             "color": "#125740",
             "width": 2
            },
            "size": 10
           },
           "mode": "markers",
           "name": "NYJ",
           "type": "scatter",
           "x": [
            23.539999999999996,
            21.919999999999998,
            23.589999999999996,
            20.479999999999997,
            15.439999999999998,
            18.839999999999996,
            36.06999999999999,
            25.009999999999998,
            34.12,
            25.359999999999996,
            26.759999999999998
           ],
           "y": [
            78.44,
            82.2,
            82.85,
            82.2,
            81.58,
            82.23,
            80.97,
            82.19,
            82.56,
            77.6,
            82.04
           ]
          },
          {
           "hoverinfo": "text",
           "hovertext": [
            "nflId:33131<br>displayName:Calais Campbell<br>",
            "nflId:37145<br>displayName:Justin Houston<br>",
            "nflId:37778<br>displayName:Josh Bynes<br>",
            "nflId:40095<br>displayName:Steven Means<br>",
            "nflId:41240<br>displayName:Kyle Fuller<br>",
            "nflId:43694<br>displayName:Michael Pierce<br>",
            "nflId:44828<br>displayName:Marlon Humphrey<br>",
            "nflId:44854<br>displayName:Marcus Williams<br>",
            "nflId:44999<br>displayName:Chuck Clark<br>",
            "nflId:52436<br>displayName:Patrick Queen<br>",
            "nflId:53533<br>displayName:Brandon Stephens<br>"
           ],
           "marker": {
            "color": "#241773",
            "line": {
             "color": "#000000",
             "width": 2
            },
            "size": 10
           },
           "mode": "markers",
           "name": "BAL",
           "type": "scatter",
           "x": [
            21.639999999999997,
            17.65,
            25.679999999999996,
            28.959999999999997,
            36.239999999999995,
            24.83,
            14.119999999999997,
            17.58,
            29.749999999999996,
            22.199999999999996,
            35.379999999999995
           ],
           "y": [
            83.99,
            83.4,
            87.74,
            83.99,
            84.01,
            84.04,
            90.67,
            88.24,
            96.77,
            87.1,
            90.3
           ]
          },
          {
           "hoverinfo": "none",
           "marker": {
            "color": "#CBB67C",
            "line": {
             "color": "#663831",
             "width": 2
            },
            "size": 10
           },
           "mode": "markers",
           "name": "football",
           "type": "scatter",
           "x": [
            23.609999465942398
           ],
           "y": [
            82.2099990844727
           ]
          }
         ],
         "name": "7"
        },
        {
         "data": [
          {
           "hoverinfo": "none",
           "mode": "text",
           "showlegend": false,
           "text": [
            "10",
            "20",
            "30",
            "40",
            "50",
            "40",
            "30",
            "20",
            "10"
           ],
           "textfont": {
            "color": "#ffffff",
            "family": "Courier New, monospace",
            "size": 30
           },
           "type": "scatter",
           "x": [
            5,
            5,
            5,
            5,
            5,
            5,
            5,
            5,
            5
           ],
           "y": [
            20,
            30,
            40,
            50,
            60,
            70,
            80,
            90,
            100
           ]
          },
          {
           "hoverinfo": "none",
           "mode": "text",
           "showlegend": false,
           "text": [
            "10",
            "20",
            "30",
            "40",
            "50",
            "40",
            "30",
            "20",
            "10"
           ],
           "textfont": {
            "color": "#ffffff",
            "family": "Courier New, monospace",
            "size": 30
           },
           "type": "scatter",
           "x": [
            48.5,
            48.5,
            48.5,
            48.5,
            48.5,
            48.5,
            48.5,
            48.5,
            48.5
           ],
           "y": [
            20,
            30,
            40,
            50,
            60,
            70,
            80,
            90,
            100
           ]
          },
          {
           "hoverinfo": "none",
           "line": {
            "color": "blue",
            "dash": "dash"
           },
           "showlegend": false,
           "type": "scatter",
           "x": [
            0,
            53.5
           ],
           "y": [
            83,
            83
           ]
          },
          {
           "fill": "toself",
           "fillcolor": "#000000",
           "hoverinfo": "skip",
           "line": {
            "color": "white",
            "width": 3
           },
           "mode": "lines",
           "opacity": 1,
           "showlegend": false,
           "type": "scatter",
           "x": [
            0,
            53.5,
            53.5,
            0,
            0
           ],
           "y": [
            0,
            0,
            10,
            10,
            0
           ]
          },
          {
           "fill": "toself",
           "fillcolor": "#241773",
           "hoverinfo": "skip",
           "line": {
            "color": "white",
            "width": 3
           },
           "mode": "lines",
           "opacity": 1,
           "showlegend": false,
           "type": "scatter",
           "x": [
            0,
            53.5,
            53.5,
            0,
            0
           ],
           "y": [
            110,
            110,
            120,
            120,
            110
           ]
          },
          {
           "hoverinfo": "text",
           "hovertext": [
            "nflId:33099<br>displayName:Joe Flacco<br>",
            "nflId:42371<br>displayName:Laken Tomlinson<br>",
            "nflId:43433<br>displayName:Connor McGovern<br>",
            "nflId:43586<br>displayName:George Fant<br>",
            "nflId:44817<br>displayName:Corey Davis<br>",
            "nflId:46226<br>displayName:Tyler Conklin<br>",
            "nflId:46279<br>displayName:Braxton Berrios<br>",
            "nflId:53443<br>displayName:Alijah Vera-Tucker<br>",
            "nflId:53463<br>displayName:Elijah Moore<br>",
            "nflId:53536<br>displayName:Michael Carter<br>",
            "nflId:54576<br>displayName:Max Mitchell<br>"
           ],
           "marker": {
            "color": "#000000",
            "line": {
             "color": "#125740",
             "width": 2
            },
            "size": 10
           },
           "mode": "markers",
           "name": "NYJ",
           "type": "scatter",
           "x": [
            23.539999999999996,
            21.959999999999997,
            23.65,
            20.549999999999997,
            15.439999999999998,
            18.939999999999998,
            36.089999999999996,
            24.889999999999997,
            34.129999999999995,
            25.339999999999996,
            26.83
           ],
           "y": [
            78.44,
            82.32,
            82.87,
            82.28,
            81.58,
            82.26,
            80.97,
            82.13,
            82.56,
            77.61,
            82.04
           ]
          },
          {
           "hoverinfo": "text",
           "hovertext": [
            "nflId:33131<br>displayName:Calais Campbell<br>",
            "nflId:37145<br>displayName:Justin Houston<br>",
            "nflId:37778<br>displayName:Josh Bynes<br>",
            "nflId:40095<br>displayName:Steven Means<br>",
            "nflId:41240<br>displayName:Kyle Fuller<br>",
            "nflId:43694<br>displayName:Michael Pierce<br>",
            "nflId:44828<br>displayName:Marlon Humphrey<br>",
            "nflId:44854<br>displayName:Marcus Williams<br>",
            "nflId:44999<br>displayName:Chuck Clark<br>",
            "nflId:52436<br>displayName:Patrick Queen<br>",
            "nflId:53533<br>displayName:Brandon Stephens<br>"
           ],
           "marker": {
            "color": "#241773",
            "line": {
             "color": "#000000",
             "width": 2
            },
            "size": 10
           },
           "mode": "markers",
           "name": "BAL",
           "type": "scatter",
           "x": [
            21.699999999999996,
            17.699999999999996,
            25.629999999999995,
            28.949999999999996,
            36.26,
            24.789999999999996,
            14.159999999999997,
            17.58,
            29.599999999999998,
            22.169999999999998,
            35.44
           ],
           "y": [
            84,
            83.3,
            87.72,
            83.97,
            83.99,
            84.02,
            90.78,
            88.07,
            97,
            87.06,
            90.42
           ]
          },
          {
           "hoverinfo": "none",
           "marker": {
            "color": "#CBB67C",
            "line": {
             "color": "#663831",
             "width": 2
            },
            "size": 10
           },
           "mode": "markers",
           "name": "football",
           "type": "scatter",
           "x": [
            23.6600006103516
           ],
           "y": [
            81.6100006103516
           ]
          }
         ],
         "name": "8"
        },
        {
         "data": [
          {
           "hoverinfo": "none",
           "mode": "text",
           "showlegend": false,
           "text": [
            "10",
            "20",
            "30",
            "40",
            "50",
            "40",
            "30",
            "20",
            "10"
           ],
           "textfont": {
            "color": "#ffffff",
            "family": "Courier New, monospace",
            "size": 30
           },
           "type": "scatter",
           "x": [
            5,
            5,
            5,
            5,
            5,
            5,
            5,
            5,
            5
           ],
           "y": [
            20,
            30,
            40,
            50,
            60,
            70,
            80,
            90,
            100
           ]
          },
          {
           "hoverinfo": "none",
           "mode": "text",
           "showlegend": false,
           "text": [
            "10",
            "20",
            "30",
            "40",
            "50",
            "40",
            "30",
            "20",
            "10"
           ],
           "textfont": {
            "color": "#ffffff",
            "family": "Courier New, monospace",
            "size": 30
           },
           "type": "scatter",
           "x": [
            48.5,
            48.5,
            48.5,
            48.5,
            48.5,
            48.5,
            48.5,
            48.5,
            48.5
           ],
           "y": [
            20,
            30,
            40,
            50,
            60,
            70,
            80,
            90,
            100
           ]
          },
          {
           "hoverinfo": "none",
           "line": {
            "color": "blue",
            "dash": "dash"
           },
           "showlegend": false,
           "type": "scatter",
           "x": [
            0,
            53.5
           ],
           "y": [
            83,
            83
           ]
          },
          {
           "fill": "toself",
           "fillcolor": "#000000",
           "hoverinfo": "skip",
           "line": {
            "color": "white",
            "width": 3
           },
           "mode": "lines",
           "opacity": 1,
           "showlegend": false,
           "type": "scatter",
           "x": [
            0,
            53.5,
            53.5,
            0,
            0
           ],
           "y": [
            0,
            0,
            10,
            10,
            0
           ]
          },
          {
           "fill": "toself",
           "fillcolor": "#241773",
           "hoverinfo": "skip",
           "line": {
            "color": "white",
            "width": 3
           },
           "mode": "lines",
           "opacity": 1,
           "showlegend": false,
           "type": "scatter",
           "x": [
            0,
            53.5,
            53.5,
            0,
            0
           ],
           "y": [
            110,
            110,
            120,
            120,
            110
           ]
          },
          {
           "hoverinfo": "text",
           "hovertext": [
            "nflId:33099<br>displayName:Joe Flacco<br>",
            "nflId:42371<br>displayName:Laken Tomlinson<br>",
            "nflId:43433<br>displayName:Connor McGovern<br>",
            "nflId:43586<br>displayName:George Fant<br>",
            "nflId:44817<br>displayName:Corey Davis<br>",
            "nflId:46226<br>displayName:Tyler Conklin<br>",
            "nflId:46279<br>displayName:Braxton Berrios<br>",
            "nflId:53443<br>displayName:Alijah Vera-Tucker<br>",
            "nflId:53463<br>displayName:Elijah Moore<br>",
            "nflId:53536<br>displayName:Michael Carter<br>",
            "nflId:54576<br>displayName:Max Mitchell<br>"
           ],
           "marker": {
            "color": "#000000",
            "line": {
             "color": "#125740",
             "width": 2
            },
            "size": 10
           },
           "mode": "markers",
           "name": "NYJ",
           "type": "scatter",
           "x": [
            23.539999999999996,
            22.029999999999998,
            23.72,
            20.659999999999997,
            15.469999999999999,
            19.049999999999997,
            36.099999999999994,
            24.74,
            34.16,
            25.289999999999996,
            26.939999999999998
           ],
           "y": [
            78.44,
            82.46,
            82.89,
            82.41,
            81.62,
            82.31,
            80.97,
            82.07,
            82.56,
            77.63,
            82.04
           ]
          },
          {
           "hoverinfo": "text",
           "hovertext": [
            "nflId:33131<br>displayName:Calais Campbell<br>",
            "nflId:37145<br>displayName:Justin Houston<br>",
            "nflId:37778<br>displayName:Josh Bynes<br>",
            "nflId:40095<br>displayName:Steven Means<br>",
            "nflId:41240<br>displayName:Kyle Fuller<br>",
            "nflId:43694<br>displayName:Michael Pierce<br>",
            "nflId:44828<br>displayName:Marlon Humphrey<br>",
            "nflId:44854<br>displayName:Marcus Williams<br>",
            "nflId:44999<br>displayName:Chuck Clark<br>",
            "nflId:52436<br>displayName:Patrick Queen<br>",
            "nflId:53533<br>displayName:Brandon Stephens<br>"
           ],
           "marker": {
            "color": "#241773",
            "line": {
             "color": "#000000",
             "width": 2
            },
            "size": 10
           },
           "mode": "markers",
           "name": "BAL",
           "type": "scatter",
           "x": [
            21.759999999999998,
            17.759999999999998,
            25.569999999999997,
            28.939999999999998,
            36.31,
            24.749999999999996,
            14.189999999999998,
            17.58,
            29.429999999999996,
            22.139999999999997,
            35.519999999999996
           ],
           "y": [
            84,
            83.19,
            87.72,
            83.92,
            83.89,
            83.98,
            90.88,
            87.92,
            97.25,
            87.03,
            90.54
           ]
          },
          {
           "hoverinfo": "none",
           "marker": {
            "color": "#CBB67C",
            "line": {
             "color": "#663831",
             "width": 2
            },
            "size": 10
           },
           "mode": "markers",
           "name": "football",
           "type": "scatter",
           "x": [
            23.699999618530295
           ],
           "y": [
            81.0199966430664
           ]
          }
         ],
         "name": "9"
        },
        {
         "data": [
          {
           "hoverinfo": "none",
           "mode": "text",
           "showlegend": false,
           "text": [
            "10",
            "20",
            "30",
            "40",
            "50",
            "40",
            "30",
            "20",
            "10"
           ],
           "textfont": {
            "color": "#ffffff",
            "family": "Courier New, monospace",
            "size": 30
           },
           "type": "scatter",
           "x": [
            5,
            5,
            5,
            5,
            5,
            5,
            5,
            5,
            5
           ],
           "y": [
            20,
            30,
            40,
            50,
            60,
            70,
            80,
            90,
            100
           ]
          },
          {
           "hoverinfo": "none",
           "mode": "text",
           "showlegend": false,
           "text": [
            "10",
            "20",
            "30",
            "40",
            "50",
            "40",
            "30",
            "20",
            "10"
           ],
           "textfont": {
            "color": "#ffffff",
            "family": "Courier New, monospace",
            "size": 30
           },
           "type": "scatter",
           "x": [
            48.5,
            48.5,
            48.5,
            48.5,
            48.5,
            48.5,
            48.5,
            48.5,
            48.5
           ],
           "y": [
            20,
            30,
            40,
            50,
            60,
            70,
            80,
            90,
            100
           ]
          },
          {
           "hoverinfo": "none",
           "line": {
            "color": "blue",
            "dash": "dash"
           },
           "showlegend": false,
           "type": "scatter",
           "x": [
            0,
            53.5
           ],
           "y": [
            83,
            83
           ]
          },
          {
           "fill": "toself",
           "fillcolor": "#000000",
           "hoverinfo": "skip",
           "line": {
            "color": "white",
            "width": 3
           },
           "mode": "lines",
           "opacity": 1,
           "showlegend": false,
           "type": "scatter",
           "x": [
            0,
            53.5,
            53.5,
            0,
            0
           ],
           "y": [
            0,
            0,
            10,
            10,
            0
           ]
          },
          {
           "fill": "toself",
           "fillcolor": "#241773",
           "hoverinfo": "skip",
           "line": {
            "color": "white",
            "width": 3
           },
           "mode": "lines",
           "opacity": 1,
           "showlegend": false,
           "type": "scatter",
           "x": [
            0,
            53.5,
            53.5,
            0,
            0
           ],
           "y": [
            110,
            110,
            120,
            120,
            110
           ]
          },
          {
           "hoverinfo": "text",
           "hovertext": [
            "nflId:33099<br>displayName:Joe Flacco<br>",
            "nflId:42371<br>displayName:Laken Tomlinson<br>",
            "nflId:43433<br>displayName:Connor McGovern<br>",
            "nflId:43586<br>displayName:George Fant<br>",
            "nflId:44817<br>displayName:Corey Davis<br>",
            "nflId:46226<br>displayName:Tyler Conklin<br>",
            "nflId:46279<br>displayName:Braxton Berrios<br>",
            "nflId:53443<br>displayName:Alijah Vera-Tucker<br>",
            "nflId:53463<br>displayName:Elijah Moore<br>",
            "nflId:53536<br>displayName:Michael Carter<br>",
            "nflId:54576<br>displayName:Max Mitchell<br>"
           ],
           "marker": {
            "color": "#000000",
            "line": {
             "color": "#125740",
             "width": 2
            },
            "size": 10
           },
           "mode": "markers",
           "name": "NYJ",
           "type": "scatter",
           "x": [
            23.529999999999998,
            22.099999999999998,
            23.789999999999996,
            20.79,
            15.519999999999996,
            19.18,
            36.12,
            24.529999999999998,
            34.199999999999996,
            25.259999999999998,
            27.069999999999997
           ],
           "y": [
            78.44,
            82.6,
            82.9,
            82.57,
            81.66,
            82.38,
            80.96,
            82.01,
            82.57,
            77.65,
            82.03
           ]
          },
          {
           "hoverinfo": "text",
           "hovertext": [
            "nflId:33131<br>displayName:Calais Campbell<br>",
            "nflId:37145<br>displayName:Justin Houston<br>",
            "nflId:37778<br>displayName:Josh Bynes<br>",
            "nflId:40095<br>displayName:Steven Means<br>",
            "nflId:41240<br>displayName:Kyle Fuller<br>",
            "nflId:43694<br>displayName:Michael Pierce<br>",
            "nflId:44828<br>displayName:Marlon Humphrey<br>",
            "nflId:44854<br>displayName:Marcus Williams<br>",
            "nflId:44999<br>displayName:Chuck Clark<br>",
            "nflId:52436<br>displayName:Patrick Queen<br>",
            "nflId:53533<br>displayName:Brandon Stephens<br>"
           ],
           "marker": {
            "color": "#241773",
            "line": {
             "color": "#000000",
             "width": 2
            },
            "size": 10
           },
           "mode": "markers",
           "name": "BAL",
           "type": "scatter",
           "x": [
            21.839999999999996,
            17.89,
            25.529999999999998,
            28.929999999999996,
            36.349999999999994,
            24.689999999999998,
            14.229999999999997,
            17.58,
            29.249999999999996,
            22.08,
            35.629999999999995
           ],
           "y": [
            84,
            83.06,
            87.65,
            83.82,
            83.83,
            83.92,
            90.99,
            87.78,
            97.52,
            86.97,
            90.67
           ]
          },
          {
           "hoverinfo": "none",
           "marker": {
            "color": "#CBB67C",
            "line": {
             "color": "#663831",
             "width": 2
            },
            "size": 10
           },
           "mode": "markers",
           "name": "football",
           "type": "scatter",
           "x": [
            23.759999084472696
           ],
           "y": [
            80.4400024414062
           ]
          }
         ],
         "name": "10"
        },
        {
         "data": [
          {
           "hoverinfo": "none",
           "mode": "text",
           "showlegend": false,
           "text": [
            "10",
            "20",
            "30",
            "40",
            "50",
            "40",
            "30",
            "20",
            "10"
           ],
           "textfont": {
            "color": "#ffffff",
            "family": "Courier New, monospace",
            "size": 30
           },
           "type": "scatter",
           "x": [
            5,
            5,
            5,
            5,
            5,
            5,
            5,
            5,
            5
           ],
           "y": [
            20,
            30,
            40,
            50,
            60,
            70,
            80,
            90,
            100
           ]
          },
          {
           "hoverinfo": "none",
           "mode": "text",
           "showlegend": false,
           "text": [
            "10",
            "20",
            "30",
            "40",
            "50",
            "40",
            "30",
            "20",
            "10"
           ],
           "textfont": {
            "color": "#ffffff",
            "family": "Courier New, monospace",
            "size": 30
           },
           "type": "scatter",
           "x": [
            48.5,
            48.5,
            48.5,
            48.5,
            48.5,
            48.5,
            48.5,
            48.5,
            48.5
           ],
           "y": [
            20,
            30,
            40,
            50,
            60,
            70,
            80,
            90,
            100
           ]
          },
          {
           "hoverinfo": "none",
           "line": {
            "color": "blue",
            "dash": "dash"
           },
           "showlegend": false,
           "type": "scatter",
           "x": [
            0,
            53.5
           ],
           "y": [
            83,
            83
           ]
          },
          {
           "fill": "toself",
           "fillcolor": "#000000",
           "hoverinfo": "skip",
           "line": {
            "color": "white",
            "width": 3
           },
           "mode": "lines",
           "opacity": 1,
           "showlegend": false,
           "type": "scatter",
           "x": [
            0,
            53.5,
            53.5,
            0,
            0
           ],
           "y": [
            0,
            0,
            10,
            10,
            0
           ]
          },
          {
           "fill": "toself",
           "fillcolor": "#241773",
           "hoverinfo": "skip",
           "line": {
            "color": "white",
            "width": 3
           },
           "mode": "lines",
           "opacity": 1,
           "showlegend": false,
           "type": "scatter",
           "x": [
            0,
            53.5,
            53.5,
            0,
            0
           ],
           "y": [
            110,
            110,
            120,
            120,
            110
           ]
          },
          {
           "hoverinfo": "text",
           "hovertext": [
            "nflId:33099<br>displayName:Joe Flacco<br>",
            "nflId:42371<br>displayName:Laken Tomlinson<br>",
            "nflId:43433<br>displayName:Connor McGovern<br>",
            "nflId:43586<br>displayName:George Fant<br>",
            "nflId:44817<br>displayName:Corey Davis<br>",
            "nflId:46226<br>displayName:Tyler Conklin<br>",
            "nflId:46279<br>displayName:Braxton Berrios<br>",
            "nflId:53443<br>displayName:Alijah Vera-Tucker<br>",
            "nflId:53463<br>displayName:Elijah Moore<br>",
            "nflId:53536<br>displayName:Michael Carter<br>",
            "nflId:54576<br>displayName:Max Mitchell<br>"
           ],
           "marker": {
            "color": "#000000",
            "line": {
             "color": "#125740",
             "width": 2
            },
            "size": 10
           },
           "mode": "markers",
           "name": "NYJ",
           "type": "scatter",
           "x": [
            23.519999999999996,
            22.189999999999998,
            23.839999999999996,
            20.949999999999996,
            15.61,
            19.239999999999995,
            36.19,
            24.279999999999998,
            34.3,
            25.199999999999996,
            27.22
           ],
           "y": [
            78.44,
            82.74,
            82.91,
            82.76,
            81.73,
            82.41,
            80.96,
            81.95,
            82.58,
            77.68,
            82.01
           ]
          },
          {
           "hoverinfo": "text",
           "hovertext": [
            "nflId:33131<br>displayName:Calais Campbell<br>",
            "nflId:37145<br>displayName:Justin Houston<br>",
            "nflId:37778<br>displayName:Josh Bynes<br>",
            "nflId:40095<br>displayName:Steven Means<br>",
            "nflId:41240<br>displayName:Kyle Fuller<br>",
            "nflId:43694<br>displayName:Michael Pierce<br>",
            "nflId:44828<br>displayName:Marlon Humphrey<br>",
            "nflId:44854<br>displayName:Marcus Williams<br>",
            "nflId:44999<br>displayName:Chuck Clark<br>",
            "nflId:52436<br>displayName:Patrick Queen<br>",
            "nflId:53533<br>displayName:Brandon Stephens<br>"
           ],
           "marker": {
            "color": "#241773",
            "line": {
             "color": "#000000",
             "width": 2
            },
            "size": 10
           },
           "mode": "markers",
           "name": "BAL",
           "type": "scatter",
           "x": [
            21.929999999999996,
            18.049999999999997,
            25.529999999999998,
            28.929999999999996,
            36.4,
            24.599999999999998,
            14.239999999999995,
            17.589999999999996,
            29.069999999999997,
            22.009999999999998,
            35.76
           ],
           "y": [
            84.01,
            82.91,
            87.56,
            83.66,
            83.74,
            83.84,
            91.1,
            87.65,
            97.81,
            86.9,
            90.81
           ]
          },
          {
           "hoverinfo": "none",
           "marker": {
            "color": "#CBB67C",
            "line": {
             "color": "#663831",
             "width": 2
            },
            "size": 10
           },
           "mode": "markers",
           "name": "football",
           "type": "scatter",
           "x": [
            23.8400009155273
           ],
           "y": [
            79.9100036621094
           ]
          }
         ],
         "name": "11"
        },
        {
         "data": [
          {
           "hoverinfo": "none",
           "mode": "text",
           "showlegend": false,
           "text": [
            "10",
            "20",
            "30",
            "40",
            "50",
            "40",
            "30",
            "20",
            "10"
           ],
           "textfont": {
            "color": "#ffffff",
            "family": "Courier New, monospace",
            "size": 30
           },
           "type": "scatter",
           "x": [
            5,
            5,
            5,
            5,
            5,
            5,
            5,
            5,
            5
           ],
           "y": [
            20,
            30,
            40,
            50,
            60,
            70,
            80,
            90,
            100
           ]
          },
          {
           "hoverinfo": "none",
           "mode": "text",
           "showlegend": false,
           "text": [
            "10",
            "20",
            "30",
            "40",
            "50",
            "40",
            "30",
            "20",
            "10"
           ],
           "textfont": {
            "color": "#ffffff",
            "family": "Courier New, monospace",
            "size": 30
           },
           "type": "scatter",
           "x": [
            48.5,
            48.5,
            48.5,
            48.5,
            48.5,
            48.5,
            48.5,
            48.5,
            48.5
           ],
           "y": [
            20,
            30,
            40,
            50,
            60,
            70,
            80,
            90,
            100
           ]
          },
          {
           "hoverinfo": "none",
           "line": {
            "color": "blue",
            "dash": "dash"
           },
           "showlegend": false,
           "type": "scatter",
           "x": [
            0,
            53.5
           ],
           "y": [
            83,
            83
           ]
          },
          {
           "fill": "toself",
           "fillcolor": "#000000",
           "hoverinfo": "skip",
           "line": {
            "color": "white",
            "width": 3
           },
           "mode": "lines",
           "opacity": 1,
           "showlegend": false,
           "type": "scatter",
           "x": [
            0,
            53.5,
            53.5,
            0,
            0
           ],
           "y": [
            0,
            0,
            10,
            10,
            0
           ]
          },
          {
           "fill": "toself",
           "fillcolor": "#241773",
           "hoverinfo": "skip",
           "line": {
            "color": "white",
            "width": 3
           },
           "mode": "lines",
           "opacity": 1,
           "showlegend": false,
           "type": "scatter",
           "x": [
            0,
            53.5,
            53.5,
            0,
            0
           ],
           "y": [
            110,
            110,
            120,
            120,
            110
           ]
          },
          {
           "hoverinfo": "text",
           "hovertext": [
            "nflId:33099<br>displayName:Joe Flacco<br>",
            "nflId:42371<br>displayName:Laken Tomlinson<br>",
            "nflId:43433<br>displayName:Connor McGovern<br>",
            "nflId:43586<br>displayName:George Fant<br>",
            "nflId:44817<br>displayName:Corey Davis<br>",
            "nflId:46226<br>displayName:Tyler Conklin<br>",
            "nflId:46279<br>displayName:Braxton Berrios<br>",
            "nflId:53443<br>displayName:Alijah Vera-Tucker<br>",
            "nflId:53463<br>displayName:Elijah Moore<br>",
            "nflId:53536<br>displayName:Michael Carter<br>",
            "nflId:54576<br>displayName:Max Mitchell<br>"
           ],
           "marker": {
            "color": "#000000",
            "line": {
             "color": "#125740",
             "width": 2
            },
            "size": 10
           },
           "mode": "markers",
           "name": "NYJ",
           "type": "scatter",
           "x": [
            23.509999999999998,
            22.289999999999996,
            23.879999999999995,
            21.119999999999997,
            15.709999999999994,
            19.339999999999996,
            36.31999999999999,
            24.019999999999996,
            34.47,
            25.169999999999998,
            27.379999999999995
           ],
           "y": [
            78.45,
            82.89,
            82.91,
            82.95,
            81.82,
            82.45,
            80.94,
            81.9,
            82.59,
            77.71,
            81.98
           ]
          },
          {
           "hoverinfo": "text",
           "hovertext": [
            "nflId:33131<br>displayName:Calais Campbell<br>",
            "nflId:37145<br>displayName:Justin Houston<br>",
            "nflId:37778<br>displayName:Josh Bynes<br>",
            "nflId:40095<br>displayName:Steven Means<br>",
            "nflId:41240<br>displayName:Kyle Fuller<br>",
            "nflId:43694<br>displayName:Michael Pierce<br>",
            "nflId:44828<br>displayName:Marlon Humphrey<br>",
            "nflId:44854<br>displayName:Marcus Williams<br>",
            "nflId:44999<br>displayName:Chuck Clark<br>",
            "nflId:52436<br>displayName:Patrick Queen<br>",
            "nflId:53533<br>displayName:Brandon Stephens<br>"
           ],
           "marker": {
            "color": "#241773",
            "line": {
             "color": "#000000",
             "width": 2
            },
            "size": 10
           },
           "mode": "markers",
           "name": "BAL",
           "type": "scatter",
           "x": [
            22.029999999999998,
            18.209999999999994,
            25.479999999999997,
            28.939999999999998,
            36.47,
            24.509999999999998,
            14.269999999999996,
            17.61,
            28.869999999999997,
            21.9,
            35.91
           ],
           "y": [
            84.02,
            82.74,
            87.51,
            83.45,
            83.64,
            83.75,
            91.2,
            87.53,
            98.1,
            86.78,
            90.95
           ]
          },
          {
           "hoverinfo": "none",
           "marker": {
            "color": "#CBB67C",
            "line": {
             "color": "#663831",
             "width": 2
            },
            "size": 10
           },
           "mode": "markers",
           "name": "football",
           "type": "scatter",
           "x": [
            23.9299991607666
           ],
           "y": [
            79.4400024414062
           ]
          }
         ],
         "name": "12"
        },
        {
         "data": [
          {
           "hoverinfo": "none",
           "mode": "text",
           "showlegend": false,
           "text": [
            "10",
            "20",
            "30",
            "40",
            "50",
            "40",
            "30",
            "20",
            "10"
           ],
           "textfont": {
            "color": "#ffffff",
            "family": "Courier New, monospace",
            "size": 30
           },
           "type": "scatter",
           "x": [
            5,
            5,
            5,
            5,
            5,
            5,
            5,
            5,
            5
           ],
           "y": [
            20,
            30,
            40,
            50,
            60,
            70,
            80,
            90,
            100
           ]
          },
          {
           "hoverinfo": "none",
           "mode": "text",
           "showlegend": false,
           "text": [
            "10",
            "20",
            "30",
            "40",
            "50",
            "40",
            "30",
            "20",
            "10"
           ],
           "textfont": {
            "color": "#ffffff",
            "family": "Courier New, monospace",
            "size": 30
           },
           "type": "scatter",
           "x": [
            48.5,
            48.5,
            48.5,
            48.5,
            48.5,
            48.5,
            48.5,
            48.5,
            48.5
           ],
           "y": [
            20,
            30,
            40,
            50,
            60,
            70,
            80,
            90,
            100
           ]
          },
          {
           "hoverinfo": "none",
           "line": {
            "color": "blue",
            "dash": "dash"
           },
           "showlegend": false,
           "type": "scatter",
           "x": [
            0,
            53.5
           ],
           "y": [
            83,
            83
           ]
          },
          {
           "fill": "toself",
           "fillcolor": "#000000",
           "hoverinfo": "skip",
           "line": {
            "color": "white",
            "width": 3
           },
           "mode": "lines",
           "opacity": 1,
           "showlegend": false,
           "type": "scatter",
           "x": [
            0,
            53.5,
            53.5,
            0,
            0
           ],
           "y": [
            0,
            0,
            10,
            10,
            0
           ]
          },
          {
           "fill": "toself",
           "fillcolor": "#241773",
           "hoverinfo": "skip",
           "line": {
            "color": "white",
            "width": 3
           },
           "mode": "lines",
           "opacity": 1,
           "showlegend": false,
           "type": "scatter",
           "x": [
            0,
            53.5,
            53.5,
            0,
            0
           ],
           "y": [
            110,
            110,
            120,
            120,
            110
           ]
          },
          {
           "hoverinfo": "text",
           "hovertext": [
            "nflId:33099<br>displayName:Joe Flacco<br>",
            "nflId:42371<br>displayName:Laken Tomlinson<br>",
            "nflId:43433<br>displayName:Connor McGovern<br>",
            "nflId:43586<br>displayName:George Fant<br>",
            "nflId:44817<br>displayName:Corey Davis<br>",
            "nflId:46226<br>displayName:Tyler Conklin<br>",
            "nflId:46279<br>displayName:Braxton Berrios<br>",
            "nflId:53443<br>displayName:Alijah Vera-Tucker<br>",
            "nflId:53463<br>displayName:Elijah Moore<br>",
            "nflId:53536<br>displayName:Michael Carter<br>",
            "nflId:54576<br>displayName:Max Mitchell<br>"
           ],
           "marker": {
            "color": "#000000",
            "line": {
             "color": "#125740",
             "width": 2
            },
            "size": 10
           },
           "mode": "markers",
           "name": "NYJ",
           "type": "scatter",
           "x": [
            23.499999999999996,
            22.389999999999997,
            23.879999999999995,
            21.299999999999997,
            15.849999999999994,
            19.459999999999994,
            36.5,
            23.729999999999997,
            34.709999999999994,
            25.08,
            27.549999999999997
           ],
           "y": [
            78.45,
            83.02,
            82.9,
            83.15,
            81.94,
            82.58,
            80.93,
            81.86,
            82.59,
            77.78,
            81.94
           ]
          },
          {
           "hoverinfo": "text",
           "hovertext": [
            "nflId:33131<br>displayName:Calais Campbell<br>",
            "nflId:37145<br>displayName:Justin Houston<br>",
            "nflId:37778<br>displayName:Josh Bynes<br>",
            "nflId:40095<br>displayName:Steven Means<br>",
            "nflId:41240<br>displayName:Kyle Fuller<br>",
            "nflId:43694<br>displayName:Michael Pierce<br>",
            "nflId:44828<br>displayName:Marlon Humphrey<br>",
            "nflId:44854<br>displayName:Marcus Williams<br>",
            "nflId:44999<br>displayName:Chuck Clark<br>",
            "nflId:52436<br>displayName:Patrick Queen<br>",
            "nflId:53533<br>displayName:Brandon Stephens<br>"
           ],
           "marker": {
            "color": "#241773",
            "line": {
             "color": "#000000",
             "width": 2
            },
            "size": 10
           },
           "mode": "markers",
           "name": "BAL",
           "type": "scatter",
           "x": [
            22.189999999999998,
            18.419999999999995,
            25.449999999999996,
            28.959999999999997,
            36.55,
            24.429999999999996,
            14.299999999999997,
            17.64,
            28.689999999999998,
            21.759999999999998,
            36.08
           ],
           "y": [
            84.01,
            82.57,
            87.44,
            83.21,
            83.53,
            83.65,
            91.31,
            87.41,
            98.41,
            86.63,
            91.1
           ]
          },
          {
           "hoverinfo": "none",
           "marker": {
            "color": "#CBB67C",
            "line": {
             "color": "#663831",
             "width": 2
            },
            "size": 10
           },
           "mode": "markers",
           "name": "football",
           "type": "scatter",
           "x": [
            24.000000762939496
           ],
           "y": [
            79.0800018310547
           ]
          }
         ],
         "name": "13"
        },
        {
         "data": [
          {
           "hoverinfo": "none",
           "mode": "text",
           "showlegend": false,
           "text": [
            "10",
            "20",
            "30",
            "40",
            "50",
            "40",
            "30",
            "20",
            "10"
           ],
           "textfont": {
            "color": "#ffffff",
            "family": "Courier New, monospace",
            "size": 30
           },
           "type": "scatter",
           "x": [
            5,
            5,
            5,
            5,
            5,
            5,
            5,
            5,
            5
           ],
           "y": [
            20,
            30,
            40,
            50,
            60,
            70,
            80,
            90,
            100
           ]
          },
          {
           "hoverinfo": "none",
           "mode": "text",
           "showlegend": false,
           "text": [
            "10",
            "20",
            "30",
            "40",
            "50",
            "40",
            "30",
            "20",
            "10"
           ],
           "textfont": {
            "color": "#ffffff",
            "family": "Courier New, monospace",
            "size": 30
           },
           "type": "scatter",
           "x": [
            48.5,
            48.5,
            48.5,
            48.5,
            48.5,
            48.5,
            48.5,
            48.5,
            48.5
           ],
           "y": [
            20,
            30,
            40,
            50,
            60,
            70,
            80,
            90,
            100
           ]
          },
          {
           "hoverinfo": "none",
           "line": {
            "color": "blue",
            "dash": "dash"
           },
           "showlegend": false,
           "type": "scatter",
           "x": [
            0,
            53.5
           ],
           "y": [
            83,
            83
           ]
          },
          {
           "fill": "toself",
           "fillcolor": "#000000",
           "hoverinfo": "skip",
           "line": {
            "color": "white",
            "width": 3
           },
           "mode": "lines",
           "opacity": 1,
           "showlegend": false,
           "type": "scatter",
           "x": [
            0,
            53.5,
            53.5,
            0,
            0
           ],
           "y": [
            0,
            0,
            10,
            10,
            0
           ]
          },
          {
           "fill": "toself",
           "fillcolor": "#241773",
           "hoverinfo": "skip",
           "line": {
            "color": "white",
            "width": 3
           },
           "mode": "lines",
           "opacity": 1,
           "showlegend": false,
           "type": "scatter",
           "x": [
            0,
            53.5,
            53.5,
            0,
            0
           ],
           "y": [
            110,
            110,
            120,
            120,
            110
           ]
          },
          {
           "hoverinfo": "text",
           "hovertext": [
            "nflId:33099<br>displayName:Joe Flacco<br>",
            "nflId:42371<br>displayName:Laken Tomlinson<br>",
            "nflId:43433<br>displayName:Connor McGovern<br>",
            "nflId:43586<br>displayName:George Fant<br>",
            "nflId:44817<br>displayName:Corey Davis<br>",
            "nflId:46226<br>displayName:Tyler Conklin<br>",
            "nflId:46279<br>displayName:Braxton Berrios<br>",
            "nflId:53443<br>displayName:Alijah Vera-Tucker<br>",
            "nflId:53463<br>displayName:Elijah Moore<br>",
            "nflId:53536<br>displayName:Michael Carter<br>",
            "nflId:54576<br>displayName:Max Mitchell<br>"
           ],
           "marker": {
            "color": "#000000",
            "line": {
             "color": "#125740",
             "width": 2
            },
            "size": 10
           },
           "mode": "markers",
           "name": "NYJ",
           "type": "scatter",
           "x": [
            23.479999999999997,
            22.519999999999996,
            23.869999999999997,
            21.479999999999997,
            16.019999999999996,
            19.61,
            36.75,
            23.4,
            35,
            24.949999999999996,
            27.729999999999997
           ],
           "y": [
            78.44,
            83.14,
            82.89,
            83.36,
            82.08,
            82.75,
            80.91,
            81.82,
            82.59,
            77.9,
            81.88
           ]
          },
          {
           "hoverinfo": "text",
           "hovertext": [
            "nflId:33131<br>displayName:Calais Campbell<br>",
            "nflId:37145<br>displayName:Justin Houston<br>",
            "nflId:37778<br>displayName:Josh Bynes<br>",
            "nflId:40095<br>displayName:Steven Means<br>",
            "nflId:41240<br>displayName:Kyle Fuller<br>",
            "nflId:43694<br>displayName:Michael Pierce<br>",
            "nflId:44828<br>displayName:Marlon Humphrey<br>",
            "nflId:44854<br>displayName:Marcus Williams<br>",
            "nflId:44999<br>displayName:Chuck Clark<br>",
            "nflId:52436<br>displayName:Patrick Queen<br>",
            "nflId:53533<br>displayName:Brandon Stephens<br>"
           ],
           "marker": {
            "color": "#241773",
            "line": {
             "color": "#000000",
             "width": 2
            },
            "size": 10
           },
           "mode": "markers",
           "name": "BAL",
           "type": "scatter",
           "x": [
            22.349999999999998,
            18.669999999999995,
            25.419999999999998,
            28.97,
            36.66,
            24.349999999999998,
            14.349999999999994,
            17.68,
            28.509999999999998,
            21.589999999999996,
            36.26
           ],
           "y": [
            84,
            82.38,
            87.36,
            82.96,
            83.42,
            83.54,
            91.43,
            87.28,
            98.72,
            86.44,
            91.27
           ]
          },
          {
           "hoverinfo": "none",
           "marker": {
            "color": "#CBB67C",
            "line": {
             "color": "#663831",
             "width": 2
            },
            "size": 10
           },
           "mode": "markers",
           "name": "football",
           "type": "scatter",
           "x": [
            24.029999542236297
           ],
           "y": [
            78.8600006103516
           ]
          }
         ],
         "name": "14"
        },
        {
         "data": [
          {
           "hoverinfo": "none",
           "mode": "text",
           "showlegend": false,
           "text": [
            "10",
            "20",
            "30",
            "40",
            "50",
            "40",
            "30",
            "20",
            "10"
           ],
           "textfont": {
            "color": "#ffffff",
            "family": "Courier New, monospace",
            "size": 30
           },
           "type": "scatter",
           "x": [
            5,
            5,
            5,
            5,
            5,
            5,
            5,
            5,
            5
           ],
           "y": [
            20,
            30,
            40,
            50,
            60,
            70,
            80,
            90,
            100
           ]
          },
          {
           "hoverinfo": "none",
           "mode": "text",
           "showlegend": false,
           "text": [
            "10",
            "20",
            "30",
            "40",
            "50",
            "40",
            "30",
            "20",
            "10"
           ],
           "textfont": {
            "color": "#ffffff",
            "family": "Courier New, monospace",
            "size": 30
           },
           "type": "scatter",
           "x": [
            48.5,
            48.5,
            48.5,
            48.5,
            48.5,
            48.5,
            48.5,
            48.5,
            48.5
           ],
           "y": [
            20,
            30,
            40,
            50,
            60,
            70,
            80,
            90,
            100
           ]
          },
          {
           "hoverinfo": "none",
           "line": {
            "color": "blue",
            "dash": "dash"
           },
           "showlegend": false,
           "type": "scatter",
           "x": [
            0,
            53.5
           ],
           "y": [
            83,
            83
           ]
          },
          {
           "fill": "toself",
           "fillcolor": "#000000",
           "hoverinfo": "skip",
           "line": {
            "color": "white",
            "width": 3
           },
           "mode": "lines",
           "opacity": 1,
           "showlegend": false,
           "type": "scatter",
           "x": [
            0,
            53.5,
            53.5,
            0,
            0
           ],
           "y": [
            0,
            0,
            10,
            10,
            0
           ]
          },
          {
           "fill": "toself",
           "fillcolor": "#241773",
           "hoverinfo": "skip",
           "line": {
            "color": "white",
            "width": 3
           },
           "mode": "lines",
           "opacity": 1,
           "showlegend": false,
           "type": "scatter",
           "x": [
            0,
            53.5,
            53.5,
            0,
            0
           ],
           "y": [
            110,
            110,
            120,
            120,
            110
           ]
          },
          {
           "hoverinfo": "text",
           "hovertext": [
            "nflId:33099<br>displayName:Joe Flacco<br>",
            "nflId:42371<br>displayName:Laken Tomlinson<br>",
            "nflId:43433<br>displayName:Connor McGovern<br>",
            "nflId:43586<br>displayName:George Fant<br>",
            "nflId:44817<br>displayName:Corey Davis<br>",
            "nflId:46226<br>displayName:Tyler Conklin<br>",
            "nflId:46279<br>displayName:Braxton Berrios<br>",
            "nflId:53443<br>displayName:Alijah Vera-Tucker<br>",
            "nflId:53463<br>displayName:Elijah Moore<br>",
            "nflId:53536<br>displayName:Michael Carter<br>",
            "nflId:54576<br>displayName:Max Mitchell<br>"
           ],
           "marker": {
            "color": "#000000",
            "line": {
             "color": "#125740",
             "width": 2
            },
            "size": 10
           },
           "mode": "markers",
           "name": "NYJ",
           "type": "scatter",
           "x": [
            23.47,
            22.629999999999995,
            23.859999999999996,
            21.659999999999997,
            16.22,
            19.779999999999994,
            37.05,
            23.049999999999997,
            35.33,
            24.789999999999996,
            27.909999999999997
           ],
           "y": [
            78.43,
            83.24,
            82.88,
            83.56,
            82.25,
            82.96,
            80.9,
            81.78,
            82.58,
            78.07,
            81.77
           ]
          },
          {
           "hoverinfo": "text",
           "hovertext": [
            "nflId:33131<br>displayName:Calais Campbell<br>",
            "nflId:37145<br>displayName:Justin Houston<br>",
            "nflId:37778<br>displayName:Josh Bynes<br>",
            "nflId:40095<br>displayName:Steven Means<br>",
            "nflId:41240<br>displayName:Kyle Fuller<br>",
            "nflId:43694<br>displayName:Michael Pierce<br>",
            "nflId:44828<br>displayName:Marlon Humphrey<br>",
            "nflId:44854<br>displayName:Marcus Williams<br>",
            "nflId:44999<br>displayName:Chuck Clark<br>",
            "nflId:52436<br>displayName:Patrick Queen<br>",
            "nflId:53533<br>displayName:Brandon Stephens<br>"
           ],
           "marker": {
            "color": "#241773",
            "line": {
             "color": "#000000",
             "width": 2
            },
            "size": 10
           },
           "mode": "markers",
           "name": "BAL",
           "type": "scatter",
           "x": [
            22.539999999999996,
            18.939999999999998,
            25.369999999999997,
            28.99,
            36.81999999999999,
            24.289999999999996,
            14.399999999999999,
            17.72,
            28.339999999999996,
            21.389999999999997,
            36.459999999999994
           ],
           "y": [
            83.97,
            82.2,
            87.27,
            82.68,
            83.31,
            83.41,
            91.55,
            87.14,
            99.03,
            86.23,
            91.47
           ]
          },
          {
           "hoverinfo": "none",
           "marker": {
            "color": "#CBB67C",
            "line": {
             "color": "#663831",
             "width": 2
            },
            "size": 10
           },
           "mode": "markers",
           "name": "football",
           "type": "scatter",
           "x": [
            24.049999999999997
           ],
           "y": [
            78.7200012207031
           ]
          }
         ],
         "name": "15"
        },
        {
         "data": [
          {
           "hoverinfo": "none",
           "mode": "text",
           "showlegend": false,
           "text": [
            "10",
            "20",
            "30",
            "40",
            "50",
            "40",
            "30",
            "20",
            "10"
           ],
           "textfont": {
            "color": "#ffffff",
            "family": "Courier New, monospace",
            "size": 30
           },
           "type": "scatter",
           "x": [
            5,
            5,
            5,
            5,
            5,
            5,
            5,
            5,
            5
           ],
           "y": [
            20,
            30,
            40,
            50,
            60,
            70,
            80,
            90,
            100
           ]
          },
          {
           "hoverinfo": "none",
           "mode": "text",
           "showlegend": false,
           "text": [
            "10",
            "20",
            "30",
            "40",
            "50",
            "40",
            "30",
            "20",
            "10"
           ],
           "textfont": {
            "color": "#ffffff",
            "family": "Courier New, monospace",
            "size": 30
           },
           "type": "scatter",
           "x": [
            48.5,
            48.5,
            48.5,
            48.5,
            48.5,
            48.5,
            48.5,
            48.5,
            48.5
           ],
           "y": [
            20,
            30,
            40,
            50,
            60,
            70,
            80,
            90,
            100
           ]
          },
          {
           "hoverinfo": "none",
           "line": {
            "color": "blue",
            "dash": "dash"
           },
           "showlegend": false,
           "type": "scatter",
           "x": [
            0,
            53.5
           ],
           "y": [
            83,
            83
           ]
          },
          {
           "fill": "toself",
           "fillcolor": "#000000",
           "hoverinfo": "skip",
           "line": {
            "color": "white",
            "width": 3
           },
           "mode": "lines",
           "opacity": 1,
           "showlegend": false,
           "type": "scatter",
           "x": [
            0,
            53.5,
            53.5,
            0,
            0
           ],
           "y": [
            0,
            0,
            10,
            10,
            0
           ]
          },
          {
           "fill": "toself",
           "fillcolor": "#241773",
           "hoverinfo": "skip",
           "line": {
            "color": "white",
            "width": 3
           },
           "mode": "lines",
           "opacity": 1,
           "showlegend": false,
           "type": "scatter",
           "x": [
            0,
            53.5,
            53.5,
            0,
            0
           ],
           "y": [
            110,
            110,
            120,
            120,
            110
           ]
          },
          {
           "hoverinfo": "text",
           "hovertext": [
            "nflId:33099<br>displayName:Joe Flacco<br>",
            "nflId:42371<br>displayName:Laken Tomlinson<br>",
            "nflId:43433<br>displayName:Connor McGovern<br>",
            "nflId:43586<br>displayName:George Fant<br>",
            "nflId:44817<br>displayName:Corey Davis<br>",
            "nflId:46226<br>displayName:Tyler Conklin<br>",
            "nflId:46279<br>displayName:Braxton Berrios<br>",
            "nflId:53443<br>displayName:Alijah Vera-Tucker<br>",
            "nflId:53463<br>displayName:Elijah Moore<br>",
            "nflId:53536<br>displayName:Michael Carter<br>",
            "nflId:54576<br>displayName:Max Mitchell<br>"
           ],
           "marker": {
            "color": "#000000",
            "line": {
             "color": "#125740",
             "width": 2
            },
            "size": 10
           },
           "mode": "markers",
           "name": "NYJ",
           "type": "scatter",
           "x": [
            23.459999999999997,
            22.749999999999996,
            23.839999999999996,
            21.83,
            16.439999999999998,
            19.949999999999996,
            37.39,
            22.699999999999996,
            35.69,
            24.619999999999997,
            28.069999999999997
           ],
           "y": [
            78.41,
            83.3,
            82.85,
            83.78,
            82.44,
            83.17,
            80.88,
            81.75,
            82.56,
            78.28,
            81.65
           ]
          },
          {
           "hoverinfo": "text",
           "hovertext": [
            "nflId:33131<br>displayName:Calais Campbell<br>",
            "nflId:37145<br>displayName:Justin Houston<br>",
            "nflId:37778<br>displayName:Josh Bynes<br>",
            "nflId:40095<br>displayName:Steven Means<br>",
            "nflId:41240<br>displayName:Kyle Fuller<br>",
            "nflId:43694<br>displayName:Michael Pierce<br>",
            "nflId:44828<br>displayName:Marlon Humphrey<br>",
            "nflId:44854<br>displayName:Marcus Williams<br>",
            "nflId:44999<br>displayName:Chuck Clark<br>",
            "nflId:52436<br>displayName:Patrick Queen<br>",
            "nflId:53533<br>displayName:Brandon Stephens<br>"
           ],
           "marker": {
            "color": "#241773",
            "line": {
             "color": "#000000",
             "width": 2
            },
            "size": 10
           },
           "mode": "markers",
           "name": "BAL",
           "type": "scatter",
           "x": [
            22.729999999999997,
            19.22,
            25.33,
            29.029999999999998,
            37.03999999999999,
            24.249999999999996,
            14.469999999999999,
            17.769999999999996,
            28.179999999999996,
            21.189999999999998,
            36.67
           ],
           "y": [
            83.92,
            82.02,
            87.17,
            82.38,
            83.24,
            83.26,
            91.67,
            86.99,
            99.34,
            85.99,
            91.65
           ]
          },
          {
           "hoverinfo": "none",
           "marker": {
            "color": "#CBB67C",
            "line": {
             "color": "#663831",
             "width": 2
            },
            "size": 10
           },
           "mode": "markers",
           "name": "football",
           "type": "scatter",
           "x": [
            24.039999771118197
           ],
           "y": [
            78.6900024414062
           ]
          }
         ],
         "name": "16"
        },
        {
         "data": [
          {
           "hoverinfo": "none",
           "mode": "text",
           "showlegend": false,
           "text": [
            "10",
            "20",
            "30",
            "40",
            "50",
            "40",
            "30",
            "20",
            "10"
           ],
           "textfont": {
            "color": "#ffffff",
            "family": "Courier New, monospace",
            "size": 30
           },
           "type": "scatter",
           "x": [
            5,
            5,
            5,
            5,
            5,
            5,
            5,
            5,
            5
           ],
           "y": [
            20,
            30,
            40,
            50,
            60,
            70,
            80,
            90,
            100
           ]
          },
          {
           "hoverinfo": "none",
           "mode": "text",
           "showlegend": false,
           "text": [
            "10",
            "20",
            "30",
            "40",
            "50",
            "40",
            "30",
            "20",
            "10"
           ],
           "textfont": {
            "color": "#ffffff",
            "family": "Courier New, monospace",
            "size": 30
           },
           "type": "scatter",
           "x": [
            48.5,
            48.5,
            48.5,
            48.5,
            48.5,
            48.5,
            48.5,
            48.5,
            48.5
           ],
           "y": [
            20,
            30,
            40,
            50,
            60,
            70,
            80,
            90,
            100
           ]
          },
          {
           "hoverinfo": "none",
           "line": {
            "color": "blue",
            "dash": "dash"
           },
           "showlegend": false,
           "type": "scatter",
           "x": [
            0,
            53.5
           ],
           "y": [
            83,
            83
           ]
          },
          {
           "fill": "toself",
           "fillcolor": "#000000",
           "hoverinfo": "skip",
           "line": {
            "color": "white",
            "width": 3
           },
           "mode": "lines",
           "opacity": 1,
           "showlegend": false,
           "type": "scatter",
           "x": [
            0,
            53.5,
            53.5,
            0,
            0
           ],
           "y": [
            0,
            0,
            10,
            10,
            0
           ]
          },
          {
           "fill": "toself",
           "fillcolor": "#241773",
           "hoverinfo": "skip",
           "line": {
            "color": "white",
            "width": 3
           },
           "mode": "lines",
           "opacity": 1,
           "showlegend": false,
           "type": "scatter",
           "x": [
            0,
            53.5,
            53.5,
            0,
            0
           ],
           "y": [
            110,
            110,
            120,
            120,
            110
           ]
          },
          {
           "hoverinfo": "text",
           "hovertext": [
            "nflId:33099<br>displayName:Joe Flacco<br>",
            "nflId:42371<br>displayName:Laken Tomlinson<br>",
            "nflId:43433<br>displayName:Connor McGovern<br>",
            "nflId:43586<br>displayName:George Fant<br>",
            "nflId:44817<br>displayName:Corey Davis<br>",
            "nflId:46226<br>displayName:Tyler Conklin<br>",
            "nflId:46279<br>displayName:Braxton Berrios<br>",
            "nflId:53443<br>displayName:Alijah Vera-Tucker<br>",
            "nflId:53463<br>displayName:Elijah Moore<br>",
            "nflId:53536<br>displayName:Michael Carter<br>",
            "nflId:54576<br>displayName:Max Mitchell<br>"
           ],
           "marker": {
            "color": "#000000",
            "line": {
             "color": "#125740",
             "width": 2
            },
            "size": 10
           },
           "mode": "markers",
           "name": "NYJ",
           "type": "scatter",
           "x": [
            23.449999999999996,
            22.859999999999996,
            23.83,
            22.009999999999998,
            16.669999999999995,
            20.099999999999994,
            37.769999999999996,
            22.349999999999998,
            36.08,
            24.439999999999998,
            28.209999999999997
           ],
           "y": [
            78.38,
            83.36,
            82.83,
            83.99,
            82.66,
            83.38,
            80.87,
            81.73,
            82.53,
            78.53,
            81.48
           ]
          },
          {
           "hoverinfo": "text",
           "hovertext": [
            "nflId:33131<br>displayName:Calais Campbell<br>",
            "nflId:37145<br>displayName:Justin Houston<br>",
            "nflId:37778<br>displayName:Josh Bynes<br>",
            "nflId:40095<br>displayName:Steven Means<br>",
            "nflId:41240<br>displayName:Kyle Fuller<br>",
            "nflId:43694<br>displayName:Michael Pierce<br>",
            "nflId:44828<br>displayName:Marlon Humphrey<br>",
            "nflId:44854<br>displayName:Marcus Williams<br>",
            "nflId:44999<br>displayName:Chuck Clark<br>",
            "nflId:52436<br>displayName:Patrick Queen<br>",
            "nflId:53533<br>displayName:Brandon Stephens<br>"
           ],
           "marker": {
            "color": "#241773",
            "line": {
             "color": "#000000",
             "width": 2
            },
            "size": 10
           },
           "mode": "markers",
           "name": "BAL",
           "type": "scatter",
           "x": [
            22.919999999999998,
            19.519999999999996,
            25.289999999999996,
            29.08,
            37.3,
            24.24,
            14.549999999999997,
            17.82,
            28.049999999999997,
            20.989999999999995,
            36.879999999999995
           ],
           "y": [
            83.86,
            81.84,
            87.07,
            82.07,
            83.19,
            83.1,
            91.77,
            86.83,
            99.64,
            85.74,
            91.85
           ]
          },
          {
           "hoverinfo": "none",
           "marker": {
            "color": "#CBB67C",
            "line": {
             "color": "#663831",
             "width": 2
            },
            "size": 10
           },
           "mode": "markers",
           "name": "football",
           "type": "scatter",
           "x": [
            24.029999542236297
           ],
           "y": [
            78.7399978637695
           ]
          }
         ],
         "name": "17"
        },
        {
         "data": [
          {
           "hoverinfo": "none",
           "mode": "text",
           "showlegend": false,
           "text": [
            "10",
            "20",
            "30",
            "40",
            "50",
            "40",
            "30",
            "20",
            "10"
           ],
           "textfont": {
            "color": "#ffffff",
            "family": "Courier New, monospace",
            "size": 30
           },
           "type": "scatter",
           "x": [
            5,
            5,
            5,
            5,
            5,
            5,
            5,
            5,
            5
           ],
           "y": [
            20,
            30,
            40,
            50,
            60,
            70,
            80,
            90,
            100
           ]
          },
          {
           "hoverinfo": "none",
           "mode": "text",
           "showlegend": false,
           "text": [
            "10",
            "20",
            "30",
            "40",
            "50",
            "40",
            "30",
            "20",
            "10"
           ],
           "textfont": {
            "color": "#ffffff",
            "family": "Courier New, monospace",
            "size": 30
           },
           "type": "scatter",
           "x": [
            48.5,
            48.5,
            48.5,
            48.5,
            48.5,
            48.5,
            48.5,
            48.5,
            48.5
           ],
           "y": [
            20,
            30,
            40,
            50,
            60,
            70,
            80,
            90,
            100
           ]
          },
          {
           "hoverinfo": "none",
           "line": {
            "color": "blue",
            "dash": "dash"
           },
           "showlegend": false,
           "type": "scatter",
           "x": [
            0,
            53.5
           ],
           "y": [
            83,
            83
           ]
          },
          {
           "fill": "toself",
           "fillcolor": "#000000",
           "hoverinfo": "skip",
           "line": {
            "color": "white",
            "width": 3
           },
           "mode": "lines",
           "opacity": 1,
           "showlegend": false,
           "type": "scatter",
           "x": [
            0,
            53.5,
            53.5,
            0,
            0
           ],
           "y": [
            0,
            0,
            10,
            10,
            0
           ]
          },
          {
           "fill": "toself",
           "fillcolor": "#241773",
           "hoverinfo": "skip",
           "line": {
            "color": "white",
            "width": 3
           },
           "mode": "lines",
           "opacity": 1,
           "showlegend": false,
           "type": "scatter",
           "x": [
            0,
            53.5,
            53.5,
            0,
            0
           ],
           "y": [
            110,
            110,
            120,
            120,
            110
           ]
          },
          {
           "hoverinfo": "text",
           "hovertext": [
            "nflId:33099<br>displayName:Joe Flacco<br>",
            "nflId:42371<br>displayName:Laken Tomlinson<br>",
            "nflId:43433<br>displayName:Connor McGovern<br>",
            "nflId:43586<br>displayName:George Fant<br>",
            "nflId:44817<br>displayName:Corey Davis<br>",
            "nflId:46226<br>displayName:Tyler Conklin<br>",
            "nflId:46279<br>displayName:Braxton Berrios<br>",
            "nflId:53443<br>displayName:Alijah Vera-Tucker<br>",
            "nflId:53463<br>displayName:Elijah Moore<br>",
            "nflId:53536<br>displayName:Michael Carter<br>",
            "nflId:54576<br>displayName:Max Mitchell<br>"
           ],
           "marker": {
            "color": "#000000",
            "line": {
             "color": "#125740",
             "width": 2
            },
            "size": 10
           },
           "mode": "markers",
           "name": "NYJ",
           "type": "scatter",
           "x": [
            23.449999999999996,
            22.949999999999996,
            23.819999999999997,
            22.179999999999996,
            16.919999999999995,
            20.22,
            38.18,
            22.029999999999998,
            36.48,
            24.269999999999996,
            28.33
           ],
           "y": [
            78.34,
            83.39,
            82.81,
            84.2,
            82.89,
            83.57,
            80.85,
            81.7,
            82.5,
            78.83,
            81.31
           ]
          },
          {
           "hoverinfo": "text",
           "hovertext": [
            "nflId:33131<br>displayName:Calais Campbell<br>",
            "nflId:37145<br>displayName:Justin Houston<br>",
            "nflId:37778<br>displayName:Josh Bynes<br>",
            "nflId:40095<br>displayName:Steven Means<br>",
            "nflId:41240<br>displayName:Kyle Fuller<br>",
            "nflId:43694<br>displayName:Michael Pierce<br>",
            "nflId:44828<br>displayName:Marlon Humphrey<br>",
            "nflId:44854<br>displayName:Marcus Williams<br>",
            "nflId:44999<br>displayName:Chuck Clark<br>",
            "nflId:52436<br>displayName:Patrick Queen<br>",
            "nflId:53533<br>displayName:Brandon Stephens<br>"
           ],
           "marker": {
            "color": "#241773",
            "line": {
             "color": "#000000",
             "width": 2
            },
            "size": 10
           },
           "mode": "markers",
           "name": "BAL",
           "type": "scatter",
           "x": [
            23.099999999999998,
            19.83,
            25.249999999999996,
            29.129999999999995,
            37.599999999999994,
            24.259999999999998,
            14.64,
            17.869999999999997,
            27.929999999999996,
            20.769999999999996,
            37.089999999999996
           ],
           "y": [
            83.8,
            81.66,
            86.96,
            81.75,
            83.16,
            82.93,
            91.87,
            86.65,
            99.93,
            85.49,
            92.04
           ]
          },
          {
           "hoverinfo": "none",
           "marker": {
            "color": "#CBB67C",
            "line": {
             "color": "#663831",
             "width": 2
            },
            "size": 10
           },
           "mode": "markers",
           "name": "football",
           "type": "scatter",
           "x": [
            24.000000762939496
           ],
           "y": [
            78.879997253418
           ]
          }
         ],
         "name": "18"
        },
        {
         "data": [
          {
           "hoverinfo": "none",
           "mode": "text",
           "showlegend": false,
           "text": [
            "10",
            "20",
            "30",
            "40",
            "50",
            "40",
            "30",
            "20",
            "10"
           ],
           "textfont": {
            "color": "#ffffff",
            "family": "Courier New, monospace",
            "size": 30
           },
           "type": "scatter",
           "x": [
            5,
            5,
            5,
            5,
            5,
            5,
            5,
            5,
            5
           ],
           "y": [
            20,
            30,
            40,
            50,
            60,
            70,
            80,
            90,
            100
           ]
          },
          {
           "hoverinfo": "none",
           "mode": "text",
           "showlegend": false,
           "text": [
            "10",
            "20",
            "30",
            "40",
            "50",
            "40",
            "30",
            "20",
            "10"
           ],
           "textfont": {
            "color": "#ffffff",
            "family": "Courier New, monospace",
            "size": 30
           },
           "type": "scatter",
           "x": [
            48.5,
            48.5,
            48.5,
            48.5,
            48.5,
            48.5,
            48.5,
            48.5,
            48.5
           ],
           "y": [
            20,
            30,
            40,
            50,
            60,
            70,
            80,
            90,
            100
           ]
          },
          {
           "hoverinfo": "none",
           "line": {
            "color": "blue",
            "dash": "dash"
           },
           "showlegend": false,
           "type": "scatter",
           "x": [
            0,
            53.5
           ],
           "y": [
            83,
            83
           ]
          },
          {
           "fill": "toself",
           "fillcolor": "#000000",
           "hoverinfo": "skip",
           "line": {
            "color": "white",
            "width": 3
           },
           "mode": "lines",
           "opacity": 1,
           "showlegend": false,
           "type": "scatter",
           "x": [
            0,
            53.5,
            53.5,
            0,
            0
           ],
           "y": [
            0,
            0,
            10,
            10,
            0
           ]
          },
          {
           "fill": "toself",
           "fillcolor": "#241773",
           "hoverinfo": "skip",
           "line": {
            "color": "white",
            "width": 3
           },
           "mode": "lines",
           "opacity": 1,
           "showlegend": false,
           "type": "scatter",
           "x": [
            0,
            53.5,
            53.5,
            0,
            0
           ],
           "y": [
            110,
            110,
            120,
            120,
            110
           ]
          },
          {
           "hoverinfo": "text",
           "hovertext": [
            "nflId:33099<br>displayName:Joe Flacco<br>",
            "nflId:42371<br>displayName:Laken Tomlinson<br>",
            "nflId:43433<br>displayName:Connor McGovern<br>",
            "nflId:43586<br>displayName:George Fant<br>",
            "nflId:44817<br>displayName:Corey Davis<br>",
            "nflId:46226<br>displayName:Tyler Conklin<br>",
            "nflId:46279<br>displayName:Braxton Berrios<br>",
            "nflId:53443<br>displayName:Alijah Vera-Tucker<br>",
            "nflId:53463<br>displayName:Elijah Moore<br>",
            "nflId:53536<br>displayName:Michael Carter<br>",
            "nflId:54576<br>displayName:Max Mitchell<br>"
           ],
           "marker": {
            "color": "#000000",
            "line": {
             "color": "#125740",
             "width": 2
            },
            "size": 10
           },
           "mode": "markers",
           "name": "NYJ",
           "type": "scatter",
           "x": [
            23.459999999999997,
            23.019999999999996,
            23.81,
            22.339999999999996,
            17.159999999999997,
            20.309999999999995,
            38.61,
            21.74,
            36.9,
            24.109999999999996,
            28.439999999999998
           ],
           "y": [
            78.3,
            83.4,
            82.77,
            84.4,
            83.14,
            83.72,
            80.84,
            81.68,
            82.47,
            79.15,
            81.12
           ]
          },
          {
           "hoverinfo": "text",
           "hovertext": [
            "nflId:33131<br>displayName:Calais Campbell<br>",
            "nflId:37145<br>displayName:Justin Houston<br>",
            "nflId:37778<br>displayName:Josh Bynes<br>",
            "nflId:40095<br>displayName:Steven Means<br>",
            "nflId:41240<br>displayName:Kyle Fuller<br>",
            "nflId:43694<br>displayName:Michael Pierce<br>",
            "nflId:44828<br>displayName:Marlon Humphrey<br>",
            "nflId:44854<br>displayName:Marcus Williams<br>",
            "nflId:44999<br>displayName:Chuck Clark<br>",
            "nflId:52436<br>displayName:Patrick Queen<br>",
            "nflId:53533<br>displayName:Brandon Stephens<br>"
           ],
           "marker": {
            "color": "#241773",
            "line": {
             "color": "#000000",
             "width": 2
            },
            "size": 10
           },
           "mode": "markers",
           "name": "BAL",
           "type": "scatter",
           "x": [
            23.269999999999996,
            20.099999999999994,
            25.209999999999997,
            29.189999999999998,
            37.94,
            24.31,
            14.75,
            17.919999999999995,
            27.819999999999997,
            20.549999999999997,
            37.3
           ],
           "y": [
            83.75,
            81.64,
            86.85,
            81.45,
            83.17,
            82.75,
            91.95,
            86.46,
            100.16,
            85.24,
            92.24
           ]
          },
          {
           "hoverinfo": "none",
           "marker": {
            "color": "#CBB67C",
            "line": {
             "color": "#663831",
             "width": 2
            },
            "size": 10
           },
           "mode": "markers",
           "name": "football",
           "type": "scatter",
           "x": [
            23.949999618530295
           ],
           "y": [
            79.0899963378906
           ]
          }
         ],
         "name": "19"
        },
        {
         "data": [
          {
           "hoverinfo": "none",
           "mode": "text",
           "showlegend": false,
           "text": [
            "10",
            "20",
            "30",
            "40",
            "50",
            "40",
            "30",
            "20",
            "10"
           ],
           "textfont": {
            "color": "#ffffff",
            "family": "Courier New, monospace",
            "size": 30
           },
           "type": "scatter",
           "x": [
            5,
            5,
            5,
            5,
            5,
            5,
            5,
            5,
            5
           ],
           "y": [
            20,
            30,
            40,
            50,
            60,
            70,
            80,
            90,
            100
           ]
          },
          {
           "hoverinfo": "none",
           "mode": "text",
           "showlegend": false,
           "text": [
            "10",
            "20",
            "30",
            "40",
            "50",
            "40",
            "30",
            "20",
            "10"
           ],
           "textfont": {
            "color": "#ffffff",
            "family": "Courier New, monospace",
            "size": 30
           },
           "type": "scatter",
           "x": [
            48.5,
            48.5,
            48.5,
            48.5,
            48.5,
            48.5,
            48.5,
            48.5,
            48.5
           ],
           "y": [
            20,
            30,
            40,
            50,
            60,
            70,
            80,
            90,
            100
           ]
          },
          {
           "hoverinfo": "none",
           "line": {
            "color": "blue",
            "dash": "dash"
           },
           "showlegend": false,
           "type": "scatter",
           "x": [
            0,
            53.5
           ],
           "y": [
            83,
            83
           ]
          },
          {
           "fill": "toself",
           "fillcolor": "#000000",
           "hoverinfo": "skip",
           "line": {
            "color": "white",
            "width": 3
           },
           "mode": "lines",
           "opacity": 1,
           "showlegend": false,
           "type": "scatter",
           "x": [
            0,
            53.5,
            53.5,
            0,
            0
           ],
           "y": [
            0,
            0,
            10,
            10,
            0
           ]
          },
          {
           "fill": "toself",
           "fillcolor": "#241773",
           "hoverinfo": "skip",
           "line": {
            "color": "white",
            "width": 3
           },
           "mode": "lines",
           "opacity": 1,
           "showlegend": false,
           "type": "scatter",
           "x": [
            0,
            53.5,
            53.5,
            0,
            0
           ],
           "y": [
            110,
            110,
            120,
            120,
            110
           ]
          },
          {
           "hoverinfo": "text",
           "hovertext": [
            "nflId:33099<br>displayName:Joe Flacco<br>",
            "nflId:42371<br>displayName:Laken Tomlinson<br>",
            "nflId:43433<br>displayName:Connor McGovern<br>",
            "nflId:43586<br>displayName:George Fant<br>",
            "nflId:44817<br>displayName:Corey Davis<br>",
            "nflId:46226<br>displayName:Tyler Conklin<br>",
            "nflId:46279<br>displayName:Braxton Berrios<br>",
            "nflId:53443<br>displayName:Alijah Vera-Tucker<br>",
            "nflId:53463<br>displayName:Elijah Moore<br>",
            "nflId:53536<br>displayName:Michael Carter<br>",
            "nflId:54576<br>displayName:Max Mitchell<br>"
           ],
           "marker": {
            "color": "#000000",
            "line": {
             "color": "#125740",
             "width": 2
            },
            "size": 10
           },
           "mode": "markers",
           "name": "NYJ",
           "type": "scatter",
           "x": [
            23.47,
            23.089999999999996,
            23.849999999999998,
            22.509999999999998,
            17.39,
            20.379999999999995,
            39.05,
            21.479999999999997,
            37.31999999999999,
            23.939999999999998,
            28.529999999999998
           ],
           "y": [
            78.25,
            83.39,
            82.7,
            84.62,
            83.4,
            83.86,
            80.81,
            81.66,
            82.43,
            79.5,
            80.92
           ]
          },
          {
           "hoverinfo": "text",
           "hovertext": [
            "nflId:33131<br>displayName:Calais Campbell<br>",
            "nflId:37145<br>displayName:Justin Houston<br>",
            "nflId:37778<br>displayName:Josh Bynes<br>",
            "nflId:40095<br>displayName:Steven Means<br>",
            "nflId:41240<br>displayName:Kyle Fuller<br>",
            "nflId:43694<br>displayName:Michael Pierce<br>",
            "nflId:44828<br>displayName:Marlon Humphrey<br>",
            "nflId:44854<br>displayName:Marcus Williams<br>",
            "nflId:44999<br>displayName:Chuck Clark<br>",
            "nflId:52436<br>displayName:Patrick Queen<br>",
            "nflId:53533<br>displayName:Brandon Stephens<br>"
           ],
           "marker": {
            "color": "#241773",
            "line": {
             "color": "#000000",
             "width": 2
            },
            "size": 10
           },
           "mode": "markers",
           "name": "BAL",
           "type": "scatter",
           "x": [
            23.4,
            20.39,
            25.139999999999997,
            29.24,
            38.3,
            24.359999999999996,
            14.89,
            17.97,
            27.729999999999997,
            20.33,
            37.489999999999995
           ],
           "y": [
            83.71,
            81.6,
            86.73,
            81.15,
            83.2,
            82.58,
            91.98,
            86.26,
            100.35,
            85,
            92.43
           ]
          },
          {
           "hoverinfo": "none",
           "marker": {
            "color": "#CBB67C",
            "line": {
             "color": "#663831",
             "width": 2
            },
            "size": 10
           },
           "mode": "markers",
           "name": "football",
           "type": "scatter",
           "x": [
            23.879999923706098
           ],
           "y": [
            79.370002746582
           ]
          }
         ],
         "name": "20"
        },
        {
         "data": [
          {
           "hoverinfo": "none",
           "mode": "text",
           "showlegend": false,
           "text": [
            "10",
            "20",
            "30",
            "40",
            "50",
            "40",
            "30",
            "20",
            "10"
           ],
           "textfont": {
            "color": "#ffffff",
            "family": "Courier New, monospace",
            "size": 30
           },
           "type": "scatter",
           "x": [
            5,
            5,
            5,
            5,
            5,
            5,
            5,
            5,
            5
           ],
           "y": [
            20,
            30,
            40,
            50,
            60,
            70,
            80,
            90,
            100
           ]
          },
          {
           "hoverinfo": "none",
           "mode": "text",
           "showlegend": false,
           "text": [
            "10",
            "20",
            "30",
            "40",
            "50",
            "40",
            "30",
            "20",
            "10"
           ],
           "textfont": {
            "color": "#ffffff",
            "family": "Courier New, monospace",
            "size": 30
           },
           "type": "scatter",
           "x": [
            48.5,
            48.5,
            48.5,
            48.5,
            48.5,
            48.5,
            48.5,
            48.5,
            48.5
           ],
           "y": [
            20,
            30,
            40,
            50,
            60,
            70,
            80,
            90,
            100
           ]
          },
          {
           "hoverinfo": "none",
           "line": {
            "color": "blue",
            "dash": "dash"
           },
           "showlegend": false,
           "type": "scatter",
           "x": [
            0,
            53.5
           ],
           "y": [
            83,
            83
           ]
          },
          {
           "fill": "toself",
           "fillcolor": "#000000",
           "hoverinfo": "skip",
           "line": {
            "color": "white",
            "width": 3
           },
           "mode": "lines",
           "opacity": 1,
           "showlegend": false,
           "type": "scatter",
           "x": [
            0,
            53.5,
            53.5,
            0,
            0
           ],
           "y": [
            0,
            0,
            10,
            10,
            0
           ]
          },
          {
           "fill": "toself",
           "fillcolor": "#241773",
           "hoverinfo": "skip",
           "line": {
            "color": "white",
            "width": 3
           },
           "mode": "lines",
           "opacity": 1,
           "showlegend": false,
           "type": "scatter",
           "x": [
            0,
            53.5,
            53.5,
            0,
            0
           ],
           "y": [
            110,
            110,
            120,
            120,
            110
           ]
          },
          {
           "hoverinfo": "text",
           "hovertext": [
            "nflId:33099<br>displayName:Joe Flacco<br>",
            "nflId:42371<br>displayName:Laken Tomlinson<br>",
            "nflId:43433<br>displayName:Connor McGovern<br>",
            "nflId:43586<br>displayName:George Fant<br>",
            "nflId:44817<br>displayName:Corey Davis<br>",
            "nflId:46226<br>displayName:Tyler Conklin<br>",
            "nflId:46279<br>displayName:Braxton Berrios<br>",
            "nflId:53443<br>displayName:Alijah Vera-Tucker<br>",
            "nflId:53463<br>displayName:Elijah Moore<br>",
            "nflId:53536<br>displayName:Michael Carter<br>",
            "nflId:54576<br>displayName:Max Mitchell<br>"
           ],
           "marker": {
            "color": "#000000",
            "line": {
             "color": "#125740",
             "width": 2
            },
            "size": 10
           },
           "mode": "markers",
           "name": "NYJ",
           "type": "scatter",
           "x": [
            23.49,
            23.099999999999998,
            23.879999999999995,
            22.679999999999996,
            17.599999999999994,
            20.419999999999995,
            39.489999999999995,
            21.279999999999994,
            37.739999999999995,
            23.779999999999998,
            28.609999999999996
           ],
           "y": [
            78.2,
            83.39,
            82.63,
            84.83,
            83.66,
            83.97,
            80.78,
            81.65,
            82.41,
            79.88,
            80.71
           ]
          },
          {
           "hoverinfo": "text",
           "hovertext": [
            "nflId:33131<br>displayName:Calais Campbell<br>",
            "nflId:37145<br>displayName:Justin Houston<br>",
            "nflId:37778<br>displayName:Josh Bynes<br>",
            "nflId:40095<br>displayName:Steven Means<br>",
            "nflId:41240<br>displayName:Kyle Fuller<br>",
            "nflId:43694<br>displayName:Michael Pierce<br>",
            "nflId:44828<br>displayName:Marlon Humphrey<br>",
            "nflId:44854<br>displayName:Marcus Williams<br>",
            "nflId:44999<br>displayName:Chuck Clark<br>",
            "nflId:52436<br>displayName:Patrick Queen<br>",
            "nflId:53533<br>displayName:Brandon Stephens<br>"
           ],
           "marker": {
            "color": "#241773",
            "line": {
             "color": "#000000",
             "width": 2
            },
            "size": 10
           },
           "mode": "markers",
           "name": "BAL",
           "type": "scatter",
           "x": [
            23.49,
            20.699999999999996,
            25.069999999999997,
            29.299999999999997,
            38.68,
            24.409999999999997,
            15.029999999999994,
            18.009999999999998,
            27.659999999999997,
            20.099999999999994,
            37.669999999999995
           ],
           "y": [
            83.66,
            81.53,
            86.61,
            80.85,
            83.25,
            82.41,
            91.98,
            86.08,
            100.5,
            84.77,
            92.61
           ]
          },
          {
           "hoverinfo": "none",
           "marker": {
            "color": "#CBB67C",
            "line": {
             "color": "#663831",
             "width": 2
            },
            "size": 10
           },
           "mode": "markers",
           "name": "football",
           "type": "scatter",
           "x": [
            23.789999771118197
           ],
           "y": [
            79.7200012207031
           ]
          }
         ],
         "name": "21"
        },
        {
         "data": [
          {
           "hoverinfo": "none",
           "mode": "text",
           "showlegend": false,
           "text": [
            "10",
            "20",
            "30",
            "40",
            "50",
            "40",
            "30",
            "20",
            "10"
           ],
           "textfont": {
            "color": "#ffffff",
            "family": "Courier New, monospace",
            "size": 30
           },
           "type": "scatter",
           "x": [
            5,
            5,
            5,
            5,
            5,
            5,
            5,
            5,
            5
           ],
           "y": [
            20,
            30,
            40,
            50,
            60,
            70,
            80,
            90,
            100
           ]
          },
          {
           "hoverinfo": "none",
           "mode": "text",
           "showlegend": false,
           "text": [
            "10",
            "20",
            "30",
            "40",
            "50",
            "40",
            "30",
            "20",
            "10"
           ],
           "textfont": {
            "color": "#ffffff",
            "family": "Courier New, monospace",
            "size": 30
           },
           "type": "scatter",
           "x": [
            48.5,
            48.5,
            48.5,
            48.5,
            48.5,
            48.5,
            48.5,
            48.5,
            48.5
           ],
           "y": [
            20,
            30,
            40,
            50,
            60,
            70,
            80,
            90,
            100
           ]
          },
          {
           "hoverinfo": "none",
           "line": {
            "color": "blue",
            "dash": "dash"
           },
           "showlegend": false,
           "type": "scatter",
           "x": [
            0,
            53.5
           ],
           "y": [
            83,
            83
           ]
          },
          {
           "fill": "toself",
           "fillcolor": "#000000",
           "hoverinfo": "skip",
           "line": {
            "color": "white",
            "width": 3
           },
           "mode": "lines",
           "opacity": 1,
           "showlegend": false,
           "type": "scatter",
           "x": [
            0,
            53.5,
            53.5,
            0,
            0
           ],
           "y": [
            0,
            0,
            10,
            10,
            0
           ]
          },
          {
           "fill": "toself",
           "fillcolor": "#241773",
           "hoverinfo": "skip",
           "line": {
            "color": "white",
            "width": 3
           },
           "mode": "lines",
           "opacity": 1,
           "showlegend": false,
           "type": "scatter",
           "x": [
            0,
            53.5,
            53.5,
            0,
            0
           ],
           "y": [
            110,
            110,
            120,
            120,
            110
           ]
          },
          {
           "hoverinfo": "text",
           "hovertext": [
            "nflId:33099<br>displayName:Joe Flacco<br>",
            "nflId:42371<br>displayName:Laken Tomlinson<br>",
            "nflId:43433<br>displayName:Connor McGovern<br>",
            "nflId:43586<br>displayName:George Fant<br>",
            "nflId:44817<br>displayName:Corey Davis<br>",
            "nflId:46226<br>displayName:Tyler Conklin<br>",
            "nflId:46279<br>displayName:Braxton Berrios<br>",
            "nflId:53443<br>displayName:Alijah Vera-Tucker<br>",
            "nflId:53463<br>displayName:Elijah Moore<br>",
            "nflId:53536<br>displayName:Michael Carter<br>",
            "nflId:54576<br>displayName:Max Mitchell<br>"
           ],
           "marker": {
            "color": "#000000",
            "line": {
             "color": "#125740",
             "width": 2
            },
            "size": 10
           },
           "mode": "markers",
           "name": "NYJ",
           "type": "scatter",
           "x": [
            23.519999999999996,
            23.099999999999998,
            23.929999999999996,
            22.849999999999998,
            17.769999999999996,
            20.43,
            39.93,
            21.15,
            38.16,
            23.629999999999995,
            28.689999999999998
           ],
           "y": [
            78.16,
            83.36,
            82.56,
            85.03,
            83.89,
            84.04,
            80.75,
            81.64,
            82.4,
            80.26,
            80.49
           ]
          },
          {
           "hoverinfo": "text",
           "hovertext": [
            "nflId:33131<br>displayName:Calais Campbell<br>",
            "nflId:37145<br>displayName:Justin Houston<br>",
            "nflId:37778<br>displayName:Josh Bynes<br>",
            "nflId:40095<br>displayName:Steven Means<br>",
            "nflId:41240<br>displayName:Kyle Fuller<br>",
            "nflId:43694<br>displayName:Michael Pierce<br>",
            "nflId:44828<br>displayName:Marlon Humphrey<br>",
            "nflId:44854<br>displayName:Marcus Williams<br>",
            "nflId:44999<br>displayName:Chuck Clark<br>",
            "nflId:52436<br>displayName:Patrick Queen<br>",
            "nflId:53533<br>displayName:Brandon Stephens<br>"
           ],
           "marker": {
            "color": "#241773",
            "line": {
             "color": "#000000",
             "width": 2
            },
            "size": 10
           },
           "mode": "markers",
           "name": "BAL",
           "type": "scatter",
           "x": [
            23.539999999999996,
            21.009999999999998,
            24.999999999999996,
            29.359999999999996,
            39.059999999999995,
            24.449999999999996,
            15.18,
            18.059999999999995,
            27.589999999999996,
            19.9,
            37.8
           ],
           "y": [
            83.6,
            81.49,
            86.48,
            80.6,
            83.33,
            82.25,
            91.94,
            85.91,
            100.59,
            84.59,
            92.78
           ]
          },
          {
           "hoverinfo": "none",
           "marker": {
            "color": "#CBB67C",
            "line": {
             "color": "#663831",
             "width": 2
            },
            "size": 10
           },
           "mode": "markers",
           "name": "football",
           "type": "scatter",
           "x": [
            23.6799991607666
           ],
           "y": [
            80.0999984741211
           ]
          }
         ],
         "name": "22"
        },
        {
         "data": [
          {
           "hoverinfo": "none",
           "mode": "text",
           "showlegend": false,
           "text": [
            "10",
            "20",
            "30",
            "40",
            "50",
            "40",
            "30",
            "20",
            "10"
           ],
           "textfont": {
            "color": "#ffffff",
            "family": "Courier New, monospace",
            "size": 30
           },
           "type": "scatter",
           "x": [
            5,
            5,
            5,
            5,
            5,
            5,
            5,
            5,
            5
           ],
           "y": [
            20,
            30,
            40,
            50,
            60,
            70,
            80,
            90,
            100
           ]
          },
          {
           "hoverinfo": "none",
           "mode": "text",
           "showlegend": false,
           "text": [
            "10",
            "20",
            "30",
            "40",
            "50",
            "40",
            "30",
            "20",
            "10"
           ],
           "textfont": {
            "color": "#ffffff",
            "family": "Courier New, monospace",
            "size": 30
           },
           "type": "scatter",
           "x": [
            48.5,
            48.5,
            48.5,
            48.5,
            48.5,
            48.5,
            48.5,
            48.5,
            48.5
           ],
           "y": [
            20,
            30,
            40,
            50,
            60,
            70,
            80,
            90,
            100
           ]
          },
          {
           "hoverinfo": "none",
           "line": {
            "color": "blue",
            "dash": "dash"
           },
           "showlegend": false,
           "type": "scatter",
           "x": [
            0,
            53.5
           ],
           "y": [
            83,
            83
           ]
          },
          {
           "fill": "toself",
           "fillcolor": "#000000",
           "hoverinfo": "skip",
           "line": {
            "color": "white",
            "width": 3
           },
           "mode": "lines",
           "opacity": 1,
           "showlegend": false,
           "type": "scatter",
           "x": [
            0,
            53.5,
            53.5,
            0,
            0
           ],
           "y": [
            0,
            0,
            10,
            10,
            0
           ]
          },
          {
           "fill": "toself",
           "fillcolor": "#241773",
           "hoverinfo": "skip",
           "line": {
            "color": "white",
            "width": 3
           },
           "mode": "lines",
           "opacity": 1,
           "showlegend": false,
           "type": "scatter",
           "x": [
            0,
            53.5,
            53.5,
            0,
            0
           ],
           "y": [
            110,
            110,
            120,
            120,
            110
           ]
          },
          {
           "hoverinfo": "text",
           "hovertext": [
            "nflId:33099<br>displayName:Joe Flacco<br>",
            "nflId:42371<br>displayName:Laken Tomlinson<br>",
            "nflId:43433<br>displayName:Connor McGovern<br>",
            "nflId:43586<br>displayName:George Fant<br>",
            "nflId:44817<br>displayName:Corey Davis<br>",
            "nflId:46226<br>displayName:Tyler Conklin<br>",
            "nflId:46279<br>displayName:Braxton Berrios<br>",
            "nflId:53443<br>displayName:Alijah Vera-Tucker<br>",
            "nflId:53463<br>displayName:Elijah Moore<br>",
            "nflId:53536<br>displayName:Michael Carter<br>",
            "nflId:54576<br>displayName:Max Mitchell<br>"
           ],
           "marker": {
            "color": "#000000",
            "line": {
             "color": "#125740",
             "width": 2
            },
            "size": 10
           },
           "mode": "markers",
           "name": "NYJ",
           "type": "scatter",
           "x": [
            23.56,
            23.099999999999998,
            24.029999999999998,
            23.029999999999998,
            17.919999999999995,
            20.409999999999997,
            40.37,
            21.04,
            38.559999999999995,
            23.47,
            28.749999999999996
           ],
           "y": [
            78.11,
            83.31,
            82.5,
            85.22,
            84.1,
            84.07,
            80.71,
            81.64,
            82.41,
            80.65,
            80.29
           ]
          },
          {
           "hoverinfo": "text",
           "hovertext": [
            "nflId:33131<br>displayName:Calais Campbell<br>",
            "nflId:37145<br>displayName:Justin Houston<br>",
            "nflId:37778<br>displayName:Josh Bynes<br>",
            "nflId:40095<br>displayName:Steven Means<br>",
            "nflId:41240<br>displayName:Kyle Fuller<br>",
            "nflId:43694<br>displayName:Michael Pierce<br>",
            "nflId:44828<br>displayName:Marlon Humphrey<br>",
            "nflId:44854<br>displayName:Marcus Williams<br>",
            "nflId:44999<br>displayName:Chuck Clark<br>",
            "nflId:52436<br>displayName:Patrick Queen<br>",
            "nflId:53533<br>displayName:Brandon Stephens<br>"
           ],
           "marker": {
            "color": "#241773",
            "line": {
             "color": "#000000",
             "width": 2
            },
            "size": 10
           },
           "mode": "markers",
           "name": "BAL",
           "type": "scatter",
           "x": [
            23.569999999999997,
            21.299999999999997,
            24.929999999999996,
            29.409999999999997,
            39.44,
            24.479999999999997,
            15.349999999999994,
            18.099999999999994,
            27.519999999999996,
            19.699999999999996,
            37.9
           ],
           "y": [
            83.55,
            81.47,
            86.34,
            80.39,
            83.42,
            82.1,
            91.87,
            85.75,
            100.56,
            84.42,
            92.94
           ]
          },
          {
           "hoverinfo": "none",
           "marker": {
            "color": "#CBB67C",
            "line": {
             "color": "#663831",
             "width": 2
            },
            "size": 10
           },
           "mode": "markers",
           "name": "football",
           "type": "scatter",
           "x": [
            23.549999999999997
           ],
           "y": [
            80.5
           ]
          }
         ],
         "name": "23"
        },
        {
         "data": [
          {
           "hoverinfo": "none",
           "mode": "text",
           "showlegend": false,
           "text": [
            "10",
            "20",
            "30",
            "40",
            "50",
            "40",
            "30",
            "20",
            "10"
           ],
           "textfont": {
            "color": "#ffffff",
            "family": "Courier New, monospace",
            "size": 30
           },
           "type": "scatter",
           "x": [
            5,
            5,
            5,
            5,
            5,
            5,
            5,
            5,
            5
           ],
           "y": [
            20,
            30,
            40,
            50,
            60,
            70,
            80,
            90,
            100
           ]
          },
          {
           "hoverinfo": "none",
           "mode": "text",
           "showlegend": false,
           "text": [
            "10",
            "20",
            "30",
            "40",
            "50",
            "40",
            "30",
            "20",
            "10"
           ],
           "textfont": {
            "color": "#ffffff",
            "family": "Courier New, monospace",
            "size": 30
           },
           "type": "scatter",
           "x": [
            48.5,
            48.5,
            48.5,
            48.5,
            48.5,
            48.5,
            48.5,
            48.5,
            48.5
           ],
           "y": [
            20,
            30,
            40,
            50,
            60,
            70,
            80,
            90,
            100
           ]
          },
          {
           "hoverinfo": "none",
           "line": {
            "color": "blue",
            "dash": "dash"
           },
           "showlegend": false,
           "type": "scatter",
           "x": [
            0,
            53.5
           ],
           "y": [
            83,
            83
           ]
          },
          {
           "fill": "toself",
           "fillcolor": "#000000",
           "hoverinfo": "skip",
           "line": {
            "color": "white",
            "width": 3
           },
           "mode": "lines",
           "opacity": 1,
           "showlegend": false,
           "type": "scatter",
           "x": [
            0,
            53.5,
            53.5,
            0,
            0
           ],
           "y": [
            0,
            0,
            10,
            10,
            0
           ]
          },
          {
           "fill": "toself",
           "fillcolor": "#241773",
           "hoverinfo": "skip",
           "line": {
            "color": "white",
            "width": 3
           },
           "mode": "lines",
           "opacity": 1,
           "showlegend": false,
           "type": "scatter",
           "x": [
            0,
            53.5,
            53.5,
            0,
            0
           ],
           "y": [
            110,
            110,
            120,
            120,
            110
           ]
          },
          {
           "hoverinfo": "text",
           "hovertext": [
            "nflId:33099<br>displayName:Joe Flacco<br>",
            "nflId:42371<br>displayName:Laken Tomlinson<br>",
            "nflId:43433<br>displayName:Connor McGovern<br>",
            "nflId:43586<br>displayName:George Fant<br>",
            "nflId:44817<br>displayName:Corey Davis<br>",
            "nflId:46226<br>displayName:Tyler Conklin<br>",
            "nflId:46279<br>displayName:Braxton Berrios<br>",
            "nflId:53443<br>displayName:Alijah Vera-Tucker<br>",
            "nflId:53463<br>displayName:Elijah Moore<br>",
            "nflId:53536<br>displayName:Michael Carter<br>",
            "nflId:54576<br>displayName:Max Mitchell<br>"
           ],
           "marker": {
            "color": "#000000",
            "line": {
             "color": "#125740",
             "width": 2
            },
            "size": 10
           },
           "mode": "markers",
           "name": "NYJ",
           "type": "scatter",
           "x": [
            23.599999999999998,
            23.099999999999998,
            24.15,
            23.209999999999997,
            18.049999999999997,
            20.379999999999995,
            40.79,
            20.979999999999997,
            38.97,
            23.319999999999997,
            28.799999999999997
           ],
           "y": [
            78.06,
            83.26,
            82.42,
            85.39,
            84.29,
            84.06,
            80.68,
            81.66,
            82.45,
            81.03,
            80.1
           ]
          },
          {
           "hoverinfo": "text",
           "hovertext": [
            "nflId:33131<br>displayName:Calais Campbell<br>",
            "nflId:37145<br>displayName:Justin Houston<br>",
            "nflId:37778<br>displayName:Josh Bynes<br>",
            "nflId:40095<br>displayName:Steven Means<br>",
            "nflId:41240<br>displayName:Kyle Fuller<br>",
            "nflId:43694<br>displayName:Michael Pierce<br>",
            "nflId:44828<br>displayName:Marlon Humphrey<br>",
            "nflId:44854<br>displayName:Marcus Williams<br>",
            "nflId:44999<br>displayName:Chuck Clark<br>",
            "nflId:52436<br>displayName:Patrick Queen<br>",
            "nflId:53533<br>displayName:Brandon Stephens<br>"
           ],
           "marker": {
            "color": "#241773",
            "line": {
             "color": "#000000",
             "width": 2
            },
            "size": 10
           },
           "mode": "markers",
           "name": "BAL",
           "type": "scatter",
           "x": [
            23.529999999999998,
            21.58,
            24.869999999999997,
            29.449999999999996,
            39.809999999999995,
            24.499999999999996,
            15.549999999999997,
            18.15,
            27.439999999999998,
            19.529999999999994,
            37.919999999999995
           ],
           "y": [
            83.5,
            81.47,
            86.23,
            80.23,
            83.54,
            81.97,
            91.76,
            85.62,
            100.48,
            84.3,
            93.05
           ]
          },
          {
           "hoverinfo": "none",
           "marker": {
            "color": "#CBB67C",
            "line": {
             "color": "#663831",
             "width": 2
            },
            "size": 10
           },
           "mode": "markers",
           "name": "football",
           "type": "scatter",
           "x": [
            23.4000003814697
           ],
           "y": [
            80.9100036621094
           ]
          }
         ],
         "name": "24"
        },
        {
         "data": [
          {
           "hoverinfo": "none",
           "mode": "text",
           "showlegend": false,
           "text": [
            "10",
            "20",
            "30",
            "40",
            "50",
            "40",
            "30",
            "20",
            "10"
           ],
           "textfont": {
            "color": "#ffffff",
            "family": "Courier New, monospace",
            "size": 30
           },
           "type": "scatter",
           "x": [
            5,
            5,
            5,
            5,
            5,
            5,
            5,
            5,
            5
           ],
           "y": [
            20,
            30,
            40,
            50,
            60,
            70,
            80,
            90,
            100
           ]
          },
          {
           "hoverinfo": "none",
           "mode": "text",
           "showlegend": false,
           "text": [
            "10",
            "20",
            "30",
            "40",
            "50",
            "40",
            "30",
            "20",
            "10"
           ],
           "textfont": {
            "color": "#ffffff",
            "family": "Courier New, monospace",
            "size": 30
           },
           "type": "scatter",
           "x": [
            48.5,
            48.5,
            48.5,
            48.5,
            48.5,
            48.5,
            48.5,
            48.5,
            48.5
           ],
           "y": [
            20,
            30,
            40,
            50,
            60,
            70,
            80,
            90,
            100
           ]
          },
          {
           "hoverinfo": "none",
           "line": {
            "color": "blue",
            "dash": "dash"
           },
           "showlegend": false,
           "type": "scatter",
           "x": [
            0,
            53.5
           ],
           "y": [
            83,
            83
           ]
          },
          {
           "fill": "toself",
           "fillcolor": "#000000",
           "hoverinfo": "skip",
           "line": {
            "color": "white",
            "width": 3
           },
           "mode": "lines",
           "opacity": 1,
           "showlegend": false,
           "type": "scatter",
           "x": [
            0,
            53.5,
            53.5,
            0,
            0
           ],
           "y": [
            0,
            0,
            10,
            10,
            0
           ]
          },
          {
           "fill": "toself",
           "fillcolor": "#241773",
           "hoverinfo": "skip",
           "line": {
            "color": "white",
            "width": 3
           },
           "mode": "lines",
           "opacity": 1,
           "showlegend": false,
           "type": "scatter",
           "x": [
            0,
            53.5,
            53.5,
            0,
            0
           ],
           "y": [
            110,
            110,
            120,
            120,
            110
           ]
          },
          {
           "hoverinfo": "text",
           "hovertext": [
            "nflId:33099<br>displayName:Joe Flacco<br>",
            "nflId:42371<br>displayName:Laken Tomlinson<br>",
            "nflId:43433<br>displayName:Connor McGovern<br>",
            "nflId:43586<br>displayName:George Fant<br>",
            "nflId:44817<br>displayName:Corey Davis<br>",
            "nflId:46226<br>displayName:Tyler Conklin<br>",
            "nflId:46279<br>displayName:Braxton Berrios<br>",
            "nflId:53443<br>displayName:Alijah Vera-Tucker<br>",
            "nflId:53463<br>displayName:Elijah Moore<br>",
            "nflId:53536<br>displayName:Michael Carter<br>",
            "nflId:54576<br>displayName:Max Mitchell<br>"
           ],
           "marker": {
            "color": "#000000",
            "line": {
             "color": "#125740",
             "width": 2
            },
            "size": 10
           },
           "mode": "markers",
           "name": "NYJ",
           "type": "scatter",
           "x": [
            23.639999999999997,
            23.06,
            24.269999999999996,
            23.379999999999995,
            18.15,
            20.339999999999996,
            41.199999999999996,
            20.959999999999994,
            39.349999999999994,
            23.169999999999998,
            28.839999999999996
           ],
           "y": [
            78,
            83.23,
            82.35,
            85.52,
            84.46,
            84.04,
            80.64,
            81.68,
            82.51,
            81.4,
            79.96
           ]
          },
          {
           "hoverinfo": "text",
           "hovertext": [
            "nflId:33131<br>displayName:Calais Campbell<br>",
            "nflId:37145<br>displayName:Justin Houston<br>",
            "nflId:37778<br>displayName:Josh Bynes<br>",
            "nflId:40095<br>displayName:Steven Means<br>",
            "nflId:41240<br>displayName:Kyle Fuller<br>",
            "nflId:43694<br>displayName:Michael Pierce<br>",
            "nflId:44828<br>displayName:Marlon Humphrey<br>",
            "nflId:44854<br>displayName:Marcus Williams<br>",
            "nflId:44999<br>displayName:Chuck Clark<br>",
            "nflId:52436<br>displayName:Patrick Queen<br>",
            "nflId:53533<br>displayName:Brandon Stephens<br>"
           ],
           "marker": {
            "color": "#241773",
            "line": {
             "color": "#000000",
             "width": 2
            },
            "size": 10
           },
           "mode": "markers",
           "name": "BAL",
           "type": "scatter",
           "x": [
            23.479999999999997,
            21.849999999999998,
            24.819999999999997,
            29.479999999999997,
            40.16,
            24.509999999999998,
            15.769999999999996,
            18.199999999999996,
            27.369999999999997,
            19.369999999999997,
            37.87
           ],
           "y": [
            83.46,
            81.53,
            86.14,
            80.12,
            83.68,
            81.86,
            91.63,
            85.52,
            100.34,
            84.21,
            93.12
           ]
          },
          {
           "hoverinfo": "none",
           "marker": {
            "color": "#CBB67C",
            "line": {
             "color": "#663831",
             "width": 2
            },
            "size": 10
           },
           "mode": "markers",
           "name": "football",
           "type": "scatter",
           "x": [
            23.230000305175796
           ],
           "y": [
            81.3099975585938
           ]
          }
         ],
         "name": "25"
        },
        {
         "data": [
          {
           "hoverinfo": "none",
           "mode": "text",
           "showlegend": false,
           "text": [
            "10",
            "20",
            "30",
            "40",
            "50",
            "40",
            "30",
            "20",
            "10"
           ],
           "textfont": {
            "color": "#ffffff",
            "family": "Courier New, monospace",
            "size": 30
           },
           "type": "scatter",
           "x": [
            5,
            5,
            5,
            5,
            5,
            5,
            5,
            5,
            5
           ],
           "y": [
            20,
            30,
            40,
            50,
            60,
            70,
            80,
            90,
            100
           ]
          },
          {
           "hoverinfo": "none",
           "mode": "text",
           "showlegend": false,
           "text": [
            "10",
            "20",
            "30",
            "40",
            "50",
            "40",
            "30",
            "20",
            "10"
           ],
           "textfont": {
            "color": "#ffffff",
            "family": "Courier New, monospace",
            "size": 30
           },
           "type": "scatter",
           "x": [
            48.5,
            48.5,
            48.5,
            48.5,
            48.5,
            48.5,
            48.5,
            48.5,
            48.5
           ],
           "y": [
            20,
            30,
            40,
            50,
            60,
            70,
            80,
            90,
            100
           ]
          },
          {
           "hoverinfo": "none",
           "line": {
            "color": "blue",
            "dash": "dash"
           },
           "showlegend": false,
           "type": "scatter",
           "x": [
            0,
            53.5
           ],
           "y": [
            83,
            83
           ]
          },
          {
           "fill": "toself",
           "fillcolor": "#000000",
           "hoverinfo": "skip",
           "line": {
            "color": "white",
            "width": 3
           },
           "mode": "lines",
           "opacity": 1,
           "showlegend": false,
           "type": "scatter",
           "x": [
            0,
            53.5,
            53.5,
            0,
            0
           ],
           "y": [
            0,
            0,
            10,
            10,
            0
           ]
          },
          {
           "fill": "toself",
           "fillcolor": "#241773",
           "hoverinfo": "skip",
           "line": {
            "color": "white",
            "width": 3
           },
           "mode": "lines",
           "opacity": 1,
           "showlegend": false,
           "type": "scatter",
           "x": [
            0,
            53.5,
            53.5,
            0,
            0
           ],
           "y": [
            110,
            110,
            120,
            120,
            110
           ]
          },
          {
           "hoverinfo": "text",
           "hovertext": [
            "nflId:33099<br>displayName:Joe Flacco<br>",
            "nflId:42371<br>displayName:Laken Tomlinson<br>",
            "nflId:43433<br>displayName:Connor McGovern<br>",
            "nflId:43586<br>displayName:George Fant<br>",
            "nflId:44817<br>displayName:Corey Davis<br>",
            "nflId:46226<br>displayName:Tyler Conklin<br>",
            "nflId:46279<br>displayName:Braxton Berrios<br>",
            "nflId:53443<br>displayName:Alijah Vera-Tucker<br>",
            "nflId:53463<br>displayName:Elijah Moore<br>",
            "nflId:53536<br>displayName:Michael Carter<br>",
            "nflId:54576<br>displayName:Max Mitchell<br>"
           ],
           "marker": {
            "color": "#000000",
            "line": {
             "color": "#125740",
             "width": 2
            },
            "size": 10
           },
           "mode": "markers",
           "name": "NYJ",
           "type": "scatter",
           "x": [
            23.669999999999998,
            23.019999999999996,
            24.4,
            23.56,
            18.22,
            20.29,
            41.599999999999994,
            20.97,
            39.709999999999994,
            23.009999999999998,
            28.869999999999997
           ],
           "y": [
            77.95,
            83.2,
            82.29,
            85.64,
            84.61,
            84.02,
            80.6,
            81.7,
            82.58,
            81.75,
            79.86
           ]
          },
          {
           "hoverinfo": "text",
           "hovertext": [
            "nflId:33131<br>displayName:Calais Campbell<br>",
            "nflId:37145<br>displayName:Justin Houston<br>",
            "nflId:37778<br>displayName:Josh Bynes<br>",
            "nflId:40095<br>displayName:Steven Means<br>",
            "nflId:41240<br>displayName:Kyle Fuller<br>",
            "nflId:43694<br>displayName:Michael Pierce<br>",
            "nflId:44828<br>displayName:Marlon Humphrey<br>",
            "nflId:44854<br>displayName:Marcus Williams<br>",
            "nflId:44999<br>displayName:Chuck Clark<br>",
            "nflId:52436<br>displayName:Patrick Queen<br>",
            "nflId:53533<br>displayName:Brandon Stephens<br>"
           ],
           "marker": {
            "color": "#241773",
            "line": {
             "color": "#000000",
             "width": 2
            },
            "size": 10
           },
           "mode": "markers",
           "name": "BAL",
           "type": "scatter",
           "x": [
            23.389999999999997,
            22.099999999999998,
            24.789999999999996,
            29.499999999999996,
            40.48,
            24.439999999999998,
            16.009999999999998,
            18.259999999999998,
            27.289999999999996,
            19.239999999999995,
            37.78
           ],
           "y": [
            83.44,
            81.62,
            86.07,
            80.06,
            83.85,
            81.82,
            91.46,
            85.45,
            100.15,
            84.16,
            93.15
           ]
          },
          {
           "hoverinfo": "none",
           "marker": {
            "color": "#CBB67C",
            "line": {
             "color": "#663831",
             "width": 2
            },
            "size": 10
           },
           "mode": "markers",
           "name": "football",
           "type": "scatter",
           "x": [
            23.060000228881798
           ],
           "y": [
            81.6999969482422
           ]
          }
         ],
         "name": "26"
        },
        {
         "data": [
          {
           "hoverinfo": "none",
           "mode": "text",
           "showlegend": false,
           "text": [
            "10",
            "20",
            "30",
            "40",
            "50",
            "40",
            "30",
            "20",
            "10"
           ],
           "textfont": {
            "color": "#ffffff",
            "family": "Courier New, monospace",
            "size": 30
           },
           "type": "scatter",
           "x": [
            5,
            5,
            5,
            5,
            5,
            5,
            5,
            5,
            5
           ],
           "y": [
            20,
            30,
            40,
            50,
            60,
            70,
            80,
            90,
            100
           ]
          },
          {
           "hoverinfo": "none",
           "mode": "text",
           "showlegend": false,
           "text": [
            "10",
            "20",
            "30",
            "40",
            "50",
            "40",
            "30",
            "20",
            "10"
           ],
           "textfont": {
            "color": "#ffffff",
            "family": "Courier New, monospace",
            "size": 30
           },
           "type": "scatter",
           "x": [
            48.5,
            48.5,
            48.5,
            48.5,
            48.5,
            48.5,
            48.5,
            48.5,
            48.5
           ],
           "y": [
            20,
            30,
            40,
            50,
            60,
            70,
            80,
            90,
            100
           ]
          },
          {
           "hoverinfo": "none",
           "line": {
            "color": "blue",
            "dash": "dash"
           },
           "showlegend": false,
           "type": "scatter",
           "x": [
            0,
            53.5
           ],
           "y": [
            83,
            83
           ]
          },
          {
           "fill": "toself",
           "fillcolor": "#000000",
           "hoverinfo": "skip",
           "line": {
            "color": "white",
            "width": 3
           },
           "mode": "lines",
           "opacity": 1,
           "showlegend": false,
           "type": "scatter",
           "x": [
            0,
            53.5,
            53.5,
            0,
            0
           ],
           "y": [
            0,
            0,
            10,
            10,
            0
           ]
          },
          {
           "fill": "toself",
           "fillcolor": "#241773",
           "hoverinfo": "skip",
           "line": {
            "color": "white",
            "width": 3
           },
           "mode": "lines",
           "opacity": 1,
           "showlegend": false,
           "type": "scatter",
           "x": [
            0,
            53.5,
            53.5,
            0,
            0
           ],
           "y": [
            110,
            110,
            120,
            120,
            110
           ]
          },
          {
           "hoverinfo": "text",
           "hovertext": [
            "nflId:33099<br>displayName:Joe Flacco<br>",
            "nflId:42371<br>displayName:Laken Tomlinson<br>",
            "nflId:43433<br>displayName:Connor McGovern<br>",
            "nflId:43586<br>displayName:George Fant<br>",
            "nflId:44817<br>displayName:Corey Davis<br>",
            "nflId:46226<br>displayName:Tyler Conklin<br>",
            "nflId:46279<br>displayName:Braxton Berrios<br>",
            "nflId:53443<br>displayName:Alijah Vera-Tucker<br>",
            "nflId:53463<br>displayName:Elijah Moore<br>",
            "nflId:53536<br>displayName:Michael Carter<br>",
            "nflId:54576<br>displayName:Max Mitchell<br>"
           ],
           "marker": {
            "color": "#000000",
            "line": {
             "color": "#125740",
             "width": 2
            },
            "size": 10
           },
           "mode": "markers",
           "name": "NYJ",
           "type": "scatter",
           "x": [
            23.699999999999996,
            22.97,
            24.529999999999998,
            23.729999999999997,
            18.269999999999996,
            20.239999999999995,
            41.98,
            21.009999999999998,
            40.05,
            22.869999999999997,
            28.889999999999997
           ],
           "y": [
            77.89,
            83.18,
            82.22,
            85.76,
            84.72,
            83.98,
            80.56,
            81.74,
            82.67,
            82.08,
            79.8
           ]
          },
          {
           "hoverinfo": "text",
           "hovertext": [
            "nflId:33131<br>displayName:Calais Campbell<br>",
            "nflId:37145<br>displayName:Justin Houston<br>",
            "nflId:37778<br>displayName:Josh Bynes<br>",
            "nflId:40095<br>displayName:Steven Means<br>",
            "nflId:41240<br>displayName:Kyle Fuller<br>",
            "nflId:43694<br>displayName:Michael Pierce<br>",
            "nflId:44828<br>displayName:Marlon Humphrey<br>",
            "nflId:44854<br>displayName:Marcus Williams<br>",
            "nflId:44999<br>displayName:Chuck Clark<br>",
            "nflId:52436<br>displayName:Patrick Queen<br>",
            "nflId:53533<br>displayName:Brandon Stephens<br>"
           ],
           "marker": {
            "color": "#241773",
            "line": {
             "color": "#000000",
             "width": 2
            },
            "size": 10
           },
           "mode": "markers",
           "name": "BAL",
           "type": "scatter",
           "x": [
            23.279999999999998,
            22.299999999999997,
            24.779999999999998,
            29.499999999999996,
            40.739999999999995,
            24.349999999999998,
            16.269999999999996,
            18.349999999999994,
            27.199999999999996,
            19.14,
            37.629999999999995
           ],
           "y": [
            83.45,
            81.73,
            86.04,
            80.07,
            84.06,
            81.79,
            91.27,
            85.43,
            99.9,
            84.16,
            93.16
           ]
          },
          {
           "hoverinfo": "none",
           "marker": {
            "color": "#CBB67C",
            "line": {
             "color": "#663831",
             "width": 2
            },
            "size": 10
           },
           "mode": "markers",
           "name": "football",
           "type": "scatter",
           "x": [
            22.869999694824198
           ],
           "y": [
            82.0599975585938
           ]
          }
         ],
         "name": "27"
        },
        {
         "data": [
          {
           "hoverinfo": "none",
           "mode": "text",
           "showlegend": false,
           "text": [
            "10",
            "20",
            "30",
            "40",
            "50",
            "40",
            "30",
            "20",
            "10"
           ],
           "textfont": {
            "color": "#ffffff",
            "family": "Courier New, monospace",
            "size": 30
           },
           "type": "scatter",
           "x": [
            5,
            5,
            5,
            5,
            5,
            5,
            5,
            5,
            5
           ],
           "y": [
            20,
            30,
            40,
            50,
            60,
            70,
            80,
            90,
            100
           ]
          },
          {
           "hoverinfo": "none",
           "mode": "text",
           "showlegend": false,
           "text": [
            "10",
            "20",
            "30",
            "40",
            "50",
            "40",
            "30",
            "20",
            "10"
           ],
           "textfont": {
            "color": "#ffffff",
            "family": "Courier New, monospace",
            "size": 30
           },
           "type": "scatter",
           "x": [
            48.5,
            48.5,
            48.5,
            48.5,
            48.5,
            48.5,
            48.5,
            48.5,
            48.5
           ],
           "y": [
            20,
            30,
            40,
            50,
            60,
            70,
            80,
            90,
            100
           ]
          },
          {
           "hoverinfo": "none",
           "line": {
            "color": "blue",
            "dash": "dash"
           },
           "showlegend": false,
           "type": "scatter",
           "x": [
            0,
            53.5
           ],
           "y": [
            83,
            83
           ]
          },
          {
           "fill": "toself",
           "fillcolor": "#000000",
           "hoverinfo": "skip",
           "line": {
            "color": "white",
            "width": 3
           },
           "mode": "lines",
           "opacity": 1,
           "showlegend": false,
           "type": "scatter",
           "x": [
            0,
            53.5,
            53.5,
            0,
            0
           ],
           "y": [
            0,
            0,
            10,
            10,
            0
           ]
          },
          {
           "fill": "toself",
           "fillcolor": "#241773",
           "hoverinfo": "skip",
           "line": {
            "color": "white",
            "width": 3
           },
           "mode": "lines",
           "opacity": 1,
           "showlegend": false,
           "type": "scatter",
           "x": [
            0,
            53.5,
            53.5,
            0,
            0
           ],
           "y": [
            110,
            110,
            120,
            120,
            110
           ]
          },
          {
           "hoverinfo": "text",
           "hovertext": [
            "nflId:33099<br>displayName:Joe Flacco<br>",
            "nflId:42371<br>displayName:Laken Tomlinson<br>",
            "nflId:43433<br>displayName:Connor McGovern<br>",
            "nflId:43586<br>displayName:George Fant<br>",
            "nflId:44817<br>displayName:Corey Davis<br>",
            "nflId:46226<br>displayName:Tyler Conklin<br>",
            "nflId:46279<br>displayName:Braxton Berrios<br>",
            "nflId:53443<br>displayName:Alijah Vera-Tucker<br>",
            "nflId:53463<br>displayName:Elijah Moore<br>",
            "nflId:53536<br>displayName:Michael Carter<br>",
            "nflId:54576<br>displayName:Max Mitchell<br>"
           ],
           "marker": {
            "color": "#000000",
            "line": {
             "color": "#125740",
             "width": 2
            },
            "size": 10
           },
           "mode": "markers",
           "name": "NYJ",
           "type": "scatter",
           "x": [
            23.72,
            22.879999999999995,
            24.65,
            23.889999999999997,
            18.299999999999997,
            20.169999999999995,
            42.33,
            21.089999999999996,
            40.37,
            22.72,
            28.909999999999997
           ],
           "y": [
            77.84,
            83.2,
            82.17,
            85.85,
            84.81,
            83.95,
            80.51,
            81.78,
            82.79,
            82.34,
            79.79
           ]
          },
          {
           "hoverinfo": "text",
           "hovertext": [
            "nflId:33131<br>displayName:Calais Campbell<br>",
            "nflId:37145<br>displayName:Justin Houston<br>",
            "nflId:37778<br>displayName:Josh Bynes<br>",
            "nflId:40095<br>displayName:Steven Means<br>",
            "nflId:41240<br>displayName:Kyle Fuller<br>",
            "nflId:43694<br>displayName:Michael Pierce<br>",
            "nflId:44828<br>displayName:Marlon Humphrey<br>",
            "nflId:44854<br>displayName:Marcus Williams<br>",
            "nflId:44999<br>displayName:Chuck Clark<br>",
            "nflId:52436<br>displayName:Patrick Queen<br>",
            "nflId:53533<br>displayName:Brandon Stephens<br>"
           ],
           "marker": {
            "color": "#241773",
            "line": {
             "color": "#000000",
             "width": 2
            },
            "size": 10
           },
           "mode": "markers",
           "name": "BAL",
           "type": "scatter",
           "x": [
            23.15,
            22.479999999999997,
            24.789999999999996,
            29.49,
            40.97,
            24.269999999999996,
            16.54,
            18.449999999999996,
            27.119999999999997,
            19.059999999999995,
            37.44
           ],
           "y": [
            83.45,
            81.85,
            86.06,
            80.13,
            84.28,
            81.77,
            91.05,
            85.41,
            99.6,
            84.2,
            93.16
           ]
          },
          {
           "hoverinfo": "none",
           "marker": {
            "color": "#CBB67C",
            "line": {
             "color": "#663831",
             "width": 2
            },
            "size": 10
           },
           "mode": "markers",
           "name": "football",
           "type": "scatter",
           "x": [
            22.6500003814697
           ],
           "y": [
            82.379997253418
           ]
          }
         ],
         "name": "28"
        },
        {
         "data": [
          {
           "hoverinfo": "none",
           "mode": "text",
           "showlegend": false,
           "text": [
            "10",
            "20",
            "30",
            "40",
            "50",
            "40",
            "30",
            "20",
            "10"
           ],
           "textfont": {
            "color": "#ffffff",
            "family": "Courier New, monospace",
            "size": 30
           },
           "type": "scatter",
           "x": [
            5,
            5,
            5,
            5,
            5,
            5,
            5,
            5,
            5
           ],
           "y": [
            20,
            30,
            40,
            50,
            60,
            70,
            80,
            90,
            100
           ]
          },
          {
           "hoverinfo": "none",
           "mode": "text",
           "showlegend": false,
           "text": [
            "10",
            "20",
            "30",
            "40",
            "50",
            "40",
            "30",
            "20",
            "10"
           ],
           "textfont": {
            "color": "#ffffff",
            "family": "Courier New, monospace",
            "size": 30
           },
           "type": "scatter",
           "x": [
            48.5,
            48.5,
            48.5,
            48.5,
            48.5,
            48.5,
            48.5,
            48.5,
            48.5
           ],
           "y": [
            20,
            30,
            40,
            50,
            60,
            70,
            80,
            90,
            100
           ]
          },
          {
           "hoverinfo": "none",
           "line": {
            "color": "blue",
            "dash": "dash"
           },
           "showlegend": false,
           "type": "scatter",
           "x": [
            0,
            53.5
           ],
           "y": [
            83,
            83
           ]
          },
          {
           "fill": "toself",
           "fillcolor": "#000000",
           "hoverinfo": "skip",
           "line": {
            "color": "white",
            "width": 3
           },
           "mode": "lines",
           "opacity": 1,
           "showlegend": false,
           "type": "scatter",
           "x": [
            0,
            53.5,
            53.5,
            0,
            0
           ],
           "y": [
            0,
            0,
            10,
            10,
            0
           ]
          },
          {
           "fill": "toself",
           "fillcolor": "#241773",
           "hoverinfo": "skip",
           "line": {
            "color": "white",
            "width": 3
           },
           "mode": "lines",
           "opacity": 1,
           "showlegend": false,
           "type": "scatter",
           "x": [
            0,
            53.5,
            53.5,
            0,
            0
           ],
           "y": [
            110,
            110,
            120,
            120,
            110
           ]
          },
          {
           "hoverinfo": "text",
           "hovertext": [
            "nflId:33099<br>displayName:Joe Flacco<br>",
            "nflId:42371<br>displayName:Laken Tomlinson<br>",
            "nflId:43433<br>displayName:Connor McGovern<br>",
            "nflId:43586<br>displayName:George Fant<br>",
            "nflId:44817<br>displayName:Corey Davis<br>",
            "nflId:46226<br>displayName:Tyler Conklin<br>",
            "nflId:46279<br>displayName:Braxton Berrios<br>",
            "nflId:53443<br>displayName:Alijah Vera-Tucker<br>",
            "nflId:53463<br>displayName:Elijah Moore<br>",
            "nflId:53536<br>displayName:Michael Carter<br>",
            "nflId:54576<br>displayName:Max Mitchell<br>"
           ],
           "marker": {
            "color": "#000000",
            "line": {
             "color": "#125740",
             "width": 2
            },
            "size": 10
           },
           "mode": "markers",
           "name": "NYJ",
           "type": "scatter",
           "x": [
            23.74,
            22.74,
            24.769999999999996,
            24.049999999999997,
            18.339999999999996,
            20.099999999999994,
            42.669999999999995,
            21.189999999999998,
            40.65,
            22.569999999999997,
            28.929999999999996
           ],
           "y": [
            77.78,
            83.26,
            82.13,
            85.95,
            84.88,
            83.93,
            80.47,
            81.81,
            82.91,
            82.61,
            79.83
           ]
          },
          {
           "hoverinfo": "text",
           "hovertext": [
            "nflId:33131<br>displayName:Calais Campbell<br>",
            "nflId:37145<br>displayName:Justin Houston<br>",
            "nflId:37778<br>displayName:Josh Bynes<br>",
            "nflId:40095<br>displayName:Steven Means<br>",
            "nflId:41240<br>displayName:Kyle Fuller<br>",
            "nflId:43694<br>displayName:Michael Pierce<br>",
            "nflId:44828<br>displayName:Marlon Humphrey<br>",
            "nflId:44854<br>displayName:Marcus Williams<br>",
            "nflId:44999<br>displayName:Chuck Clark<br>",
            "nflId:52436<br>displayName:Patrick Queen<br>",
            "nflId:53533<br>displayName:Brandon Stephens<br>"
           ],
           "marker": {
            "color": "#241773",
            "line": {
             "color": "#000000",
             "width": 2
            },
            "size": 10
           },
           "mode": "markers",
           "name": "BAL",
           "type": "scatter",
           "x": [
            23.019999999999996,
            22.609999999999996,
            24.819999999999997,
            29.47,
            41.14,
            24.179999999999996,
            16.799999999999997,
            18.549999999999997,
            27.019999999999996,
            19.019999999999996,
            37.19
           ],
           "y": [
            83.46,
            81.98,
            86.1,
            80.24,
            84.52,
            81.78,
            90.82,
            85.43,
            99.25,
            84.28,
            93.13
           ]
          },
          {
           "hoverinfo": "none",
           "marker": {
            "color": "#CBB67C",
            "line": {
             "color": "#663831",
             "width": 2
            },
            "size": 10
           },
           "mode": "markers",
           "name": "football",
           "type": "scatter",
           "x": [
            22.449999618530295
           ],
           "y": [
            82.6800003051758
           ]
          }
         ],
         "name": "29"
        },
        {
         "data": [
          {
           "hoverinfo": "none",
           "mode": "text",
           "showlegend": false,
           "text": [
            "10",
            "20",
            "30",
            "40",
            "50",
            "40",
            "30",
            "20",
            "10"
           ],
           "textfont": {
            "color": "#ffffff",
            "family": "Courier New, monospace",
            "size": 30
           },
           "type": "scatter",
           "x": [
            5,
            5,
            5,
            5,
            5,
            5,
            5,
            5,
            5
           ],
           "y": [
            20,
            30,
            40,
            50,
            60,
            70,
            80,
            90,
            100
           ]
          },
          {
           "hoverinfo": "none",
           "mode": "text",
           "showlegend": false,
           "text": [
            "10",
            "20",
            "30",
            "40",
            "50",
            "40",
            "30",
            "20",
            "10"
           ],
           "textfont": {
            "color": "#ffffff",
            "family": "Courier New, monospace",
            "size": 30
           },
           "type": "scatter",
           "x": [
            48.5,
            48.5,
            48.5,
            48.5,
            48.5,
            48.5,
            48.5,
            48.5,
            48.5
           ],
           "y": [
            20,
            30,
            40,
            50,
            60,
            70,
            80,
            90,
            100
           ]
          },
          {
           "hoverinfo": "none",
           "line": {
            "color": "blue",
            "dash": "dash"
           },
           "showlegend": false,
           "type": "scatter",
           "x": [
            0,
            53.5
           ],
           "y": [
            83,
            83
           ]
          },
          {
           "fill": "toself",
           "fillcolor": "#000000",
           "hoverinfo": "skip",
           "line": {
            "color": "white",
            "width": 3
           },
           "mode": "lines",
           "opacity": 1,
           "showlegend": false,
           "type": "scatter",
           "x": [
            0,
            53.5,
            53.5,
            0,
            0
           ],
           "y": [
            0,
            0,
            10,
            10,
            0
           ]
          },
          {
           "fill": "toself",
           "fillcolor": "#241773",
           "hoverinfo": "skip",
           "line": {
            "color": "white",
            "width": 3
           },
           "mode": "lines",
           "opacity": 1,
           "showlegend": false,
           "type": "scatter",
           "x": [
            0,
            53.5,
            53.5,
            0,
            0
           ],
           "y": [
            110,
            110,
            120,
            120,
            110
           ]
          },
          {
           "hoverinfo": "text",
           "hovertext": [
            "nflId:33099<br>displayName:Joe Flacco<br>",
            "nflId:42371<br>displayName:Laken Tomlinson<br>",
            "nflId:43433<br>displayName:Connor McGovern<br>",
            "nflId:43586<br>displayName:George Fant<br>",
            "nflId:44817<br>displayName:Corey Davis<br>",
            "nflId:46226<br>displayName:Tyler Conklin<br>",
            "nflId:46279<br>displayName:Braxton Berrios<br>",
            "nflId:53443<br>displayName:Alijah Vera-Tucker<br>",
            "nflId:53463<br>displayName:Elijah Moore<br>",
            "nflId:53536<br>displayName:Michael Carter<br>",
            "nflId:54576<br>displayName:Max Mitchell<br>"
           ],
           "marker": {
            "color": "#000000",
            "line": {
             "color": "#125740",
             "width": 2
            },
            "size": 10
           },
           "mode": "markers",
           "name": "NYJ",
           "type": "scatter",
           "x": [
            23.749999999999996,
            22.599999999999998,
            24.889999999999997,
            24.199999999999996,
            18.369999999999997,
            20.019999999999996,
            42.989999999999995,
            21.31,
            40.9,
            22.419999999999998,
            28.939999999999998
           ],
           "y": [
            77.73,
            83.32,
            82.13,
            86.04,
            84.94,
            83.93,
            80.44,
            81.84,
            83.04,
            82.85,
            79.93
           ]
          },
          {
           "hoverinfo": "text",
           "hovertext": [
            "nflId:33131<br>displayName:Calais Campbell<br>",
            "nflId:37145<br>displayName:Justin Houston<br>",
            "nflId:37778<br>displayName:Josh Bynes<br>",
            "nflId:40095<br>displayName:Steven Means<br>",
            "nflId:41240<br>displayName:Kyle Fuller<br>",
            "nflId:43694<br>displayName:Michael Pierce<br>",
            "nflId:44828<br>displayName:Marlon Humphrey<br>",
            "nflId:44854<br>displayName:Marcus Williams<br>",
            "nflId:44999<br>displayName:Chuck Clark<br>",
            "nflId:52436<br>displayName:Patrick Queen<br>",
            "nflId:53533<br>displayName:Brandon Stephens<br>"
           ],
           "marker": {
            "color": "#241773",
            "line": {
             "color": "#000000",
             "width": 2
            },
            "size": 10
           },
           "mode": "markers",
           "name": "BAL",
           "type": "scatter",
           "x": [
            22.769999999999996,
            22.709999999999997,
            24.849999999999998,
            29.419999999999998,
            41.26,
            24.08,
            17.08,
            18.669999999999995,
            26.909999999999997,
            19.009999999999998,
            36.9
           ],
           "y": [
            83.61,
            82.13,
            86.22,
            80.4,
            84.78,
            81.8,
            90.57,
            85.46,
            98.86,
            84.39,
            93.08
           ]
          },
          {
           "hoverinfo": "none",
           "marker": {
            "color": "#CBB67C",
            "line": {
             "color": "#663831",
             "width": 2
            },
            "size": 10
           },
           "mode": "markers",
           "name": "football",
           "type": "scatter",
           "x": [
            22.259999084472696
           ],
           "y": [
            82.9499969482422
           ]
          }
         ],
         "name": "30"
        },
        {
         "data": [
          {
           "hoverinfo": "none",
           "mode": "text",
           "showlegend": false,
           "text": [
            "10",
            "20",
            "30",
            "40",
            "50",
            "40",
            "30",
            "20",
            "10"
           ],
           "textfont": {
            "color": "#ffffff",
            "family": "Courier New, monospace",
            "size": 30
           },
           "type": "scatter",
           "x": [
            5,
            5,
            5,
            5,
            5,
            5,
            5,
            5,
            5
           ],
           "y": [
            20,
            30,
            40,
            50,
            60,
            70,
            80,
            90,
            100
           ]
          },
          {
           "hoverinfo": "none",
           "mode": "text",
           "showlegend": false,
           "text": [
            "10",
            "20",
            "30",
            "40",
            "50",
            "40",
            "30",
            "20",
            "10"
           ],
           "textfont": {
            "color": "#ffffff",
            "family": "Courier New, monospace",
            "size": 30
           },
           "type": "scatter",
           "x": [
            48.5,
            48.5,
            48.5,
            48.5,
            48.5,
            48.5,
            48.5,
            48.5,
            48.5
           ],
           "y": [
            20,
            30,
            40,
            50,
            60,
            70,
            80,
            90,
            100
           ]
          },
          {
           "hoverinfo": "none",
           "line": {
            "color": "blue",
            "dash": "dash"
           },
           "showlegend": false,
           "type": "scatter",
           "x": [
            0,
            53.5
           ],
           "y": [
            83,
            83
           ]
          },
          {
           "fill": "toself",
           "fillcolor": "#000000",
           "hoverinfo": "skip",
           "line": {
            "color": "white",
            "width": 3
           },
           "mode": "lines",
           "opacity": 1,
           "showlegend": false,
           "type": "scatter",
           "x": [
            0,
            53.5,
            53.5,
            0,
            0
           ],
           "y": [
            0,
            0,
            10,
            10,
            0
           ]
          },
          {
           "fill": "toself",
           "fillcolor": "#241773",
           "hoverinfo": "skip",
           "line": {
            "color": "white",
            "width": 3
           },
           "mode": "lines",
           "opacity": 1,
           "showlegend": false,
           "type": "scatter",
           "x": [
            0,
            53.5,
            53.5,
            0,
            0
           ],
           "y": [
            110,
            110,
            120,
            120,
            110
           ]
          },
          {
           "hoverinfo": "text",
           "hovertext": [
            "nflId:33099<br>displayName:Joe Flacco<br>",
            "nflId:42371<br>displayName:Laken Tomlinson<br>",
            "nflId:43433<br>displayName:Connor McGovern<br>",
            "nflId:43586<br>displayName:George Fant<br>",
            "nflId:44817<br>displayName:Corey Davis<br>",
            "nflId:46226<br>displayName:Tyler Conklin<br>",
            "nflId:46279<br>displayName:Braxton Berrios<br>",
            "nflId:53443<br>displayName:Alijah Vera-Tucker<br>",
            "nflId:53463<br>displayName:Elijah Moore<br>",
            "nflId:53536<br>displayName:Michael Carter<br>",
            "nflId:54576<br>displayName:Max Mitchell<br>"
           ],
           "marker": {
            "color": "#000000",
            "line": {
             "color": "#125740",
             "width": 2
            },
            "size": 10
           },
           "mode": "markers",
           "name": "NYJ",
           "type": "scatter",
           "x": [
            23.749999999999996,
            22.459999999999997,
            24.99,
            24.33,
            18.43,
            19.939999999999998,
            43.29,
            21.419999999999998,
            41.129999999999995,
            22.209999999999997,
            28.939999999999998
           ],
           "y": [
            77.68,
            83.38,
            82.14,
            86.14,
            85.02,
            83.93,
            80.41,
            81.87,
            83.17,
            82.93,
            80.09
           ]
          },
          {
           "hoverinfo": "text",
           "hovertext": [
            "nflId:33131<br>displayName:Calais Campbell<br>",
            "nflId:37145<br>displayName:Justin Houston<br>",
            "nflId:37778<br>displayName:Josh Bynes<br>",
            "nflId:40095<br>displayName:Steven Means<br>",
            "nflId:41240<br>displayName:Kyle Fuller<br>",
            "nflId:43694<br>displayName:Michael Pierce<br>",
            "nflId:44828<br>displayName:Marlon Humphrey<br>",
            "nflId:44854<br>displayName:Marcus Williams<br>",
            "nflId:44999<br>displayName:Chuck Clark<br>",
            "nflId:52436<br>displayName:Patrick Queen<br>",
            "nflId:53533<br>displayName:Brandon Stephens<br>"
           ],
           "marker": {
            "color": "#241773",
            "line": {
             "color": "#000000",
             "width": 2
            },
            "size": 10
           },
           "mode": "markers",
           "name": "BAL",
           "type": "scatter",
           "x": [
            22.569999999999997,
            22.789999999999996,
            24.9,
            29.359999999999996,
            41.33,
            23.99,
            17.369999999999997,
            18.83,
            26.779999999999998,
            19.04,
            36.56
           ],
           "y": [
            83.72,
            82.27,
            86.36,
            80.6,
            85.04,
            81.84,
            90.32,
            85.52,
            98.42,
            84.5,
            93.01
           ]
          },
          {
           "hoverinfo": "none",
           "marker": {
            "color": "#CBB67C",
            "line": {
             "color": "#663831",
             "width": 2
            },
            "size": 10
           },
           "mode": "markers",
           "name": "football",
           "type": "scatter",
           "x": [
            22.0900009155273
           ],
           "y": [
            82.9899978637695
           ]
          }
         ],
         "name": "31"
        },
        {
         "data": [
          {
           "hoverinfo": "none",
           "mode": "text",
           "showlegend": false,
           "text": [
            "10",
            "20",
            "30",
            "40",
            "50",
            "40",
            "30",
            "20",
            "10"
           ],
           "textfont": {
            "color": "#ffffff",
            "family": "Courier New, monospace",
            "size": 30
           },
           "type": "scatter",
           "x": [
            5,
            5,
            5,
            5,
            5,
            5,
            5,
            5,
            5
           ],
           "y": [
            20,
            30,
            40,
            50,
            60,
            70,
            80,
            90,
            100
           ]
          },
          {
           "hoverinfo": "none",
           "mode": "text",
           "showlegend": false,
           "text": [
            "10",
            "20",
            "30",
            "40",
            "50",
            "40",
            "30",
            "20",
            "10"
           ],
           "textfont": {
            "color": "#ffffff",
            "family": "Courier New, monospace",
            "size": 30
           },
           "type": "scatter",
           "x": [
            48.5,
            48.5,
            48.5,
            48.5,
            48.5,
            48.5,
            48.5,
            48.5,
            48.5
           ],
           "y": [
            20,
            30,
            40,
            50,
            60,
            70,
            80,
            90,
            100
           ]
          },
          {
           "hoverinfo": "none",
           "line": {
            "color": "blue",
            "dash": "dash"
           },
           "showlegend": false,
           "type": "scatter",
           "x": [
            0,
            53.5
           ],
           "y": [
            83,
            83
           ]
          },
          {
           "fill": "toself",
           "fillcolor": "#000000",
           "hoverinfo": "skip",
           "line": {
            "color": "white",
            "width": 3
           },
           "mode": "lines",
           "opacity": 1,
           "showlegend": false,
           "type": "scatter",
           "x": [
            0,
            53.5,
            53.5,
            0,
            0
           ],
           "y": [
            0,
            0,
            10,
            10,
            0
           ]
          },
          {
           "fill": "toself",
           "fillcolor": "#241773",
           "hoverinfo": "skip",
           "line": {
            "color": "white",
            "width": 3
           },
           "mode": "lines",
           "opacity": 1,
           "showlegend": false,
           "type": "scatter",
           "x": [
            0,
            53.5,
            53.5,
            0,
            0
           ],
           "y": [
            110,
            110,
            120,
            120,
            110
           ]
          },
          {
           "hoverinfo": "text",
           "hovertext": [
            "nflId:33099<br>displayName:Joe Flacco<br>",
            "nflId:42371<br>displayName:Laken Tomlinson<br>",
            "nflId:43433<br>displayName:Connor McGovern<br>",
            "nflId:43586<br>displayName:George Fant<br>",
            "nflId:44817<br>displayName:Corey Davis<br>",
            "nflId:46226<br>displayName:Tyler Conklin<br>",
            "nflId:46279<br>displayName:Braxton Berrios<br>",
            "nflId:53443<br>displayName:Alijah Vera-Tucker<br>",
            "nflId:53463<br>displayName:Elijah Moore<br>",
            "nflId:53536<br>displayName:Michael Carter<br>",
            "nflId:54576<br>displayName:Max Mitchell<br>"
           ],
           "marker": {
            "color": "#000000",
            "line": {
             "color": "#125740",
             "width": 2
            },
            "size": 10
           },
           "mode": "markers",
           "name": "NYJ",
           "type": "scatter",
           "x": [
            23.749999999999996,
            22.31,
            25.049999999999997,
            24.439999999999998,
            18.489999999999995,
            19.869999999999997,
            43.559999999999995,
            21.539999999999996,
            41.31999999999999,
            22.049999999999997,
            28.929999999999996
           ],
           "y": [
            77.64,
            83.46,
            82.16,
            86.25,
            85.09,
            83.96,
            80.39,
            81.9,
            83.3,
            83.07,
            80.3
           ]
          },
          {
           "hoverinfo": "text",
           "hovertext": [
            "nflId:33131<br>displayName:Calais Campbell<br>",
            "nflId:37145<br>displayName:Justin Houston<br>",
            "nflId:37778<br>displayName:Josh Bynes<br>",
            "nflId:40095<br>displayName:Steven Means<br>",
            "nflId:41240<br>displayName:Kyle Fuller<br>",
            "nflId:43694<br>displayName:Michael Pierce<br>",
            "nflId:44828<br>displayName:Marlon Humphrey<br>",
            "nflId:44854<br>displayName:Marcus Williams<br>",
            "nflId:44999<br>displayName:Chuck Clark<br>",
            "nflId:52436<br>displayName:Patrick Queen<br>",
            "nflId:53533<br>displayName:Brandon Stephens<br>"
           ],
           "marker": {
            "color": "#241773",
            "line": {
             "color": "#000000",
             "width": 2
            },
            "size": 10
           },
           "mode": "markers",
           "name": "BAL",
           "type": "scatter",
           "x": [
            22.359999999999996,
            22.849999999999998,
            24.939999999999998,
            29.279999999999998,
            41.36,
            23.909999999999997,
            17.659999999999997,
            18.989999999999995,
            26.619999999999997,
            19.099999999999994,
            36.19
           ],
           "y": [
            83.84,
            82.43,
            86.53,
            80.85,
            85.3,
            81.9,
            90.08,
            85.58,
            97.97,
            84.63,
            92.92
           ]
          },
          {
           "hoverinfo": "none",
           "marker": {
            "color": "#CBB67C",
            "line": {
             "color": "#663831",
             "width": 2
            },
            "size": 10
           },
           "mode": "markers",
           "name": "football",
           "type": "scatter",
           "x": [
            21.8900001525879
           ],
           "y": [
            83.0999984741211
           ]
          }
         ],
         "name": "32"
        },
        {
         "data": [
          {
           "hoverinfo": "none",
           "mode": "text",
           "showlegend": false,
           "text": [
            "10",
            "20",
            "30",
            "40",
            "50",
            "40",
            "30",
            "20",
            "10"
           ],
           "textfont": {
            "color": "#ffffff",
            "family": "Courier New, monospace",
            "size": 30
           },
           "type": "scatter",
           "x": [
            5,
            5,
            5,
            5,
            5,
            5,
            5,
            5,
            5
           ],
           "y": [
            20,
            30,
            40,
            50,
            60,
            70,
            80,
            90,
            100
           ]
          },
          {
           "hoverinfo": "none",
           "mode": "text",
           "showlegend": false,
           "text": [
            "10",
            "20",
            "30",
            "40",
            "50",
            "40",
            "30",
            "20",
            "10"
           ],
           "textfont": {
            "color": "#ffffff",
            "family": "Courier New, monospace",
            "size": 30
           },
           "type": "scatter",
           "x": [
            48.5,
            48.5,
            48.5,
            48.5,
            48.5,
            48.5,
            48.5,
            48.5,
            48.5
           ],
           "y": [
            20,
            30,
            40,
            50,
            60,
            70,
            80,
            90,
            100
           ]
          },
          {
           "hoverinfo": "none",
           "line": {
            "color": "blue",
            "dash": "dash"
           },
           "showlegend": false,
           "type": "scatter",
           "x": [
            0,
            53.5
           ],
           "y": [
            83,
            83
           ]
          },
          {
           "fill": "toself",
           "fillcolor": "#000000",
           "hoverinfo": "skip",
           "line": {
            "color": "white",
            "width": 3
           },
           "mode": "lines",
           "opacity": 1,
           "showlegend": false,
           "type": "scatter",
           "x": [
            0,
            53.5,
            53.5,
            0,
            0
           ],
           "y": [
            0,
            0,
            10,
            10,
            0
           ]
          },
          {
           "fill": "toself",
           "fillcolor": "#241773",
           "hoverinfo": "skip",
           "line": {
            "color": "white",
            "width": 3
           },
           "mode": "lines",
           "opacity": 1,
           "showlegend": false,
           "type": "scatter",
           "x": [
            0,
            53.5,
            53.5,
            0,
            0
           ],
           "y": [
            110,
            110,
            120,
            120,
            110
           ]
          },
          {
           "hoverinfo": "text",
           "hovertext": [
            "nflId:33099<br>displayName:Joe Flacco<br>",
            "nflId:42371<br>displayName:Laken Tomlinson<br>",
            "nflId:43433<br>displayName:Connor McGovern<br>",
            "nflId:43586<br>displayName:George Fant<br>",
            "nflId:44817<br>displayName:Corey Davis<br>",
            "nflId:46226<br>displayName:Tyler Conklin<br>",
            "nflId:46279<br>displayName:Braxton Berrios<br>",
            "nflId:53443<br>displayName:Alijah Vera-Tucker<br>",
            "nflId:53463<br>displayName:Elijah Moore<br>",
            "nflId:53536<br>displayName:Michael Carter<br>",
            "nflId:54576<br>displayName:Max Mitchell<br>"
           ],
           "marker": {
            "color": "#000000",
            "line": {
             "color": "#125740",
             "width": 2
            },
            "size": 10
           },
           "mode": "markers",
           "name": "NYJ",
           "type": "scatter",
           "x": [
            23.749999999999996,
            22.129999999999995,
            25.099999999999998,
            24.529999999999998,
            18.559999999999995,
            19.799999999999997,
            43.8,
            21.639999999999997,
            41.5,
            21.859999999999996,
            28.889999999999997
           ],
           "y": [
            77.61,
            83.52,
            82.19,
            86.37,
            85.19,
            84,
            80.37,
            81.93,
            83.43,
            83.12,
            80.56
           ]
          },
          {
           "hoverinfo": "text",
           "hovertext": [
            "nflId:33131<br>displayName:Calais Campbell<br>",
            "nflId:37145<br>displayName:Justin Houston<br>",
            "nflId:37778<br>displayName:Josh Bynes<br>",
            "nflId:40095<br>displayName:Steven Means<br>",
            "nflId:41240<br>displayName:Kyle Fuller<br>",
            "nflId:43694<br>displayName:Michael Pierce<br>",
            "nflId:44828<br>displayName:Marlon Humphrey<br>",
            "nflId:44854<br>displayName:Marcus Williams<br>",
            "nflId:44999<br>displayName:Chuck Clark<br>",
            "nflId:52436<br>displayName:Patrick Queen<br>",
            "nflId:53533<br>displayName:Brandon Stephens<br>"
           ],
           "marker": {
            "color": "#241773",
            "line": {
             "color": "#000000",
             "width": 2
            },
            "size": 10
           },
           "mode": "markers",
           "name": "BAL",
           "type": "scatter",
           "x": [
            22.159999999999997,
            22.919999999999998,
            24.959999999999997,
            29.169999999999998,
            41.349999999999994,
            23.839999999999996,
            17.93,
            19.159999999999997,
            26.449999999999996,
            19.18,
            35.8
           ],
           "y": [
            83.98,
            82.57,
            86.72,
            81.14,
            85.56,
            81.95,
            89.85,
            85.64,
            97.51,
            84.75,
            92.81
           ]
          },
          {
           "hoverinfo": "none",
           "marker": {
            "color": "#CBB67C",
            "line": {
             "color": "#663831",
             "width": 2
            },
            "size": 10
           },
           "mode": "markers",
           "name": "football",
           "type": "scatter",
           "x": [
            21.720000076293896
           ],
           "y": [
            83.1999969482422
           ]
          }
         ],
         "name": "33"
        },
        {
         "data": [
          {
           "hoverinfo": "none",
           "mode": "text",
           "showlegend": false,
           "text": [
            "10",
            "20",
            "30",
            "40",
            "50",
            "40",
            "30",
            "20",
            "10"
           ],
           "textfont": {
            "color": "#ffffff",
            "family": "Courier New, monospace",
            "size": 30
           },
           "type": "scatter",
           "x": [
            5,
            5,
            5,
            5,
            5,
            5,
            5,
            5,
            5
           ],
           "y": [
            20,
            30,
            40,
            50,
            60,
            70,
            80,
            90,
            100
           ]
          },
          {
           "hoverinfo": "none",
           "mode": "text",
           "showlegend": false,
           "text": [
            "10",
            "20",
            "30",
            "40",
            "50",
            "40",
            "30",
            "20",
            "10"
           ],
           "textfont": {
            "color": "#ffffff",
            "family": "Courier New, monospace",
            "size": 30
           },
           "type": "scatter",
           "x": [
            48.5,
            48.5,
            48.5,
            48.5,
            48.5,
            48.5,
            48.5,
            48.5,
            48.5
           ],
           "y": [
            20,
            30,
            40,
            50,
            60,
            70,
            80,
            90,
            100
           ]
          },
          {
           "hoverinfo": "none",
           "line": {
            "color": "blue",
            "dash": "dash"
           },
           "showlegend": false,
           "type": "scatter",
           "x": [
            0,
            53.5
           ],
           "y": [
            83,
            83
           ]
          },
          {
           "fill": "toself",
           "fillcolor": "#000000",
           "hoverinfo": "skip",
           "line": {
            "color": "white",
            "width": 3
           },
           "mode": "lines",
           "opacity": 1,
           "showlegend": false,
           "type": "scatter",
           "x": [
            0,
            53.5,
            53.5,
            0,
            0
           ],
           "y": [
            0,
            0,
            10,
            10,
            0
           ]
          },
          {
           "fill": "toself",
           "fillcolor": "#241773",
           "hoverinfo": "skip",
           "line": {
            "color": "white",
            "width": 3
           },
           "mode": "lines",
           "opacity": 1,
           "showlegend": false,
           "type": "scatter",
           "x": [
            0,
            53.5,
            53.5,
            0,
            0
           ],
           "y": [
            110,
            110,
            120,
            120,
            110
           ]
          },
          {
           "hoverinfo": "text",
           "hovertext": [
            "nflId:33099<br>displayName:Joe Flacco<br>",
            "nflId:42371<br>displayName:Laken Tomlinson<br>",
            "nflId:43433<br>displayName:Connor McGovern<br>",
            "nflId:43586<br>displayName:George Fant<br>",
            "nflId:44817<br>displayName:Corey Davis<br>",
            "nflId:46226<br>displayName:Tyler Conklin<br>",
            "nflId:46279<br>displayName:Braxton Berrios<br>",
            "nflId:53443<br>displayName:Alijah Vera-Tucker<br>",
            "nflId:53463<br>displayName:Elijah Moore<br>",
            "nflId:53536<br>displayName:Michael Carter<br>",
            "nflId:54576<br>displayName:Max Mitchell<br>"
           ],
           "marker": {
            "color": "#000000",
            "line": {
             "color": "#125740",
             "width": 2
            },
            "size": 10
           },
           "mode": "markers",
           "name": "NYJ",
           "type": "scatter",
           "x": [
            23.729999999999997,
            21.929999999999996,
            25.139999999999997,
            24.599999999999998,
            18.659999999999997,
            19.729999999999997,
            44.01,
            21.729999999999997,
            41.65,
            21.729999999999997,
            28.839999999999996
           ],
           "y": [
            77.59,
            83.57,
            82.21,
            86.5,
            85.28,
            84.05,
            80.36,
            81.95,
            83.55,
            83.13,
            80.83
           ]
          },
          {
           "hoverinfo": "text",
           "hovertext": [
            "nflId:33131<br>displayName:Calais Campbell<br>",
            "nflId:37145<br>displayName:Justin Houston<br>",
            "nflId:37778<br>displayName:Josh Bynes<br>",
            "nflId:40095<br>displayName:Steven Means<br>",
            "nflId:41240<br>displayName:Kyle Fuller<br>",
            "nflId:43694<br>displayName:Michael Pierce<br>",
            "nflId:44828<br>displayName:Marlon Humphrey<br>",
            "nflId:44854<br>displayName:Marcus Williams<br>",
            "nflId:44999<br>displayName:Chuck Clark<br>",
            "nflId:52436<br>displayName:Patrick Queen<br>",
            "nflId:53533<br>displayName:Brandon Stephens<br>"
           ],
           "marker": {
            "color": "#241773",
            "line": {
             "color": "#000000",
             "width": 2
            },
            "size": 10
           },
           "mode": "markers",
           "name": "BAL",
           "type": "scatter",
           "x": [
            21.909999999999997,
            22.97,
            24.949999999999996,
            29.029999999999998,
            41.29,
            23.769999999999996,
            18.189999999999998,
            19.339999999999996,
            26.249999999999996,
            19.29,
            35.39
           ],
           "y": [
            84.21,
            82.72,
            86.91,
            81.45,
            85.81,
            81.99,
            89.63,
            85.67,
            97.04,
            84.85,
            92.7
           ]
          },
          {
           "hoverinfo": "none",
           "marker": {
            "color": "#CBB67C",
            "line": {
             "color": "#663831",
             "width": 2
            },
            "size": 10
           },
           "mode": "markers",
           "name": "football",
           "type": "scatter",
           "x": [
            21.599999237060498
           ],
           "y": [
            83.2200012207031
           ]
          }
         ],
         "name": "34"
        },
        {
         "data": [
          {
           "hoverinfo": "none",
           "mode": "text",
           "showlegend": false,
           "text": [
            "10",
            "20",
            "30",
            "40",
            "50",
            "40",
            "30",
            "20",
            "10"
           ],
           "textfont": {
            "color": "#ffffff",
            "family": "Courier New, monospace",
            "size": 30
           },
           "type": "scatter",
           "x": [
            5,
            5,
            5,
            5,
            5,
            5,
            5,
            5,
            5
           ],
           "y": [
            20,
            30,
            40,
            50,
            60,
            70,
            80,
            90,
            100
           ]
          },
          {
           "hoverinfo": "none",
           "mode": "text",
           "showlegend": false,
           "text": [
            "10",
            "20",
            "30",
            "40",
            "50",
            "40",
            "30",
            "20",
            "10"
           ],
           "textfont": {
            "color": "#ffffff",
            "family": "Courier New, monospace",
            "size": 30
           },
           "type": "scatter",
           "x": [
            48.5,
            48.5,
            48.5,
            48.5,
            48.5,
            48.5,
            48.5,
            48.5,
            48.5
           ],
           "y": [
            20,
            30,
            40,
            50,
            60,
            70,
            80,
            90,
            100
           ]
          },
          {
           "hoverinfo": "none",
           "line": {
            "color": "blue",
            "dash": "dash"
           },
           "showlegend": false,
           "type": "scatter",
           "x": [
            0,
            53.5
           ],
           "y": [
            83,
            83
           ]
          },
          {
           "fill": "toself",
           "fillcolor": "#000000",
           "hoverinfo": "skip",
           "line": {
            "color": "white",
            "width": 3
           },
           "mode": "lines",
           "opacity": 1,
           "showlegend": false,
           "type": "scatter",
           "x": [
            0,
            53.5,
            53.5,
            0,
            0
           ],
           "y": [
            0,
            0,
            10,
            10,
            0
           ]
          },
          {
           "fill": "toself",
           "fillcolor": "#241773",
           "hoverinfo": "skip",
           "line": {
            "color": "white",
            "width": 3
           },
           "mode": "lines",
           "opacity": 1,
           "showlegend": false,
           "type": "scatter",
           "x": [
            0,
            53.5,
            53.5,
            0,
            0
           ],
           "y": [
            110,
            110,
            120,
            120,
            110
           ]
          },
          {
           "hoverinfo": "text",
           "hovertext": [
            "nflId:33099<br>displayName:Joe Flacco<br>",
            "nflId:42371<br>displayName:Laken Tomlinson<br>",
            "nflId:43433<br>displayName:Connor McGovern<br>",
            "nflId:43586<br>displayName:George Fant<br>",
            "nflId:44817<br>displayName:Corey Davis<br>",
            "nflId:46226<br>displayName:Tyler Conklin<br>",
            "nflId:46279<br>displayName:Braxton Berrios<br>",
            "nflId:53443<br>displayName:Alijah Vera-Tucker<br>",
            "nflId:53463<br>displayName:Elijah Moore<br>",
            "nflId:53536<br>displayName:Michael Carter<br>",
            "nflId:54576<br>displayName:Max Mitchell<br>"
           ],
           "marker": {
            "color": "#000000",
            "line": {
             "color": "#125740",
             "width": 2
            },
            "size": 10
           },
           "mode": "markers",
           "name": "NYJ",
           "type": "scatter",
           "x": [
            23.72,
            21.729999999999997,
            25.139999999999997,
            24.65,
            18.779999999999994,
            19.689999999999998,
            44.18,
            21.81,
            41.769999999999996,
            21.619999999999997,
            28.759999999999998
           ],
           "y": [
            77.58,
            83.63,
            82.24,
            86.64,
            85.38,
            84.12,
            80.34,
            81.97,
            83.65,
            83.14,
            81.13
           ]
          },
          {
           "hoverinfo": "text",
           "hovertext": [
            "nflId:33131<br>displayName:Calais Campbell<br>",
            "nflId:37145<br>displayName:Justin Houston<br>",
            "nflId:37778<br>displayName:Josh Bynes<br>",
            "nflId:40095<br>displayName:Steven Means<br>",
            "nflId:41240<br>displayName:Kyle Fuller<br>",
            "nflId:43694<br>displayName:Michael Pierce<br>",
            "nflId:44828<br>displayName:Marlon Humphrey<br>",
            "nflId:44854<br>displayName:Marcus Williams<br>",
            "nflId:44999<br>displayName:Chuck Clark<br>",
            "nflId:52436<br>displayName:Patrick Queen<br>",
            "nflId:53533<br>displayName:Brandon Stephens<br>"
           ],
           "marker": {
            "color": "#241773",
            "line": {
             "color": "#000000",
             "width": 2
            },
            "size": 10
           },
           "mode": "markers",
           "name": "BAL",
           "type": "scatter",
           "x": [
            21.699999999999996,
            22.979999999999997,
            24.919999999999998,
            28.839999999999996,
            41.199999999999996,
            23.709999999999997,
            18.439999999999998,
            19.529999999999994,
            26.029999999999998,
            19.419999999999995,
            34.989999999999995
           ],
           "y": [
            84.39,
            82.86,
            87.1,
            81.75,
            86.02,
            82.03,
            89.41,
            85.72,
            96.57,
            84.94,
            92.58
           ]
          },
          {
           "hoverinfo": "none",
           "marker": {
            "color": "#CBB67C",
            "line": {
             "color": "#663831",
             "width": 2
            },
            "size": 10
           },
           "mode": "markers",
           "name": "football",
           "type": "scatter",
           "x": [
            21.490000534057597
           ],
           "y": [
            83.1999969482422
           ]
          }
         ],
         "name": "35"
        },
        {
         "data": [
          {
           "hoverinfo": "none",
           "mode": "text",
           "showlegend": false,
           "text": [
            "10",
            "20",
            "30",
            "40",
            "50",
            "40",
            "30",
            "20",
            "10"
           ],
           "textfont": {
            "color": "#ffffff",
            "family": "Courier New, monospace",
            "size": 30
           },
           "type": "scatter",
           "x": [
            5,
            5,
            5,
            5,
            5,
            5,
            5,
            5,
            5
           ],
           "y": [
            20,
            30,
            40,
            50,
            60,
            70,
            80,
            90,
            100
           ]
          },
          {
           "hoverinfo": "none",
           "mode": "text",
           "showlegend": false,
           "text": [
            "10",
            "20",
            "30",
            "40",
            "50",
            "40",
            "30",
            "20",
            "10"
           ],
           "textfont": {
            "color": "#ffffff",
            "family": "Courier New, monospace",
            "size": 30
           },
           "type": "scatter",
           "x": [
            48.5,
            48.5,
            48.5,
            48.5,
            48.5,
            48.5,
            48.5,
            48.5,
            48.5
           ],
           "y": [
            20,
            30,
            40,
            50,
            60,
            70,
            80,
            90,
            100
           ]
          },
          {
           "hoverinfo": "none",
           "line": {
            "color": "blue",
            "dash": "dash"
           },
           "showlegend": false,
           "type": "scatter",
           "x": [
            0,
            53.5
           ],
           "y": [
            83,
            83
           ]
          },
          {
           "fill": "toself",
           "fillcolor": "#000000",
           "hoverinfo": "skip",
           "line": {
            "color": "white",
            "width": 3
           },
           "mode": "lines",
           "opacity": 1,
           "showlegend": false,
           "type": "scatter",
           "x": [
            0,
            53.5,
            53.5,
            0,
            0
           ],
           "y": [
            0,
            0,
            10,
            10,
            0
           ]
          },
          {
           "fill": "toself",
           "fillcolor": "#241773",
           "hoverinfo": "skip",
           "line": {
            "color": "white",
            "width": 3
           },
           "mode": "lines",
           "opacity": 1,
           "showlegend": false,
           "type": "scatter",
           "x": [
            0,
            53.5,
            53.5,
            0,
            0
           ],
           "y": [
            110,
            110,
            120,
            120,
            110
           ]
          },
          {
           "hoverinfo": "text",
           "hovertext": [
            "nflId:33099<br>displayName:Joe Flacco<br>",
            "nflId:42371<br>displayName:Laken Tomlinson<br>",
            "nflId:43433<br>displayName:Connor McGovern<br>",
            "nflId:43586<br>displayName:George Fant<br>",
            "nflId:44817<br>displayName:Corey Davis<br>",
            "nflId:46226<br>displayName:Tyler Conklin<br>",
            "nflId:46279<br>displayName:Braxton Berrios<br>",
            "nflId:53443<br>displayName:Alijah Vera-Tucker<br>",
            "nflId:53463<br>displayName:Elijah Moore<br>",
            "nflId:53536<br>displayName:Michael Carter<br>",
            "nflId:54576<br>displayName:Max Mitchell<br>"
           ],
           "marker": {
            "color": "#000000",
            "line": {
             "color": "#125740",
             "width": 2
            },
            "size": 10
           },
           "mode": "markers",
           "name": "NYJ",
           "type": "scatter",
           "x": [
            23.699999999999996,
            21.549999999999997,
            25.129999999999995,
            24.689999999999998,
            18.919999999999995,
            19.659999999999997,
            44.31999999999999,
            21.869999999999997,
            41.87,
            21.509999999999998,
            28.669999999999998
           ],
           "y": [
            77.59,
            83.68,
            82.27,
            86.79,
            85.48,
            84.2,
            80.34,
            81.98,
            83.74,
            83.17,
            81.44
           ]
          },
          {
           "hoverinfo": "text",
           "hovertext": [
            "nflId:33131<br>displayName:Calais Campbell<br>",
            "nflId:37145<br>displayName:Justin Houston<br>",
            "nflId:37778<br>displayName:Josh Bynes<br>",
            "nflId:40095<br>displayName:Steven Means<br>",
            "nflId:41240<br>displayName:Kyle Fuller<br>",
            "nflId:43694<br>displayName:Michael Pierce<br>",
            "nflId:44828<br>displayName:Marlon Humphrey<br>",
            "nflId:44854<br>displayName:Marcus Williams<br>",
            "nflId:44999<br>displayName:Chuck Clark<br>",
            "nflId:52436<br>displayName:Patrick Queen<br>",
            "nflId:53533<br>displayName:Brandon Stephens<br>"
           ],
           "marker": {
            "color": "#241773",
            "line": {
             "color": "#000000",
             "width": 2
            },
            "size": 10
           },
           "mode": "markers",
           "name": "BAL",
           "type": "scatter",
           "x": [
            21.519999999999996,
            22.889999999999997,
            24.879999999999995,
            28.629999999999995,
            41.089999999999996,
            23.659999999999997,
            18.659999999999997,
            19.709999999999994,
            25.799999999999997,
            19.57,
            34.58
           ],
           "y": [
            84.58,
            82.97,
            87.29,
            82.07,
            86.21,
            82.05,
            89.22,
            85.77,
            96.11,
            85.01,
            92.45
           ]
          },
          {
           "hoverinfo": "none",
           "marker": {
            "color": "#CBB67C",
            "line": {
             "color": "#663831",
             "width": 2
            },
            "size": 10
           },
           "mode": "markers",
           "name": "football",
           "type": "scatter",
           "x": [
            21.369999694824198
           ],
           "y": [
            83.1900024414062
           ]
          }
         ],
         "name": "36"
        },
        {
         "data": [
          {
           "hoverinfo": "none",
           "mode": "text",
           "showlegend": false,
           "text": [
            "10",
            "20",
            "30",
            "40",
            "50",
            "40",
            "30",
            "20",
            "10"
           ],
           "textfont": {
            "color": "#ffffff",
            "family": "Courier New, monospace",
            "size": 30
           },
           "type": "scatter",
           "x": [
            5,
            5,
            5,
            5,
            5,
            5,
            5,
            5,
            5
           ],
           "y": [
            20,
            30,
            40,
            50,
            60,
            70,
            80,
            90,
            100
           ]
          },
          {
           "hoverinfo": "none",
           "mode": "text",
           "showlegend": false,
           "text": [
            "10",
            "20",
            "30",
            "40",
            "50",
            "40",
            "30",
            "20",
            "10"
           ],
           "textfont": {
            "color": "#ffffff",
            "family": "Courier New, monospace",
            "size": 30
           },
           "type": "scatter",
           "x": [
            48.5,
            48.5,
            48.5,
            48.5,
            48.5,
            48.5,
            48.5,
            48.5,
            48.5
           ],
           "y": [
            20,
            30,
            40,
            50,
            60,
            70,
            80,
            90,
            100
           ]
          },
          {
           "hoverinfo": "none",
           "line": {
            "color": "blue",
            "dash": "dash"
           },
           "showlegend": false,
           "type": "scatter",
           "x": [
            0,
            53.5
           ],
           "y": [
            83,
            83
           ]
          },
          {
           "fill": "toself",
           "fillcolor": "#000000",
           "hoverinfo": "skip",
           "line": {
            "color": "white",
            "width": 3
           },
           "mode": "lines",
           "opacity": 1,
           "showlegend": false,
           "type": "scatter",
           "x": [
            0,
            53.5,
            53.5,
            0,
            0
           ],
           "y": [
            0,
            0,
            10,
            10,
            0
           ]
          },
          {
           "fill": "toself",
           "fillcolor": "#241773",
           "hoverinfo": "skip",
           "line": {
            "color": "white",
            "width": 3
           },
           "mode": "lines",
           "opacity": 1,
           "showlegend": false,
           "type": "scatter",
           "x": [
            0,
            53.5,
            53.5,
            0,
            0
           ],
           "y": [
            110,
            110,
            120,
            120,
            110
           ]
          },
          {
           "hoverinfo": "text",
           "hovertext": [
            "nflId:33099<br>displayName:Joe Flacco<br>",
            "nflId:42371<br>displayName:Laken Tomlinson<br>",
            "nflId:43433<br>displayName:Connor McGovern<br>",
            "nflId:43586<br>displayName:George Fant<br>",
            "nflId:44817<br>displayName:Corey Davis<br>",
            "nflId:46226<br>displayName:Tyler Conklin<br>",
            "nflId:46279<br>displayName:Braxton Berrios<br>",
            "nflId:53443<br>displayName:Alijah Vera-Tucker<br>",
            "nflId:53463<br>displayName:Elijah Moore<br>",
            "nflId:53536<br>displayName:Michael Carter<br>",
            "nflId:54576<br>displayName:Max Mitchell<br>"
           ],
           "marker": {
            "color": "#000000",
            "line": {
             "color": "#125740",
             "width": 2
            },
            "size": 10
           },
           "mode": "markers",
           "name": "NYJ",
           "type": "scatter",
           "x": [
            23.679999999999996,
            21.379999999999995,
            25.089999999999996,
            24.709999999999997,
            19.07,
            19.659999999999997,
            44.419999999999995,
            21.919999999999998,
            41.93,
            21.409999999999997,
            28.539999999999996
           ],
           "y": [
            77.6,
            83.74,
            82.31,
            86.95,
            85.58,
            84.29,
            80.33,
            82,
            83.82,
            83.16,
            81.75
           ]
          },
          {
           "hoverinfo": "text",
           "hovertext": [
            "nflId:33131<br>displayName:Calais Campbell<br>",
            "nflId:37145<br>displayName:Justin Houston<br>",
            "nflId:37778<br>displayName:Josh Bynes<br>",
            "nflId:40095<br>displayName:Steven Means<br>",
            "nflId:41240<br>displayName:Kyle Fuller<br>",
            "nflId:43694<br>displayName:Michael Pierce<br>",
            "nflId:44828<br>displayName:Marlon Humphrey<br>",
            "nflId:44854<br>displayName:Marcus Williams<br>",
            "nflId:44999<br>displayName:Chuck Clark<br>",
            "nflId:52436<br>displayName:Patrick Queen<br>",
            "nflId:53533<br>displayName:Brandon Stephens<br>"
           ],
           "marker": {
            "color": "#241773",
            "line": {
             "color": "#000000",
             "width": 2
            },
            "size": 10
           },
           "mode": "markers",
           "name": "BAL",
           "type": "scatter",
           "x": [
            21.339999999999996,
            22.839999999999996,
            24.799999999999997,
            28.379999999999995,
            40.949999999999996,
            23.619999999999997,
            18.869999999999997,
            19.879999999999995,
            25.56,
            19.709999999999994,
            34.17999999999999
           ],
           "y": [
            84.78,
            83.09,
            87.46,
            82.37,
            86.36,
            82.07,
            89.04,
            85.7,
            95.66,
            85.06,
            92.33
           ]
          },
          {
           "hoverinfo": "none",
           "marker": {
            "color": "#CBB67C",
            "line": {
             "color": "#663831",
             "width": 2
            },
            "size": 10
           },
           "mode": "markers",
           "name": "football",
           "type": "scatter",
           "x": [
            21.270001220703094
           ],
           "y": [
            83.1699981689453
           ]
          }
         ],
         "name": "37"
        },
        {
         "data": [
          {
           "hoverinfo": "none",
           "mode": "text",
           "showlegend": false,
           "text": [
            "10",
            "20",
            "30",
            "40",
            "50",
            "40",
            "30",
            "20",
            "10"
           ],
           "textfont": {
            "color": "#ffffff",
            "family": "Courier New, monospace",
            "size": 30
           },
           "type": "scatter",
           "x": [
            5,
            5,
            5,
            5,
            5,
            5,
            5,
            5,
            5
           ],
           "y": [
            20,
            30,
            40,
            50,
            60,
            70,
            80,
            90,
            100
           ]
          },
          {
           "hoverinfo": "none",
           "mode": "text",
           "showlegend": false,
           "text": [
            "10",
            "20",
            "30",
            "40",
            "50",
            "40",
            "30",
            "20",
            "10"
           ],
           "textfont": {
            "color": "#ffffff",
            "family": "Courier New, monospace",
            "size": 30
           },
           "type": "scatter",
           "x": [
            48.5,
            48.5,
            48.5,
            48.5,
            48.5,
            48.5,
            48.5,
            48.5,
            48.5
           ],
           "y": [
            20,
            30,
            40,
            50,
            60,
            70,
            80,
            90,
            100
           ]
          },
          {
           "hoverinfo": "none",
           "line": {
            "color": "blue",
            "dash": "dash"
           },
           "showlegend": false,
           "type": "scatter",
           "x": [
            0,
            53.5
           ],
           "y": [
            83,
            83
           ]
          },
          {
           "fill": "toself",
           "fillcolor": "#000000",
           "hoverinfo": "skip",
           "line": {
            "color": "white",
            "width": 3
           },
           "mode": "lines",
           "opacity": 1,
           "showlegend": false,
           "type": "scatter",
           "x": [
            0,
            53.5,
            53.5,
            0,
            0
           ],
           "y": [
            0,
            0,
            10,
            10,
            0
           ]
          },
          {
           "fill": "toself",
           "fillcolor": "#241773",
           "hoverinfo": "skip",
           "line": {
            "color": "white",
            "width": 3
           },
           "mode": "lines",
           "opacity": 1,
           "showlegend": false,
           "type": "scatter",
           "x": [
            0,
            53.5,
            53.5,
            0,
            0
           ],
           "y": [
            110,
            110,
            120,
            120,
            110
           ]
          },
          {
           "hoverinfo": "text",
           "hovertext": [
            "nflId:33099<br>displayName:Joe Flacco<br>",
            "nflId:42371<br>displayName:Laken Tomlinson<br>",
            "nflId:43433<br>displayName:Connor McGovern<br>",
            "nflId:43586<br>displayName:George Fant<br>",
            "nflId:44817<br>displayName:Corey Davis<br>",
            "nflId:46226<br>displayName:Tyler Conklin<br>",
            "nflId:46279<br>displayName:Braxton Berrios<br>",
            "nflId:53443<br>displayName:Alijah Vera-Tucker<br>",
            "nflId:53463<br>displayName:Elijah Moore<br>",
            "nflId:53536<br>displayName:Michael Carter<br>",
            "nflId:54576<br>displayName:Max Mitchell<br>"
           ],
           "marker": {
            "color": "#000000",
            "line": {
             "color": "#125740",
             "width": 2
            },
            "size": 10
           },
           "mode": "markers",
           "name": "NYJ",
           "type": "scatter",
           "x": [
            23.669999999999998,
            21.229999999999997,
            25.019999999999996,
            24.72,
            19.229999999999997,
            19.669999999999995,
            44.48,
            21.949999999999996,
            41.98,
            21.31,
            28.4
           ],
           "y": [
            77.61,
            83.78,
            82.35,
            87.11,
            85.69,
            84.38,
            80.34,
            82.02,
            83.88,
            83.16,
            82.06
           ]
          },
          {
           "hoverinfo": "text",
           "hovertext": [
            "nflId:33131<br>displayName:Calais Campbell<br>",
            "nflId:37145<br>displayName:Justin Houston<br>",
            "nflId:37778<br>displayName:Josh Bynes<br>",
            "nflId:40095<br>displayName:Steven Means<br>",
            "nflId:41240<br>displayName:Kyle Fuller<br>",
            "nflId:43694<br>displayName:Michael Pierce<br>",
            "nflId:44828<br>displayName:Marlon Humphrey<br>",
            "nflId:44854<br>displayName:Marcus Williams<br>",
            "nflId:44999<br>displayName:Chuck Clark<br>",
            "nflId:52436<br>displayName:Patrick Queen<br>",
            "nflId:53533<br>displayName:Brandon Stephens<br>"
           ],
           "marker": {
            "color": "#241773",
            "line": {
             "color": "#000000",
             "width": 2
            },
            "size": 10
           },
           "mode": "markers",
           "name": "BAL",
           "type": "scatter",
           "x": [
            21.199999999999996,
            22.769999999999996,
            24.679999999999996,
            28.089999999999996,
            40.8,
            23.569999999999997,
            19.049999999999997,
            20.04,
            25.299999999999997,
            19.869999999999997,
            33.78999999999999
           ],
           "y": [
            84.98,
            83.2,
            87.62,
            82.66,
            86.48,
            82.08,
            88.88,
            85.7,
            95.23,
            85.1,
            92.2
           ]
          },
          {
           "hoverinfo": "none",
           "marker": {
            "color": "#CBB67C",
            "line": {
             "color": "#663831",
             "width": 2
            },
            "size": 10
           },
           "mode": "markers",
           "name": "football",
           "type": "scatter",
           "x": [
            21.1899993896484
           ],
           "y": [
            83.1500015258789
           ]
          }
         ],
         "name": "38"
        },
        {
         "data": [
          {
           "hoverinfo": "none",
           "mode": "text",
           "showlegend": false,
           "text": [
            "10",
            "20",
            "30",
            "40",
            "50",
            "40",
            "30",
            "20",
            "10"
           ],
           "textfont": {
            "color": "#ffffff",
            "family": "Courier New, monospace",
            "size": 30
           },
           "type": "scatter",
           "x": [
            5,
            5,
            5,
            5,
            5,
            5,
            5,
            5,
            5
           ],
           "y": [
            20,
            30,
            40,
            50,
            60,
            70,
            80,
            90,
            100
           ]
          },
          {
           "hoverinfo": "none",
           "mode": "text",
           "showlegend": false,
           "text": [
            "10",
            "20",
            "30",
            "40",
            "50",
            "40",
            "30",
            "20",
            "10"
           ],
           "textfont": {
            "color": "#ffffff",
            "family": "Courier New, monospace",
            "size": 30
           },
           "type": "scatter",
           "x": [
            48.5,
            48.5,
            48.5,
            48.5,
            48.5,
            48.5,
            48.5,
            48.5,
            48.5
           ],
           "y": [
            20,
            30,
            40,
            50,
            60,
            70,
            80,
            90,
            100
           ]
          },
          {
           "hoverinfo": "none",
           "line": {
            "color": "blue",
            "dash": "dash"
           },
           "showlegend": false,
           "type": "scatter",
           "x": [
            0,
            53.5
           ],
           "y": [
            83,
            83
           ]
          },
          {
           "fill": "toself",
           "fillcolor": "#000000",
           "hoverinfo": "skip",
           "line": {
            "color": "white",
            "width": 3
           },
           "mode": "lines",
           "opacity": 1,
           "showlegend": false,
           "type": "scatter",
           "x": [
            0,
            53.5,
            53.5,
            0,
            0
           ],
           "y": [
            0,
            0,
            10,
            10,
            0
           ]
          },
          {
           "fill": "toself",
           "fillcolor": "#241773",
           "hoverinfo": "skip",
           "line": {
            "color": "white",
            "width": 3
           },
           "mode": "lines",
           "opacity": 1,
           "showlegend": false,
           "type": "scatter",
           "x": [
            0,
            53.5,
            53.5,
            0,
            0
           ],
           "y": [
            110,
            110,
            120,
            120,
            110
           ]
          },
          {
           "hoverinfo": "text",
           "hovertext": [
            "nflId:33099<br>displayName:Joe Flacco<br>",
            "nflId:42371<br>displayName:Laken Tomlinson<br>",
            "nflId:43433<br>displayName:Connor McGovern<br>",
            "nflId:43586<br>displayName:George Fant<br>",
            "nflId:44817<br>displayName:Corey Davis<br>",
            "nflId:46226<br>displayName:Tyler Conklin<br>",
            "nflId:46279<br>displayName:Braxton Berrios<br>",
            "nflId:53443<br>displayName:Alijah Vera-Tucker<br>",
            "nflId:53463<br>displayName:Elijah Moore<br>",
            "nflId:53536<br>displayName:Michael Carter<br>",
            "nflId:54576<br>displayName:Max Mitchell<br>"
           ],
           "marker": {
            "color": "#000000",
            "line": {
             "color": "#125740",
             "width": 2
            },
            "size": 10
           },
           "mode": "markers",
           "name": "NYJ",
           "type": "scatter",
           "x": [
            23.65,
            21.129999999999995,
            24.949999999999996,
            24.729999999999997,
            19.409999999999997,
            19.689999999999998,
            44.5,
            21.979999999999997,
            42,
            21.229999999999997,
            28.229999999999997
           ],
           "y": [
            77.63,
            83.82,
            82.38,
            87.29,
            85.79,
            84.48,
            80.34,
            82.05,
            83.92,
            83.16,
            82.33
           ]
          },
          {
           "hoverinfo": "text",
           "hovertext": [
            "nflId:33131<br>displayName:Calais Campbell<br>",
            "nflId:37145<br>displayName:Justin Houston<br>",
            "nflId:37778<br>displayName:Josh Bynes<br>",
            "nflId:40095<br>displayName:Steven Means<br>",
            "nflId:41240<br>displayName:Kyle Fuller<br>",
            "nflId:43694<br>displayName:Michael Pierce<br>",
            "nflId:44828<br>displayName:Marlon Humphrey<br>",
            "nflId:44854<br>displayName:Marcus Williams<br>",
            "nflId:44999<br>displayName:Chuck Clark<br>",
            "nflId:52436<br>displayName:Patrick Queen<br>",
            "nflId:53533<br>displayName:Brandon Stephens<br>"
           ],
           "marker": {
            "color": "#241773",
            "line": {
             "color": "#000000",
             "width": 2
            },
            "size": 10
           },
           "mode": "markers",
           "name": "BAL",
           "type": "scatter",
           "x": [
            21.089999999999996,
            22.639999999999997,
            24.549999999999997,
            27.779999999999998,
            40.65,
            23.539999999999996,
            19.199999999999996,
            20.199999999999996,
            25.039999999999996,
            20.009999999999998,
            33.41
           ],
           "y": [
            85.18,
            83.26,
            87.75,
            82.93,
            86.57,
            82.08,
            88.73,
            85.68,
            94.82,
            85.12,
            92.06
           ]
          },
          {
           "hoverinfo": "none",
           "marker": {
            "color": "#CBB67C",
            "line": {
             "color": "#663831",
             "width": 2
            },
            "size": 10
           },
           "mode": "markers",
           "name": "football",
           "type": "scatter",
           "x": [
            21.119999694824195
           ],
           "y": [
            83.129997253418
           ]
          }
         ],
         "name": "39"
        },
        {
         "data": [
          {
           "hoverinfo": "none",
           "mode": "text",
           "showlegend": false,
           "text": [
            "10",
            "20",
            "30",
            "40",
            "50",
            "40",
            "30",
            "20",
            "10"
           ],
           "textfont": {
            "color": "#ffffff",
            "family": "Courier New, monospace",
            "size": 30
           },
           "type": "scatter",
           "x": [
            5,
            5,
            5,
            5,
            5,
            5,
            5,
            5,
            5
           ],
           "y": [
            20,
            30,
            40,
            50,
            60,
            70,
            80,
            90,
            100
           ]
          },
          {
           "hoverinfo": "none",
           "mode": "text",
           "showlegend": false,
           "text": [
            "10",
            "20",
            "30",
            "40",
            "50",
            "40",
            "30",
            "20",
            "10"
           ],
           "textfont": {
            "color": "#ffffff",
            "family": "Courier New, monospace",
            "size": 30
           },
           "type": "scatter",
           "x": [
            48.5,
            48.5,
            48.5,
            48.5,
            48.5,
            48.5,
            48.5,
            48.5,
            48.5
           ],
           "y": [
            20,
            30,
            40,
            50,
            60,
            70,
            80,
            90,
            100
           ]
          },
          {
           "hoverinfo": "none",
           "line": {
            "color": "blue",
            "dash": "dash"
           },
           "showlegend": false,
           "type": "scatter",
           "x": [
            0,
            53.5
           ],
           "y": [
            83,
            83
           ]
          },
          {
           "fill": "toself",
           "fillcolor": "#000000",
           "hoverinfo": "skip",
           "line": {
            "color": "white",
            "width": 3
           },
           "mode": "lines",
           "opacity": 1,
           "showlegend": false,
           "type": "scatter",
           "x": [
            0,
            53.5,
            53.5,
            0,
            0
           ],
           "y": [
            0,
            0,
            10,
            10,
            0
           ]
          },
          {
           "fill": "toself",
           "fillcolor": "#241773",
           "hoverinfo": "skip",
           "line": {
            "color": "white",
            "width": 3
           },
           "mode": "lines",
           "opacity": 1,
           "showlegend": false,
           "type": "scatter",
           "x": [
            0,
            53.5,
            53.5,
            0,
            0
           ],
           "y": [
            110,
            110,
            120,
            120,
            110
           ]
          },
          {
           "hoverinfo": "text",
           "hovertext": [
            "nflId:33099<br>displayName:Joe Flacco<br>",
            "nflId:42371<br>displayName:Laken Tomlinson<br>",
            "nflId:43433<br>displayName:Connor McGovern<br>",
            "nflId:43586<br>displayName:George Fant<br>",
            "nflId:44817<br>displayName:Corey Davis<br>",
            "nflId:46226<br>displayName:Tyler Conklin<br>",
            "nflId:46279<br>displayName:Braxton Berrios<br>",
            "nflId:53443<br>displayName:Alijah Vera-Tucker<br>",
            "nflId:53463<br>displayName:Elijah Moore<br>",
            "nflId:53536<br>displayName:Michael Carter<br>",
            "nflId:54576<br>displayName:Max Mitchell<br>"
           ],
           "marker": {
            "color": "#000000",
            "line": {
             "color": "#125740",
             "width": 2
            },
            "size": 10
           },
           "mode": "markers",
           "name": "NYJ",
           "type": "scatter",
           "x": [
            23.629999999999995,
            21.029999999999994,
            24.869999999999997,
            24.72,
            19.589999999999996,
            19.709999999999994,
            44.489999999999995,
            21.99,
            42,
            21.18,
            28.039999999999996
           ],
           "y": [
            77.66,
            83.86,
            82.42,
            87.45,
            85.87,
            84.58,
            80.35,
            82.07,
            83.96,
            83.14,
            82.6
           ]
          },
          {
           "hoverinfo": "text",
           "hovertext": [
            "nflId:33131<br>displayName:Calais Campbell<br>",
            "nflId:37145<br>displayName:Justin Houston<br>",
            "nflId:37778<br>displayName:Josh Bynes<br>",
            "nflId:40095<br>displayName:Steven Means<br>",
            "nflId:41240<br>displayName:Kyle Fuller<br>",
            "nflId:43694<br>displayName:Michael Pierce<br>",
            "nflId:44828<br>displayName:Marlon Humphrey<br>",
            "nflId:44854<br>displayName:Marcus Williams<br>",
            "nflId:44999<br>displayName:Chuck Clark<br>",
            "nflId:52436<br>displayName:Patrick Queen<br>",
            "nflId:53533<br>displayName:Brandon Stephens<br>"
           ],
           "marker": {
            "color": "#241773",
            "line": {
             "color": "#000000",
             "width": 2
            },
            "size": 10
           },
           "mode": "markers",
           "name": "BAL",
           "type": "scatter",
           "x": [
            21,
            22.549999999999997,
            24.409999999999997,
            27.439999999999998,
            40.489999999999995,
            23.509999999999998,
            19.33,
            20.36,
            24.779999999999998,
            20.15,
            33.05
           ],
           "y": [
            85.36,
            83.32,
            87.86,
            83.17,
            86.62,
            82.08,
            88.6,
            85.64,
            94.42,
            85.13,
            91.93
           ]
          },
          {
           "hoverinfo": "none",
           "marker": {
            "color": "#CBB67C",
            "line": {
             "color": "#663831",
             "width": 2
            },
            "size": 10
           },
           "mode": "markers",
           "name": "football",
           "type": "scatter",
           "x": [
            21.070000457763697
           ],
           "y": [
            83.1100006103516
           ]
          }
         ],
         "name": "40"
        },
        {
         "data": [
          {
           "hoverinfo": "none",
           "mode": "text",
           "showlegend": false,
           "text": [
            "10",
            "20",
            "30",
            "40",
            "50",
            "40",
            "30",
            "20",
            "10"
           ],
           "textfont": {
            "color": "#ffffff",
            "family": "Courier New, monospace",
            "size": 30
           },
           "type": "scatter",
           "x": [
            5,
            5,
            5,
            5,
            5,
            5,
            5,
            5,
            5
           ],
           "y": [
            20,
            30,
            40,
            50,
            60,
            70,
            80,
            90,
            100
           ]
          },
          {
           "hoverinfo": "none",
           "mode": "text",
           "showlegend": false,
           "text": [
            "10",
            "20",
            "30",
            "40",
            "50",
            "40",
            "30",
            "20",
            "10"
           ],
           "textfont": {
            "color": "#ffffff",
            "family": "Courier New, monospace",
            "size": 30
           },
           "type": "scatter",
           "x": [
            48.5,
            48.5,
            48.5,
            48.5,
            48.5,
            48.5,
            48.5,
            48.5,
            48.5
           ],
           "y": [
            20,
            30,
            40,
            50,
            60,
            70,
            80,
            90,
            100
           ]
          },
          {
           "hoverinfo": "none",
           "line": {
            "color": "blue",
            "dash": "dash"
           },
           "showlegend": false,
           "type": "scatter",
           "x": [
            0,
            53.5
           ],
           "y": [
            83,
            83
           ]
          },
          {
           "fill": "toself",
           "fillcolor": "#000000",
           "hoverinfo": "skip",
           "line": {
            "color": "white",
            "width": 3
           },
           "mode": "lines",
           "opacity": 1,
           "showlegend": false,
           "type": "scatter",
           "x": [
            0,
            53.5,
            53.5,
            0,
            0
           ],
           "y": [
            0,
            0,
            10,
            10,
            0
           ]
          },
          {
           "fill": "toself",
           "fillcolor": "#241773",
           "hoverinfo": "skip",
           "line": {
            "color": "white",
            "width": 3
           },
           "mode": "lines",
           "opacity": 1,
           "showlegend": false,
           "type": "scatter",
           "x": [
            0,
            53.5,
            53.5,
            0,
            0
           ],
           "y": [
            110,
            110,
            120,
            120,
            110
           ]
          },
          {
           "hoverinfo": "text",
           "hovertext": [
            "nflId:33099<br>displayName:Joe Flacco<br>",
            "nflId:42371<br>displayName:Laken Tomlinson<br>",
            "nflId:43433<br>displayName:Connor McGovern<br>",
            "nflId:43586<br>displayName:George Fant<br>",
            "nflId:44817<br>displayName:Corey Davis<br>",
            "nflId:46226<br>displayName:Tyler Conklin<br>",
            "nflId:46279<br>displayName:Braxton Berrios<br>",
            "nflId:53443<br>displayName:Alijah Vera-Tucker<br>",
            "nflId:53463<br>displayName:Elijah Moore<br>",
            "nflId:53536<br>displayName:Michael Carter<br>",
            "nflId:54576<br>displayName:Max Mitchell<br>"
           ],
           "marker": {
            "color": "#000000",
            "line": {
             "color": "#125740",
             "width": 2
            },
            "size": 10
           },
           "mode": "markers",
           "name": "NYJ",
           "type": "scatter",
           "x": [
            23.609999999999996,
            20.939999999999998,
            24.779999999999998,
            24.709999999999997,
            19.75,
            19.729999999999997,
            44.44,
            22.009999999999998,
            41.97,
            21.14,
            27.83
           ],
           "y": [
            77.69,
            83.89,
            82.44,
            87.62,
            85.89,
            84.71,
            80.36,
            82.1,
            83.98,
            83.12,
            82.83
           ]
          },
          {
           "hoverinfo": "text",
           "hovertext": [
            "nflId:33131<br>displayName:Calais Campbell<br>",
            "nflId:37145<br>displayName:Justin Houston<br>",
            "nflId:37778<br>displayName:Josh Bynes<br>",
            "nflId:40095<br>displayName:Steven Means<br>",
            "nflId:41240<br>displayName:Kyle Fuller<br>",
            "nflId:43694<br>displayName:Michael Pierce<br>",
            "nflId:44828<br>displayName:Marlon Humphrey<br>",
            "nflId:44854<br>displayName:Marcus Williams<br>",
            "nflId:44999<br>displayName:Chuck Clark<br>",
            "nflId:52436<br>displayName:Patrick Queen<br>",
            "nflId:53533<br>displayName:Brandon Stephens<br>"
           ],
           "marker": {
            "color": "#241773",
            "line": {
             "color": "#000000",
             "width": 2
            },
            "size": 10
           },
           "mode": "markers",
           "name": "BAL",
           "type": "scatter",
           "x": [
            20.939999999999998,
            22.479999999999997,
            24.249999999999996,
            27.089999999999996,
            40.31999999999999,
            23.479999999999997,
            19.449999999999996,
            20.509999999999998,
            24.529999999999998,
            20.299999999999997,
            32.709999999999994
           ],
           "y": [
            85.54,
            83.36,
            87.95,
            83.39,
            86.68,
            82.07,
            88.48,
            85.6,
            94.05,
            85.12,
            91.8
           ]
          },
          {
           "hoverinfo": "none",
           "marker": {
            "color": "#CBB67C",
            "line": {
             "color": "#663831",
             "width": 2
            },
            "size": 10
           },
           "mode": "markers",
           "name": "football",
           "type": "scatter",
           "x": [
            21.020001220703094
           ],
           "y": [
            83.0899963378906
           ]
          }
         ],
         "name": "41"
        }
       ],
       "layout": {
        "annotations": [
         {
          "font": {
           "color": "White",
           "family": "Courier New, monospace",
           "size": 32
          },
          "showarrow": false,
          "text": "NYJ",
          "textangle": 0,
          "x": 26.75,
          "y": 5
         },
         {
          "font": {
           "color": "White",
           "family": "Courier New, monospace",
           "size": 32
          },
          "showarrow": false,
          "text": "BAL",
          "textangle": 0,
          "x": 26.75,
          "y": 115
         }
        ],
        "autosize": false,
        "height": 1200,
        "plot_bgcolor": "#00B140",
        "sliders": [
         {
          "active": 40,
          "currentvalue": {
           "font": {
            "size": 20
           },
           "prefix": "Frame:",
           "visible": true,
           "xanchor": "right"
          },
          "len": 0.9,
          "pad": {
           "b": 10,
           "t": 50
          },
          "steps": [
           {
            "args": [
             [
              1
             ],
             {
              "frame": {
               "duration": 100,
               "redraw": false
              },
              "mode": "immediate",
              "transition": {
               "duration": 0
              }
             }
            ],
            "label": "1",
            "method": "animate"
           },
           {
            "args": [
             [
              2
             ],
             {
              "frame": {
               "duration": 100,
               "redraw": false
              },
              "mode": "immediate",
              "transition": {
               "duration": 0
              }
             }
            ],
            "label": "2",
            "method": "animate"
           },
           {
            "args": [
             [
              3
             ],
             {
              "frame": {
               "duration": 100,
               "redraw": false
              },
              "mode": "immediate",
              "transition": {
               "duration": 0
              }
             }
            ],
            "label": "3",
            "method": "animate"
           },
           {
            "args": [
             [
              4
             ],
             {
              "frame": {
               "duration": 100,
               "redraw": false
              },
              "mode": "immediate",
              "transition": {
               "duration": 0
              }
             }
            ],
            "label": "4",
            "method": "animate"
           },
           {
            "args": [
             [
              5
             ],
             {
              "frame": {
               "duration": 100,
               "redraw": false
              },
              "mode": "immediate",
              "transition": {
               "duration": 0
              }
             }
            ],
            "label": "5",
            "method": "animate"
           },
           {
            "args": [
             [
              6
             ],
             {
              "frame": {
               "duration": 100,
               "redraw": false
              },
              "mode": "immediate",
              "transition": {
               "duration": 0
              }
             }
            ],
            "label": "6",
            "method": "animate"
           },
           {
            "args": [
             [
              7
             ],
             {
              "frame": {
               "duration": 100,
               "redraw": false
              },
              "mode": "immediate",
              "transition": {
               "duration": 0
              }
             }
            ],
            "label": "7",
            "method": "animate"
           },
           {
            "args": [
             [
              8
             ],
             {
              "frame": {
               "duration": 100,
               "redraw": false
              },
              "mode": "immediate",
              "transition": {
               "duration": 0
              }
             }
            ],
            "label": "8",
            "method": "animate"
           },
           {
            "args": [
             [
              9
             ],
             {
              "frame": {
               "duration": 100,
               "redraw": false
              },
              "mode": "immediate",
              "transition": {
               "duration": 0
              }
             }
            ],
            "label": "9",
            "method": "animate"
           },
           {
            "args": [
             [
              10
             ],
             {
              "frame": {
               "duration": 100,
               "redraw": false
              },
              "mode": "immediate",
              "transition": {
               "duration": 0
              }
             }
            ],
            "label": "10",
            "method": "animate"
           },
           {
            "args": [
             [
              11
             ],
             {
              "frame": {
               "duration": 100,
               "redraw": false
              },
              "mode": "immediate",
              "transition": {
               "duration": 0
              }
             }
            ],
            "label": "11",
            "method": "animate"
           },
           {
            "args": [
             [
              12
             ],
             {
              "frame": {
               "duration": 100,
               "redraw": false
              },
              "mode": "immediate",
              "transition": {
               "duration": 0
              }
             }
            ],
            "label": "12",
            "method": "animate"
           },
           {
            "args": [
             [
              13
             ],
             {
              "frame": {
               "duration": 100,
               "redraw": false
              },
              "mode": "immediate",
              "transition": {
               "duration": 0
              }
             }
            ],
            "label": "13",
            "method": "animate"
           },
           {
            "args": [
             [
              14
             ],
             {
              "frame": {
               "duration": 100,
               "redraw": false
              },
              "mode": "immediate",
              "transition": {
               "duration": 0
              }
             }
            ],
            "label": "14",
            "method": "animate"
           },
           {
            "args": [
             [
              15
             ],
             {
              "frame": {
               "duration": 100,
               "redraw": false
              },
              "mode": "immediate",
              "transition": {
               "duration": 0
              }
             }
            ],
            "label": "15",
            "method": "animate"
           },
           {
            "args": [
             [
              16
             ],
             {
              "frame": {
               "duration": 100,
               "redraw": false
              },
              "mode": "immediate",
              "transition": {
               "duration": 0
              }
             }
            ],
            "label": "16",
            "method": "animate"
           },
           {
            "args": [
             [
              17
             ],
             {
              "frame": {
               "duration": 100,
               "redraw": false
              },
              "mode": "immediate",
              "transition": {
               "duration": 0
              }
             }
            ],
            "label": "17",
            "method": "animate"
           },
           {
            "args": [
             [
              18
             ],
             {
              "frame": {
               "duration": 100,
               "redraw": false
              },
              "mode": "immediate",
              "transition": {
               "duration": 0
              }
             }
            ],
            "label": "18",
            "method": "animate"
           },
           {
            "args": [
             [
              19
             ],
             {
              "frame": {
               "duration": 100,
               "redraw": false
              },
              "mode": "immediate",
              "transition": {
               "duration": 0
              }
             }
            ],
            "label": "19",
            "method": "animate"
           },
           {
            "args": [
             [
              20
             ],
             {
              "frame": {
               "duration": 100,
               "redraw": false
              },
              "mode": "immediate",
              "transition": {
               "duration": 0
              }
             }
            ],
            "label": "20",
            "method": "animate"
           },
           {
            "args": [
             [
              21
             ],
             {
              "frame": {
               "duration": 100,
               "redraw": false
              },
              "mode": "immediate",
              "transition": {
               "duration": 0
              }
             }
            ],
            "label": "21",
            "method": "animate"
           },
           {
            "args": [
             [
              22
             ],
             {
              "frame": {
               "duration": 100,
               "redraw": false
              },
              "mode": "immediate",
              "transition": {
               "duration": 0
              }
             }
            ],
            "label": "22",
            "method": "animate"
           },
           {
            "args": [
             [
              23
             ],
             {
              "frame": {
               "duration": 100,
               "redraw": false
              },
              "mode": "immediate",
              "transition": {
               "duration": 0
              }
             }
            ],
            "label": "23",
            "method": "animate"
           },
           {
            "args": [
             [
              24
             ],
             {
              "frame": {
               "duration": 100,
               "redraw": false
              },
              "mode": "immediate",
              "transition": {
               "duration": 0
              }
             }
            ],
            "label": "24",
            "method": "animate"
           },
           {
            "args": [
             [
              25
             ],
             {
              "frame": {
               "duration": 100,
               "redraw": false
              },
              "mode": "immediate",
              "transition": {
               "duration": 0
              }
             }
            ],
            "label": "25",
            "method": "animate"
           },
           {
            "args": [
             [
              26
             ],
             {
              "frame": {
               "duration": 100,
               "redraw": false
              },
              "mode": "immediate",
              "transition": {
               "duration": 0
              }
             }
            ],
            "label": "26",
            "method": "animate"
           },
           {
            "args": [
             [
              27
             ],
             {
              "frame": {
               "duration": 100,
               "redraw": false
              },
              "mode": "immediate",
              "transition": {
               "duration": 0
              }
             }
            ],
            "label": "27",
            "method": "animate"
           },
           {
            "args": [
             [
              28
             ],
             {
              "frame": {
               "duration": 100,
               "redraw": false
              },
              "mode": "immediate",
              "transition": {
               "duration": 0
              }
             }
            ],
            "label": "28",
            "method": "animate"
           },
           {
            "args": [
             [
              29
             ],
             {
              "frame": {
               "duration": 100,
               "redraw": false
              },
              "mode": "immediate",
              "transition": {
               "duration": 0
              }
             }
            ],
            "label": "29",
            "method": "animate"
           },
           {
            "args": [
             [
              30
             ],
             {
              "frame": {
               "duration": 100,
               "redraw": false
              },
              "mode": "immediate",
              "transition": {
               "duration": 0
              }
             }
            ],
            "label": "30",
            "method": "animate"
           },
           {
            "args": [
             [
              31
             ],
             {
              "frame": {
               "duration": 100,
               "redraw": false
              },
              "mode": "immediate",
              "transition": {
               "duration": 0
              }
             }
            ],
            "label": "31",
            "method": "animate"
           },
           {
            "args": [
             [
              32
             ],
             {
              "frame": {
               "duration": 100,
               "redraw": false
              },
              "mode": "immediate",
              "transition": {
               "duration": 0
              }
             }
            ],
            "label": "32",
            "method": "animate"
           },
           {
            "args": [
             [
              33
             ],
             {
              "frame": {
               "duration": 100,
               "redraw": false
              },
              "mode": "immediate",
              "transition": {
               "duration": 0
              }
             }
            ],
            "label": "33",
            "method": "animate"
           },
           {
            "args": [
             [
              34
             ],
             {
              "frame": {
               "duration": 100,
               "redraw": false
              },
              "mode": "immediate",
              "transition": {
               "duration": 0
              }
             }
            ],
            "label": "34",
            "method": "animate"
           },
           {
            "args": [
             [
              35
             ],
             {
              "frame": {
               "duration": 100,
               "redraw": false
              },
              "mode": "immediate",
              "transition": {
               "duration": 0
              }
             }
            ],
            "label": "35",
            "method": "animate"
           },
           {
            "args": [
             [
              36
             ],
             {
              "frame": {
               "duration": 100,
               "redraw": false
              },
              "mode": "immediate",
              "transition": {
               "duration": 0
              }
             }
            ],
            "label": "36",
            "method": "animate"
           },
           {
            "args": [
             [
              37
             ],
             {
              "frame": {
               "duration": 100,
               "redraw": false
              },
              "mode": "immediate",
              "transition": {
               "duration": 0
              }
             }
            ],
            "label": "37",
            "method": "animate"
           },
           {
            "args": [
             [
              38
             ],
             {
              "frame": {
               "duration": 100,
               "redraw": false
              },
              "mode": "immediate",
              "transition": {
               "duration": 0
              }
             }
            ],
            "label": "38",
            "method": "animate"
           },
           {
            "args": [
             [
              39
             ],
             {
              "frame": {
               "duration": 100,
               "redraw": false
              },
              "mode": "immediate",
              "transition": {
               "duration": 0
              }
             }
            ],
            "label": "39",
            "method": "animate"
           },
           {
            "args": [
             [
              40
             ],
             {
              "frame": {
               "duration": 100,
               "redraw": false
              },
              "mode": "immediate",
              "transition": {
               "duration": 0
              }
             }
            ],
            "label": "40",
            "method": "animate"
           },
           {
            "args": [
             [
              41
             ],
             {
              "frame": {
               "duration": 100,
               "redraw": false
              },
              "mode": "immediate",
              "transition": {
               "duration": 0
              }
             }
            ],
            "label": "41",
            "method": "animate"
           }
          ],
          "transition": {
           "duration": 300,
           "easing": "cubic-in-out"
          },
          "x": 0.1,
          "xanchor": "left",
          "y": 0,
          "yanchor": "top"
         }
        ],
        "template": {
         "data": {
          "bar": [
           {
            "error_x": {
             "color": "#2a3f5f"
            },
            "error_y": {
             "color": "#2a3f5f"
            },
            "marker": {
             "line": {
              "color": "#E5ECF6",
              "width": 0.5
             },
             "pattern": {
              "fillmode": "overlay",
              "size": 10,
              "solidity": 0.2
             }
            },
            "type": "bar"
           }
          ],
          "barpolar": [
           {
            "marker": {
             "line": {
              "color": "#E5ECF6",
              "width": 0.5
             },
             "pattern": {
              "fillmode": "overlay",
              "size": 10,
              "solidity": 0.2
             }
            },
            "type": "barpolar"
           }
          ],
          "carpet": [
           {
            "aaxis": {
             "endlinecolor": "#2a3f5f",
             "gridcolor": "white",
             "linecolor": "white",
             "minorgridcolor": "white",
             "startlinecolor": "#2a3f5f"
            },
            "baxis": {
             "endlinecolor": "#2a3f5f",
             "gridcolor": "white",
             "linecolor": "white",
             "minorgridcolor": "white",
             "startlinecolor": "#2a3f5f"
            },
            "type": "carpet"
           }
          ],
          "choropleth": [
           {
            "colorbar": {
             "outlinewidth": 0,
             "ticks": ""
            },
            "type": "choropleth"
           }
          ],
          "contour": [
           {
            "colorbar": {
             "outlinewidth": 0,
             "ticks": ""
            },
            "colorscale": [
             [
              0,
              "#0d0887"
             ],
             [
              0.1111111111111111,
              "#46039f"
             ],
             [
              0.2222222222222222,
              "#7201a8"
             ],
             [
              0.3333333333333333,
              "#9c179e"
             ],
             [
              0.4444444444444444,
              "#bd3786"
             ],
             [
              0.5555555555555556,
              "#d8576b"
             ],
             [
              0.6666666666666666,
              "#ed7953"
             ],
             [
              0.7777777777777778,
              "#fb9f3a"
             ],
             [
              0.8888888888888888,
              "#fdca26"
             ],
             [
              1,
              "#f0f921"
             ]
            ],
            "type": "contour"
           }
          ],
          "contourcarpet": [
           {
            "colorbar": {
             "outlinewidth": 0,
             "ticks": ""
            },
            "type": "contourcarpet"
           }
          ],
          "heatmap": [
           {
            "colorbar": {
             "outlinewidth": 0,
             "ticks": ""
            },
            "colorscale": [
             [
              0,
              "#0d0887"
             ],
             [
              0.1111111111111111,
              "#46039f"
             ],
             [
              0.2222222222222222,
              "#7201a8"
             ],
             [
              0.3333333333333333,
              "#9c179e"
             ],
             [
              0.4444444444444444,
              "#bd3786"
             ],
             [
              0.5555555555555556,
              "#d8576b"
             ],
             [
              0.6666666666666666,
              "#ed7953"
             ],
             [
              0.7777777777777778,
              "#fb9f3a"
             ],
             [
              0.8888888888888888,
              "#fdca26"
             ],
             [
              1,
              "#f0f921"
             ]
            ],
            "type": "heatmap"
           }
          ],
          "heatmapgl": [
           {
            "colorbar": {
             "outlinewidth": 0,
             "ticks": ""
            },
            "colorscale": [
             [
              0,
              "#0d0887"
             ],
             [
              0.1111111111111111,
              "#46039f"
             ],
             [
              0.2222222222222222,
              "#7201a8"
             ],
             [
              0.3333333333333333,
              "#9c179e"
             ],
             [
              0.4444444444444444,
              "#bd3786"
             ],
             [
              0.5555555555555556,
              "#d8576b"
             ],
             [
              0.6666666666666666,
              "#ed7953"
             ],
             [
              0.7777777777777778,
              "#fb9f3a"
             ],
             [
              0.8888888888888888,
              "#fdca26"
             ],
             [
              1,
              "#f0f921"
             ]
            ],
            "type": "heatmapgl"
           }
          ],
          "histogram": [
           {
            "marker": {
             "pattern": {
              "fillmode": "overlay",
              "size": 10,
              "solidity": 0.2
             }
            },
            "type": "histogram"
           }
          ],
          "histogram2d": [
           {
            "colorbar": {
             "outlinewidth": 0,
             "ticks": ""
            },
            "colorscale": [
             [
              0,
              "#0d0887"
             ],
             [
              0.1111111111111111,
              "#46039f"
             ],
             [
              0.2222222222222222,
              "#7201a8"
             ],
             [
              0.3333333333333333,
              "#9c179e"
             ],
             [
              0.4444444444444444,
              "#bd3786"
             ],
             [
              0.5555555555555556,
              "#d8576b"
             ],
             [
              0.6666666666666666,
              "#ed7953"
             ],
             [
              0.7777777777777778,
              "#fb9f3a"
             ],
             [
              0.8888888888888888,
              "#fdca26"
             ],
             [
              1,
              "#f0f921"
             ]
            ],
            "type": "histogram2d"
           }
          ],
          "histogram2dcontour": [
           {
            "colorbar": {
             "outlinewidth": 0,
             "ticks": ""
            },
            "colorscale": [
             [
              0,
              "#0d0887"
             ],
             [
              0.1111111111111111,
              "#46039f"
             ],
             [
              0.2222222222222222,
              "#7201a8"
             ],
             [
              0.3333333333333333,
              "#9c179e"
             ],
             [
              0.4444444444444444,
              "#bd3786"
             ],
             [
              0.5555555555555556,
              "#d8576b"
             ],
             [
              0.6666666666666666,
              "#ed7953"
             ],
             [
              0.7777777777777778,
              "#fb9f3a"
             ],
             [
              0.8888888888888888,
              "#fdca26"
             ],
             [
              1,
              "#f0f921"
             ]
            ],
            "type": "histogram2dcontour"
           }
          ],
          "mesh3d": [
           {
            "colorbar": {
             "outlinewidth": 0,
             "ticks": ""
            },
            "type": "mesh3d"
           }
          ],
          "parcoords": [
           {
            "line": {
             "colorbar": {
              "outlinewidth": 0,
              "ticks": ""
             }
            },
            "type": "parcoords"
           }
          ],
          "pie": [
           {
            "automargin": true,
            "type": "pie"
           }
          ],
          "scatter": [
           {
            "fillpattern": {
             "fillmode": "overlay",
             "size": 10,
             "solidity": 0.2
            },
            "type": "scatter"
           }
          ],
          "scatter3d": [
           {
            "line": {
             "colorbar": {
              "outlinewidth": 0,
              "ticks": ""
             }
            },
            "marker": {
             "colorbar": {
              "outlinewidth": 0,
              "ticks": ""
             }
            },
            "type": "scatter3d"
           }
          ],
          "scattercarpet": [
           {
            "marker": {
             "colorbar": {
              "outlinewidth": 0,
              "ticks": ""
             }
            },
            "type": "scattercarpet"
           }
          ],
          "scattergeo": [
           {
            "marker": {
             "colorbar": {
              "outlinewidth": 0,
              "ticks": ""
             }
            },
            "type": "scattergeo"
           }
          ],
          "scattergl": [
           {
            "marker": {
             "colorbar": {
              "outlinewidth": 0,
              "ticks": ""
             }
            },
            "type": "scattergl"
           }
          ],
          "scattermapbox": [
           {
            "marker": {
             "colorbar": {
              "outlinewidth": 0,
              "ticks": ""
             }
            },
            "type": "scattermapbox"
           }
          ],
          "scatterpolar": [
           {
            "marker": {
             "colorbar": {
              "outlinewidth": 0,
              "ticks": ""
             }
            },
            "type": "scatterpolar"
           }
          ],
          "scatterpolargl": [
           {
            "marker": {
             "colorbar": {
              "outlinewidth": 0,
              "ticks": ""
             }
            },
            "type": "scatterpolargl"
           }
          ],
          "scatterternary": [
           {
            "marker": {
             "colorbar": {
              "outlinewidth": 0,
              "ticks": ""
             }
            },
            "type": "scatterternary"
           }
          ],
          "surface": [
           {
            "colorbar": {
             "outlinewidth": 0,
             "ticks": ""
            },
            "colorscale": [
             [
              0,
              "#0d0887"
             ],
             [
              0.1111111111111111,
              "#46039f"
             ],
             [
              0.2222222222222222,
              "#7201a8"
             ],
             [
              0.3333333333333333,
              "#9c179e"
             ],
             [
              0.4444444444444444,
              "#bd3786"
             ],
             [
              0.5555555555555556,
              "#d8576b"
             ],
             [
              0.6666666666666666,
              "#ed7953"
             ],
             [
              0.7777777777777778,
              "#fb9f3a"
             ],
             [
              0.8888888888888888,
              "#fdca26"
             ],
             [
              1,
              "#f0f921"
             ]
            ],
            "type": "surface"
           }
          ],
          "table": [
           {
            "cells": {
             "fill": {
              "color": "#EBF0F8"
             },
             "line": {
              "color": "white"
             }
            },
            "header": {
             "fill": {
              "color": "#C8D4E3"
             },
             "line": {
              "color": "white"
             }
            },
            "type": "table"
           }
          ]
         },
         "layout": {
          "annotationdefaults": {
           "arrowcolor": "#2a3f5f",
           "arrowhead": 0,
           "arrowwidth": 1
          },
          "autotypenumbers": "strict",
          "coloraxis": {
           "colorbar": {
            "outlinewidth": 0,
            "ticks": ""
           }
          },
          "colorscale": {
           "diverging": [
            [
             0,
             "#8e0152"
            ],
            [
             0.1,
             "#c51b7d"
            ],
            [
             0.2,
             "#de77ae"
            ],
            [
             0.3,
             "#f1b6da"
            ],
            [
             0.4,
             "#fde0ef"
            ],
            [
             0.5,
             "#f7f7f7"
            ],
            [
             0.6,
             "#e6f5d0"
            ],
            [
             0.7,
             "#b8e186"
            ],
            [
             0.8,
             "#7fbc41"
            ],
            [
             0.9,
             "#4d9221"
            ],
            [
             1,
             "#276419"
            ]
           ],
           "sequential": [
            [
             0,
             "#0d0887"
            ],
            [
             0.1111111111111111,
             "#46039f"
            ],
            [
             0.2222222222222222,
             "#7201a8"
            ],
            [
             0.3333333333333333,
             "#9c179e"
            ],
            [
             0.4444444444444444,
             "#bd3786"
            ],
            [
             0.5555555555555556,
             "#d8576b"
            ],
            [
             0.6666666666666666,
             "#ed7953"
            ],
            [
             0.7777777777777778,
             "#fb9f3a"
            ],
            [
             0.8888888888888888,
             "#fdca26"
            ],
            [
             1,
             "#f0f921"
            ]
           ],
           "sequentialminus": [
            [
             0,
             "#0d0887"
            ],
            [
             0.1111111111111111,
             "#46039f"
            ],
            [
             0.2222222222222222,
             "#7201a8"
            ],
            [
             0.3333333333333333,
             "#9c179e"
            ],
            [
             0.4444444444444444,
             "#bd3786"
            ],
            [
             0.5555555555555556,
             "#d8576b"
            ],
            [
             0.6666666666666666,
             "#ed7953"
            ],
            [
             0.7777777777777778,
             "#fb9f3a"
            ],
            [
             0.8888888888888888,
             "#fdca26"
            ],
            [
             1,
             "#f0f921"
            ]
           ]
          },
          "colorway": [
           "#636efa",
           "#EF553B",
           "#00cc96",
           "#ab63fa",
           "#FFA15A",
           "#19d3f3",
           "#FF6692",
           "#B6E880",
           "#FF97FF",
           "#FECB52"
          ],
          "font": {
           "color": "#2a3f5f"
          },
          "geo": {
           "bgcolor": "white",
           "lakecolor": "white",
           "landcolor": "#E5ECF6",
           "showlakes": true,
           "showland": true,
           "subunitcolor": "white"
          },
          "hoverlabel": {
           "align": "left"
          },
          "hovermode": "closest",
          "mapbox": {
           "style": "light"
          },
          "paper_bgcolor": "white",
          "plot_bgcolor": "#E5ECF6",
          "polar": {
           "angularaxis": {
            "gridcolor": "white",
            "linecolor": "white",
            "ticks": ""
           },
           "bgcolor": "#E5ECF6",
           "radialaxis": {
            "gridcolor": "white",
            "linecolor": "white",
            "ticks": ""
           }
          },
          "scene": {
           "xaxis": {
            "backgroundcolor": "#E5ECF6",
            "gridcolor": "white",
            "gridwidth": 2,
            "linecolor": "white",
            "showbackground": true,
            "ticks": "",
            "zerolinecolor": "white"
           },
           "yaxis": {
            "backgroundcolor": "#E5ECF6",
            "gridcolor": "white",
            "gridwidth": 2,
            "linecolor": "white",
            "showbackground": true,
            "ticks": "",
            "zerolinecolor": "white"
           },
           "zaxis": {
            "backgroundcolor": "#E5ECF6",
            "gridcolor": "white",
            "gridwidth": 2,
            "linecolor": "white",
            "showbackground": true,
            "ticks": "",
            "zerolinecolor": "white"
           }
          },
          "shapedefaults": {
           "line": {
            "color": "#2a3f5f"
           }
          },
          "ternary": {
           "aaxis": {
            "gridcolor": "white",
            "linecolor": "white",
            "ticks": ""
           },
           "baxis": {
            "gridcolor": "white",
            "linecolor": "white",
            "ticks": ""
           },
           "bgcolor": "#E5ECF6",
           "caxis": {
            "gridcolor": "white",
            "linecolor": "white",
            "ticks": ""
           }
          },
          "title": {
           "x": 0.05
          },
          "xaxis": {
           "automargin": true,
           "gridcolor": "white",
           "linecolor": "white",
           "ticks": "",
           "title": {
            "standoff": 15
           },
           "zerolinecolor": "white",
           "zerolinewidth": 2
          },
          "yaxis": {
           "automargin": true,
           "gridcolor": "white",
           "linecolor": "white",
           "ticks": "",
           "title": {
            "standoff": 15
           },
           "zerolinecolor": "white",
           "zerolinewidth": 2
          }
         }
        },
        "updatemenus": [
         {
          "active": 0,
          "buttons": [
           {
            "args": [
             null,
             {
              "frame": {
               "duration": 100,
               "redraw": false
              },
              "fromcurrent": true,
              "transition": {
               "duration": 0
              }
             }
            ],
            "label": "Play",
            "method": "animate"
           },
           {
            "args": [
             [
              null
             ],
             {
              "frame": {
               "duration": 0,
               "redraw": false
              },
              "mode": "immediate",
              "transition": {
               "duration": 0
              }
             }
            ],
            "label": "Pause",
            "method": "animate"
           }
          ],
          "direction": "left",
          "pad": {
           "r": 10,
           "t": 87
          },
          "showactive": false,
          "type": "buttons",
          "x": 0.1,
          "xanchor": "right",
          "y": 0,
          "yanchor": "top"
         }
        ],
        "width": 600,
        "xaxis": {
         "autorange": false,
         "range": [
          0,
          53.3
         ],
         "showgrid": false,
         "showticklabels": false,
         "type": "linear"
        },
        "yaxis": {
         "autorange": false,
         "range": [
          0,
          120
         ],
         "showticklabels": false,
         "tickmode": "array",
         "tickvals": [
          10,
          15,
          20,
          25,
          30,
          35,
          40,
          45,
          50,
          55,
          60,
          65,
          70,
          75,
          80,
          85,
          90,
          95,
          100,
          105,
          110
         ],
         "type": "linear"
        }
       }
      },
      "image/png": "[encoded data removed]",
      "text/html": [
       "<div>                            <div id=\"cd7bd020-8a0c-4a0f-b10b-92c1fc7682f7\" class=\"plotly-graph-div\" style=\"height:1200px; width:600px;\"></div>            <script type=\"text/javascript\">                require([\"plotly\"], function(Plotly) {                    window.PLOTLYENV=window.PLOTLYENV || {};                                    if (document.getElementById(\"cd7bd020-8a0c-4a0f-b10b-92c1fc7682f7\")) {                    Plotly.newPlot(                        \"cd7bd020-8a0c-4a0f-b10b-92c1fc7682f7\",                        [{\"hoverinfo\":\"none\",\"mode\":\"text\",\"showlegend\":false,\"text\":[\"10\",\"20\",\"30\",\"40\",\"50\",\"40\",\"30\",\"20\",\"10\"],\"textfont\":{\"color\":\"#ffffff\",\"family\":\"Courier New, monospace\",\"size\":30},\"x\":[5,5,5,5,5,5,5,5,5],\"y\":[20,30,40,50,60,70,80,90,100],\"type\":\"scatter\"},{\"hoverinfo\":\"none\",\"mode\":\"text\",\"showlegend\":false,\"text\":[\"10\",\"20\",\"30\",\"40\",\"50\",\"40\",\"30\",\"20\",\"10\"],\"textfont\":{\"color\":\"#ffffff\",\"family\":\"Courier New, monospace\",\"size\":30},\"x\":[48.5,48.5,48.5,48.5,48.5,48.5,48.5,48.5,48.5],\"y\":[20,30,40,50,60,70,80,90,100],\"type\":\"scatter\"},{\"hoverinfo\":\"none\",\"line\":{\"color\":\"blue\",\"dash\":\"dash\"},\"showlegend\":false,\"x\":[0,53.5],\"y\":[83,83],\"type\":\"scatter\"},{\"fill\":\"toself\",\"fillcolor\":\"#000000\",\"hoverinfo\":\"skip\",\"line\":{\"color\":\"white\",\"width\":3},\"mode\":\"lines\",\"opacity\":1,\"showlegend\":false,\"x\":[0,53.5,53.5,0,0],\"y\":[0,0,10,10,0],\"type\":\"scatter\"},{\"fill\":\"toself\",\"fillcolor\":\"#241773\",\"hoverinfo\":\"skip\",\"line\":{\"color\":\"white\",\"width\":3},\"mode\":\"lines\",\"opacity\":1,\"showlegend\":false,\"x\":[0,53.5,53.5,0,0],\"y\":[110,110,120,120,110],\"type\":\"scatter\"},{\"hoverinfo\":\"text\",\"hovertext\":[\"nflId:33099\\u003cbr\\u003edisplayName:Joe Flacco\\u003cbr\\u003e\",\"nflId:42371\\u003cbr\\u003edisplayName:Laken Tomlinson\\u003cbr\\u003e\",\"nflId:43433\\u003cbr\\u003edisplayName:Connor McGovern\\u003cbr\\u003e\",\"nflId:43586\\u003cbr\\u003edisplayName:George Fant\\u003cbr\\u003e\",\"nflId:44817\\u003cbr\\u003edisplayName:Corey Davis\\u003cbr\\u003e\",\"nflId:46226\\u003cbr\\u003edisplayName:Tyler Conklin\\u003cbr\\u003e\",\"nflId:46279\\u003cbr\\u003edisplayName:Braxton Berrios\\u003cbr\\u003e\",\"nflId:53443\\u003cbr\\u003edisplayName:Alijah Vera-Tucker\\u003cbr\\u003e\",\"nflId:53463\\u003cbr\\u003edisplayName:Elijah Moore\\u003cbr\\u003e\",\"nflId:53536\\u003cbr\\u003edisplayName:Michael Carter\\u003cbr\\u003e\",\"nflId:54576\\u003cbr\\u003edisplayName:Max Mitchell\\u003cbr\\u003e\"],\"marker\":{\"color\":\"#000000\",\"line\":{\"color\":\"#125740\",\"width\":2},\"size\":10},\"mode\":\"markers\",\"name\":\"NYJ\",\"x\":[23.549999999999997,21.839999999999996,23.459999999999997,20.379999999999995,15.449999999999996,18.57,36.06,25.179999999999996,34.089999999999996,25.389999999999997,26.679999999999996],\"y\":[78.45,82.09,82.84,82.09,81.57,82.12,80.98,82.3,82.56,77.56,82.03],\"type\":\"scatter\"},{\"hoverinfo\":\"text\",\"hovertext\":[\"nflId:33131\\u003cbr\\u003edisplayName:Calais Campbell\\u003cbr\\u003e\",\"nflId:37145\\u003cbr\\u003edisplayName:Justin Houston\\u003cbr\\u003e\",\"nflId:37778\\u003cbr\\u003edisplayName:Josh Bynes\\u003cbr\\u003e\",\"nflId:40095\\u003cbr\\u003edisplayName:Steven Means\\u003cbr\\u003e\",\"nflId:41240\\u003cbr\\u003edisplayName:Kyle Fuller\\u003cbr\\u003e\",\"nflId:43694\\u003cbr\\u003edisplayName:Michael Pierce\\u003cbr\\u003e\",\"nflId:44828\\u003cbr\\u003edisplayName:Marlon Humphrey\\u003cbr\\u003e\",\"nflId:44854\\u003cbr\\u003edisplayName:Marcus Williams\\u003cbr\\u003e\",\"nflId:44999\\u003cbr\\u003edisplayName:Chuck Clark\\u003cbr\\u003e\",\"nflId:52436\\u003cbr\\u003edisplayName:Patrick Queen\\u003cbr\\u003e\",\"nflId:53533\\u003cbr\\u003edisplayName:Brandon Stephens\\u003cbr\\u003e\"],\"marker\":{\"color\":\"#241773\",\"line\":{\"color\":\"#000000\",\"width\":2},\"size\":10},\"mode\":\"markers\",\"name\":\"BAL\",\"x\":[21.539999999999996,17.419999999999995,25.789999999999996,28.99,36.03,25.179999999999996,13.909999999999997,17.619999999999997,30.22,22.249999999999996,35.199999999999996],\"y\":[83.95,83.63,87.59,84.04,84.09,84.17,90.05,89.32,95.74,87.29,89.64],\"type\":\"scatter\"},{\"hoverinfo\":\"none\",\"marker\":{\"color\":\"#CBB67C\",\"line\":{\"color\":\"#663831\",\"width\":2},\"size\":10},\"mode\":\"markers\",\"name\":\"football\",\"x\":[23.580000686645498],\"y\":[82.8499984741211],\"type\":\"scatter\"}],                        {\"autosize\":false,\"height\":1200,\"plot_bgcolor\":\"#00B140\",\"sliders\":[{\"active\":0,\"currentvalue\":{\"font\":{\"size\":20},\"prefix\":\"Frame:\",\"visible\":true,\"xanchor\":\"right\"},\"len\":0.9,\"pad\":{\"b\":10,\"t\":50},\"steps\":[{\"args\":[[1],{\"frame\":{\"duration\":100,\"redraw\":false},\"mode\":\"immediate\",\"transition\":{\"duration\":0}}],\"label\":\"1\",\"method\":\"animate\"},{\"args\":[[2],{\"frame\":{\"duration\":100,\"redraw\":false},\"mode\":\"immediate\",\"transition\":{\"duration\":0}}],\"label\":\"2\",\"method\":\"animate\"},{\"args\":[[3],{\"frame\":{\"duration\":100,\"redraw\":false},\"mode\":\"immediate\",\"transition\":{\"duration\":0}}],\"label\":\"3\",\"method\":\"animate\"},{\"args\":[[4],{\"frame\":{\"duration\":100,\"redraw\":false},\"mode\":\"immediate\",\"transition\":{\"duration\":0}}],\"label\":\"4\",\"method\":\"animate\"},{\"args\":[[5],{\"frame\":{\"duration\":100,\"redraw\":false},\"mode\":\"immediate\",\"transition\":{\"duration\":0}}],\"label\":\"5\",\"method\":\"animate\"},{\"args\":[[6],{\"frame\":{\"duration\":100,\"redraw\":false},\"mode\":\"immediate\",\"transition\":{\"duration\":0}}],\"label\":\"6\",\"method\":\"animate\"},{\"args\":[[7],{\"frame\":{\"duration\":100,\"redraw\":false},\"mode\":\"immediate\",\"transition\":{\"duration\":0}}],\"label\":\"7\",\"method\":\"animate\"},{\"args\":[[8],{\"frame\":{\"duration\":100,\"redraw\":false},\"mode\":\"immediate\",\"transition\":{\"duration\":0}}],\"label\":\"8\",\"method\":\"animate\"},{\"args\":[[9],{\"frame\":{\"duration\":100,\"redraw\":false},\"mode\":\"immediate\",\"transition\":{\"duration\":0}}],\"label\":\"9\",\"method\":\"animate\"},{\"args\":[[10],{\"frame\":{\"duration\":100,\"redraw\":false},\"mode\":\"immediate\",\"transition\":{\"duration\":0}}],\"label\":\"10\",\"method\":\"animate\"},{\"args\":[[11],{\"frame\":{\"duration\":100,\"redraw\":false},\"mode\":\"immediate\",\"transition\":{\"duration\":0}}],\"label\":\"11\",\"method\":\"animate\"},{\"args\":[[12],{\"frame\":{\"duration\":100,\"redraw\":false},\"mode\":\"immediate\",\"transition\":{\"duration\":0}}],\"label\":\"12\",\"method\":\"animate\"},{\"args\":[[13],{\"frame\":{\"duration\":100,\"redraw\":false},\"mode\":\"immediate\",\"transition\":{\"duration\":0}}],\"label\":\"13\",\"method\":\"animate\"},{\"args\":[[14],{\"frame\":{\"duration\":100,\"redraw\":false},\"mode\":\"immediate\",\"transition\":{\"duration\":0}}],\"label\":\"14\",\"method\":\"animate\"},{\"args\":[[15],{\"frame\":{\"duration\":100,\"redraw\":false},\"mode\":\"immediate\",\"transition\":{\"duration\":0}}],\"label\":\"15\",\"method\":\"animate\"},{\"args\":[[16],{\"frame\":{\"duration\":100,\"redraw\":false},\"mode\":\"immediate\",\"transition\":{\"duration\":0}}],\"label\":\"16\",\"method\":\"animate\"},{\"args\":[[17],{\"frame\":{\"duration\":100,\"redraw\":false},\"mode\":\"immediate\",\"transition\":{\"duration\":0}}],\"label\":\"17\",\"method\":\"animate\"},{\"args\":[[18],{\"frame\":{\"duration\":100,\"redraw\":false},\"mode\":\"immediate\",\"transition\":{\"duration\":0}}],\"label\":\"18\",\"method\":\"animate\"},{\"args\":[[19],{\"frame\":{\"duration\":100,\"redraw\":false},\"mode\":\"immediate\",\"transition\":{\"duration\":0}}],\"label\":\"19\",\"method\":\"animate\"},{\"args\":[[20],{\"frame\":{\"duration\":100,\"redraw\":false},\"mode\":\"immediate\",\"transition\":{\"duration\":0}}],\"label\":\"20\",\"method\":\"animate\"},{\"args\":[[21],{\"frame\":{\"duration\":100,\"redraw\":false},\"mode\":\"immediate\",\"transition\":{\"duration\":0}}],\"label\":\"21\",\"method\":\"animate\"},{\"args\":[[22],{\"frame\":{\"duration\":100,\"redraw\":false},\"mode\":\"immediate\",\"transition\":{\"duration\":0}}],\"label\":\"22\",\"method\":\"animate\"},{\"args\":[[23],{\"frame\":{\"duration\":100,\"redraw\":false},\"mode\":\"immediate\",\"transition\":{\"duration\":0}}],\"label\":\"23\",\"method\":\"animate\"},{\"args\":[[24],{\"frame\":{\"duration\":100,\"redraw\":false},\"mode\":\"immediate\",\"transition\":{\"duration\":0}}],\"label\":\"24\",\"method\":\"animate\"},{\"args\":[[25],{\"frame\":{\"duration\":100,\"redraw\":false},\"mode\":\"immediate\",\"transition\":{\"duration\":0}}],\"label\":\"25\",\"method\":\"animate\"},{\"args\":[[26],{\"frame\":{\"duration\":100,\"redraw\":false},\"mode\":\"immediate\",\"transition\":{\"duration\":0}}],\"label\":\"26\",\"method\":\"animate\"},{\"args\":[[27],{\"frame\":{\"duration\":100,\"redraw\":false},\"mode\":\"immediate\",\"transition\":{\"duration\":0}}],\"label\":\"27\",\"method\":\"animate\"},{\"args\":[[28],{\"frame\":{\"duration\":100,\"redraw\":false},\"mode\":\"immediate\",\"transition\":{\"duration\":0}}],\"label\":\"28\",\"method\":\"animate\"},{\"args\":[[29],{\"frame\":{\"duration\":100,\"redraw\":false},\"mode\":\"immediate\",\"transition\":{\"duration\":0}}],\"label\":\"29\",\"method\":\"animate\"},{\"args\":[[30],{\"frame\":{\"duration\":100,\"redraw\":false},\"mode\":\"immediate\",\"transition\":{\"duration\":0}}],\"label\":\"30\",\"method\":\"animate\"},{\"args\":[[31],{\"frame\":{\"duration\":100,\"redraw\":false},\"mode\":\"immediate\",\"transition\":{\"duration\":0}}],\"label\":\"31\",\"method\":\"animate\"},{\"args\":[[32],{\"frame\":{\"duration\":100,\"redraw\":false},\"mode\":\"immediate\",\"transition\":{\"duration\":0}}],\"label\":\"32\",\"method\":\"animate\"},{\"args\":[[33],{\"frame\":{\"duration\":100,\"redraw\":false},\"mode\":\"immediate\",\"transition\":{\"duration\":0}}],\"label\":\"33\",\"method\":\"animate\"},{\"args\":[[34],{\"frame\":{\"duration\":100,\"redraw\":false},\"mode\":\"immediate\",\"transition\":{\"duration\":0}}],\"label\":\"34\",\"method\":\"animate\"},{\"args\":[[35],{\"frame\":{\"duration\":100,\"redraw\":false},\"mode\":\"immediate\",\"transition\":{\"duration\":0}}],\"label\":\"35\",\"method\":\"animate\"},{\"args\":[[36],{\"frame\":{\"duration\":100,\"redraw\":false},\"mode\":\"immediate\",\"transition\":{\"duration\":0}}],\"label\":\"36\",\"method\":\"animate\"},{\"args\":[[37],{\"frame\":{\"duration\":100,\"redraw\":false},\"mode\":\"immediate\",\"transition\":{\"duration\":0}}],\"label\":\"37\",\"method\":\"animate\"},{\"args\":[[38],{\"frame\":{\"duration\":100,\"redraw\":false},\"mode\":\"immediate\",\"transition\":{\"duration\":0}}],\"label\":\"38\",\"method\":\"animate\"},{\"args\":[[39],{\"frame\":{\"duration\":100,\"redraw\":false},\"mode\":\"immediate\",\"transition\":{\"duration\":0}}],\"label\":\"39\",\"method\":\"animate\"},{\"args\":[[40],{\"frame\":{\"duration\":100,\"redraw\":false},\"mode\":\"immediate\",\"transition\":{\"duration\":0}}],\"label\":\"40\",\"method\":\"animate\"},{\"args\":[[41],{\"frame\":{\"duration\":100,\"redraw\":false},\"mode\":\"immediate\",\"transition\":{\"duration\":0}}],\"label\":\"41\",\"method\":\"animate\"}],\"transition\":{\"duration\":300,\"easing\":\"cubic-in-out\"},\"x\":0.1,\"xanchor\":\"left\",\"y\":0,\"yanchor\":\"top\"}],\"updatemenus\":[{\"buttons\":[{\"args\":[null,{\"frame\":{\"duration\":100,\"redraw\":false},\"fromcurrent\":true,\"transition\":{\"duration\":0}}],\"label\":\"Play\",\"method\":\"animate\"},{\"args\":[[null],{\"frame\":{\"duration\":0,\"redraw\":false},\"mode\":\"immediate\",\"transition\":{\"duration\":0}}],\"label\":\"Pause\",\"method\":\"animate\"}],\"direction\":\"left\",\"pad\":{\"r\":10,\"t\":87},\"showactive\":false,\"type\":\"buttons\",\"x\":0.1,\"xanchor\":\"right\",\"y\":0,\"yanchor\":\"top\"}],\"width\":600,\"xaxis\":{\"autorange\":false,\"range\":[0,53.3],\"showgrid\":false,\"showticklabels\":false},\"yaxis\":{\"autorange\":false,\"range\":[0,120],\"showticklabels\":false,\"tickmode\":\"array\",\"tickvals\":[10,15,20,25,30,35,40,45,50,55,60,65,70,75,80,85,90,95,100,105,110]},\"template\":{\"data\":{\"histogram2dcontour\":[{\"type\":\"histogram2dcontour\",\"colorbar\":{\"outlinewidth\":0,\"ticks\":\"\"},\"colorscale\":[[0.0,\"#0d0887\"],[0.1111111111111111,\"#46039f\"],[0.2222222222222222,\"#7201a8\"],[0.3333333333333333,\"#9c179e\"],[0.4444444444444444,\"#bd3786\"],[0.5555555555555556,\"#d8576b\"],[0.6666666666666666,\"#ed7953\"],[0.7777777777777778,\"#fb9f3a\"],[0.8888888888888888,\"#fdca26\"],[1.0,\"#f0f921\"]]}],\"choropleth\":[{\"type\":\"choropleth\",\"colorbar\":{\"outlinewidth\":0,\"ticks\":\"\"}}],\"histogram2d\":[{\"type\":\"histogram2d\",\"colorbar\":{\"outlinewidth\":0,\"ticks\":\"\"},\"colorscale\":[[0.0,\"#0d0887\"],[0.1111111111111111,\"#46039f\"],[0.2222222222222222,\"#7201a8\"],[0.3333333333333333,\"#9c179e\"],[0.4444444444444444,\"#bd3786\"],[0.5555555555555556,\"#d8576b\"],[0.6666666666666666,\"#ed7953\"],[0.7777777777777778,\"#fb9f3a\"],[0.8888888888888888,\"#fdca26\"],[1.0,\"#f0f921\"]]}],\"heatmap\":[{\"type\":\"heatmap\",\"colorbar\":{\"outlinewidth\":0,\"ticks\":\"\"},\"colorscale\":[[0.0,\"#0d0887\"],[0.1111111111111111,\"#46039f\"],[0.2222222222222222,\"#7201a8\"],[0.3333333333333333,\"#9c179e\"],[0.4444444444444444,\"#bd3786\"],[0.5555555555555556,\"#d8576b\"],[0.6666666666666666,\"#ed7953\"],[0.7777777777777778,\"#fb9f3a\"],[0.8888888888888888,\"#fdca26\"],[1.0,\"#f0f921\"]]}],\"heatmapgl\":[{\"type\":\"heatmapgl\",\"colorbar\":{\"outlinewidth\":0,\"ticks\":\"\"},\"colorscale\":[[0.0,\"#0d0887\"],[0.1111111111111111,\"#46039f\"],[0.2222222222222222,\"#7201a8\"],[0.3333333333333333,\"#9c179e\"],[0.4444444444444444,\"#bd3786\"],[0.5555555555555556,\"#d8576b\"],[0.6666666666666666,\"#ed7953\"],[0.7777777777777778,\"#fb9f3a\"],[0.8888888888888888,\"#fdca26\"],[1.0,\"#f0f921\"]]}],\"contourcarpet\":[{\"type\":\"contourcarpet\",\"colorbar\":{\"outlinewidth\":0,\"ticks\":\"\"}}],\"contour\":[{\"type\":\"contour\",\"colorbar\":{\"outlinewidth\":0,\"ticks\":\"\"},\"colorscale\":[[0.0,\"#0d0887\"],[0.1111111111111111,\"#46039f\"],[0.2222222222222222,\"#7201a8\"],[0.3333333333333333,\"#9c179e\"],[0.4444444444444444,\"#bd3786\"],[0.5555555555555556,\"#d8576b\"],[0.6666666666666666,\"#ed7953\"],[0.7777777777777778,\"#fb9f3a\"],[0.8888888888888888,\"#fdca26\"],[1.0,\"#f0f921\"]]}],\"surface\":[{\"type\":\"surface\",\"colorbar\":{\"outlinewidth\":0,\"ticks\":\"\"},\"colorscale\":[[0.0,\"#0d0887\"],[0.1111111111111111,\"#46039f\"],[0.2222222222222222,\"#7201a8\"],[0.3333333333333333,\"#9c179e\"],[0.4444444444444444,\"#bd3786\"],[0.5555555555555556,\"#d8576b\"],[0.6666666666666666,\"#ed7953\"],[0.7777777777777778,\"#fb9f3a\"],[0.8888888888888888,\"#fdca26\"],[1.0,\"#f0f921\"]]}],\"mesh3d\":[{\"type\":\"mesh3d\",\"colorbar\":{\"outlinewidth\":0,\"ticks\":\"\"}}],\"scatter\":[{\"fillpattern\":{\"fillmode\":\"overlay\",\"size\":10,\"solidity\":0.2},\"type\":\"scatter\"}],\"parcoords\":[{\"type\":\"parcoords\",\"line\":{\"colorbar\":{\"outlinewidth\":0,\"ticks\":\"\"}}}],\"scatterpolargl\":[{\"type\":\"scatterpolargl\",\"marker\":{\"colorbar\":{\"outlinewidth\":0,\"ticks\":\"\"}}}],\"bar\":[{\"error_x\":{\"color\":\"#2a3f5f\"},\"error_y\":{\"color\":\"#2a3f5f\"},\"marker\":{\"line\":{\"color\":\"#E5ECF6\",\"width\":0.5},\"pattern\":{\"fillmode\":\"overlay\",\"size\":10,\"solidity\":0.2}},\"type\":\"bar\"}],\"scattergeo\":[{\"type\":\"scattergeo\",\"marker\":{\"colorbar\":{\"outlinewidth\":0,\"ticks\":\"\"}}}],\"scatterpolar\":[{\"type\":\"scatterpolar\",\"marker\":{\"colorbar\":{\"outlinewidth\":0,\"ticks\":\"\"}}}],\"histogram\":[{\"marker\":{\"pattern\":{\"fillmode\":\"overlay\",\"size\":10,\"solidity\":0.2}},\"type\":\"histogram\"}],\"scattergl\":[{\"type\":\"scattergl\",\"marker\":{\"colorbar\":{\"outlinewidth\":0,\"ticks\":\"\"}}}],\"scatter3d\":[{\"type\":\"scatter3d\",\"line\":{\"colorbar\":{\"outlinewidth\":0,\"ticks\":\"\"}},\"marker\":{\"colorbar\":{\"outlinewidth\":0,\"ticks\":\"\"}}}],\"scattermapbox\":[{\"type\":\"scattermapbox\",\"marker\":{\"colorbar\":{\"outlinewidth\":0,\"ticks\":\"\"}}}],\"scatterternary\":[{\"type\":\"scatterternary\",\"marker\":{\"colorbar\":{\"outlinewidth\":0,\"ticks\":\"\"}}}],\"scattercarpet\":[{\"type\":\"scattercarpet\",\"marker\":{\"colorbar\":{\"outlinewidth\":0,\"ticks\":\"\"}}}],\"carpet\":[{\"aaxis\":{\"endlinecolor\":\"#2a3f5f\",\"gridcolor\":\"white\",\"linecolor\":\"white\",\"minorgridcolor\":\"white\",\"startlinecolor\":\"#2a3f5f\"},\"baxis\":{\"endlinecolor\":\"#2a3f5f\",\"gridcolor\":\"white\",\"linecolor\":\"white\",\"minorgridcolor\":\"white\",\"startlinecolor\":\"#2a3f5f\"},\"type\":\"carpet\"}],\"table\":[{\"cells\":{\"fill\":{\"color\":\"#EBF0F8\"},\"line\":{\"color\":\"white\"}},\"header\":{\"fill\":{\"color\":\"#C8D4E3\"},\"line\":{\"color\":\"white\"}},\"type\":\"table\"}],\"barpolar\":[{\"marker\":{\"line\":{\"color\":\"#E5ECF6\",\"width\":0.5},\"pattern\":{\"fillmode\":\"overlay\",\"size\":10,\"solidity\":0.2}},\"type\":\"barpolar\"}],\"pie\":[{\"automargin\":true,\"type\":\"pie\"}]},\"layout\":{\"autotypenumbers\":\"strict\",\"colorway\":[\"#636efa\",\"#EF553B\",\"#00cc96\",\"#ab63fa\",\"#FFA15A\",\"#19d3f3\",\"#FF6692\",\"#B6E880\",\"#FF97FF\",\"#FECB52\"],\"font\":{\"color\":\"#2a3f5f\"},\"hovermode\":\"closest\",\"hoverlabel\":{\"align\":\"left\"},\"paper_bgcolor\":\"white\",\"plot_bgcolor\":\"#E5ECF6\",\"polar\":{\"bgcolor\":\"#E5ECF6\",\"angularaxis\":{\"gridcolor\":\"white\",\"linecolor\":\"white\",\"ticks\":\"\"},\"radialaxis\":{\"gridcolor\":\"white\",\"linecolor\":\"white\",\"ticks\":\"\"}},\"ternary\":{\"bgcolor\":\"#E5ECF6\",\"aaxis\":{\"gridcolor\":\"white\",\"linecolor\":\"white\",\"ticks\":\"\"},\"baxis\":{\"gridcolor\":\"white\",\"linecolor\":\"white\",\"ticks\":\"\"},\"caxis\":{\"gridcolor\":\"white\",\"linecolor\":\"white\",\"ticks\":\"\"}},\"coloraxis\":{\"colorbar\":{\"outlinewidth\":0,\"ticks\":\"\"}},\"colorscale\":{\"sequential\":[[0.0,\"#0d0887\"],[0.1111111111111111,\"#46039f\"],[0.2222222222222222,\"#7201a8\"],[0.3333333333333333,\"#9c179e\"],[0.4444444444444444,\"#bd3786\"],[0.5555555555555556,\"#d8576b\"],[0.6666666666666666,\"#ed7953\"],[0.7777777777777778,\"#fb9f3a\"],[0.8888888888888888,\"#fdca26\"],[1.0,\"#f0f921\"]],\"sequentialminus\":[[0.0,\"#0d0887\"],[0.1111111111111111,\"#46039f\"],[0.2222222222222222,\"#7201a8\"],[0.3333333333333333,\"#9c179e\"],[0.4444444444444444,\"#bd3786\"],[0.5555555555555556,\"#d8576b\"],[0.6666666666666666,\"#ed7953\"],[0.7777777777777778,\"#fb9f3a\"],[0.8888888888888888,\"#fdca26\"],[1.0,\"#f0f921\"]],\"diverging\":[[0,\"#8e0152\"],[0.1,\"#c51b7d\"],[0.2,\"#de77ae\"],[0.3,\"#f1b6da\"],[0.4,\"#fde0ef\"],[0.5,\"#f7f7f7\"],[0.6,\"#e6f5d0\"],[0.7,\"#b8e186\"],[0.8,\"#7fbc41\"],[0.9,\"#4d9221\"],[1,\"#276419\"]]},\"xaxis\":{\"gridcolor\":\"white\",\"linecolor\":\"white\",\"ticks\":\"\",\"title\":{\"standoff\":15},\"zerolinecolor\":\"white\",\"automargin\":true,\"zerolinewidth\":2},\"yaxis\":{\"gridcolor\":\"white\",\"linecolor\":\"white\",\"ticks\":\"\",\"title\":{\"standoff\":15},\"zerolinecolor\":\"white\",\"automargin\":true,\"zerolinewidth\":2},\"scene\":{\"xaxis\":{\"backgroundcolor\":\"#E5ECF6\",\"gridcolor\":\"white\",\"linecolor\":\"white\",\"showbackground\":true,\"ticks\":\"\",\"zerolinecolor\":\"white\",\"gridwidth\":2},\"yaxis\":{\"backgroundcolor\":\"#E5ECF6\",\"gridcolor\":\"white\",\"linecolor\":\"white\",\"showbackground\":true,\"ticks\":\"\",\"zerolinecolor\":\"white\",\"gridwidth\":2},\"zaxis\":{\"backgroundcolor\":\"#E5ECF6\",\"gridcolor\":\"white\",\"linecolor\":\"white\",\"showbackground\":true,\"ticks\":\"\",\"zerolinecolor\":\"white\",\"gridwidth\":2}},\"shapedefaults\":{\"line\":{\"color\":\"#2a3f5f\"}},\"annotationdefaults\":{\"arrowcolor\":\"#2a3f5f\",\"arrowhead\":0,\"arrowwidth\":1},\"geo\":{\"bgcolor\":\"white\",\"landcolor\":\"#E5ECF6\",\"subunitcolor\":\"white\",\"showland\":true,\"showlakes\":true,\"lakecolor\":\"white\"},\"title\":{\"x\":0.05},\"mapbox\":{\"style\":\"light\"}}},\"annotations\":[{\"font\":{\"color\":\"White\",\"family\":\"Courier New, monospace\",\"size\":32},\"showarrow\":false,\"text\":\"NYJ\",\"textangle\":0,\"x\":26.75,\"y\":5},{\"font\":{\"color\":\"White\",\"family\":\"Courier New, monospace\",\"size\":32},\"showarrow\":false,\"text\":\"BAL\",\"textangle\":0,\"x\":26.75,\"y\":115}]},                        {\"responsive\": true}                    ).then(function(){\n",
       "                            Plotly.addFrames('cd7bd020-8a0c-4a0f-b10b-92c1fc7682f7', [{\"data\":[{\"hoverinfo\":\"none\",\"mode\":\"text\",\"showlegend\":false,\"text\":[\"10\",\"20\",\"30\",\"40\",\"50\",\"40\",\"30\",\"20\",\"10\"],\"textfont\":{\"color\":\"#ffffff\",\"family\":\"Courier New, monospace\",\"size\":30},\"x\":[5,5,5,5,5,5,5,5,5],\"y\":[20,30,40,50,60,70,80,90,100],\"type\":\"scatter\"},{\"hoverinfo\":\"none\",\"mode\":\"text\",\"showlegend\":false,\"text\":[\"10\",\"20\",\"30\",\"40\",\"50\",\"40\",\"30\",\"20\",\"10\"],\"textfont\":{\"color\":\"#ffffff\",\"family\":\"Courier New, monospace\",\"size\":30},\"x\":[48.5,48.5,48.5,48.5,48.5,48.5,48.5,48.5,48.5],\"y\":[20,30,40,50,60,70,80,90,100],\"type\":\"scatter\"},{\"hoverinfo\":\"none\",\"line\":{\"color\":\"blue\",\"dash\":\"dash\"},\"showlegend\":false,\"x\":[0,53.5],\"y\":[83,83],\"type\":\"scatter\"},{\"fill\":\"toself\",\"fillcolor\":\"#000000\",\"hoverinfo\":\"skip\",\"line\":{\"color\":\"white\",\"width\":3},\"mode\":\"lines\",\"opacity\":1,\"showlegend\":false,\"x\":[0,53.5,53.5,0,0],\"y\":[0,0,10,10,0],\"type\":\"scatter\"},{\"fill\":\"toself\",\"fillcolor\":\"#241773\",\"hoverinfo\":\"skip\",\"line\":{\"color\":\"white\",\"width\":3},\"mode\":\"lines\",\"opacity\":1,\"showlegend\":false,\"x\":[0,53.5,53.5,0,0],\"y\":[110,110,120,120,110],\"type\":\"scatter\"},{\"hoverinfo\":\"text\",\"hovertext\":[\"nflId:33099\\u003cbr\\u003edisplayName:Joe Flacco\\u003cbr\\u003e\",\"nflId:42371\\u003cbr\\u003edisplayName:Laken Tomlinson\\u003cbr\\u003e\",\"nflId:43433\\u003cbr\\u003edisplayName:Connor McGovern\\u003cbr\\u003e\",\"nflId:43586\\u003cbr\\u003edisplayName:George Fant\\u003cbr\\u003e\",\"nflId:44817\\u003cbr\\u003edisplayName:Corey Davis\\u003cbr\\u003e\",\"nflId:46226\\u003cbr\\u003edisplayName:Tyler Conklin\\u003cbr\\u003e\",\"nflId:46279\\u003cbr\\u003edisplayName:Braxton Berrios\\u003cbr\\u003e\",\"nflId:53443\\u003cbr\\u003edisplayName:Alijah Vera-Tucker\\u003cbr\\u003e\",\"nflId:53463\\u003cbr\\u003edisplayName:Elijah Moore\\u003cbr\\u003e\",\"nflId:53536\\u003cbr\\u003edisplayName:Michael Carter\\u003cbr\\u003e\",\"nflId:54576\\u003cbr\\u003edisplayName:Max Mitchell\\u003cbr\\u003e\"],\"marker\":{\"color\":\"#000000\",\"line\":{\"color\":\"#125740\",\"width\":2},\"size\":10},\"mode\":\"markers\",\"name\":\"NYJ\",\"x\":[23.549999999999997,21.839999999999996,23.459999999999997,20.379999999999995,15.449999999999996,18.57,36.06,25.169999999999998,34.099999999999994,25.389999999999997,26.679999999999996],\"y\":[78.45,82.09,82.84,82.09,81.57,82.12,80.98,82.3,82.56,77.57,82.03],\"type\":\"scatter\"},{\"hoverinfo\":\"text\",\"hovertext\":[\"nflId:33131\\u003cbr\\u003edisplayName:Calais Campbell\\u003cbr\\u003e\",\"nflId:37145\\u003cbr\\u003edisplayName:Justin Houston\\u003cbr\\u003e\",\"nflId:37778\\u003cbr\\u003edisplayName:Josh Bynes\\u003cbr\\u003e\",\"nflId:40095\\u003cbr\\u003edisplayName:Steven Means\\u003cbr\\u003e\",\"nflId:41240\\u003cbr\\u003edisplayName:Kyle Fuller\\u003cbr\\u003e\",\"nflId:43694\\u003cbr\\u003edisplayName:Michael Pierce\\u003cbr\\u003e\",\"nflId:44828\\u003cbr\\u003edisplayName:Marlon Humphrey\\u003cbr\\u003e\",\"nflId:44854\\u003cbr\\u003edisplayName:Marcus Williams\\u003cbr\\u003e\",\"nflId:44999\\u003cbr\\u003edisplayName:Chuck Clark\\u003cbr\\u003e\",\"nflId:52436\\u003cbr\\u003edisplayName:Patrick Queen\\u003cbr\\u003e\",\"nflId:53533\\u003cbr\\u003edisplayName:Brandon Stephens\\u003cbr\\u003e\"],\"marker\":{\"color\":\"#241773\",\"line\":{\"color\":\"#000000\",\"width\":2},\"size\":10},\"mode\":\"markers\",\"name\":\"BAL\",\"x\":[21.529999999999998,17.43,25.81,28.97,36.08,25.199999999999996,13.939999999999998,17.599999999999994,30.199999999999996,22.259999999999998,35.209999999999994],\"y\":[83.96,83.6,87.61,84.05,84.07,84.17,90.14,89.14,95.86,87.26,89.74],\"type\":\"scatter\"},{\"hoverinfo\":\"none\",\"marker\":{\"color\":\"#CBB67C\",\"line\":{\"color\":\"#663831\",\"width\":2},\"size\":10},\"mode\":\"markers\",\"name\":\"football\",\"x\":[23.580000686645498],\"y\":[82.8499984741211],\"type\":\"scatter\"}],\"name\":\"2\"},{\"data\":[{\"hoverinfo\":\"none\",\"mode\":\"text\",\"showlegend\":false,\"text\":[\"10\",\"20\",\"30\",\"40\",\"50\",\"40\",\"30\",\"20\",\"10\"],\"textfont\":{\"color\":\"#ffffff\",\"family\":\"Courier New, monospace\",\"size\":30},\"x\":[5,5,5,5,5,5,5,5,5],\"y\":[20,30,40,50,60,70,80,90,100],\"type\":\"scatter\"},{\"hoverinfo\":\"none\",\"mode\":\"text\",\"showlegend\":false,\"text\":[\"10\",\"20\",\"30\",\"40\",\"50\",\"40\",\"30\",\"20\",\"10\"],\"textfont\":{\"color\":\"#ffffff\",\"family\":\"Courier New, monospace\",\"size\":30},\"x\":[48.5,48.5,48.5,48.5,48.5,48.5,48.5,48.5,48.5],\"y\":[20,30,40,50,60,70,80,90,100],\"type\":\"scatter\"},{\"hoverinfo\":\"none\",\"line\":{\"color\":\"blue\",\"dash\":\"dash\"},\"showlegend\":false,\"x\":[0,53.5],\"y\":[83,83],\"type\":\"scatter\"},{\"fill\":\"toself\",\"fillcolor\":\"#000000\",\"hoverinfo\":\"skip\",\"line\":{\"color\":\"white\",\"width\":3},\"mode\":\"lines\",\"opacity\":1,\"showlegend\":false,\"x\":[0,53.5,53.5,0,0],\"y\":[0,0,10,10,0],\"type\":\"scatter\"},{\"fill\":\"toself\",\"fillcolor\":\"#241773\",\"hoverinfo\":\"skip\",\"line\":{\"color\":\"white\",\"width\":3},\"mode\":\"lines\",\"opacity\":1,\"showlegend\":false,\"x\":[0,53.5,53.5,0,0],\"y\":[110,110,120,120,110],\"type\":\"scatter\"},{\"hoverinfo\":\"text\",\"hovertext\":[\"nflId:33099\\u003cbr\\u003edisplayName:Joe Flacco\\u003cbr\\u003e\",\"nflId:42371\\u003cbr\\u003edisplayName:Laken Tomlinson\\u003cbr\\u003e\",\"nflId:43433\\u003cbr\\u003edisplayName:Connor McGovern\\u003cbr\\u003e\",\"nflId:43586\\u003cbr\\u003edisplayName:George Fant\\u003cbr\\u003e\",\"nflId:44817\\u003cbr\\u003edisplayName:Corey Davis\\u003cbr\\u003e\",\"nflId:46226\\u003cbr\\u003edisplayName:Tyler Conklin\\u003cbr\\u003e\",\"nflId:46279\\u003cbr\\u003edisplayName:Braxton Berrios\\u003cbr\\u003e\",\"nflId:53443\\u003cbr\\u003edisplayName:Alijah Vera-Tucker\\u003cbr\\u003e\",\"nflId:53463\\u003cbr\\u003edisplayName:Elijah Moore\\u003cbr\\u003e\",\"nflId:53536\\u003cbr\\u003edisplayName:Michael Carter\\u003cbr\\u003e\",\"nflId:54576\\u003cbr\\u003edisplayName:Max Mitchell\\u003cbr\\u003e\"],\"marker\":{\"color\":\"#000000\",\"line\":{\"color\":\"#125740\",\"width\":2},\"size\":10},\"mode\":\"markers\",\"name\":\"NYJ\",\"x\":[23.549999999999997,21.839999999999996,23.459999999999997,20.39,15.449999999999996,18.61,36.06,25.169999999999998,34.099999999999994,25.389999999999997,26.679999999999996],\"y\":[78.45,82.09,82.84,82.1,81.57,82.13,80.98,82.29,82.56,77.57,82.03],\"type\":\"scatter\"},{\"hoverinfo\":\"text\",\"hovertext\":[\"nflId:33131\\u003cbr\\u003edisplayName:Calais Campbell\\u003cbr\\u003e\",\"nflId:37145\\u003cbr\\u003edisplayName:Justin Houston\\u003cbr\\u003e\",\"nflId:37778\\u003cbr\\u003edisplayName:Josh Bynes\\u003cbr\\u003e\",\"nflId:40095\\u003cbr\\u003edisplayName:Steven Means\\u003cbr\\u003e\",\"nflId:41240\\u003cbr\\u003edisplayName:Kyle Fuller\\u003cbr\\u003e\",\"nflId:43694\\u003cbr\\u003edisplayName:Michael Pierce\\u003cbr\\u003e\",\"nflId:44828\\u003cbr\\u003edisplayName:Marlon Humphrey\\u003cbr\\u003e\",\"nflId:44854\\u003cbr\\u003edisplayName:Marcus Williams\\u003cbr\\u003e\",\"nflId:44999\\u003cbr\\u003edisplayName:Chuck Clark\\u003cbr\\u003e\",\"nflId:52436\\u003cbr\\u003edisplayName:Patrick Queen\\u003cbr\\u003e\",\"nflId:53533\\u003cbr\\u003edisplayName:Brandon Stephens\\u003cbr\\u003e\"],\"marker\":{\"color\":\"#241773\",\"line\":{\"color\":\"#000000\",\"width\":2},\"size\":10},\"mode\":\"markers\",\"name\":\"BAL\",\"x\":[21.519999999999996,17.449999999999996,25.819999999999997,28.959999999999997,36.11,24.97,13.979999999999997,17.589999999999996,30.159999999999997,22.259999999999998,35.23],\"y\":[83.96,83.58,87.63,84.06,84.05,84.18,90.25,88.95,96.01,87.23,89.85],\"type\":\"scatter\"},{\"hoverinfo\":\"none\",\"marker\":{\"color\":\"#CBB67C\",\"line\":{\"color\":\"#663831\",\"width\":2},\"size\":10},\"mode\":\"markers\",\"name\":\"football\",\"x\":[23.580000686645498],\"y\":[82.8499984741211],\"type\":\"scatter\"}],\"name\":\"3\"},{\"data\":[{\"hoverinfo\":\"none\",\"mode\":\"text\",\"showlegend\":false,\"text\":[\"10\",\"20\",\"30\",\"40\",\"50\",\"40\",\"30\",\"20\",\"10\"],\"textfont\":{\"color\":\"#ffffff\",\"family\":\"Courier New, monospace\",\"size\":30},\"x\":[5,5,5,5,5,5,5,5,5],\"y\":[20,30,40,50,60,70,80,90,100],\"type\":\"scatter\"},{\"hoverinfo\":\"none\",\"mode\":\"text\",\"showlegend\":false,\"text\":[\"10\",\"20\",\"30\",\"40\",\"50\",\"40\",\"30\",\"20\",\"10\"],\"textfont\":{\"color\":\"#ffffff\",\"family\":\"Courier New, monospace\",\"size\":30},\"x\":[48.5,48.5,48.5,48.5,48.5,48.5,48.5,48.5,48.5],\"y\":[20,30,40,50,60,70,80,90,100],\"type\":\"scatter\"},{\"hoverinfo\":\"none\",\"line\":{\"color\":\"blue\",\"dash\":\"dash\"},\"showlegend\":false,\"x\":[0,53.5],\"y\":[83,83],\"type\":\"scatter\"},{\"fill\":\"toself\",\"fillcolor\":\"#000000\",\"hoverinfo\":\"skip\",\"line\":{\"color\":\"white\",\"width\":3},\"mode\":\"lines\",\"opacity\":1,\"showlegend\":false,\"x\":[0,53.5,53.5,0,0],\"y\":[0,0,10,10,0],\"type\":\"scatter\"},{\"fill\":\"toself\",\"fillcolor\":\"#241773\",\"hoverinfo\":\"skip\",\"line\":{\"color\":\"white\",\"width\":3},\"mode\":\"lines\",\"opacity\":1,\"showlegend\":false,\"x\":[0,53.5,53.5,0,0],\"y\":[110,110,120,120,110],\"type\":\"scatter\"},{\"hoverinfo\":\"text\",\"hovertext\":[\"nflId:33099\\u003cbr\\u003edisplayName:Joe Flacco\\u003cbr\\u003e\",\"nflId:42371\\u003cbr\\u003edisplayName:Laken Tomlinson\\u003cbr\\u003e\",\"nflId:43433\\u003cbr\\u003edisplayName:Connor McGovern\\u003cbr\\u003e\",\"nflId:43586\\u003cbr\\u003edisplayName:George Fant\\u003cbr\\u003e\",\"nflId:44817\\u003cbr\\u003edisplayName:Corey Davis\\u003cbr\\u003e\",\"nflId:46226\\u003cbr\\u003edisplayName:Tyler Conklin\\u003cbr\\u003e\",\"nflId:46279\\u003cbr\\u003edisplayName:Braxton Berrios\\u003cbr\\u003e\",\"nflId:53443\\u003cbr\\u003edisplayName:Alijah Vera-Tucker\\u003cbr\\u003e\",\"nflId:53463\\u003cbr\\u003edisplayName:Elijah Moore\\u003cbr\\u003e\",\"nflId:53536\\u003cbr\\u003edisplayName:Michael Carter\\u003cbr\\u003e\",\"nflId:54576\\u003cbr\\u003edisplayName:Max Mitchell\\u003cbr\\u003e\"],\"marker\":{\"color\":\"#000000\",\"line\":{\"color\":\"#125740\",\"width\":2},\"size\":10},\"mode\":\"markers\",\"name\":\"NYJ\",\"x\":[23.549999999999997,21.839999999999996,23.47,20.4,15.439999999999998,18.629999999999995,36.06,25.159999999999997,34.099999999999994,25.379999999999995,26.689999999999998],\"y\":[78.45,82.09,82.84,82.1,81.58,82.13,80.98,82.29,82.56,77.56,82.03],\"type\":\"scatter\"},{\"hoverinfo\":\"text\",\"hovertext\":[\"nflId:33131\\u003cbr\\u003edisplayName:Calais Campbell\\u003cbr\\u003e\",\"nflId:37145\\u003cbr\\u003edisplayName:Justin Houston\\u003cbr\\u003e\",\"nflId:37778\\u003cbr\\u003edisplayName:Josh Bynes\\u003cbr\\u003e\",\"nflId:40095\\u003cbr\\u003edisplayName:Steven Means\\u003cbr\\u003e\",\"nflId:41240\\u003cbr\\u003edisplayName:Kyle Fuller\\u003cbr\\u003e\",\"nflId:43694\\u003cbr\\u003edisplayName:Michael Pierce\\u003cbr\\u003e\",\"nflId:44828\\u003cbr\\u003edisplayName:Marlon Humphrey\\u003cbr\\u003e\",\"nflId:44854\\u003cbr\\u003edisplayName:Marcus Williams\\u003cbr\\u003e\",\"nflId:44999\\u003cbr\\u003edisplayName:Chuck Clark\\u003cbr\\u003e\",\"nflId:52436\\u003cbr\\u003edisplayName:Patrick Queen\\u003cbr\\u003e\",\"nflId:53533\\u003cbr\\u003edisplayName:Brandon Stephens\\u003cbr\\u003e\"],\"marker\":{\"color\":\"#241773\",\"line\":{\"color\":\"#000000\",\"width\":2},\"size\":10},\"mode\":\"markers\",\"name\":\"BAL\",\"x\":[21.509999999999998,17.489999999999995,25.81,28.97,36.15,24.949999999999996,14.029999999999994,17.589999999999996,30.089999999999996,22.259999999999998,35.26],\"y\":[83.96,83.57,87.67,84.05,84.04,84.15,90.35,88.77,96.17,87.2,89.96],\"type\":\"scatter\"},{\"hoverinfo\":\"none\",\"marker\":{\"color\":\"#CBB67C\",\"line\":{\"color\":\"#663831\",\"width\":2},\"size\":10},\"mode\":\"markers\",\"name\":\"football\",\"x\":[23.580000686645498],\"y\":[82.8499984741211],\"type\":\"scatter\"}],\"name\":\"4\"},{\"data\":[{\"hoverinfo\":\"none\",\"mode\":\"text\",\"showlegend\":false,\"text\":[\"10\",\"20\",\"30\",\"40\",\"50\",\"40\",\"30\",\"20\",\"10\"],\"textfont\":{\"color\":\"#ffffff\",\"family\":\"Courier New, monospace\",\"size\":30},\"x\":[5,5,5,5,5,5,5,5,5],\"y\":[20,30,40,50,60,70,80,90,100],\"type\":\"scatter\"},{\"hoverinfo\":\"none\",\"mode\":\"text\",\"showlegend\":false,\"text\":[\"10\",\"20\",\"30\",\"40\",\"50\",\"40\",\"30\",\"20\",\"10\"],\"textfont\":{\"color\":\"#ffffff\",\"family\":\"Courier New, monospace\",\"size\":30},\"x\":[48.5,48.5,48.5,48.5,48.5,48.5,48.5,48.5,48.5],\"y\":[20,30,40,50,60,70,80,90,100],\"type\":\"scatter\"},{\"hoverinfo\":\"none\",\"line\":{\"color\":\"blue\",\"dash\":\"dash\"},\"showlegend\":false,\"x\":[0,53.5],\"y\":[83,83],\"type\":\"scatter\"},{\"fill\":\"toself\",\"fillcolor\":\"#000000\",\"hoverinfo\":\"skip\",\"line\":{\"color\":\"white\",\"width\":3},\"mode\":\"lines\",\"opacity\":1,\"showlegend\":false,\"x\":[0,53.5,53.5,0,0],\"y\":[0,0,10,10,0],\"type\":\"scatter\"},{\"fill\":\"toself\",\"fillcolor\":\"#241773\",\"hoverinfo\":\"skip\",\"line\":{\"color\":\"white\",\"width\":3},\"mode\":\"lines\",\"opacity\":1,\"showlegend\":false,\"x\":[0,53.5,53.5,0,0],\"y\":[110,110,120,120,110],\"type\":\"scatter\"},{\"hoverinfo\":\"text\",\"hovertext\":[\"nflId:33099\\u003cbr\\u003edisplayName:Joe Flacco\\u003cbr\\u003e\",\"nflId:42371\\u003cbr\\u003edisplayName:Laken Tomlinson\\u003cbr\\u003e\",\"nflId:43433\\u003cbr\\u003edisplayName:Connor McGovern\\u003cbr\\u003e\",\"nflId:43586\\u003cbr\\u003edisplayName:George Fant\\u003cbr\\u003e\",\"nflId:44817\\u003cbr\\u003edisplayName:Corey Davis\\u003cbr\\u003e\",\"nflId:46226\\u003cbr\\u003edisplayName:Tyler Conklin\\u003cbr\\u003e\",\"nflId:46279\\u003cbr\\u003edisplayName:Braxton Berrios\\u003cbr\\u003e\",\"nflId:53443\\u003cbr\\u003edisplayName:Alijah Vera-Tucker\\u003cbr\\u003e\",\"nflId:53463\\u003cbr\\u003edisplayName:Elijah Moore\\u003cbr\\u003e\",\"nflId:53536\\u003cbr\\u003edisplayName:Michael Carter\\u003cbr\\u003e\",\"nflId:54576\\u003cbr\\u003edisplayName:Max Mitchell\\u003cbr\\u003e\"],\"marker\":{\"color\":\"#000000\",\"line\":{\"color\":\"#125740\",\"width\":2},\"size\":10},\"mode\":\"markers\",\"name\":\"NYJ\",\"x\":[23.549999999999997,21.839999999999996,23.49,20.409999999999997,15.439999999999998,18.64,36.06,25.15,34.099999999999994,25.369999999999997,26.689999999999998],\"y\":[78.45,82.1,82.84,82.11,81.57,82.14,80.98,82.27,82.56,77.57,82.04],\"type\":\"scatter\"},{\"hoverinfo\":\"text\",\"hovertext\":[\"nflId:33131\\u003cbr\\u003edisplayName:Calais Campbell\\u003cbr\\u003e\",\"nflId:37145\\u003cbr\\u003edisplayName:Justin Houston\\u003cbr\\u003e\",\"nflId:37778\\u003cbr\\u003edisplayName:Josh Bynes\\u003cbr\\u003e\",\"nflId:40095\\u003cbr\\u003edisplayName:Steven Means\\u003cbr\\u003e\",\"nflId:41240\\u003cbr\\u003edisplayName:Kyle Fuller\\u003cbr\\u003e\",\"nflId:43694\\u003cbr\\u003edisplayName:Michael Pierce\\u003cbr\\u003e\",\"nflId:44828\\u003cbr\\u003edisplayName:Marlon Humphrey\\u003cbr\\u003e\",\"nflId:44854\\u003cbr\\u003edisplayName:Marcus Williams\\u003cbr\\u003e\",\"nflId:44999\\u003cbr\\u003edisplayName:Chuck Clark\\u003cbr\\u003e\",\"nflId:52436\\u003cbr\\u003edisplayName:Patrick Queen\\u003cbr\\u003e\",\"nflId:53533\\u003cbr\\u003edisplayName:Brandon Stephens\\u003cbr\\u003e\"],\"marker\":{\"color\":\"#241773\",\"line\":{\"color\":\"#000000\",\"width\":2},\"size\":10},\"mode\":\"markers\",\"name\":\"BAL\",\"x\":[21.519999999999996,17.529999999999994,25.769999999999996,28.97,36.17,24.889999999999997,14.059999999999995,17.58,29.99,22.249999999999996,35.28999999999999],\"y\":[84.01,83.52,87.7,84.04,84.03,84.13,90.46,88.59,96.36,87.18,90.07],\"type\":\"scatter\"},{\"hoverinfo\":\"none\",\"marker\":{\"color\":\"#CBB67C\",\"line\":{\"color\":\"#663831\",\"width\":2},\"size\":10},\"mode\":\"markers\",\"name\":\"football\",\"x\":[23.580000686645498],\"y\":[82.8499984741211],\"type\":\"scatter\"}],\"name\":\"5\"},{\"data\":[{\"hoverinfo\":\"none\",\"mode\":\"text\",\"showlegend\":false,\"text\":[\"10\",\"20\",\"30\",\"40\",\"50\",\"40\",\"30\",\"20\",\"10\"],\"textfont\":{\"color\":\"#ffffff\",\"family\":\"Courier New, monospace\",\"size\":30},\"x\":[5,5,5,5,5,5,5,5,5],\"y\":[20,30,40,50,60,70,80,90,100],\"type\":\"scatter\"},{\"hoverinfo\":\"none\",\"mode\":\"text\",\"showlegend\":false,\"text\":[\"10\",\"20\",\"30\",\"40\",\"50\",\"40\",\"30\",\"20\",\"10\"],\"textfont\":{\"color\":\"#ffffff\",\"family\":\"Courier New, monospace\",\"size\":30},\"x\":[48.5,48.5,48.5,48.5,48.5,48.5,48.5,48.5,48.5],\"y\":[20,30,40,50,60,70,80,90,100],\"type\":\"scatter\"},{\"hoverinfo\":\"none\",\"line\":{\"color\":\"blue\",\"dash\":\"dash\"},\"showlegend\":false,\"x\":[0,53.5],\"y\":[83,83],\"type\":\"scatter\"},{\"fill\":\"toself\",\"fillcolor\":\"#000000\",\"hoverinfo\":\"skip\",\"line\":{\"color\":\"white\",\"width\":3},\"mode\":\"lines\",\"opacity\":1,\"showlegend\":false,\"x\":[0,53.5,53.5,0,0],\"y\":[0,0,10,10,0],\"type\":\"scatter\"},{\"fill\":\"toself\",\"fillcolor\":\"#241773\",\"hoverinfo\":\"skip\",\"line\":{\"color\":\"white\",\"width\":3},\"mode\":\"lines\",\"opacity\":1,\"showlegend\":false,\"x\":[0,53.5,53.5,0,0],\"y\":[110,110,120,120,110],\"type\":\"scatter\"},{\"hoverinfo\":\"text\",\"hovertext\":[\"nflId:33099\\u003cbr\\u003edisplayName:Joe Flacco\\u003cbr\\u003e\",\"nflId:42371\\u003cbr\\u003edisplayName:Laken Tomlinson\\u003cbr\\u003e\",\"nflId:43433\\u003cbr\\u003edisplayName:Connor McGovern\\u003cbr\\u003e\",\"nflId:43586\\u003cbr\\u003edisplayName:George Fant\\u003cbr\\u003e\",\"nflId:44817\\u003cbr\\u003edisplayName:Corey Davis\\u003cbr\\u003e\",\"nflId:46226\\u003cbr\\u003edisplayName:Tyler Conklin\\u003cbr\\u003e\",\"nflId:46279\\u003cbr\\u003edisplayName:Braxton Berrios\\u003cbr\\u003e\",\"nflId:53443\\u003cbr\\u003edisplayName:Alijah Vera-Tucker\\u003cbr\\u003e\",\"nflId:53463\\u003cbr\\u003edisplayName:Elijah Moore\\u003cbr\\u003e\",\"nflId:53536\\u003cbr\\u003edisplayName:Michael Carter\\u003cbr\\u003e\",\"nflId:54576\\u003cbr\\u003edisplayName:Max Mitchell\\u003cbr\\u003e\"],\"marker\":{\"color\":\"#000000\",\"line\":{\"color\":\"#125740\",\"width\":2},\"size\":10},\"mode\":\"markers\",\"name\":\"NYJ\",\"x\":[23.539999999999996,21.889999999999997,23.529999999999998,20.43,15.439999999999998,18.739999999999995,36.06,25.089999999999996,34.099999999999994,25.389999999999997,26.709999999999997],\"y\":[78.44,82.15,82.84,82.14,81.57,82.16,80.97,82.24,82.56,77.59,82.04],\"type\":\"scatter\"},{\"hoverinfo\":\"text\",\"hovertext\":[\"nflId:33131\\u003cbr\\u003edisplayName:Calais Campbell\\u003cbr\\u003e\",\"nflId:37145\\u003cbr\\u003edisplayName:Justin Houston\\u003cbr\\u003e\",\"nflId:37778\\u003cbr\\u003edisplayName:Josh Bynes\\u003cbr\\u003e\",\"nflId:40095\\u003cbr\\u003edisplayName:Steven Means\\u003cbr\\u003e\",\"nflId:41240\\u003cbr\\u003edisplayName:Kyle Fuller\\u003cbr\\u003e\",\"nflId:43694\\u003cbr\\u003edisplayName:Michael Pierce\\u003cbr\\u003e\",\"nflId:44828\\u003cbr\\u003edisplayName:Marlon Humphrey\\u003cbr\\u003e\",\"nflId:44854\\u003cbr\\u003edisplayName:Marcus Williams\\u003cbr\\u003e\",\"nflId:44999\\u003cbr\\u003edisplayName:Chuck Clark\\u003cbr\\u003e\",\"nflId:52436\\u003cbr\\u003edisplayName:Patrick Queen\\u003cbr\\u003e\",\"nflId:53533\\u003cbr\\u003edisplayName:Brandon Stephens\\u003cbr\\u003e\"],\"marker\":{\"color\":\"#241773\",\"line\":{\"color\":\"#000000\",\"width\":2},\"size\":10},\"mode\":\"markers\",\"name\":\"BAL\",\"x\":[21.589999999999996,17.58,25.72,28.959999999999997,36.22,24.859999999999996,14.099999999999994,17.58,29.879999999999995,22.22,35.339999999999996],\"y\":[84.0,83.47,87.73,84.01,84.02,84.07,90.56,88.41,96.56,87.12,90.18],\"type\":\"scatter\"},{\"hoverinfo\":\"none\",\"marker\":{\"color\":\"#CBB67C\",\"line\":{\"color\":\"#663831\",\"width\":2},\"size\":10},\"mode\":\"markers\",\"name\":\"football\",\"x\":[23.599999237060498],\"y\":[82.8300018310547],\"type\":\"scatter\"}],\"name\":\"6\"},{\"data\":[{\"hoverinfo\":\"none\",\"mode\":\"text\",\"showlegend\":false,\"text\":[\"10\",\"20\",\"30\",\"40\",\"50\",\"40\",\"30\",\"20\",\"10\"],\"textfont\":{\"color\":\"#ffffff\",\"family\":\"Courier New, monospace\",\"size\":30},\"x\":[5,5,5,5,5,5,5,5,5],\"y\":[20,30,40,50,60,70,80,90,100],\"type\":\"scatter\"},{\"hoverinfo\":\"none\",\"mode\":\"text\",\"showlegend\":false,\"text\":[\"10\",\"20\",\"30\",\"40\",\"50\",\"40\",\"30\",\"20\",\"10\"],\"textfont\":{\"color\":\"#ffffff\",\"family\":\"Courier New, monospace\",\"size\":30},\"x\":[48.5,48.5,48.5,48.5,48.5,48.5,48.5,48.5,48.5],\"y\":[20,30,40,50,60,70,80,90,100],\"type\":\"scatter\"},{\"hoverinfo\":\"none\",\"line\":{\"color\":\"blue\",\"dash\":\"dash\"},\"showlegend\":false,\"x\":[0,53.5],\"y\":[83,83],\"type\":\"scatter\"},{\"fill\":\"toself\",\"fillcolor\":\"#000000\",\"hoverinfo\":\"skip\",\"line\":{\"color\":\"white\",\"width\":3},\"mode\":\"lines\",\"opacity\":1,\"showlegend\":false,\"x\":[0,53.5,53.5,0,0],\"y\":[0,0,10,10,0],\"type\":\"scatter\"},{\"fill\":\"toself\",\"fillcolor\":\"#241773\",\"hoverinfo\":\"skip\",\"line\":{\"color\":\"white\",\"width\":3},\"mode\":\"lines\",\"opacity\":1,\"showlegend\":false,\"x\":[0,53.5,53.5,0,0],\"y\":[110,110,120,120,110],\"type\":\"scatter\"},{\"hoverinfo\":\"text\",\"hovertext\":[\"nflId:33099\\u003cbr\\u003edisplayName:Joe Flacco\\u003cbr\\u003e\",\"nflId:42371\\u003cbr\\u003edisplayName:Laken Tomlinson\\u003cbr\\u003e\",\"nflId:43433\\u003cbr\\u003edisplayName:Connor McGovern\\u003cbr\\u003e\",\"nflId:43586\\u003cbr\\u003edisplayName:George Fant\\u003cbr\\u003e\",\"nflId:44817\\u003cbr\\u003edisplayName:Corey Davis\\u003cbr\\u003e\",\"nflId:46226\\u003cbr\\u003edisplayName:Tyler Conklin\\u003cbr\\u003e\",\"nflId:46279\\u003cbr\\u003edisplayName:Braxton Berrios\\u003cbr\\u003e\",\"nflId:53443\\u003cbr\\u003edisplayName:Alijah Vera-Tucker\\u003cbr\\u003e\",\"nflId:53463\\u003cbr\\u003edisplayName:Elijah Moore\\u003cbr\\u003e\",\"nflId:53536\\u003cbr\\u003edisplayName:Michael Carter\\u003cbr\\u003e\",\"nflId:54576\\u003cbr\\u003edisplayName:Max Mitchell\\u003cbr\\u003e\"],\"marker\":{\"color\":\"#000000\",\"line\":{\"color\":\"#125740\",\"width\":2},\"size\":10},\"mode\":\"markers\",\"name\":\"NYJ\",\"x\":[23.539999999999996,21.919999999999998,23.589999999999996,20.479999999999997,15.439999999999998,18.839999999999996,36.06999999999999,25.009999999999998,34.12,25.359999999999996,26.759999999999998],\"y\":[78.44,82.2,82.85,82.2,81.58,82.23,80.97,82.19,82.56,77.6,82.04],\"type\":\"scatter\"},{\"hoverinfo\":\"text\",\"hovertext\":[\"nflId:33131\\u003cbr\\u003edisplayName:Calais Campbell\\u003cbr\\u003e\",\"nflId:37145\\u003cbr\\u003edisplayName:Justin Houston\\u003cbr\\u003e\",\"nflId:37778\\u003cbr\\u003edisplayName:Josh Bynes\\u003cbr\\u003e\",\"nflId:40095\\u003cbr\\u003edisplayName:Steven Means\\u003cbr\\u003e\",\"nflId:41240\\u003cbr\\u003edisplayName:Kyle Fuller\\u003cbr\\u003e\",\"nflId:43694\\u003cbr\\u003edisplayName:Michael Pierce\\u003cbr\\u003e\",\"nflId:44828\\u003cbr\\u003edisplayName:Marlon Humphrey\\u003cbr\\u003e\",\"nflId:44854\\u003cbr\\u003edisplayName:Marcus Williams\\u003cbr\\u003e\",\"nflId:44999\\u003cbr\\u003edisplayName:Chuck Clark\\u003cbr\\u003e\",\"nflId:52436\\u003cbr\\u003edisplayName:Patrick Queen\\u003cbr\\u003e\",\"nflId:53533\\u003cbr\\u003edisplayName:Brandon Stephens\\u003cbr\\u003e\"],\"marker\":{\"color\":\"#241773\",\"line\":{\"color\":\"#000000\",\"width\":2},\"size\":10},\"mode\":\"markers\",\"name\":\"BAL\",\"x\":[21.639999999999997,17.65,25.679999999999996,28.959999999999997,36.239999999999995,24.83,14.119999999999997,17.58,29.749999999999996,22.199999999999996,35.379999999999995],\"y\":[83.99,83.4,87.74,83.99,84.01,84.04,90.67,88.24,96.77,87.1,90.3],\"type\":\"scatter\"},{\"hoverinfo\":\"none\",\"marker\":{\"color\":\"#CBB67C\",\"line\":{\"color\":\"#663831\",\"width\":2},\"size\":10},\"mode\":\"markers\",\"name\":\"football\",\"x\":[23.609999465942398],\"y\":[82.2099990844727],\"type\":\"scatter\"}],\"name\":\"7\"},{\"data\":[{\"hoverinfo\":\"none\",\"mode\":\"text\",\"showlegend\":false,\"text\":[\"10\",\"20\",\"30\",\"40\",\"50\",\"40\",\"30\",\"20\",\"10\"],\"textfont\":{\"color\":\"#ffffff\",\"family\":\"Courier New, monospace\",\"size\":30},\"x\":[5,5,5,5,5,5,5,5,5],\"y\":[20,30,40,50,60,70,80,90,100],\"type\":\"scatter\"},{\"hoverinfo\":\"none\",\"mode\":\"text\",\"showlegend\":false,\"text\":[\"10\",\"20\",\"30\",\"40\",\"50\",\"40\",\"30\",\"20\",\"10\"],\"textfont\":{\"color\":\"#ffffff\",\"family\":\"Courier New, monospace\",\"size\":30},\"x\":[48.5,48.5,48.5,48.5,48.5,48.5,48.5,48.5,48.5],\"y\":[20,30,40,50,60,70,80,90,100],\"type\":\"scatter\"},{\"hoverinfo\":\"none\",\"line\":{\"color\":\"blue\",\"dash\":\"dash\"},\"showlegend\":false,\"x\":[0,53.5],\"y\":[83,83],\"type\":\"scatter\"},{\"fill\":\"toself\",\"fillcolor\":\"#000000\",\"hoverinfo\":\"skip\",\"line\":{\"color\":\"white\",\"width\":3},\"mode\":\"lines\",\"opacity\":1,\"showlegend\":false,\"x\":[0,53.5,53.5,0,0],\"y\":[0,0,10,10,0],\"type\":\"scatter\"},{\"fill\":\"toself\",\"fillcolor\":\"#241773\",\"hoverinfo\":\"skip\",\"line\":{\"color\":\"white\",\"width\":3},\"mode\":\"lines\",\"opacity\":1,\"showlegend\":false,\"x\":[0,53.5,53.5,0,0],\"y\":[110,110,120,120,110],\"type\":\"scatter\"},{\"hoverinfo\":\"text\",\"hovertext\":[\"nflId:33099\\u003cbr\\u003edisplayName:Joe Flacco\\u003cbr\\u003e\",\"nflId:42371\\u003cbr\\u003edisplayName:Laken Tomlinson\\u003cbr\\u003e\",\"nflId:43433\\u003cbr\\u003edisplayName:Connor McGovern\\u003cbr\\u003e\",\"nflId:43586\\u003cbr\\u003edisplayName:George Fant\\u003cbr\\u003e\",\"nflId:44817\\u003cbr\\u003edisplayName:Corey Davis\\u003cbr\\u003e\",\"nflId:46226\\u003cbr\\u003edisplayName:Tyler Conklin\\u003cbr\\u003e\",\"nflId:46279\\u003cbr\\u003edisplayName:Braxton Berrios\\u003cbr\\u003e\",\"nflId:53443\\u003cbr\\u003edisplayName:Alijah Vera-Tucker\\u003cbr\\u003e\",\"nflId:53463\\u003cbr\\u003edisplayName:Elijah Moore\\u003cbr\\u003e\",\"nflId:53536\\u003cbr\\u003edisplayName:Michael Carter\\u003cbr\\u003e\",\"nflId:54576\\u003cbr\\u003edisplayName:Max Mitchell\\u003cbr\\u003e\"],\"marker\":{\"color\":\"#000000\",\"line\":{\"color\":\"#125740\",\"width\":2},\"size\":10},\"mode\":\"markers\",\"name\":\"NYJ\",\"x\":[23.539999999999996,21.959999999999997,23.65,20.549999999999997,15.439999999999998,18.939999999999998,36.089999999999996,24.889999999999997,34.129999999999995,25.339999999999996,26.83],\"y\":[78.44,82.32,82.87,82.28,81.58,82.26,80.97,82.13,82.56,77.61,82.04],\"type\":\"scatter\"},{\"hoverinfo\":\"text\",\"hovertext\":[\"nflId:33131\\u003cbr\\u003edisplayName:Calais Campbell\\u003cbr\\u003e\",\"nflId:37145\\u003cbr\\u003edisplayName:Justin Houston\\u003cbr\\u003e\",\"nflId:37778\\u003cbr\\u003edisplayName:Josh Bynes\\u003cbr\\u003e\",\"nflId:40095\\u003cbr\\u003edisplayName:Steven Means\\u003cbr\\u003e\",\"nflId:41240\\u003cbr\\u003edisplayName:Kyle Fuller\\u003cbr\\u003e\",\"nflId:43694\\u003cbr\\u003edisplayName:Michael Pierce\\u003cbr\\u003e\",\"nflId:44828\\u003cbr\\u003edisplayName:Marlon Humphrey\\u003cbr\\u003e\",\"nflId:44854\\u003cbr\\u003edisplayName:Marcus Williams\\u003cbr\\u003e\",\"nflId:44999\\u003cbr\\u003edisplayName:Chuck Clark\\u003cbr\\u003e\",\"nflId:52436\\u003cbr\\u003edisplayName:Patrick Queen\\u003cbr\\u003e\",\"nflId:53533\\u003cbr\\u003edisplayName:Brandon Stephens\\u003cbr\\u003e\"],\"marker\":{\"color\":\"#241773\",\"line\":{\"color\":\"#000000\",\"width\":2},\"size\":10},\"mode\":\"markers\",\"name\":\"BAL\",\"x\":[21.699999999999996,17.699999999999996,25.629999999999995,28.949999999999996,36.26,24.789999999999996,14.159999999999997,17.58,29.599999999999998,22.169999999999998,35.44],\"y\":[84.0,83.3,87.72,83.97,83.99,84.02,90.78,88.07,97.0,87.06,90.42],\"type\":\"scatter\"},{\"hoverinfo\":\"none\",\"marker\":{\"color\":\"#CBB67C\",\"line\":{\"color\":\"#663831\",\"width\":2},\"size\":10},\"mode\":\"markers\",\"name\":\"football\",\"x\":[23.6600006103516],\"y\":[81.6100006103516],\"type\":\"scatter\"}],\"name\":\"8\"},{\"data\":[{\"hoverinfo\":\"none\",\"mode\":\"text\",\"showlegend\":false,\"text\":[\"10\",\"20\",\"30\",\"40\",\"50\",\"40\",\"30\",\"20\",\"10\"],\"textfont\":{\"color\":\"#ffffff\",\"family\":\"Courier New, monospace\",\"size\":30},\"x\":[5,5,5,5,5,5,5,5,5],\"y\":[20,30,40,50,60,70,80,90,100],\"type\":\"scatter\"},{\"hoverinfo\":\"none\",\"mode\":\"text\",\"showlegend\":false,\"text\":[\"10\",\"20\",\"30\",\"40\",\"50\",\"40\",\"30\",\"20\",\"10\"],\"textfont\":{\"color\":\"#ffffff\",\"family\":\"Courier New, monospace\",\"size\":30},\"x\":[48.5,48.5,48.5,48.5,48.5,48.5,48.5,48.5,48.5],\"y\":[20,30,40,50,60,70,80,90,100],\"type\":\"scatter\"},{\"hoverinfo\":\"none\",\"line\":{\"color\":\"blue\",\"dash\":\"dash\"},\"showlegend\":false,\"x\":[0,53.5],\"y\":[83,83],\"type\":\"scatter\"},{\"fill\":\"toself\",\"fillcolor\":\"#000000\",\"hoverinfo\":\"skip\",\"line\":{\"color\":\"white\",\"width\":3},\"mode\":\"lines\",\"opacity\":1,\"showlegend\":false,\"x\":[0,53.5,53.5,0,0],\"y\":[0,0,10,10,0],\"type\":\"scatter\"},{\"fill\":\"toself\",\"fillcolor\":\"#241773\",\"hoverinfo\":\"skip\",\"line\":{\"color\":\"white\",\"width\":3},\"mode\":\"lines\",\"opacity\":1,\"showlegend\":false,\"x\":[0,53.5,53.5,0,0],\"y\":[110,110,120,120,110],\"type\":\"scatter\"},{\"hoverinfo\":\"text\",\"hovertext\":[\"nflId:33099\\u003cbr\\u003edisplayName:Joe Flacco\\u003cbr\\u003e\",\"nflId:42371\\u003cbr\\u003edisplayName:Laken Tomlinson\\u003cbr\\u003e\",\"nflId:43433\\u003cbr\\u003edisplayName:Connor McGovern\\u003cbr\\u003e\",\"nflId:43586\\u003cbr\\u003edisplayName:George Fant\\u003cbr\\u003e\",\"nflId:44817\\u003cbr\\u003edisplayName:Corey Davis\\u003cbr\\u003e\",\"nflId:46226\\u003cbr\\u003edisplayName:Tyler Conklin\\u003cbr\\u003e\",\"nflId:46279\\u003cbr\\u003edisplayName:Braxton Berrios\\u003cbr\\u003e\",\"nflId:53443\\u003cbr\\u003edisplayName:Alijah Vera-Tucker\\u003cbr\\u003e\",\"nflId:53463\\u003cbr\\u003edisplayName:Elijah Moore\\u003cbr\\u003e\",\"nflId:53536\\u003cbr\\u003edisplayName:Michael Carter\\u003cbr\\u003e\",\"nflId:54576\\u003cbr\\u003edisplayName:Max Mitchell\\u003cbr\\u003e\"],\"marker\":{\"color\":\"#000000\",\"line\":{\"color\":\"#125740\",\"width\":2},\"size\":10},\"mode\":\"markers\",\"name\":\"NYJ\",\"x\":[23.539999999999996,22.029999999999998,23.72,20.659999999999997,15.469999999999999,19.049999999999997,36.099999999999994,24.74,34.16,25.289999999999996,26.939999999999998],\"y\":[78.44,82.46,82.89,82.41,81.62,82.31,80.97,82.07,82.56,77.63,82.04],\"type\":\"scatter\"},{\"hoverinfo\":\"text\",\"hovertext\":[\"nflId:33131\\u003cbr\\u003edisplayName:Calais Campbell\\u003cbr\\u003e\",\"nflId:37145\\u003cbr\\u003edisplayName:Justin Houston\\u003cbr\\u003e\",\"nflId:37778\\u003cbr\\u003edisplayName:Josh Bynes\\u003cbr\\u003e\",\"nflId:40095\\u003cbr\\u003edisplayName:Steven Means\\u003cbr\\u003e\",\"nflId:41240\\u003cbr\\u003edisplayName:Kyle Fuller\\u003cbr\\u003e\",\"nflId:43694\\u003cbr\\u003edisplayName:Michael Pierce\\u003cbr\\u003e\",\"nflId:44828\\u003cbr\\u003edisplayName:Marlon Humphrey\\u003cbr\\u003e\",\"nflId:44854\\u003cbr\\u003edisplayName:Marcus Williams\\u003cbr\\u003e\",\"nflId:44999\\u003cbr\\u003edisplayName:Chuck Clark\\u003cbr\\u003e\",\"nflId:52436\\u003cbr\\u003edisplayName:Patrick Queen\\u003cbr\\u003e\",\"nflId:53533\\u003cbr\\u003edisplayName:Brandon Stephens\\u003cbr\\u003e\"],\"marker\":{\"color\":\"#241773\",\"line\":{\"color\":\"#000000\",\"width\":2},\"size\":10},\"mode\":\"markers\",\"name\":\"BAL\",\"x\":[21.759999999999998,17.759999999999998,25.569999999999997,28.939999999999998,36.31,24.749999999999996,14.189999999999998,17.58,29.429999999999996,22.139999999999997,35.519999999999996],\"y\":[84.0,83.19,87.72,83.92,83.89,83.98,90.88,87.92,97.25,87.03,90.54],\"type\":\"scatter\"},{\"hoverinfo\":\"none\",\"marker\":{\"color\":\"#CBB67C\",\"line\":{\"color\":\"#663831\",\"width\":2},\"size\":10},\"mode\":\"markers\",\"name\":\"football\",\"x\":[23.699999618530295],\"y\":[81.0199966430664],\"type\":\"scatter\"}],\"name\":\"9\"},{\"data\":[{\"hoverinfo\":\"none\",\"mode\":\"text\",\"showlegend\":false,\"text\":[\"10\",\"20\",\"30\",\"40\",\"50\",\"40\",\"30\",\"20\",\"10\"],\"textfont\":{\"color\":\"#ffffff\",\"family\":\"Courier New, monospace\",\"size\":30},\"x\":[5,5,5,5,5,5,5,5,5],\"y\":[20,30,40,50,60,70,80,90,100],\"type\":\"scatter\"},{\"hoverinfo\":\"none\",\"mode\":\"text\",\"showlegend\":false,\"text\":[\"10\",\"20\",\"30\",\"40\",\"50\",\"40\",\"30\",\"20\",\"10\"],\"textfont\":{\"color\":\"#ffffff\",\"family\":\"Courier New, monospace\",\"size\":30},\"x\":[48.5,48.5,48.5,48.5,48.5,48.5,48.5,48.5,48.5],\"y\":[20,30,40,50,60,70,80,90,100],\"type\":\"scatter\"},{\"hoverinfo\":\"none\",\"line\":{\"color\":\"blue\",\"dash\":\"dash\"},\"showlegend\":false,\"x\":[0,53.5],\"y\":[83,83],\"type\":\"scatter\"},{\"fill\":\"toself\",\"fillcolor\":\"#000000\",\"hoverinfo\":\"skip\",\"line\":{\"color\":\"white\",\"width\":3},\"mode\":\"lines\",\"opacity\":1,\"showlegend\":false,\"x\":[0,53.5,53.5,0,0],\"y\":[0,0,10,10,0],\"type\":\"scatter\"},{\"fill\":\"toself\",\"fillcolor\":\"#241773\",\"hoverinfo\":\"skip\",\"line\":{\"color\":\"white\",\"width\":3},\"mode\":\"lines\",\"opacity\":1,\"showlegend\":false,\"x\":[0,53.5,53.5,0,0],\"y\":[110,110,120,120,110],\"type\":\"scatter\"},{\"hoverinfo\":\"text\",\"hovertext\":[\"nflId:33099\\u003cbr\\u003edisplayName:Joe Flacco\\u003cbr\\u003e\",\"nflId:42371\\u003cbr\\u003edisplayName:Laken Tomlinson\\u003cbr\\u003e\",\"nflId:43433\\u003cbr\\u003edisplayName:Connor McGovern\\u003cbr\\u003e\",\"nflId:43586\\u003cbr\\u003edisplayName:George Fant\\u003cbr\\u003e\",\"nflId:44817\\u003cbr\\u003edisplayName:Corey Davis\\u003cbr\\u003e\",\"nflId:46226\\u003cbr\\u003edisplayName:Tyler Conklin\\u003cbr\\u003e\",\"nflId:46279\\u003cbr\\u003edisplayName:Braxton Berrios\\u003cbr\\u003e\",\"nflId:53443\\u003cbr\\u003edisplayName:Alijah Vera-Tucker\\u003cbr\\u003e\",\"nflId:53463\\u003cbr\\u003edisplayName:Elijah Moore\\u003cbr\\u003e\",\"nflId:53536\\u003cbr\\u003edisplayName:Michael Carter\\u003cbr\\u003e\",\"nflId:54576\\u003cbr\\u003edisplayName:Max Mitchell\\u003cbr\\u003e\"],\"marker\":{\"color\":\"#000000\",\"line\":{\"color\":\"#125740\",\"width\":2},\"size\":10},\"mode\":\"markers\",\"name\":\"NYJ\",\"x\":[23.529999999999998,22.099999999999998,23.789999999999996,20.79,15.519999999999996,19.18,36.12,24.529999999999998,34.199999999999996,25.259999999999998,27.069999999999997],\"y\":[78.44,82.6,82.9,82.57,81.66,82.38,80.96,82.01,82.57,77.65,82.03],\"type\":\"scatter\"},{\"hoverinfo\":\"text\",\"hovertext\":[\"nflId:33131\\u003cbr\\u003edisplayName:Calais Campbell\\u003cbr\\u003e\",\"nflId:37145\\u003cbr\\u003edisplayName:Justin Houston\\u003cbr\\u003e\",\"nflId:37778\\u003cbr\\u003edisplayName:Josh Bynes\\u003cbr\\u003e\",\"nflId:40095\\u003cbr\\u003edisplayName:Steven Means\\u003cbr\\u003e\",\"nflId:41240\\u003cbr\\u003edisplayName:Kyle Fuller\\u003cbr\\u003e\",\"nflId:43694\\u003cbr\\u003edisplayName:Michael Pierce\\u003cbr\\u003e\",\"nflId:44828\\u003cbr\\u003edisplayName:Marlon Humphrey\\u003cbr\\u003e\",\"nflId:44854\\u003cbr\\u003edisplayName:Marcus Williams\\u003cbr\\u003e\",\"nflId:44999\\u003cbr\\u003edisplayName:Chuck Clark\\u003cbr\\u003e\",\"nflId:52436\\u003cbr\\u003edisplayName:Patrick Queen\\u003cbr\\u003e\",\"nflId:53533\\u003cbr\\u003edisplayName:Brandon Stephens\\u003cbr\\u003e\"],\"marker\":{\"color\":\"#241773\",\"line\":{\"color\":\"#000000\",\"width\":2},\"size\":10},\"mode\":\"markers\",\"name\":\"BAL\",\"x\":[21.839999999999996,17.89,25.529999999999998,28.929999999999996,36.349999999999994,24.689999999999998,14.229999999999997,17.58,29.249999999999996,22.08,35.629999999999995],\"y\":[84.0,83.06,87.65,83.82,83.83,83.92,90.99,87.78,97.52,86.97,90.67],\"type\":\"scatter\"},{\"hoverinfo\":\"none\",\"marker\":{\"color\":\"#CBB67C\",\"line\":{\"color\":\"#663831\",\"width\":2},\"size\":10},\"mode\":\"markers\",\"name\":\"football\",\"x\":[23.759999084472696],\"y\":[80.4400024414062],\"type\":\"scatter\"}],\"name\":\"10\"},{\"data\":[{\"hoverinfo\":\"none\",\"mode\":\"text\",\"showlegend\":false,\"text\":[\"10\",\"20\",\"30\",\"40\",\"50\",\"40\",\"30\",\"20\",\"10\"],\"textfont\":{\"color\":\"#ffffff\",\"family\":\"Courier New, monospace\",\"size\":30},\"x\":[5,5,5,5,5,5,5,5,5],\"y\":[20,30,40,50,60,70,80,90,100],\"type\":\"scatter\"},{\"hoverinfo\":\"none\",\"mode\":\"text\",\"showlegend\":false,\"text\":[\"10\",\"20\",\"30\",\"40\",\"50\",\"40\",\"30\",\"20\",\"10\"],\"textfont\":{\"color\":\"#ffffff\",\"family\":\"Courier New, monospace\",\"size\":30},\"x\":[48.5,48.5,48.5,48.5,48.5,48.5,48.5,48.5,48.5],\"y\":[20,30,40,50,60,70,80,90,100],\"type\":\"scatter\"},{\"hoverinfo\":\"none\",\"line\":{\"color\":\"blue\",\"dash\":\"dash\"},\"showlegend\":false,\"x\":[0,53.5],\"y\":[83,83],\"type\":\"scatter\"},{\"fill\":\"toself\",\"fillcolor\":\"#000000\",\"hoverinfo\":\"skip\",\"line\":{\"color\":\"white\",\"width\":3},\"mode\":\"lines\",\"opacity\":1,\"showlegend\":false,\"x\":[0,53.5,53.5,0,0],\"y\":[0,0,10,10,0],\"type\":\"scatter\"},{\"fill\":\"toself\",\"fillcolor\":\"#241773\",\"hoverinfo\":\"skip\",\"line\":{\"color\":\"white\",\"width\":3},\"mode\":\"lines\",\"opacity\":1,\"showlegend\":false,\"x\":[0,53.5,53.5,0,0],\"y\":[110,110,120,120,110],\"type\":\"scatter\"},{\"hoverinfo\":\"text\",\"hovertext\":[\"nflId:33099\\u003cbr\\u003edisplayName:Joe Flacco\\u003cbr\\u003e\",\"nflId:42371\\u003cbr\\u003edisplayName:Laken Tomlinson\\u003cbr\\u003e\",\"nflId:43433\\u003cbr\\u003edisplayName:Connor McGovern\\u003cbr\\u003e\",\"nflId:43586\\u003cbr\\u003edisplayName:George Fant\\u003cbr\\u003e\",\"nflId:44817\\u003cbr\\u003edisplayName:Corey Davis\\u003cbr\\u003e\",\"nflId:46226\\u003cbr\\u003edisplayName:Tyler Conklin\\u003cbr\\u003e\",\"nflId:46279\\u003cbr\\u003edisplayName:Braxton Berrios\\u003cbr\\u003e\",\"nflId:53443\\u003cbr\\u003edisplayName:Alijah Vera-Tucker\\u003cbr\\u003e\",\"nflId:53463\\u003cbr\\u003edisplayName:Elijah Moore\\u003cbr\\u003e\",\"nflId:53536\\u003cbr\\u003edisplayName:Michael Carter\\u003cbr\\u003e\",\"nflId:54576\\u003cbr\\u003edisplayName:Max Mitchell\\u003cbr\\u003e\"],\"marker\":{\"color\":\"#000000\",\"line\":{\"color\":\"#125740\",\"width\":2},\"size\":10},\"mode\":\"markers\",\"name\":\"NYJ\",\"x\":[23.519999999999996,22.189999999999998,23.839999999999996,20.949999999999996,15.61,19.239999999999995,36.19,24.279999999999998,34.3,25.199999999999996,27.22],\"y\":[78.44,82.74,82.91,82.76,81.73,82.41,80.96,81.95,82.58,77.68,82.01],\"type\":\"scatter\"},{\"hoverinfo\":\"text\",\"hovertext\":[\"nflId:33131\\u003cbr\\u003edisplayName:Calais Campbell\\u003cbr\\u003e\",\"nflId:37145\\u003cbr\\u003edisplayName:Justin Houston\\u003cbr\\u003e\",\"nflId:37778\\u003cbr\\u003edisplayName:Josh Bynes\\u003cbr\\u003e\",\"nflId:40095\\u003cbr\\u003edisplayName:Steven Means\\u003cbr\\u003e\",\"nflId:41240\\u003cbr\\u003edisplayName:Kyle Fuller\\u003cbr\\u003e\",\"nflId:43694\\u003cbr\\u003edisplayName:Michael Pierce\\u003cbr\\u003e\",\"nflId:44828\\u003cbr\\u003edisplayName:Marlon Humphrey\\u003cbr\\u003e\",\"nflId:44854\\u003cbr\\u003edisplayName:Marcus Williams\\u003cbr\\u003e\",\"nflId:44999\\u003cbr\\u003edisplayName:Chuck Clark\\u003cbr\\u003e\",\"nflId:52436\\u003cbr\\u003edisplayName:Patrick Queen\\u003cbr\\u003e\",\"nflId:53533\\u003cbr\\u003edisplayName:Brandon Stephens\\u003cbr\\u003e\"],\"marker\":{\"color\":\"#241773\",\"line\":{\"color\":\"#000000\",\"width\":2},\"size\":10},\"mode\":\"markers\",\"name\":\"BAL\",\"x\":[21.929999999999996,18.049999999999997,25.529999999999998,28.929999999999996,36.4,24.599999999999998,14.239999999999995,17.589999999999996,29.069999999999997,22.009999999999998,35.76],\"y\":[84.01,82.91,87.56,83.66,83.74,83.84,91.1,87.65,97.81,86.9,90.81],\"type\":\"scatter\"},{\"hoverinfo\":\"none\",\"marker\":{\"color\":\"#CBB67C\",\"line\":{\"color\":\"#663831\",\"width\":2},\"size\":10},\"mode\":\"markers\",\"name\":\"football\",\"x\":[23.8400009155273],\"y\":[79.9100036621094],\"type\":\"scatter\"}],\"name\":\"11\"},{\"data\":[{\"hoverinfo\":\"none\",\"mode\":\"text\",\"showlegend\":false,\"text\":[\"10\",\"20\",\"30\",\"40\",\"50\",\"40\",\"30\",\"20\",\"10\"],\"textfont\":{\"color\":\"#ffffff\",\"family\":\"Courier New, monospace\",\"size\":30},\"x\":[5,5,5,5,5,5,5,5,5],\"y\":[20,30,40,50,60,70,80,90,100],\"type\":\"scatter\"},{\"hoverinfo\":\"none\",\"mode\":\"text\",\"showlegend\":false,\"text\":[\"10\",\"20\",\"30\",\"40\",\"50\",\"40\",\"30\",\"20\",\"10\"],\"textfont\":{\"color\":\"#ffffff\",\"family\":\"Courier New, monospace\",\"size\":30},\"x\":[48.5,48.5,48.5,48.5,48.5,48.5,48.5,48.5,48.5],\"y\":[20,30,40,50,60,70,80,90,100],\"type\":\"scatter\"},{\"hoverinfo\":\"none\",\"line\":{\"color\":\"blue\",\"dash\":\"dash\"},\"showlegend\":false,\"x\":[0,53.5],\"y\":[83,83],\"type\":\"scatter\"},{\"fill\":\"toself\",\"fillcolor\":\"#000000\",\"hoverinfo\":\"skip\",\"line\":{\"color\":\"white\",\"width\":3},\"mode\":\"lines\",\"opacity\":1,\"showlegend\":false,\"x\":[0,53.5,53.5,0,0],\"y\":[0,0,10,10,0],\"type\":\"scatter\"},{\"fill\":\"toself\",\"fillcolor\":\"#241773\",\"hoverinfo\":\"skip\",\"line\":{\"color\":\"white\",\"width\":3},\"mode\":\"lines\",\"opacity\":1,\"showlegend\":false,\"x\":[0,53.5,53.5,0,0],\"y\":[110,110,120,120,110],\"type\":\"scatter\"},{\"hoverinfo\":\"text\",\"hovertext\":[\"nflId:33099\\u003cbr\\u003edisplayName:Joe Flacco\\u003cbr\\u003e\",\"nflId:42371\\u003cbr\\u003edisplayName:Laken Tomlinson\\u003cbr\\u003e\",\"nflId:43433\\u003cbr\\u003edisplayName:Connor McGovern\\u003cbr\\u003e\",\"nflId:43586\\u003cbr\\u003edisplayName:George Fant\\u003cbr\\u003e\",\"nflId:44817\\u003cbr\\u003edisplayName:Corey Davis\\u003cbr\\u003e\",\"nflId:46226\\u003cbr\\u003edisplayName:Tyler Conklin\\u003cbr\\u003e\",\"nflId:46279\\u003cbr\\u003edisplayName:Braxton Berrios\\u003cbr\\u003e\",\"nflId:53443\\u003cbr\\u003edisplayName:Alijah Vera-Tucker\\u003cbr\\u003e\",\"nflId:53463\\u003cbr\\u003edisplayName:Elijah Moore\\u003cbr\\u003e\",\"nflId:53536\\u003cbr\\u003edisplayName:Michael Carter\\u003cbr\\u003e\",\"nflId:54576\\u003cbr\\u003edisplayName:Max Mitchell\\u003cbr\\u003e\"],\"marker\":{\"color\":\"#000000\",\"line\":{\"color\":\"#125740\",\"width\":2},\"size\":10},\"mode\":\"markers\",\"name\":\"NYJ\",\"x\":[23.509999999999998,22.289999999999996,23.879999999999995,21.119999999999997,15.709999999999994,19.339999999999996,36.31999999999999,24.019999999999996,34.47,25.169999999999998,27.379999999999995],\"y\":[78.45,82.89,82.91,82.95,81.82,82.45,80.94,81.9,82.59,77.71,81.98],\"type\":\"scatter\"},{\"hoverinfo\":\"text\",\"hovertext\":[\"nflId:33131\\u003cbr\\u003edisplayName:Calais Campbell\\u003cbr\\u003e\",\"nflId:37145\\u003cbr\\u003edisplayName:Justin Houston\\u003cbr\\u003e\",\"nflId:37778\\u003cbr\\u003edisplayName:Josh Bynes\\u003cbr\\u003e\",\"nflId:40095\\u003cbr\\u003edisplayName:Steven Means\\u003cbr\\u003e\",\"nflId:41240\\u003cbr\\u003edisplayName:Kyle Fuller\\u003cbr\\u003e\",\"nflId:43694\\u003cbr\\u003edisplayName:Michael Pierce\\u003cbr\\u003e\",\"nflId:44828\\u003cbr\\u003edisplayName:Marlon Humphrey\\u003cbr\\u003e\",\"nflId:44854\\u003cbr\\u003edisplayName:Marcus Williams\\u003cbr\\u003e\",\"nflId:44999\\u003cbr\\u003edisplayName:Chuck Clark\\u003cbr\\u003e\",\"nflId:52436\\u003cbr\\u003edisplayName:Patrick Queen\\u003cbr\\u003e\",\"nflId:53533\\u003cbr\\u003edisplayName:Brandon Stephens\\u003cbr\\u003e\"],\"marker\":{\"color\":\"#241773\",\"line\":{\"color\":\"#000000\",\"width\":2},\"size\":10},\"mode\":\"markers\",\"name\":\"BAL\",\"x\":[22.029999999999998,18.209999999999994,25.479999999999997,28.939999999999998,36.47,24.509999999999998,14.269999999999996,17.61,28.869999999999997,21.9,35.91],\"y\":[84.02,82.74,87.51,83.45,83.64,83.75,91.2,87.53,98.1,86.78,90.95],\"type\":\"scatter\"},{\"hoverinfo\":\"none\",\"marker\":{\"color\":\"#CBB67C\",\"line\":{\"color\":\"#663831\",\"width\":2},\"size\":10},\"mode\":\"markers\",\"name\":\"football\",\"x\":[23.9299991607666],\"y\":[79.4400024414062],\"type\":\"scatter\"}],\"name\":\"12\"},{\"data\":[{\"hoverinfo\":\"none\",\"mode\":\"text\",\"showlegend\":false,\"text\":[\"10\",\"20\",\"30\",\"40\",\"50\",\"40\",\"30\",\"20\",\"10\"],\"textfont\":{\"color\":\"#ffffff\",\"family\":\"Courier New, monospace\",\"size\":30},\"x\":[5,5,5,5,5,5,5,5,5],\"y\":[20,30,40,50,60,70,80,90,100],\"type\":\"scatter\"},{\"hoverinfo\":\"none\",\"mode\":\"text\",\"showlegend\":false,\"text\":[\"10\",\"20\",\"30\",\"40\",\"50\",\"40\",\"30\",\"20\",\"10\"],\"textfont\":{\"color\":\"#ffffff\",\"family\":\"Courier New, monospace\",\"size\":30},\"x\":[48.5,48.5,48.5,48.5,48.5,48.5,48.5,48.5,48.5],\"y\":[20,30,40,50,60,70,80,90,100],\"type\":\"scatter\"},{\"hoverinfo\":\"none\",\"line\":{\"color\":\"blue\",\"dash\":\"dash\"},\"showlegend\":false,\"x\":[0,53.5],\"y\":[83,83],\"type\":\"scatter\"},{\"fill\":\"toself\",\"fillcolor\":\"#000000\",\"hoverinfo\":\"skip\",\"line\":{\"color\":\"white\",\"width\":3},\"mode\":\"lines\",\"opacity\":1,\"showlegend\":false,\"x\":[0,53.5,53.5,0,0],\"y\":[0,0,10,10,0],\"type\":\"scatter\"},{\"fill\":\"toself\",\"fillcolor\":\"#241773\",\"hoverinfo\":\"skip\",\"line\":{\"color\":\"white\",\"width\":3},\"mode\":\"lines\",\"opacity\":1,\"showlegend\":false,\"x\":[0,53.5,53.5,0,0],\"y\":[110,110,120,120,110],\"type\":\"scatter\"},{\"hoverinfo\":\"text\",\"hovertext\":[\"nflId:33099\\u003cbr\\u003edisplayName:Joe Flacco\\u003cbr\\u003e\",\"nflId:42371\\u003cbr\\u003edisplayName:Laken Tomlinson\\u003cbr\\u003e\",\"nflId:43433\\u003cbr\\u003edisplayName:Connor McGovern\\u003cbr\\u003e\",\"nflId:43586\\u003cbr\\u003edisplayName:George Fant\\u003cbr\\u003e\",\"nflId:44817\\u003cbr\\u003edisplayName:Corey Davis\\u003cbr\\u003e\",\"nflId:46226\\u003cbr\\u003edisplayName:Tyler Conklin\\u003cbr\\u003e\",\"nflId:46279\\u003cbr\\u003edisplayName:Braxton Berrios\\u003cbr\\u003e\",\"nflId:53443\\u003cbr\\u003edisplayName:Alijah Vera-Tucker\\u003cbr\\u003e\",\"nflId:53463\\u003cbr\\u003edisplayName:Elijah Moore\\u003cbr\\u003e\",\"nflId:53536\\u003cbr\\u003edisplayName:Michael Carter\\u003cbr\\u003e\",\"nflId:54576\\u003cbr\\u003edisplayName:Max Mitchell\\u003cbr\\u003e\"],\"marker\":{\"color\":\"#000000\",\"line\":{\"color\":\"#125740\",\"width\":2},\"size\":10},\"mode\":\"markers\",\"name\":\"NYJ\",\"x\":[23.499999999999996,22.389999999999997,23.879999999999995,21.299999999999997,15.849999999999994,19.459999999999994,36.5,23.729999999999997,34.709999999999994,25.08,27.549999999999997],\"y\":[78.45,83.02,82.9,83.15,81.94,82.58,80.93,81.86,82.59,77.78,81.94],\"type\":\"scatter\"},{\"hoverinfo\":\"text\",\"hovertext\":[\"nflId:33131\\u003cbr\\u003edisplayName:Calais Campbell\\u003cbr\\u003e\",\"nflId:37145\\u003cbr\\u003edisplayName:Justin Houston\\u003cbr\\u003e\",\"nflId:37778\\u003cbr\\u003edisplayName:Josh Bynes\\u003cbr\\u003e\",\"nflId:40095\\u003cbr\\u003edisplayName:Steven Means\\u003cbr\\u003e\",\"nflId:41240\\u003cbr\\u003edisplayName:Kyle Fuller\\u003cbr\\u003e\",\"nflId:43694\\u003cbr\\u003edisplayName:Michael Pierce\\u003cbr\\u003e\",\"nflId:44828\\u003cbr\\u003edisplayName:Marlon Humphrey\\u003cbr\\u003e\",\"nflId:44854\\u003cbr\\u003edisplayName:Marcus Williams\\u003cbr\\u003e\",\"nflId:44999\\u003cbr\\u003edisplayName:Chuck Clark\\u003cbr\\u003e\",\"nflId:52436\\u003cbr\\u003edisplayName:Patrick Queen\\u003cbr\\u003e\",\"nflId:53533\\u003cbr\\u003edisplayName:Brandon Stephens\\u003cbr\\u003e\"],\"marker\":{\"color\":\"#241773\",\"line\":{\"color\":\"#000000\",\"width\":2},\"size\":10},\"mode\":\"markers\",\"name\":\"BAL\",\"x\":[22.189999999999998,18.419999999999995,25.449999999999996,28.959999999999997,36.55,24.429999999999996,14.299999999999997,17.64,28.689999999999998,21.759999999999998,36.08],\"y\":[84.01,82.57,87.44,83.21,83.53,83.65,91.31,87.41,98.41,86.63,91.1],\"type\":\"scatter\"},{\"hoverinfo\":\"none\",\"marker\":{\"color\":\"#CBB67C\",\"line\":{\"color\":\"#663831\",\"width\":2},\"size\":10},\"mode\":\"markers\",\"name\":\"football\",\"x\":[24.000000762939496],\"y\":[79.0800018310547],\"type\":\"scatter\"}],\"name\":\"13\"},{\"data\":[{\"hoverinfo\":\"none\",\"mode\":\"text\",\"showlegend\":false,\"text\":[\"10\",\"20\",\"30\",\"40\",\"50\",\"40\",\"30\",\"20\",\"10\"],\"textfont\":{\"color\":\"#ffffff\",\"family\":\"Courier New, monospace\",\"size\":30},\"x\":[5,5,5,5,5,5,5,5,5],\"y\":[20,30,40,50,60,70,80,90,100],\"type\":\"scatter\"},{\"hoverinfo\":\"none\",\"mode\":\"text\",\"showlegend\":false,\"text\":[\"10\",\"20\",\"30\",\"40\",\"50\",\"40\",\"30\",\"20\",\"10\"],\"textfont\":{\"color\":\"#ffffff\",\"family\":\"Courier New, monospace\",\"size\":30},\"x\":[48.5,48.5,48.5,48.5,48.5,48.5,48.5,48.5,48.5],\"y\":[20,30,40,50,60,70,80,90,100],\"type\":\"scatter\"},{\"hoverinfo\":\"none\",\"line\":{\"color\":\"blue\",\"dash\":\"dash\"},\"showlegend\":false,\"x\":[0,53.5],\"y\":[83,83],\"type\":\"scatter\"},{\"fill\":\"toself\",\"fillcolor\":\"#000000\",\"hoverinfo\":\"skip\",\"line\":{\"color\":\"white\",\"width\":3},\"mode\":\"lines\",\"opacity\":1,\"showlegend\":false,\"x\":[0,53.5,53.5,0,0],\"y\":[0,0,10,10,0],\"type\":\"scatter\"},{\"fill\":\"toself\",\"fillcolor\":\"#241773\",\"hoverinfo\":\"skip\",\"line\":{\"color\":\"white\",\"width\":3},\"mode\":\"lines\",\"opacity\":1,\"showlegend\":false,\"x\":[0,53.5,53.5,0,0],\"y\":[110,110,120,120,110],\"type\":\"scatter\"},{\"hoverinfo\":\"text\",\"hovertext\":[\"nflId:33099\\u003cbr\\u003edisplayName:Joe Flacco\\u003cbr\\u003e\",\"nflId:42371\\u003cbr\\u003edisplayName:Laken Tomlinson\\u003cbr\\u003e\",\"nflId:43433\\u003cbr\\u003edisplayName:Connor McGovern\\u003cbr\\u003e\",\"nflId:43586\\u003cbr\\u003edisplayName:George Fant\\u003cbr\\u003e\",\"nflId:44817\\u003cbr\\u003edisplayName:Corey Davis\\u003cbr\\u003e\",\"nflId:46226\\u003cbr\\u003edisplayName:Tyler Conklin\\u003cbr\\u003e\",\"nflId:46279\\u003cbr\\u003edisplayName:Braxton Berrios\\u003cbr\\u003e\",\"nflId:53443\\u003cbr\\u003edisplayName:Alijah Vera-Tucker\\u003cbr\\u003e\",\"nflId:53463\\u003cbr\\u003edisplayName:Elijah Moore\\u003cbr\\u003e\",\"nflId:53536\\u003cbr\\u003edisplayName:Michael Carter\\u003cbr\\u003e\",\"nflId:54576\\u003cbr\\u003edisplayName:Max Mitchell\\u003cbr\\u003e\"],\"marker\":{\"color\":\"#000000\",\"line\":{\"color\":\"#125740\",\"width\":2},\"size\":10},\"mode\":\"markers\",\"name\":\"NYJ\",\"x\":[23.479999999999997,22.519999999999996,23.869999999999997,21.479999999999997,16.019999999999996,19.61,36.75,23.4,35.0,24.949999999999996,27.729999999999997],\"y\":[78.44,83.14,82.89,83.36,82.08,82.75,80.91,81.82,82.59,77.9,81.88],\"type\":\"scatter\"},{\"hoverinfo\":\"text\",\"hovertext\":[\"nflId:33131\\u003cbr\\u003edisplayName:Calais Campbell\\u003cbr\\u003e\",\"nflId:37145\\u003cbr\\u003edisplayName:Justin Houston\\u003cbr\\u003e\",\"nflId:37778\\u003cbr\\u003edisplayName:Josh Bynes\\u003cbr\\u003e\",\"nflId:40095\\u003cbr\\u003edisplayName:Steven Means\\u003cbr\\u003e\",\"nflId:41240\\u003cbr\\u003edisplayName:Kyle Fuller\\u003cbr\\u003e\",\"nflId:43694\\u003cbr\\u003edisplayName:Michael Pierce\\u003cbr\\u003e\",\"nflId:44828\\u003cbr\\u003edisplayName:Marlon Humphrey\\u003cbr\\u003e\",\"nflId:44854\\u003cbr\\u003edisplayName:Marcus Williams\\u003cbr\\u003e\",\"nflId:44999\\u003cbr\\u003edisplayName:Chuck Clark\\u003cbr\\u003e\",\"nflId:52436\\u003cbr\\u003edisplayName:Patrick Queen\\u003cbr\\u003e\",\"nflId:53533\\u003cbr\\u003edisplayName:Brandon Stephens\\u003cbr\\u003e\"],\"marker\":{\"color\":\"#241773\",\"line\":{\"color\":\"#000000\",\"width\":2},\"size\":10},\"mode\":\"markers\",\"name\":\"BAL\",\"x\":[22.349999999999998,18.669999999999995,25.419999999999998,28.97,36.66,24.349999999999998,14.349999999999994,17.68,28.509999999999998,21.589999999999996,36.26],\"y\":[84.0,82.38,87.36,82.96,83.42,83.54,91.43,87.28,98.72,86.44,91.27],\"type\":\"scatter\"},{\"hoverinfo\":\"none\",\"marker\":{\"color\":\"#CBB67C\",\"line\":{\"color\":\"#663831\",\"width\":2},\"size\":10},\"mode\":\"markers\",\"name\":\"football\",\"x\":[24.029999542236297],\"y\":[78.8600006103516],\"type\":\"scatter\"}],\"name\":\"14\"},{\"data\":[{\"hoverinfo\":\"none\",\"mode\":\"text\",\"showlegend\":false,\"text\":[\"10\",\"20\",\"30\",\"40\",\"50\",\"40\",\"30\",\"20\",\"10\"],\"textfont\":{\"color\":\"#ffffff\",\"family\":\"Courier New, monospace\",\"size\":30},\"x\":[5,5,5,5,5,5,5,5,5],\"y\":[20,30,40,50,60,70,80,90,100],\"type\":\"scatter\"},{\"hoverinfo\":\"none\",\"mode\":\"text\",\"showlegend\":false,\"text\":[\"10\",\"20\",\"30\",\"40\",\"50\",\"40\",\"30\",\"20\",\"10\"],\"textfont\":{\"color\":\"#ffffff\",\"family\":\"Courier New, monospace\",\"size\":30},\"x\":[48.5,48.5,48.5,48.5,48.5,48.5,48.5,48.5,48.5],\"y\":[20,30,40,50,60,70,80,90,100],\"type\":\"scatter\"},{\"hoverinfo\":\"none\",\"line\":{\"color\":\"blue\",\"dash\":\"dash\"},\"showlegend\":false,\"x\":[0,53.5],\"y\":[83,83],\"type\":\"scatter\"},{\"fill\":\"toself\",\"fillcolor\":\"#000000\",\"hoverinfo\":\"skip\",\"line\":{\"color\":\"white\",\"width\":3},\"mode\":\"lines\",\"opacity\":1,\"showlegend\":false,\"x\":[0,53.5,53.5,0,0],\"y\":[0,0,10,10,0],\"type\":\"scatter\"},{\"fill\":\"toself\",\"fillcolor\":\"#241773\",\"hoverinfo\":\"skip\",\"line\":{\"color\":\"white\",\"width\":3},\"mode\":\"lines\",\"opacity\":1,\"showlegend\":false,\"x\":[0,53.5,53.5,0,0],\"y\":[110,110,120,120,110],\"type\":\"scatter\"},{\"hoverinfo\":\"text\",\"hovertext\":[\"nflId:33099\\u003cbr\\u003edisplayName:Joe Flacco\\u003cbr\\u003e\",\"nflId:42371\\u003cbr\\u003edisplayName:Laken Tomlinson\\u003cbr\\u003e\",\"nflId:43433\\u003cbr\\u003edisplayName:Connor McGovern\\u003cbr\\u003e\",\"nflId:43586\\u003cbr\\u003edisplayName:George Fant\\u003cbr\\u003e\",\"nflId:44817\\u003cbr\\u003edisplayName:Corey Davis\\u003cbr\\u003e\",\"nflId:46226\\u003cbr\\u003edisplayName:Tyler Conklin\\u003cbr\\u003e\",\"nflId:46279\\u003cbr\\u003edisplayName:Braxton Berrios\\u003cbr\\u003e\",\"nflId:53443\\u003cbr\\u003edisplayName:Alijah Vera-Tucker\\u003cbr\\u003e\",\"nflId:53463\\u003cbr\\u003edisplayName:Elijah Moore\\u003cbr\\u003e\",\"nflId:53536\\u003cbr\\u003edisplayName:Michael Carter\\u003cbr\\u003e\",\"nflId:54576\\u003cbr\\u003edisplayName:Max Mitchell\\u003cbr\\u003e\"],\"marker\":{\"color\":\"#000000\",\"line\":{\"color\":\"#125740\",\"width\":2},\"size\":10},\"mode\":\"markers\",\"name\":\"NYJ\",\"x\":[23.47,22.629999999999995,23.859999999999996,21.659999999999997,16.22,19.779999999999994,37.05,23.049999999999997,35.33,24.789999999999996,27.909999999999997],\"y\":[78.43,83.24,82.88,83.56,82.25,82.96,80.9,81.78,82.58,78.07,81.77],\"type\":\"scatter\"},{\"hoverinfo\":\"text\",\"hovertext\":[\"nflId:33131\\u003cbr\\u003edisplayName:Calais Campbell\\u003cbr\\u003e\",\"nflId:37145\\u003cbr\\u003edisplayName:Justin Houston\\u003cbr\\u003e\",\"nflId:37778\\u003cbr\\u003edisplayName:Josh Bynes\\u003cbr\\u003e\",\"nflId:40095\\u003cbr\\u003edisplayName:Steven Means\\u003cbr\\u003e\",\"nflId:41240\\u003cbr\\u003edisplayName:Kyle Fuller\\u003cbr\\u003e\",\"nflId:43694\\u003cbr\\u003edisplayName:Michael Pierce\\u003cbr\\u003e\",\"nflId:44828\\u003cbr\\u003edisplayName:Marlon Humphrey\\u003cbr\\u003e\",\"nflId:44854\\u003cbr\\u003edisplayName:Marcus Williams\\u003cbr\\u003e\",\"nflId:44999\\u003cbr\\u003edisplayName:Chuck Clark\\u003cbr\\u003e\",\"nflId:52436\\u003cbr\\u003edisplayName:Patrick Queen\\u003cbr\\u003e\",\"nflId:53533\\u003cbr\\u003edisplayName:Brandon Stephens\\u003cbr\\u003e\"],\"marker\":{\"color\":\"#241773\",\"line\":{\"color\":\"#000000\",\"width\":2},\"size\":10},\"mode\":\"markers\",\"name\":\"BAL\",\"x\":[22.539999999999996,18.939999999999998,25.369999999999997,28.99,36.81999999999999,24.289999999999996,14.399999999999999,17.72,28.339999999999996,21.389999999999997,36.459999999999994],\"y\":[83.97,82.2,87.27,82.68,83.31,83.41,91.55,87.14,99.03,86.23,91.47],\"type\":\"scatter\"},{\"hoverinfo\":\"none\",\"marker\":{\"color\":\"#CBB67C\",\"line\":{\"color\":\"#663831\",\"width\":2},\"size\":10},\"mode\":\"markers\",\"name\":\"football\",\"x\":[24.049999999999997],\"y\":[78.7200012207031],\"type\":\"scatter\"}],\"name\":\"15\"},{\"data\":[{\"hoverinfo\":\"none\",\"mode\":\"text\",\"showlegend\":false,\"text\":[\"10\",\"20\",\"30\",\"40\",\"50\",\"40\",\"30\",\"20\",\"10\"],\"textfont\":{\"color\":\"#ffffff\",\"family\":\"Courier New, monospace\",\"size\":30},\"x\":[5,5,5,5,5,5,5,5,5],\"y\":[20,30,40,50,60,70,80,90,100],\"type\":\"scatter\"},{\"hoverinfo\":\"none\",\"mode\":\"text\",\"showlegend\":false,\"text\":[\"10\",\"20\",\"30\",\"40\",\"50\",\"40\",\"30\",\"20\",\"10\"],\"textfont\":{\"color\":\"#ffffff\",\"family\":\"Courier New, monospace\",\"size\":30},\"x\":[48.5,48.5,48.5,48.5,48.5,48.5,48.5,48.5,48.5],\"y\":[20,30,40,50,60,70,80,90,100],\"type\":\"scatter\"},{\"hoverinfo\":\"none\",\"line\":{\"color\":\"blue\",\"dash\":\"dash\"},\"showlegend\":false,\"x\":[0,53.5],\"y\":[83,83],\"type\":\"scatter\"},{\"fill\":\"toself\",\"fillcolor\":\"#000000\",\"hoverinfo\":\"skip\",\"line\":{\"color\":\"white\",\"width\":3},\"mode\":\"lines\",\"opacity\":1,\"showlegend\":false,\"x\":[0,53.5,53.5,0,0],\"y\":[0,0,10,10,0],\"type\":\"scatter\"},{\"fill\":\"toself\",\"fillcolor\":\"#241773\",\"hoverinfo\":\"skip\",\"line\":{\"color\":\"white\",\"width\":3},\"mode\":\"lines\",\"opacity\":1,\"showlegend\":false,\"x\":[0,53.5,53.5,0,0],\"y\":[110,110,120,120,110],\"type\":\"scatter\"},{\"hoverinfo\":\"text\",\"hovertext\":[\"nflId:33099\\u003cbr\\u003edisplayName:Joe Flacco\\u003cbr\\u003e\",\"nflId:42371\\u003cbr\\u003edisplayName:Laken Tomlinson\\u003cbr\\u003e\",\"nflId:43433\\u003cbr\\u003edisplayName:Connor McGovern\\u003cbr\\u003e\",\"nflId:43586\\u003cbr\\u003edisplayName:George Fant\\u003cbr\\u003e\",\"nflId:44817\\u003cbr\\u003edisplayName:Corey Davis\\u003cbr\\u003e\",\"nflId:46226\\u003cbr\\u003edisplayName:Tyler Conklin\\u003cbr\\u003e\",\"nflId:46279\\u003cbr\\u003edisplayName:Braxton Berrios\\u003cbr\\u003e\",\"nflId:53443\\u003cbr\\u003edisplayName:Alijah Vera-Tucker\\u003cbr\\u003e\",\"nflId:53463\\u003cbr\\u003edisplayName:Elijah Moore\\u003cbr\\u003e\",\"nflId:53536\\u003cbr\\u003edisplayName:Michael Carter\\u003cbr\\u003e\",\"nflId:54576\\u003cbr\\u003edisplayName:Max Mitchell\\u003cbr\\u003e\"],\"marker\":{\"color\":\"#000000\",\"line\":{\"color\":\"#125740\",\"width\":2},\"size\":10},\"mode\":\"markers\",\"name\":\"NYJ\",\"x\":[23.459999999999997,22.749999999999996,23.839999999999996,21.83,16.439999999999998,19.949999999999996,37.39,22.699999999999996,35.69,24.619999999999997,28.069999999999997],\"y\":[78.41,83.3,82.85,83.78,82.44,83.17,80.88,81.75,82.56,78.28,81.65],\"type\":\"scatter\"},{\"hoverinfo\":\"text\",\"hovertext\":[\"nflId:33131\\u003cbr\\u003edisplayName:Calais Campbell\\u003cbr\\u003e\",\"nflId:37145\\u003cbr\\u003edisplayName:Justin Houston\\u003cbr\\u003e\",\"nflId:37778\\u003cbr\\u003edisplayName:Josh Bynes\\u003cbr\\u003e\",\"nflId:40095\\u003cbr\\u003edisplayName:Steven Means\\u003cbr\\u003e\",\"nflId:41240\\u003cbr\\u003edisplayName:Kyle Fuller\\u003cbr\\u003e\",\"nflId:43694\\u003cbr\\u003edisplayName:Michael Pierce\\u003cbr\\u003e\",\"nflId:44828\\u003cbr\\u003edisplayName:Marlon Humphrey\\u003cbr\\u003e\",\"nflId:44854\\u003cbr\\u003edisplayName:Marcus Williams\\u003cbr\\u003e\",\"nflId:44999\\u003cbr\\u003edisplayName:Chuck Clark\\u003cbr\\u003e\",\"nflId:52436\\u003cbr\\u003edisplayName:Patrick Queen\\u003cbr\\u003e\",\"nflId:53533\\u003cbr\\u003edisplayName:Brandon Stephens\\u003cbr\\u003e\"],\"marker\":{\"color\":\"#241773\",\"line\":{\"color\":\"#000000\",\"width\":2},\"size\":10},\"mode\":\"markers\",\"name\":\"BAL\",\"x\":[22.729999999999997,19.22,25.33,29.029999999999998,37.03999999999999,24.249999999999996,14.469999999999999,17.769999999999996,28.179999999999996,21.189999999999998,36.67],\"y\":[83.92,82.02,87.17,82.38,83.24,83.26,91.67,86.99,99.34,85.99,91.65],\"type\":\"scatter\"},{\"hoverinfo\":\"none\",\"marker\":{\"color\":\"#CBB67C\",\"line\":{\"color\":\"#663831\",\"width\":2},\"size\":10},\"mode\":\"markers\",\"name\":\"football\",\"x\":[24.039999771118197],\"y\":[78.6900024414062],\"type\":\"scatter\"}],\"name\":\"16\"},{\"data\":[{\"hoverinfo\":\"none\",\"mode\":\"text\",\"showlegend\":false,\"text\":[\"10\",\"20\",\"30\",\"40\",\"50\",\"40\",\"30\",\"20\",\"10\"],\"textfont\":{\"color\":\"#ffffff\",\"family\":\"Courier New, monospace\",\"size\":30},\"x\":[5,5,5,5,5,5,5,5,5],\"y\":[20,30,40,50,60,70,80,90,100],\"type\":\"scatter\"},{\"hoverinfo\":\"none\",\"mode\":\"text\",\"showlegend\":false,\"text\":[\"10\",\"20\",\"30\",\"40\",\"50\",\"40\",\"30\",\"20\",\"10\"],\"textfont\":{\"color\":\"#ffffff\",\"family\":\"Courier New, monospace\",\"size\":30},\"x\":[48.5,48.5,48.5,48.5,48.5,48.5,48.5,48.5,48.5],\"y\":[20,30,40,50,60,70,80,90,100],\"type\":\"scatter\"},{\"hoverinfo\":\"none\",\"line\":{\"color\":\"blue\",\"dash\":\"dash\"},\"showlegend\":false,\"x\":[0,53.5],\"y\":[83,83],\"type\":\"scatter\"},{\"fill\":\"toself\",\"fillcolor\":\"#000000\",\"hoverinfo\":\"skip\",\"line\":{\"color\":\"white\",\"width\":3},\"mode\":\"lines\",\"opacity\":1,\"showlegend\":false,\"x\":[0,53.5,53.5,0,0],\"y\":[0,0,10,10,0],\"type\":\"scatter\"},{\"fill\":\"toself\",\"fillcolor\":\"#241773\",\"hoverinfo\":\"skip\",\"line\":{\"color\":\"white\",\"width\":3},\"mode\":\"lines\",\"opacity\":1,\"showlegend\":false,\"x\":[0,53.5,53.5,0,0],\"y\":[110,110,120,120,110],\"type\":\"scatter\"},{\"hoverinfo\":\"text\",\"hovertext\":[\"nflId:33099\\u003cbr\\u003edisplayName:Joe Flacco\\u003cbr\\u003e\",\"nflId:42371\\u003cbr\\u003edisplayName:Laken Tomlinson\\u003cbr\\u003e\",\"nflId:43433\\u003cbr\\u003edisplayName:Connor McGovern\\u003cbr\\u003e\",\"nflId:43586\\u003cbr\\u003edisplayName:George Fant\\u003cbr\\u003e\",\"nflId:44817\\u003cbr\\u003edisplayName:Corey Davis\\u003cbr\\u003e\",\"nflId:46226\\u003cbr\\u003edisplayName:Tyler Conklin\\u003cbr\\u003e\",\"nflId:46279\\u003cbr\\u003edisplayName:Braxton Berrios\\u003cbr\\u003e\",\"nflId:53443\\u003cbr\\u003edisplayName:Alijah Vera-Tucker\\u003cbr\\u003e\",\"nflId:53463\\u003cbr\\u003edisplayName:Elijah Moore\\u003cbr\\u003e\",\"nflId:53536\\u003cbr\\u003edisplayName:Michael Carter\\u003cbr\\u003e\",\"nflId:54576\\u003cbr\\u003edisplayName:Max Mitchell\\u003cbr\\u003e\"],\"marker\":{\"color\":\"#000000\",\"line\":{\"color\":\"#125740\",\"width\":2},\"size\":10},\"mode\":\"markers\",\"name\":\"NYJ\",\"x\":[23.449999999999996,22.859999999999996,23.83,22.009999999999998,16.669999999999995,20.099999999999994,37.769999999999996,22.349999999999998,36.08,24.439999999999998,28.209999999999997],\"y\":[78.38,83.36,82.83,83.99,82.66,83.38,80.87,81.73,82.53,78.53,81.48],\"type\":\"scatter\"},{\"hoverinfo\":\"text\",\"hovertext\":[\"nflId:33131\\u003cbr\\u003edisplayName:Calais Campbell\\u003cbr\\u003e\",\"nflId:37145\\u003cbr\\u003edisplayName:Justin Houston\\u003cbr\\u003e\",\"nflId:37778\\u003cbr\\u003edisplayName:Josh Bynes\\u003cbr\\u003e\",\"nflId:40095\\u003cbr\\u003edisplayName:Steven Means\\u003cbr\\u003e\",\"nflId:41240\\u003cbr\\u003edisplayName:Kyle Fuller\\u003cbr\\u003e\",\"nflId:43694\\u003cbr\\u003edisplayName:Michael Pierce\\u003cbr\\u003e\",\"nflId:44828\\u003cbr\\u003edisplayName:Marlon Humphrey\\u003cbr\\u003e\",\"nflId:44854\\u003cbr\\u003edisplayName:Marcus Williams\\u003cbr\\u003e\",\"nflId:44999\\u003cbr\\u003edisplayName:Chuck Clark\\u003cbr\\u003e\",\"nflId:52436\\u003cbr\\u003edisplayName:Patrick Queen\\u003cbr\\u003e\",\"nflId:53533\\u003cbr\\u003edisplayName:Brandon Stephens\\u003cbr\\u003e\"],\"marker\":{\"color\":\"#241773\",\"line\":{\"color\":\"#000000\",\"width\":2},\"size\":10},\"mode\":\"markers\",\"name\":\"BAL\",\"x\":[22.919999999999998,19.519999999999996,25.289999999999996,29.08,37.3,24.24,14.549999999999997,17.82,28.049999999999997,20.989999999999995,36.879999999999995],\"y\":[83.86,81.84,87.07,82.07,83.19,83.1,91.77,86.83,99.64,85.74,91.85],\"type\":\"scatter\"},{\"hoverinfo\":\"none\",\"marker\":{\"color\":\"#CBB67C\",\"line\":{\"color\":\"#663831\",\"width\":2},\"size\":10},\"mode\":\"markers\",\"name\":\"football\",\"x\":[24.029999542236297],\"y\":[78.7399978637695],\"type\":\"scatter\"}],\"name\":\"17\"},{\"data\":[{\"hoverinfo\":\"none\",\"mode\":\"text\",\"showlegend\":false,\"text\":[\"10\",\"20\",\"30\",\"40\",\"50\",\"40\",\"30\",\"20\",\"10\"],\"textfont\":{\"color\":\"#ffffff\",\"family\":\"Courier New, monospace\",\"size\":30},\"x\":[5,5,5,5,5,5,5,5,5],\"y\":[20,30,40,50,60,70,80,90,100],\"type\":\"scatter\"},{\"hoverinfo\":\"none\",\"mode\":\"text\",\"showlegend\":false,\"text\":[\"10\",\"20\",\"30\",\"40\",\"50\",\"40\",\"30\",\"20\",\"10\"],\"textfont\":{\"color\":\"#ffffff\",\"family\":\"Courier New, monospace\",\"size\":30},\"x\":[48.5,48.5,48.5,48.5,48.5,48.5,48.5,48.5,48.5],\"y\":[20,30,40,50,60,70,80,90,100],\"type\":\"scatter\"},{\"hoverinfo\":\"none\",\"line\":{\"color\":\"blue\",\"dash\":\"dash\"},\"showlegend\":false,\"x\":[0,53.5],\"y\":[83,83],\"type\":\"scatter\"},{\"fill\":\"toself\",\"fillcolor\":\"#000000\",\"hoverinfo\":\"skip\",\"line\":{\"color\":\"white\",\"width\":3},\"mode\":\"lines\",\"opacity\":1,\"showlegend\":false,\"x\":[0,53.5,53.5,0,0],\"y\":[0,0,10,10,0],\"type\":\"scatter\"},{\"fill\":\"toself\",\"fillcolor\":\"#241773\",\"hoverinfo\":\"skip\",\"line\":{\"color\":\"white\",\"width\":3},\"mode\":\"lines\",\"opacity\":1,\"showlegend\":false,\"x\":[0,53.5,53.5,0,0],\"y\":[110,110,120,120,110],\"type\":\"scatter\"},{\"hoverinfo\":\"text\",\"hovertext\":[\"nflId:33099\\u003cbr\\u003edisplayName:Joe Flacco\\u003cbr\\u003e\",\"nflId:42371\\u003cbr\\u003edisplayName:Laken Tomlinson\\u003cbr\\u003e\",\"nflId:43433\\u003cbr\\u003edisplayName:Connor McGovern\\u003cbr\\u003e\",\"nflId:43586\\u003cbr\\u003edisplayName:George Fant\\u003cbr\\u003e\",\"nflId:44817\\u003cbr\\u003edisplayName:Corey Davis\\u003cbr\\u003e\",\"nflId:46226\\u003cbr\\u003edisplayName:Tyler Conklin\\u003cbr\\u003e\",\"nflId:46279\\u003cbr\\u003edisplayName:Braxton Berrios\\u003cbr\\u003e\",\"nflId:53443\\u003cbr\\u003edisplayName:Alijah Vera-Tucker\\u003cbr\\u003e\",\"nflId:53463\\u003cbr\\u003edisplayName:Elijah Moore\\u003cbr\\u003e\",\"nflId:53536\\u003cbr\\u003edisplayName:Michael Carter\\u003cbr\\u003e\",\"nflId:54576\\u003cbr\\u003edisplayName:Max Mitchell\\u003cbr\\u003e\"],\"marker\":{\"color\":\"#000000\",\"line\":{\"color\":\"#125740\",\"width\":2},\"size\":10},\"mode\":\"markers\",\"name\":\"NYJ\",\"x\":[23.449999999999996,22.949999999999996,23.819999999999997,22.179999999999996,16.919999999999995,20.22,38.18,22.029999999999998,36.48,24.269999999999996,28.33],\"y\":[78.34,83.39,82.81,84.2,82.89,83.57,80.85,81.7,82.5,78.83,81.31],\"type\":\"scatter\"},{\"hoverinfo\":\"text\",\"hovertext\":[\"nflId:33131\\u003cbr\\u003edisplayName:Calais Campbell\\u003cbr\\u003e\",\"nflId:37145\\u003cbr\\u003edisplayName:Justin Houston\\u003cbr\\u003e\",\"nflId:37778\\u003cbr\\u003edisplayName:Josh Bynes\\u003cbr\\u003e\",\"nflId:40095\\u003cbr\\u003edisplayName:Steven Means\\u003cbr\\u003e\",\"nflId:41240\\u003cbr\\u003edisplayName:Kyle Fuller\\u003cbr\\u003e\",\"nflId:43694\\u003cbr\\u003edisplayName:Michael Pierce\\u003cbr\\u003e\",\"nflId:44828\\u003cbr\\u003edisplayName:Marlon Humphrey\\u003cbr\\u003e\",\"nflId:44854\\u003cbr\\u003edisplayName:Marcus Williams\\u003cbr\\u003e\",\"nflId:44999\\u003cbr\\u003edisplayName:Chuck Clark\\u003cbr\\u003e\",\"nflId:52436\\u003cbr\\u003edisplayName:Patrick Queen\\u003cbr\\u003e\",\"nflId:53533\\u003cbr\\u003edisplayName:Brandon Stephens\\u003cbr\\u003e\"],\"marker\":{\"color\":\"#241773\",\"line\":{\"color\":\"#000000\",\"width\":2},\"size\":10},\"mode\":\"markers\",\"name\":\"BAL\",\"x\":[23.099999999999998,19.83,25.249999999999996,29.129999999999995,37.599999999999994,24.259999999999998,14.64,17.869999999999997,27.929999999999996,20.769999999999996,37.089999999999996],\"y\":[83.8,81.66,86.96,81.75,83.16,82.93,91.87,86.65,99.93,85.49,92.04],\"type\":\"scatter\"},{\"hoverinfo\":\"none\",\"marker\":{\"color\":\"#CBB67C\",\"line\":{\"color\":\"#663831\",\"width\":2},\"size\":10},\"mode\":\"markers\",\"name\":\"football\",\"x\":[24.000000762939496],\"y\":[78.879997253418],\"type\":\"scatter\"}],\"name\":\"18\"},{\"data\":[{\"hoverinfo\":\"none\",\"mode\":\"text\",\"showlegend\":false,\"text\":[\"10\",\"20\",\"30\",\"40\",\"50\",\"40\",\"30\",\"20\",\"10\"],\"textfont\":{\"color\":\"#ffffff\",\"family\":\"Courier New, monospace\",\"size\":30},\"x\":[5,5,5,5,5,5,5,5,5],\"y\":[20,30,40,50,60,70,80,90,100],\"type\":\"scatter\"},{\"hoverinfo\":\"none\",\"mode\":\"text\",\"showlegend\":false,\"text\":[\"10\",\"20\",\"30\",\"40\",\"50\",\"40\",\"30\",\"20\",\"10\"],\"textfont\":{\"color\":\"#ffffff\",\"family\":\"Courier New, monospace\",\"size\":30},\"x\":[48.5,48.5,48.5,48.5,48.5,48.5,48.5,48.5,48.5],\"y\":[20,30,40,50,60,70,80,90,100],\"type\":\"scatter\"},{\"hoverinfo\":\"none\",\"line\":{\"color\":\"blue\",\"dash\":\"dash\"},\"showlegend\":false,\"x\":[0,53.5],\"y\":[83,83],\"type\":\"scatter\"},{\"fill\":\"toself\",\"fillcolor\":\"#000000\",\"hoverinfo\":\"skip\",\"line\":{\"color\":\"white\",\"width\":3},\"mode\":\"lines\",\"opacity\":1,\"showlegend\":false,\"x\":[0,53.5,53.5,0,0],\"y\":[0,0,10,10,0],\"type\":\"scatter\"},{\"fill\":\"toself\",\"fillcolor\":\"#241773\",\"hoverinfo\":\"skip\",\"line\":{\"color\":\"white\",\"width\":3},\"mode\":\"lines\",\"opacity\":1,\"showlegend\":false,\"x\":[0,53.5,53.5,0,0],\"y\":[110,110,120,120,110],\"type\":\"scatter\"},{\"hoverinfo\":\"text\",\"hovertext\":[\"nflId:33099\\u003cbr\\u003edisplayName:Joe Flacco\\u003cbr\\u003e\",\"nflId:42371\\u003cbr\\u003edisplayName:Laken Tomlinson\\u003cbr\\u003e\",\"nflId:43433\\u003cbr\\u003edisplayName:Connor McGovern\\u003cbr\\u003e\",\"nflId:43586\\u003cbr\\u003edisplayName:George Fant\\u003cbr\\u003e\",\"nflId:44817\\u003cbr\\u003edisplayName:Corey Davis\\u003cbr\\u003e\",\"nflId:46226\\u003cbr\\u003edisplayName:Tyler Conklin\\u003cbr\\u003e\",\"nflId:46279\\u003cbr\\u003edisplayName:Braxton Berrios\\u003cbr\\u003e\",\"nflId:53443\\u003cbr\\u003edisplayName:Alijah Vera-Tucker\\u003cbr\\u003e\",\"nflId:53463\\u003cbr\\u003edisplayName:Elijah Moore\\u003cbr\\u003e\",\"nflId:53536\\u003cbr\\u003edisplayName:Michael Carter\\u003cbr\\u003e\",\"nflId:54576\\u003cbr\\u003edisplayName:Max Mitchell\\u003cbr\\u003e\"],\"marker\":{\"color\":\"#000000\",\"line\":{\"color\":\"#125740\",\"width\":2},\"size\":10},\"mode\":\"markers\",\"name\":\"NYJ\",\"x\":[23.459999999999997,23.019999999999996,23.81,22.339999999999996,17.159999999999997,20.309999999999995,38.61,21.74,36.9,24.109999999999996,28.439999999999998],\"y\":[78.3,83.4,82.77,84.4,83.14,83.72,80.84,81.68,82.47,79.15,81.12],\"type\":\"scatter\"},{\"hoverinfo\":\"text\",\"hovertext\":[\"nflId:33131\\u003cbr\\u003edisplayName:Calais Campbell\\u003cbr\\u003e\",\"nflId:37145\\u003cbr\\u003edisplayName:Justin Houston\\u003cbr\\u003e\",\"nflId:37778\\u003cbr\\u003edisplayName:Josh Bynes\\u003cbr\\u003e\",\"nflId:40095\\u003cbr\\u003edisplayName:Steven Means\\u003cbr\\u003e\",\"nflId:41240\\u003cbr\\u003edisplayName:Kyle Fuller\\u003cbr\\u003e\",\"nflId:43694\\u003cbr\\u003edisplayName:Michael Pierce\\u003cbr\\u003e\",\"nflId:44828\\u003cbr\\u003edisplayName:Marlon Humphrey\\u003cbr\\u003e\",\"nflId:44854\\u003cbr\\u003edisplayName:Marcus Williams\\u003cbr\\u003e\",\"nflId:44999\\u003cbr\\u003edisplayName:Chuck Clark\\u003cbr\\u003e\",\"nflId:52436\\u003cbr\\u003edisplayName:Patrick Queen\\u003cbr\\u003e\",\"nflId:53533\\u003cbr\\u003edisplayName:Brandon Stephens\\u003cbr\\u003e\"],\"marker\":{\"color\":\"#241773\",\"line\":{\"color\":\"#000000\",\"width\":2},\"size\":10},\"mode\":\"markers\",\"name\":\"BAL\",\"x\":[23.269999999999996,20.099999999999994,25.209999999999997,29.189999999999998,37.94,24.31,14.75,17.919999999999995,27.819999999999997,20.549999999999997,37.3],\"y\":[83.75,81.64,86.85,81.45,83.17,82.75,91.95,86.46,100.16,85.24,92.24],\"type\":\"scatter\"},{\"hoverinfo\":\"none\",\"marker\":{\"color\":\"#CBB67C\",\"line\":{\"color\":\"#663831\",\"width\":2},\"size\":10},\"mode\":\"markers\",\"name\":\"football\",\"x\":[23.949999618530295],\"y\":[79.0899963378906],\"type\":\"scatter\"}],\"name\":\"19\"},{\"data\":[{\"hoverinfo\":\"none\",\"mode\":\"text\",\"showlegend\":false,\"text\":[\"10\",\"20\",\"30\",\"40\",\"50\",\"40\",\"30\",\"20\",\"10\"],\"textfont\":{\"color\":\"#ffffff\",\"family\":\"Courier New, monospace\",\"size\":30},\"x\":[5,5,5,5,5,5,5,5,5],\"y\":[20,30,40,50,60,70,80,90,100],\"type\":\"scatter\"},{\"hoverinfo\":\"none\",\"mode\":\"text\",\"showlegend\":false,\"text\":[\"10\",\"20\",\"30\",\"40\",\"50\",\"40\",\"30\",\"20\",\"10\"],\"textfont\":{\"color\":\"#ffffff\",\"family\":\"Courier New, monospace\",\"size\":30},\"x\":[48.5,48.5,48.5,48.5,48.5,48.5,48.5,48.5,48.5],\"y\":[20,30,40,50,60,70,80,90,100],\"type\":\"scatter\"},{\"hoverinfo\":\"none\",\"line\":{\"color\":\"blue\",\"dash\":\"dash\"},\"showlegend\":false,\"x\":[0,53.5],\"y\":[83,83],\"type\":\"scatter\"},{\"fill\":\"toself\",\"fillcolor\":\"#000000\",\"hoverinfo\":\"skip\",\"line\":{\"color\":\"white\",\"width\":3},\"mode\":\"lines\",\"opacity\":1,\"showlegend\":false,\"x\":[0,53.5,53.5,0,0],\"y\":[0,0,10,10,0],\"type\":\"scatter\"},{\"fill\":\"toself\",\"fillcolor\":\"#241773\",\"hoverinfo\":\"skip\",\"line\":{\"color\":\"white\",\"width\":3},\"mode\":\"lines\",\"opacity\":1,\"showlegend\":false,\"x\":[0,53.5,53.5,0,0],\"y\":[110,110,120,120,110],\"type\":\"scatter\"},{\"hoverinfo\":\"text\",\"hovertext\":[\"nflId:33099\\u003cbr\\u003edisplayName:Joe Flacco\\u003cbr\\u003e\",\"nflId:42371\\u003cbr\\u003edisplayName:Laken Tomlinson\\u003cbr\\u003e\",\"nflId:43433\\u003cbr\\u003edisplayName:Connor McGovern\\u003cbr\\u003e\",\"nflId:43586\\u003cbr\\u003edisplayName:George Fant\\u003cbr\\u003e\",\"nflId:44817\\u003cbr\\u003edisplayName:Corey Davis\\u003cbr\\u003e\",\"nflId:46226\\u003cbr\\u003edisplayName:Tyler Conklin\\u003cbr\\u003e\",\"nflId:46279\\u003cbr\\u003edisplayName:Braxton Berrios\\u003cbr\\u003e\",\"nflId:53443\\u003cbr\\u003edisplayName:Alijah Vera-Tucker\\u003cbr\\u003e\",\"nflId:53463\\u003cbr\\u003edisplayName:Elijah Moore\\u003cbr\\u003e\",\"nflId:53536\\u003cbr\\u003edisplayName:Michael Carter\\u003cbr\\u003e\",\"nflId:54576\\u003cbr\\u003edisplayName:Max Mitchell\\u003cbr\\u003e\"],\"marker\":{\"color\":\"#000000\",\"line\":{\"color\":\"#125740\",\"width\":2},\"size\":10},\"mode\":\"markers\",\"name\":\"NYJ\",\"x\":[23.47,23.089999999999996,23.849999999999998,22.509999999999998,17.39,20.379999999999995,39.05,21.479999999999997,37.31999999999999,23.939999999999998,28.529999999999998],\"y\":[78.25,83.39,82.7,84.62,83.4,83.86,80.81,81.66,82.43,79.5,80.92],\"type\":\"scatter\"},{\"hoverinfo\":\"text\",\"hovertext\":[\"nflId:33131\\u003cbr\\u003edisplayName:Calais Campbell\\u003cbr\\u003e\",\"nflId:37145\\u003cbr\\u003edisplayName:Justin Houston\\u003cbr\\u003e\",\"nflId:37778\\u003cbr\\u003edisplayName:Josh Bynes\\u003cbr\\u003e\",\"nflId:40095\\u003cbr\\u003edisplayName:Steven Means\\u003cbr\\u003e\",\"nflId:41240\\u003cbr\\u003edisplayName:Kyle Fuller\\u003cbr\\u003e\",\"nflId:43694\\u003cbr\\u003edisplayName:Michael Pierce\\u003cbr\\u003e\",\"nflId:44828\\u003cbr\\u003edisplayName:Marlon Humphrey\\u003cbr\\u003e\",\"nflId:44854\\u003cbr\\u003edisplayName:Marcus Williams\\u003cbr\\u003e\",\"nflId:44999\\u003cbr\\u003edisplayName:Chuck Clark\\u003cbr\\u003e\",\"nflId:52436\\u003cbr\\u003edisplayName:Patrick Queen\\u003cbr\\u003e\",\"nflId:53533\\u003cbr\\u003edisplayName:Brandon Stephens\\u003cbr\\u003e\"],\"marker\":{\"color\":\"#241773\",\"line\":{\"color\":\"#000000\",\"width\":2},\"size\":10},\"mode\":\"markers\",\"name\":\"BAL\",\"x\":[23.4,20.39,25.139999999999997,29.24,38.3,24.359999999999996,14.89,17.97,27.729999999999997,20.33,37.489999999999995],\"y\":[83.71,81.6,86.73,81.15,83.2,82.58,91.98,86.26,100.35,85.0,92.43],\"type\":\"scatter\"},{\"hoverinfo\":\"none\",\"marker\":{\"color\":\"#CBB67C\",\"line\":{\"color\":\"#663831\",\"width\":2},\"size\":10},\"mode\":\"markers\",\"name\":\"football\",\"x\":[23.879999923706098],\"y\":[79.370002746582],\"type\":\"scatter\"}],\"name\":\"20\"},{\"data\":[{\"hoverinfo\":\"none\",\"mode\":\"text\",\"showlegend\":false,\"text\":[\"10\",\"20\",\"30\",\"40\",\"50\",\"40\",\"30\",\"20\",\"10\"],\"textfont\":{\"color\":\"#ffffff\",\"family\":\"Courier New, monospace\",\"size\":30},\"x\":[5,5,5,5,5,5,5,5,5],\"y\":[20,30,40,50,60,70,80,90,100],\"type\":\"scatter\"},{\"hoverinfo\":\"none\",\"mode\":\"text\",\"showlegend\":false,\"text\":[\"10\",\"20\",\"30\",\"40\",\"50\",\"40\",\"30\",\"20\",\"10\"],\"textfont\":{\"color\":\"#ffffff\",\"family\":\"Courier New, monospace\",\"size\":30},\"x\":[48.5,48.5,48.5,48.5,48.5,48.5,48.5,48.5,48.5],\"y\":[20,30,40,50,60,70,80,90,100],\"type\":\"scatter\"},{\"hoverinfo\":\"none\",\"line\":{\"color\":\"blue\",\"dash\":\"dash\"},\"showlegend\":false,\"x\":[0,53.5],\"y\":[83,83],\"type\":\"scatter\"},{\"fill\":\"toself\",\"fillcolor\":\"#000000\",\"hoverinfo\":\"skip\",\"line\":{\"color\":\"white\",\"width\":3},\"mode\":\"lines\",\"opacity\":1,\"showlegend\":false,\"x\":[0,53.5,53.5,0,0],\"y\":[0,0,10,10,0],\"type\":\"scatter\"},{\"fill\":\"toself\",\"fillcolor\":\"#241773\",\"hoverinfo\":\"skip\",\"line\":{\"color\":\"white\",\"width\":3},\"mode\":\"lines\",\"opacity\":1,\"showlegend\":false,\"x\":[0,53.5,53.5,0,0],\"y\":[110,110,120,120,110],\"type\":\"scatter\"},{\"hoverinfo\":\"text\",\"hovertext\":[\"nflId:33099\\u003cbr\\u003edisplayName:Joe Flacco\\u003cbr\\u003e\",\"nflId:42371\\u003cbr\\u003edisplayName:Laken Tomlinson\\u003cbr\\u003e\",\"nflId:43433\\u003cbr\\u003edisplayName:Connor McGovern\\u003cbr\\u003e\",\"nflId:43586\\u003cbr\\u003edisplayName:George Fant\\u003cbr\\u003e\",\"nflId:44817\\u003cbr\\u003edisplayName:Corey Davis\\u003cbr\\u003e\",\"nflId:46226\\u003cbr\\u003edisplayName:Tyler Conklin\\u003cbr\\u003e\",\"nflId:46279\\u003cbr\\u003edisplayName:Braxton Berrios\\u003cbr\\u003e\",\"nflId:53443\\u003cbr\\u003edisplayName:Alijah Vera-Tucker\\u003cbr\\u003e\",\"nflId:53463\\u003cbr\\u003edisplayName:Elijah Moore\\u003cbr\\u003e\",\"nflId:53536\\u003cbr\\u003edisplayName:Michael Carter\\u003cbr\\u003e\",\"nflId:54576\\u003cbr\\u003edisplayName:Max Mitchell\\u003cbr\\u003e\"],\"marker\":{\"color\":\"#000000\",\"line\":{\"color\":\"#125740\",\"width\":2},\"size\":10},\"mode\":\"markers\",\"name\":\"NYJ\",\"x\":[23.49,23.099999999999998,23.879999999999995,22.679999999999996,17.599999999999994,20.419999999999995,39.489999999999995,21.279999999999994,37.739999999999995,23.779999999999998,28.609999999999996],\"y\":[78.2,83.39,82.63,84.83,83.66,83.97,80.78,81.65,82.41,79.88,80.71],\"type\":\"scatter\"},{\"hoverinfo\":\"text\",\"hovertext\":[\"nflId:33131\\u003cbr\\u003edisplayName:Calais Campbell\\u003cbr\\u003e\",\"nflId:37145\\u003cbr\\u003edisplayName:Justin Houston\\u003cbr\\u003e\",\"nflId:37778\\u003cbr\\u003edisplayName:Josh Bynes\\u003cbr\\u003e\",\"nflId:40095\\u003cbr\\u003edisplayName:Steven Means\\u003cbr\\u003e\",\"nflId:41240\\u003cbr\\u003edisplayName:Kyle Fuller\\u003cbr\\u003e\",\"nflId:43694\\u003cbr\\u003edisplayName:Michael Pierce\\u003cbr\\u003e\",\"nflId:44828\\u003cbr\\u003edisplayName:Marlon Humphrey\\u003cbr\\u003e\",\"nflId:44854\\u003cbr\\u003edisplayName:Marcus Williams\\u003cbr\\u003e\",\"nflId:44999\\u003cbr\\u003edisplayName:Chuck Clark\\u003cbr\\u003e\",\"nflId:52436\\u003cbr\\u003edisplayName:Patrick Queen\\u003cbr\\u003e\",\"nflId:53533\\u003cbr\\u003edisplayName:Brandon Stephens\\u003cbr\\u003e\"],\"marker\":{\"color\":\"#241773\",\"line\":{\"color\":\"#000000\",\"width\":2},\"size\":10},\"mode\":\"markers\",\"name\":\"BAL\",\"x\":[23.49,20.699999999999996,25.069999999999997,29.299999999999997,38.68,24.409999999999997,15.029999999999994,18.009999999999998,27.659999999999997,20.099999999999994,37.669999999999995],\"y\":[83.66,81.53,86.61,80.85,83.25,82.41,91.98,86.08,100.5,84.77,92.61],\"type\":\"scatter\"},{\"hoverinfo\":\"none\",\"marker\":{\"color\":\"#CBB67C\",\"line\":{\"color\":\"#663831\",\"width\":2},\"size\":10},\"mode\":\"markers\",\"name\":\"football\",\"x\":[23.789999771118197],\"y\":[79.7200012207031],\"type\":\"scatter\"}],\"name\":\"21\"},{\"data\":[{\"hoverinfo\":\"none\",\"mode\":\"text\",\"showlegend\":false,\"text\":[\"10\",\"20\",\"30\",\"40\",\"50\",\"40\",\"30\",\"20\",\"10\"],\"textfont\":{\"color\":\"#ffffff\",\"family\":\"Courier New, monospace\",\"size\":30},\"x\":[5,5,5,5,5,5,5,5,5],\"y\":[20,30,40,50,60,70,80,90,100],\"type\":\"scatter\"},{\"hoverinfo\":\"none\",\"mode\":\"text\",\"showlegend\":false,\"text\":[\"10\",\"20\",\"30\",\"40\",\"50\",\"40\",\"30\",\"20\",\"10\"],\"textfont\":{\"color\":\"#ffffff\",\"family\":\"Courier New, monospace\",\"size\":30},\"x\":[48.5,48.5,48.5,48.5,48.5,48.5,48.5,48.5,48.5],\"y\":[20,30,40,50,60,70,80,90,100],\"type\":\"scatter\"},{\"hoverinfo\":\"none\",\"line\":{\"color\":\"blue\",\"dash\":\"dash\"},\"showlegend\":false,\"x\":[0,53.5],\"y\":[83,83],\"type\":\"scatter\"},{\"fill\":\"toself\",\"fillcolor\":\"#000000\",\"hoverinfo\":\"skip\",\"line\":{\"color\":\"white\",\"width\":3},\"mode\":\"lines\",\"opacity\":1,\"showlegend\":false,\"x\":[0,53.5,53.5,0,0],\"y\":[0,0,10,10,0],\"type\":\"scatter\"},{\"fill\":\"toself\",\"fillcolor\":\"#241773\",\"hoverinfo\":\"skip\",\"line\":{\"color\":\"white\",\"width\":3},\"mode\":\"lines\",\"opacity\":1,\"showlegend\":false,\"x\":[0,53.5,53.5,0,0],\"y\":[110,110,120,120,110],\"type\":\"scatter\"},{\"hoverinfo\":\"text\",\"hovertext\":[\"nflId:33099\\u003cbr\\u003edisplayName:Joe Flacco\\u003cbr\\u003e\",\"nflId:42371\\u003cbr\\u003edisplayName:Laken Tomlinson\\u003cbr\\u003e\",\"nflId:43433\\u003cbr\\u003edisplayName:Connor McGovern\\u003cbr\\u003e\",\"nflId:43586\\u003cbr\\u003edisplayName:George Fant\\u003cbr\\u003e\",\"nflId:44817\\u003cbr\\u003edisplayName:Corey Davis\\u003cbr\\u003e\",\"nflId:46226\\u003cbr\\u003edisplayName:Tyler Conklin\\u003cbr\\u003e\",\"nflId:46279\\u003cbr\\u003edisplayName:Braxton Berrios\\u003cbr\\u003e\",\"nflId:53443\\u003cbr\\u003edisplayName:Alijah Vera-Tucker\\u003cbr\\u003e\",\"nflId:53463\\u003cbr\\u003edisplayName:Elijah Moore\\u003cbr\\u003e\",\"nflId:53536\\u003cbr\\u003edisplayName:Michael Carter\\u003cbr\\u003e\",\"nflId:54576\\u003cbr\\u003edisplayName:Max Mitchell\\u003cbr\\u003e\"],\"marker\":{\"color\":\"#000000\",\"line\":{\"color\":\"#125740\",\"width\":2},\"size\":10},\"mode\":\"markers\",\"name\":\"NYJ\",\"x\":[23.519999999999996,23.099999999999998,23.929999999999996,22.849999999999998,17.769999999999996,20.43,39.93,21.15,38.16,23.629999999999995,28.689999999999998],\"y\":[78.16,83.36,82.56,85.03,83.89,84.04,80.75,81.64,82.4,80.26,80.49],\"type\":\"scatter\"},{\"hoverinfo\":\"text\",\"hovertext\":[\"nflId:33131\\u003cbr\\u003edisplayName:Calais Campbell\\u003cbr\\u003e\",\"nflId:37145\\u003cbr\\u003edisplayName:Justin Houston\\u003cbr\\u003e\",\"nflId:37778\\u003cbr\\u003edisplayName:Josh Bynes\\u003cbr\\u003e\",\"nflId:40095\\u003cbr\\u003edisplayName:Steven Means\\u003cbr\\u003e\",\"nflId:41240\\u003cbr\\u003edisplayName:Kyle Fuller\\u003cbr\\u003e\",\"nflId:43694\\u003cbr\\u003edisplayName:Michael Pierce\\u003cbr\\u003e\",\"nflId:44828\\u003cbr\\u003edisplayName:Marlon Humphrey\\u003cbr\\u003e\",\"nflId:44854\\u003cbr\\u003edisplayName:Marcus Williams\\u003cbr\\u003e\",\"nflId:44999\\u003cbr\\u003edisplayName:Chuck Clark\\u003cbr\\u003e\",\"nflId:52436\\u003cbr\\u003edisplayName:Patrick Queen\\u003cbr\\u003e\",\"nflId:53533\\u003cbr\\u003edisplayName:Brandon Stephens\\u003cbr\\u003e\"],\"marker\":{\"color\":\"#241773\",\"line\":{\"color\":\"#000000\",\"width\":2},\"size\":10},\"mode\":\"markers\",\"name\":\"BAL\",\"x\":[23.539999999999996,21.009999999999998,24.999999999999996,29.359999999999996,39.059999999999995,24.449999999999996,15.18,18.059999999999995,27.589999999999996,19.9,37.8],\"y\":[83.6,81.49,86.48,80.6,83.33,82.25,91.94,85.91,100.59,84.59,92.78],\"type\":\"scatter\"},{\"hoverinfo\":\"none\",\"marker\":{\"color\":\"#CBB67C\",\"line\":{\"color\":\"#663831\",\"width\":2},\"size\":10},\"mode\":\"markers\",\"name\":\"football\",\"x\":[23.6799991607666],\"y\":[80.0999984741211],\"type\":\"scatter\"}],\"name\":\"22\"},{\"data\":[{\"hoverinfo\":\"none\",\"mode\":\"text\",\"showlegend\":false,\"text\":[\"10\",\"20\",\"30\",\"40\",\"50\",\"40\",\"30\",\"20\",\"10\"],\"textfont\":{\"color\":\"#ffffff\",\"family\":\"Courier New, monospace\",\"size\":30},\"x\":[5,5,5,5,5,5,5,5,5],\"y\":[20,30,40,50,60,70,80,90,100],\"type\":\"scatter\"},{\"hoverinfo\":\"none\",\"mode\":\"text\",\"showlegend\":false,\"text\":[\"10\",\"20\",\"30\",\"40\",\"50\",\"40\",\"30\",\"20\",\"10\"],\"textfont\":{\"color\":\"#ffffff\",\"family\":\"Courier New, monospace\",\"size\":30},\"x\":[48.5,48.5,48.5,48.5,48.5,48.5,48.5,48.5,48.5],\"y\":[20,30,40,50,60,70,80,90,100],\"type\":\"scatter\"},{\"hoverinfo\":\"none\",\"line\":{\"color\":\"blue\",\"dash\":\"dash\"},\"showlegend\":false,\"x\":[0,53.5],\"y\":[83,83],\"type\":\"scatter\"},{\"fill\":\"toself\",\"fillcolor\":\"#000000\",\"hoverinfo\":\"skip\",\"line\":{\"color\":\"white\",\"width\":3},\"mode\":\"lines\",\"opacity\":1,\"showlegend\":false,\"x\":[0,53.5,53.5,0,0],\"y\":[0,0,10,10,0],\"type\":\"scatter\"},{\"fill\":\"toself\",\"fillcolor\":\"#241773\",\"hoverinfo\":\"skip\",\"line\":{\"color\":\"white\",\"width\":3},\"mode\":\"lines\",\"opacity\":1,\"showlegend\":false,\"x\":[0,53.5,53.5,0,0],\"y\":[110,110,120,120,110],\"type\":\"scatter\"},{\"hoverinfo\":\"text\",\"hovertext\":[\"nflId:33099\\u003cbr\\u003edisplayName:Joe Flacco\\u003cbr\\u003e\",\"nflId:42371\\u003cbr\\u003edisplayName:Laken Tomlinson\\u003cbr\\u003e\",\"nflId:43433\\u003cbr\\u003edisplayName:Connor McGovern\\u003cbr\\u003e\",\"nflId:43586\\u003cbr\\u003edisplayName:George Fant\\u003cbr\\u003e\",\"nflId:44817\\u003cbr\\u003edisplayName:Corey Davis\\u003cbr\\u003e\",\"nflId:46226\\u003cbr\\u003edisplayName:Tyler Conklin\\u003cbr\\u003e\",\"nflId:46279\\u003cbr\\u003edisplayName:Braxton Berrios\\u003cbr\\u003e\",\"nflId:53443\\u003cbr\\u003edisplayName:Alijah Vera-Tucker\\u003cbr\\u003e\",\"nflId:53463\\u003cbr\\u003edisplayName:Elijah Moore\\u003cbr\\u003e\",\"nflId:53536\\u003cbr\\u003edisplayName:Michael Carter\\u003cbr\\u003e\",\"nflId:54576\\u003cbr\\u003edisplayName:Max Mitchell\\u003cbr\\u003e\"],\"marker\":{\"color\":\"#000000\",\"line\":{\"color\":\"#125740\",\"width\":2},\"size\":10},\"mode\":\"markers\",\"name\":\"NYJ\",\"x\":[23.56,23.099999999999998,24.029999999999998,23.029999999999998,17.919999999999995,20.409999999999997,40.37,21.04,38.559999999999995,23.47,28.749999999999996],\"y\":[78.11,83.31,82.5,85.22,84.1,84.07,80.71,81.64,82.41,80.65,80.29],\"type\":\"scatter\"},{\"hoverinfo\":\"text\",\"hovertext\":[\"nflId:33131\\u003cbr\\u003edisplayName:Calais Campbell\\u003cbr\\u003e\",\"nflId:37145\\u003cbr\\u003edisplayName:Justin Houston\\u003cbr\\u003e\",\"nflId:37778\\u003cbr\\u003edisplayName:Josh Bynes\\u003cbr\\u003e\",\"nflId:40095\\u003cbr\\u003edisplayName:Steven Means\\u003cbr\\u003e\",\"nflId:41240\\u003cbr\\u003edisplayName:Kyle Fuller\\u003cbr\\u003e\",\"nflId:43694\\u003cbr\\u003edisplayName:Michael Pierce\\u003cbr\\u003e\",\"nflId:44828\\u003cbr\\u003edisplayName:Marlon Humphrey\\u003cbr\\u003e\",\"nflId:44854\\u003cbr\\u003edisplayName:Marcus Williams\\u003cbr\\u003e\",\"nflId:44999\\u003cbr\\u003edisplayName:Chuck Clark\\u003cbr\\u003e\",\"nflId:52436\\u003cbr\\u003edisplayName:Patrick Queen\\u003cbr\\u003e\",\"nflId:53533\\u003cbr\\u003edisplayName:Brandon Stephens\\u003cbr\\u003e\"],\"marker\":{\"color\":\"#241773\",\"line\":{\"color\":\"#000000\",\"width\":2},\"size\":10},\"mode\":\"markers\",\"name\":\"BAL\",\"x\":[23.569999999999997,21.299999999999997,24.929999999999996,29.409999999999997,39.44,24.479999999999997,15.349999999999994,18.099999999999994,27.519999999999996,19.699999999999996,37.9],\"y\":[83.55,81.47,86.34,80.39,83.42,82.1,91.87,85.75,100.56,84.42,92.94],\"type\":\"scatter\"},{\"hoverinfo\":\"none\",\"marker\":{\"color\":\"#CBB67C\",\"line\":{\"color\":\"#663831\",\"width\":2},\"size\":10},\"mode\":\"markers\",\"name\":\"football\",\"x\":[23.549999999999997],\"y\":[80.5],\"type\":\"scatter\"}],\"name\":\"23\"},{\"data\":[{\"hoverinfo\":\"none\",\"mode\":\"text\",\"showlegend\":false,\"text\":[\"10\",\"20\",\"30\",\"40\",\"50\",\"40\",\"30\",\"20\",\"10\"],\"textfont\":{\"color\":\"#ffffff\",\"family\":\"Courier New, monospace\",\"size\":30},\"x\":[5,5,5,5,5,5,5,5,5],\"y\":[20,30,40,50,60,70,80,90,100],\"type\":\"scatter\"},{\"hoverinfo\":\"none\",\"mode\":\"text\",\"showlegend\":false,\"text\":[\"10\",\"20\",\"30\",\"40\",\"50\",\"40\",\"30\",\"20\",\"10\"],\"textfont\":{\"color\":\"#ffffff\",\"family\":\"Courier New, monospace\",\"size\":30},\"x\":[48.5,48.5,48.5,48.5,48.5,48.5,48.5,48.5,48.5],\"y\":[20,30,40,50,60,70,80,90,100],\"type\":\"scatter\"},{\"hoverinfo\":\"none\",\"line\":{\"color\":\"blue\",\"dash\":\"dash\"},\"showlegend\":false,\"x\":[0,53.5],\"y\":[83,83],\"type\":\"scatter\"},{\"fill\":\"toself\",\"fillcolor\":\"#000000\",\"hoverinfo\":\"skip\",\"line\":{\"color\":\"white\",\"width\":3},\"mode\":\"lines\",\"opacity\":1,\"showlegend\":false,\"x\":[0,53.5,53.5,0,0],\"y\":[0,0,10,10,0],\"type\":\"scatter\"},{\"fill\":\"toself\",\"fillcolor\":\"#241773\",\"hoverinfo\":\"skip\",\"line\":{\"color\":\"white\",\"width\":3},\"mode\":\"lines\",\"opacity\":1,\"showlegend\":false,\"x\":[0,53.5,53.5,0,0],\"y\":[110,110,120,120,110],\"type\":\"scatter\"},{\"hoverinfo\":\"text\",\"hovertext\":[\"nflId:33099\\u003cbr\\u003edisplayName:Joe Flacco\\u003cbr\\u003e\",\"nflId:42371\\u003cbr\\u003edisplayName:Laken Tomlinson\\u003cbr\\u003e\",\"nflId:43433\\u003cbr\\u003edisplayName:Connor McGovern\\u003cbr\\u003e\",\"nflId:43586\\u003cbr\\u003edisplayName:George Fant\\u003cbr\\u003e\",\"nflId:44817\\u003cbr\\u003edisplayName:Corey Davis\\u003cbr\\u003e\",\"nflId:46226\\u003cbr\\u003edisplayName:Tyler Conklin\\u003cbr\\u003e\",\"nflId:46279\\u003cbr\\u003edisplayName:Braxton Berrios\\u003cbr\\u003e\",\"nflId:53443\\u003cbr\\u003edisplayName:Alijah Vera-Tucker\\u003cbr\\u003e\",\"nflId:53463\\u003cbr\\u003edisplayName:Elijah Moore\\u003cbr\\u003e\",\"nflId:53536\\u003cbr\\u003edisplayName:Michael Carter\\u003cbr\\u003e\",\"nflId:54576\\u003cbr\\u003edisplayName:Max Mitchell\\u003cbr\\u003e\"],\"marker\":{\"color\":\"#000000\",\"line\":{\"color\":\"#125740\",\"width\":2},\"size\":10},\"mode\":\"markers\",\"name\":\"NYJ\",\"x\":[23.599999999999998,23.099999999999998,24.15,23.209999999999997,18.049999999999997,20.379999999999995,40.79,20.979999999999997,38.97,23.319999999999997,28.799999999999997],\"y\":[78.06,83.26,82.42,85.39,84.29,84.06,80.68,81.66,82.45,81.03,80.1],\"type\":\"scatter\"},{\"hoverinfo\":\"text\",\"hovertext\":[\"nflId:33131\\u003cbr\\u003edisplayName:Calais Campbell\\u003cbr\\u003e\",\"nflId:37145\\u003cbr\\u003edisplayName:Justin Houston\\u003cbr\\u003e\",\"nflId:37778\\u003cbr\\u003edisplayName:Josh Bynes\\u003cbr\\u003e\",\"nflId:40095\\u003cbr\\u003edisplayName:Steven Means\\u003cbr\\u003e\",\"nflId:41240\\u003cbr\\u003edisplayName:Kyle Fuller\\u003cbr\\u003e\",\"nflId:43694\\u003cbr\\u003edisplayName:Michael Pierce\\u003cbr\\u003e\",\"nflId:44828\\u003cbr\\u003edisplayName:Marlon Humphrey\\u003cbr\\u003e\",\"nflId:44854\\u003cbr\\u003edisplayName:Marcus Williams\\u003cbr\\u003e\",\"nflId:44999\\u003cbr\\u003edisplayName:Chuck Clark\\u003cbr\\u003e\",\"nflId:52436\\u003cbr\\u003edisplayName:Patrick Queen\\u003cbr\\u003e\",\"nflId:53533\\u003cbr\\u003edisplayName:Brandon Stephens\\u003cbr\\u003e\"],\"marker\":{\"color\":\"#241773\",\"line\":{\"color\":\"#000000\",\"width\":2},\"size\":10},\"mode\":\"markers\",\"name\":\"BAL\",\"x\":[23.529999999999998,21.58,24.869999999999997,29.449999999999996,39.809999999999995,24.499999999999996,15.549999999999997,18.15,27.439999999999998,19.529999999999994,37.919999999999995],\"y\":[83.5,81.47,86.23,80.23,83.54,81.97,91.76,85.62,100.48,84.3,93.05],\"type\":\"scatter\"},{\"hoverinfo\":\"none\",\"marker\":{\"color\":\"#CBB67C\",\"line\":{\"color\":\"#663831\",\"width\":2},\"size\":10},\"mode\":\"markers\",\"name\":\"football\",\"x\":[23.4000003814697],\"y\":[80.9100036621094],\"type\":\"scatter\"}],\"name\":\"24\"},{\"data\":[{\"hoverinfo\":\"none\",\"mode\":\"text\",\"showlegend\":false,\"text\":[\"10\",\"20\",\"30\",\"40\",\"50\",\"40\",\"30\",\"20\",\"10\"],\"textfont\":{\"color\":\"#ffffff\",\"family\":\"Courier New, monospace\",\"size\":30},\"x\":[5,5,5,5,5,5,5,5,5],\"y\":[20,30,40,50,60,70,80,90,100],\"type\":\"scatter\"},{\"hoverinfo\":\"none\",\"mode\":\"text\",\"showlegend\":false,\"text\":[\"10\",\"20\",\"30\",\"40\",\"50\",\"40\",\"30\",\"20\",\"10\"],\"textfont\":{\"color\":\"#ffffff\",\"family\":\"Courier New, monospace\",\"size\":30},\"x\":[48.5,48.5,48.5,48.5,48.5,48.5,48.5,48.5,48.5],\"y\":[20,30,40,50,60,70,80,90,100],\"type\":\"scatter\"},{\"hoverinfo\":\"none\",\"line\":{\"color\":\"blue\",\"dash\":\"dash\"},\"showlegend\":false,\"x\":[0,53.5],\"y\":[83,83],\"type\":\"scatter\"},{\"fill\":\"toself\",\"fillcolor\":\"#000000\",\"hoverinfo\":\"skip\",\"line\":{\"color\":\"white\",\"width\":3},\"mode\":\"lines\",\"opacity\":1,\"showlegend\":false,\"x\":[0,53.5,53.5,0,0],\"y\":[0,0,10,10,0],\"type\":\"scatter\"},{\"fill\":\"toself\",\"fillcolor\":\"#241773\",\"hoverinfo\":\"skip\",\"line\":{\"color\":\"white\",\"width\":3},\"mode\":\"lines\",\"opacity\":1,\"showlegend\":false,\"x\":[0,53.5,53.5,0,0],\"y\":[110,110,120,120,110],\"type\":\"scatter\"},{\"hoverinfo\":\"text\",\"hovertext\":[\"nflId:33099\\u003cbr\\u003edisplayName:Joe Flacco\\u003cbr\\u003e\",\"nflId:42371\\u003cbr\\u003edisplayName:Laken Tomlinson\\u003cbr\\u003e\",\"nflId:43433\\u003cbr\\u003edisplayName:Connor McGovern\\u003cbr\\u003e\",\"nflId:43586\\u003cbr\\u003edisplayName:George Fant\\u003cbr\\u003e\",\"nflId:44817\\u003cbr\\u003edisplayName:Corey Davis\\u003cbr\\u003e\",\"nflId:46226\\u003cbr\\u003edisplayName:Tyler Conklin\\u003cbr\\u003e\",\"nflId:46279\\u003cbr\\u003edisplayName:Braxton Berrios\\u003cbr\\u003e\",\"nflId:53443\\u003cbr\\u003edisplayName:Alijah Vera-Tucker\\u003cbr\\u003e\",\"nflId:53463\\u003cbr\\u003edisplayName:Elijah Moore\\u003cbr\\u003e\",\"nflId:53536\\u003cbr\\u003edisplayName:Michael Carter\\u003cbr\\u003e\",\"nflId:54576\\u003cbr\\u003edisplayName:Max Mitchell\\u003cbr\\u003e\"],\"marker\":{\"color\":\"#000000\",\"line\":{\"color\":\"#125740\",\"width\":2},\"size\":10},\"mode\":\"markers\",\"name\":\"NYJ\",\"x\":[23.639999999999997,23.06,24.269999999999996,23.379999999999995,18.15,20.339999999999996,41.199999999999996,20.959999999999994,39.349999999999994,23.169999999999998,28.839999999999996],\"y\":[78.0,83.23,82.35,85.52,84.46,84.04,80.64,81.68,82.51,81.4,79.96],\"type\":\"scatter\"},{\"hoverinfo\":\"text\",\"hovertext\":[\"nflId:33131\\u003cbr\\u003edisplayName:Calais Campbell\\u003cbr\\u003e\",\"nflId:37145\\u003cbr\\u003edisplayName:Justin Houston\\u003cbr\\u003e\",\"nflId:37778\\u003cbr\\u003edisplayName:Josh Bynes\\u003cbr\\u003e\",\"nflId:40095\\u003cbr\\u003edisplayName:Steven Means\\u003cbr\\u003e\",\"nflId:41240\\u003cbr\\u003edisplayName:Kyle Fuller\\u003cbr\\u003e\",\"nflId:43694\\u003cbr\\u003edisplayName:Michael Pierce\\u003cbr\\u003e\",\"nflId:44828\\u003cbr\\u003edisplayName:Marlon Humphrey\\u003cbr\\u003e\",\"nflId:44854\\u003cbr\\u003edisplayName:Marcus Williams\\u003cbr\\u003e\",\"nflId:44999\\u003cbr\\u003edisplayName:Chuck Clark\\u003cbr\\u003e\",\"nflId:52436\\u003cbr\\u003edisplayName:Patrick Queen\\u003cbr\\u003e\",\"nflId:53533\\u003cbr\\u003edisplayName:Brandon Stephens\\u003cbr\\u003e\"],\"marker\":{\"color\":\"#241773\",\"line\":{\"color\":\"#000000\",\"width\":2},\"size\":10},\"mode\":\"markers\",\"name\":\"BAL\",\"x\":[23.479999999999997,21.849999999999998,24.819999999999997,29.479999999999997,40.16,24.509999999999998,15.769999999999996,18.199999999999996,27.369999999999997,19.369999999999997,37.87],\"y\":[83.46,81.53,86.14,80.12,83.68,81.86,91.63,85.52,100.34,84.21,93.12],\"type\":\"scatter\"},{\"hoverinfo\":\"none\",\"marker\":{\"color\":\"#CBB67C\",\"line\":{\"color\":\"#663831\",\"width\":2},\"size\":10},\"mode\":\"markers\",\"name\":\"football\",\"x\":[23.230000305175796],\"y\":[81.3099975585938],\"type\":\"scatter\"}],\"name\":\"25\"},{\"data\":[{\"hoverinfo\":\"none\",\"mode\":\"text\",\"showlegend\":false,\"text\":[\"10\",\"20\",\"30\",\"40\",\"50\",\"40\",\"30\",\"20\",\"10\"],\"textfont\":{\"color\":\"#ffffff\",\"family\":\"Courier New, monospace\",\"size\":30},\"x\":[5,5,5,5,5,5,5,5,5],\"y\":[20,30,40,50,60,70,80,90,100],\"type\":\"scatter\"},{\"hoverinfo\":\"none\",\"mode\":\"text\",\"showlegend\":false,\"text\":[\"10\",\"20\",\"30\",\"40\",\"50\",\"40\",\"30\",\"20\",\"10\"],\"textfont\":{\"color\":\"#ffffff\",\"family\":\"Courier New, monospace\",\"size\":30},\"x\":[48.5,48.5,48.5,48.5,48.5,48.5,48.5,48.5,48.5],\"y\":[20,30,40,50,60,70,80,90,100],\"type\":\"scatter\"},{\"hoverinfo\":\"none\",\"line\":{\"color\":\"blue\",\"dash\":\"dash\"},\"showlegend\":false,\"x\":[0,53.5],\"y\":[83,83],\"type\":\"scatter\"},{\"fill\":\"toself\",\"fillcolor\":\"#000000\",\"hoverinfo\":\"skip\",\"line\":{\"color\":\"white\",\"width\":3},\"mode\":\"lines\",\"opacity\":1,\"showlegend\":false,\"x\":[0,53.5,53.5,0,0],\"y\":[0,0,10,10,0],\"type\":\"scatter\"},{\"fill\":\"toself\",\"fillcolor\":\"#241773\",\"hoverinfo\":\"skip\",\"line\":{\"color\":\"white\",\"width\":3},\"mode\":\"lines\",\"opacity\":1,\"showlegend\":false,\"x\":[0,53.5,53.5,0,0],\"y\":[110,110,120,120,110],\"type\":\"scatter\"},{\"hoverinfo\":\"text\",\"hovertext\":[\"nflId:33099\\u003cbr\\u003edisplayName:Joe Flacco\\u003cbr\\u003e\",\"nflId:42371\\u003cbr\\u003edisplayName:Laken Tomlinson\\u003cbr\\u003e\",\"nflId:43433\\u003cbr\\u003edisplayName:Connor McGovern\\u003cbr\\u003e\",\"nflId:43586\\u003cbr\\u003edisplayName:George Fant\\u003cbr\\u003e\",\"nflId:44817\\u003cbr\\u003edisplayName:Corey Davis\\u003cbr\\u003e\",\"nflId:46226\\u003cbr\\u003edisplayName:Tyler Conklin\\u003cbr\\u003e\",\"nflId:46279\\u003cbr\\u003edisplayName:Braxton Berrios\\u003cbr\\u003e\",\"nflId:53443\\u003cbr\\u003edisplayName:Alijah Vera-Tucker\\u003cbr\\u003e\",\"nflId:53463\\u003cbr\\u003edisplayName:Elijah Moore\\u003cbr\\u003e\",\"nflId:53536\\u003cbr\\u003edisplayName:Michael Carter\\u003cbr\\u003e\",\"nflId:54576\\u003cbr\\u003edisplayName:Max Mitchell\\u003cbr\\u003e\"],\"marker\":{\"color\":\"#000000\",\"line\":{\"color\":\"#125740\",\"width\":2},\"size\":10},\"mode\":\"markers\",\"name\":\"NYJ\",\"x\":[23.669999999999998,23.019999999999996,24.4,23.56,18.22,20.29,41.599999999999994,20.97,39.709999999999994,23.009999999999998,28.869999999999997],\"y\":[77.95,83.2,82.29,85.64,84.61,84.02,80.6,81.7,82.58,81.75,79.86],\"type\":\"scatter\"},{\"hoverinfo\":\"text\",\"hovertext\":[\"nflId:33131\\u003cbr\\u003edisplayName:Calais Campbell\\u003cbr\\u003e\",\"nflId:37145\\u003cbr\\u003edisplayName:Justin Houston\\u003cbr\\u003e\",\"nflId:37778\\u003cbr\\u003edisplayName:Josh Bynes\\u003cbr\\u003e\",\"nflId:40095\\u003cbr\\u003edisplayName:Steven Means\\u003cbr\\u003e\",\"nflId:41240\\u003cbr\\u003edisplayName:Kyle Fuller\\u003cbr\\u003e\",\"nflId:43694\\u003cbr\\u003edisplayName:Michael Pierce\\u003cbr\\u003e\",\"nflId:44828\\u003cbr\\u003edisplayName:Marlon Humphrey\\u003cbr\\u003e\",\"nflId:44854\\u003cbr\\u003edisplayName:Marcus Williams\\u003cbr\\u003e\",\"nflId:44999\\u003cbr\\u003edisplayName:Chuck Clark\\u003cbr\\u003e\",\"nflId:52436\\u003cbr\\u003edisplayName:Patrick Queen\\u003cbr\\u003e\",\"nflId:53533\\u003cbr\\u003edisplayName:Brandon Stephens\\u003cbr\\u003e\"],\"marker\":{\"color\":\"#241773\",\"line\":{\"color\":\"#000000\",\"width\":2},\"size\":10},\"mode\":\"markers\",\"name\":\"BAL\",\"x\":[23.389999999999997,22.099999999999998,24.789999999999996,29.499999999999996,40.48,24.439999999999998,16.009999999999998,18.259999999999998,27.289999999999996,19.239999999999995,37.78],\"y\":[83.44,81.62,86.07,80.06,83.85,81.82,91.46,85.45,100.15,84.16,93.15],\"type\":\"scatter\"},{\"hoverinfo\":\"none\",\"marker\":{\"color\":\"#CBB67C\",\"line\":{\"color\":\"#663831\",\"width\":2},\"size\":10},\"mode\":\"markers\",\"name\":\"football\",\"x\":[23.060000228881798],\"y\":[81.6999969482422],\"type\":\"scatter\"}],\"name\":\"26\"},{\"data\":[{\"hoverinfo\":\"none\",\"mode\":\"text\",\"showlegend\":false,\"text\":[\"10\",\"20\",\"30\",\"40\",\"50\",\"40\",\"30\",\"20\",\"10\"],\"textfont\":{\"color\":\"#ffffff\",\"family\":\"Courier New, monospace\",\"size\":30},\"x\":[5,5,5,5,5,5,5,5,5],\"y\":[20,30,40,50,60,70,80,90,100],\"type\":\"scatter\"},{\"hoverinfo\":\"none\",\"mode\":\"text\",\"showlegend\":false,\"text\":[\"10\",\"20\",\"30\",\"40\",\"50\",\"40\",\"30\",\"20\",\"10\"],\"textfont\":{\"color\":\"#ffffff\",\"family\":\"Courier New, monospace\",\"size\":30},\"x\":[48.5,48.5,48.5,48.5,48.5,48.5,48.5,48.5,48.5],\"y\":[20,30,40,50,60,70,80,90,100],\"type\":\"scatter\"},{\"hoverinfo\":\"none\",\"line\":{\"color\":\"blue\",\"dash\":\"dash\"},\"showlegend\":false,\"x\":[0,53.5],\"y\":[83,83],\"type\":\"scatter\"},{\"fill\":\"toself\",\"fillcolor\":\"#000000\",\"hoverinfo\":\"skip\",\"line\":{\"color\":\"white\",\"width\":3},\"mode\":\"lines\",\"opacity\":1,\"showlegend\":false,\"x\":[0,53.5,53.5,0,0],\"y\":[0,0,10,10,0],\"type\":\"scatter\"},{\"fill\":\"toself\",\"fillcolor\":\"#241773\",\"hoverinfo\":\"skip\",\"line\":{\"color\":\"white\",\"width\":3},\"mode\":\"lines\",\"opacity\":1,\"showlegend\":false,\"x\":[0,53.5,53.5,0,0],\"y\":[110,110,120,120,110],\"type\":\"scatter\"},{\"hoverinfo\":\"text\",\"hovertext\":[\"nflId:33099\\u003cbr\\u003edisplayName:Joe Flacco\\u003cbr\\u003e\",\"nflId:42371\\u003cbr\\u003edisplayName:Laken Tomlinson\\u003cbr\\u003e\",\"nflId:43433\\u003cbr\\u003edisplayName:Connor McGovern\\u003cbr\\u003e\",\"nflId:43586\\u003cbr\\u003edisplayName:George Fant\\u003cbr\\u003e\",\"nflId:44817\\u003cbr\\u003edisplayName:Corey Davis\\u003cbr\\u003e\",\"nflId:46226\\u003cbr\\u003edisplayName:Tyler Conklin\\u003cbr\\u003e\",\"nflId:46279\\u003cbr\\u003edisplayName:Braxton Berrios\\u003cbr\\u003e\",\"nflId:53443\\u003cbr\\u003edisplayName:Alijah Vera-Tucker\\u003cbr\\u003e\",\"nflId:53463\\u003cbr\\u003edisplayName:Elijah Moore\\u003cbr\\u003e\",\"nflId:53536\\u003cbr\\u003edisplayName:Michael Carter\\u003cbr\\u003e\",\"nflId:54576\\u003cbr\\u003edisplayName:Max Mitchell\\u003cbr\\u003e\"],\"marker\":{\"color\":\"#000000\",\"line\":{\"color\":\"#125740\",\"width\":2},\"size\":10},\"mode\":\"markers\",\"name\":\"NYJ\",\"x\":[23.699999999999996,22.97,24.529999999999998,23.729999999999997,18.269999999999996,20.239999999999995,41.98,21.009999999999998,40.05,22.869999999999997,28.889999999999997],\"y\":[77.89,83.18,82.22,85.76,84.72,83.98,80.56,81.74,82.67,82.08,79.8],\"type\":\"scatter\"},{\"hoverinfo\":\"text\",\"hovertext\":[\"nflId:33131\\u003cbr\\u003edisplayName:Calais Campbell\\u003cbr\\u003e\",\"nflId:37145\\u003cbr\\u003edisplayName:Justin Houston\\u003cbr\\u003e\",\"nflId:37778\\u003cbr\\u003edisplayName:Josh Bynes\\u003cbr\\u003e\",\"nflId:40095\\u003cbr\\u003edisplayName:Steven Means\\u003cbr\\u003e\",\"nflId:41240\\u003cbr\\u003edisplayName:Kyle Fuller\\u003cbr\\u003e\",\"nflId:43694\\u003cbr\\u003edisplayName:Michael Pierce\\u003cbr\\u003e\",\"nflId:44828\\u003cbr\\u003edisplayName:Marlon Humphrey\\u003cbr\\u003e\",\"nflId:44854\\u003cbr\\u003edisplayName:Marcus Williams\\u003cbr\\u003e\",\"nflId:44999\\u003cbr\\u003edisplayName:Chuck Clark\\u003cbr\\u003e\",\"nflId:52436\\u003cbr\\u003edisplayName:Patrick Queen\\u003cbr\\u003e\",\"nflId:53533\\u003cbr\\u003edisplayName:Brandon Stephens\\u003cbr\\u003e\"],\"marker\":{\"color\":\"#241773\",\"line\":{\"color\":\"#000000\",\"width\":2},\"size\":10},\"mode\":\"markers\",\"name\":\"BAL\",\"x\":[23.279999999999998,22.299999999999997,24.779999999999998,29.499999999999996,40.739999999999995,24.349999999999998,16.269999999999996,18.349999999999994,27.199999999999996,19.14,37.629999999999995],\"y\":[83.45,81.73,86.04,80.07,84.06,81.79,91.27,85.43,99.9,84.16,93.16],\"type\":\"scatter\"},{\"hoverinfo\":\"none\",\"marker\":{\"color\":\"#CBB67C\",\"line\":{\"color\":\"#663831\",\"width\":2},\"size\":10},\"mode\":\"markers\",\"name\":\"football\",\"x\":[22.869999694824198],\"y\":[82.0599975585938],\"type\":\"scatter\"}],\"name\":\"27\"},{\"data\":[{\"hoverinfo\":\"none\",\"mode\":\"text\",\"showlegend\":false,\"text\":[\"10\",\"20\",\"30\",\"40\",\"50\",\"40\",\"30\",\"20\",\"10\"],\"textfont\":{\"color\":\"#ffffff\",\"family\":\"Courier New, monospace\",\"size\":30},\"x\":[5,5,5,5,5,5,5,5,5],\"y\":[20,30,40,50,60,70,80,90,100],\"type\":\"scatter\"},{\"hoverinfo\":\"none\",\"mode\":\"text\",\"showlegend\":false,\"text\":[\"10\",\"20\",\"30\",\"40\",\"50\",\"40\",\"30\",\"20\",\"10\"],\"textfont\":{\"color\":\"#ffffff\",\"family\":\"Courier New, monospace\",\"size\":30},\"x\":[48.5,48.5,48.5,48.5,48.5,48.5,48.5,48.5,48.5],\"y\":[20,30,40,50,60,70,80,90,100],\"type\":\"scatter\"},{\"hoverinfo\":\"none\",\"line\":{\"color\":\"blue\",\"dash\":\"dash\"},\"showlegend\":false,\"x\":[0,53.5],\"y\":[83,83],\"type\":\"scatter\"},{\"fill\":\"toself\",\"fillcolor\":\"#000000\",\"hoverinfo\":\"skip\",\"line\":{\"color\":\"white\",\"width\":3},\"mode\":\"lines\",\"opacity\":1,\"showlegend\":false,\"x\":[0,53.5,53.5,0,0],\"y\":[0,0,10,10,0],\"type\":\"scatter\"},{\"fill\":\"toself\",\"fillcolor\":\"#241773\",\"hoverinfo\":\"skip\",\"line\":{\"color\":\"white\",\"width\":3},\"mode\":\"lines\",\"opacity\":1,\"showlegend\":false,\"x\":[0,53.5,53.5,0,0],\"y\":[110,110,120,120,110],\"type\":\"scatter\"},{\"hoverinfo\":\"text\",\"hovertext\":[\"nflId:33099\\u003cbr\\u003edisplayName:Joe Flacco\\u003cbr\\u003e\",\"nflId:42371\\u003cbr\\u003edisplayName:Laken Tomlinson\\u003cbr\\u003e\",\"nflId:43433\\u003cbr\\u003edisplayName:Connor McGovern\\u003cbr\\u003e\",\"nflId:43586\\u003cbr\\u003edisplayName:George Fant\\u003cbr\\u003e\",\"nflId:44817\\u003cbr\\u003edisplayName:Corey Davis\\u003cbr\\u003e\",\"nflId:46226\\u003cbr\\u003edisplayName:Tyler Conklin\\u003cbr\\u003e\",\"nflId:46279\\u003cbr\\u003edisplayName:Braxton Berrios\\u003cbr\\u003e\",\"nflId:53443\\u003cbr\\u003edisplayName:Alijah Vera-Tucker\\u003cbr\\u003e\",\"nflId:53463\\u003cbr\\u003edisplayName:Elijah Moore\\u003cbr\\u003e\",\"nflId:53536\\u003cbr\\u003edisplayName:Michael Carter\\u003cbr\\u003e\",\"nflId:54576\\u003cbr\\u003edisplayName:Max Mitchell\\u003cbr\\u003e\"],\"marker\":{\"color\":\"#000000\",\"line\":{\"color\":\"#125740\",\"width\":2},\"size\":10},\"mode\":\"markers\",\"name\":\"NYJ\",\"x\":[23.72,22.879999999999995,24.65,23.889999999999997,18.299999999999997,20.169999999999995,42.33,21.089999999999996,40.37,22.72,28.909999999999997],\"y\":[77.84,83.2,82.17,85.85,84.81,83.95,80.51,81.78,82.79,82.34,79.79],\"type\":\"scatter\"},{\"hoverinfo\":\"text\",\"hovertext\":[\"nflId:33131\\u003cbr\\u003edisplayName:Calais Campbell\\u003cbr\\u003e\",\"nflId:37145\\u003cbr\\u003edisplayName:Justin Houston\\u003cbr\\u003e\",\"nflId:37778\\u003cbr\\u003edisplayName:Josh Bynes\\u003cbr\\u003e\",\"nflId:40095\\u003cbr\\u003edisplayName:Steven Means\\u003cbr\\u003e\",\"nflId:41240\\u003cbr\\u003edisplayName:Kyle Fuller\\u003cbr\\u003e\",\"nflId:43694\\u003cbr\\u003edisplayName:Michael Pierce\\u003cbr\\u003e\",\"nflId:44828\\u003cbr\\u003edisplayName:Marlon Humphrey\\u003cbr\\u003e\",\"nflId:44854\\u003cbr\\u003edisplayName:Marcus Williams\\u003cbr\\u003e\",\"nflId:44999\\u003cbr\\u003edisplayName:Chuck Clark\\u003cbr\\u003e\",\"nflId:52436\\u003cbr\\u003edisplayName:Patrick Queen\\u003cbr\\u003e\",\"nflId:53533\\u003cbr\\u003edisplayName:Brandon Stephens\\u003cbr\\u003e\"],\"marker\":{\"color\":\"#241773\",\"line\":{\"color\":\"#000000\",\"width\":2},\"size\":10},\"mode\":\"markers\",\"name\":\"BAL\",\"x\":[23.15,22.479999999999997,24.789999999999996,29.49,40.97,24.269999999999996,16.54,18.449999999999996,27.119999999999997,19.059999999999995,37.44],\"y\":[83.45,81.85,86.06,80.13,84.28,81.77,91.05,85.41,99.6,84.2,93.16],\"type\":\"scatter\"},{\"hoverinfo\":\"none\",\"marker\":{\"color\":\"#CBB67C\",\"line\":{\"color\":\"#663831\",\"width\":2},\"size\":10},\"mode\":\"markers\",\"name\":\"football\",\"x\":[22.6500003814697],\"y\":[82.379997253418],\"type\":\"scatter\"}],\"name\":\"28\"},{\"data\":[{\"hoverinfo\":\"none\",\"mode\":\"text\",\"showlegend\":false,\"text\":[\"10\",\"20\",\"30\",\"40\",\"50\",\"40\",\"30\",\"20\",\"10\"],\"textfont\":{\"color\":\"#ffffff\",\"family\":\"Courier New, monospace\",\"size\":30},\"x\":[5,5,5,5,5,5,5,5,5],\"y\":[20,30,40,50,60,70,80,90,100],\"type\":\"scatter\"},{\"hoverinfo\":\"none\",\"mode\":\"text\",\"showlegend\":false,\"text\":[\"10\",\"20\",\"30\",\"40\",\"50\",\"40\",\"30\",\"20\",\"10\"],\"textfont\":{\"color\":\"#ffffff\",\"family\":\"Courier New, monospace\",\"size\":30},\"x\":[48.5,48.5,48.5,48.5,48.5,48.5,48.5,48.5,48.5],\"y\":[20,30,40,50,60,70,80,90,100],\"type\":\"scatter\"},{\"hoverinfo\":\"none\",\"line\":{\"color\":\"blue\",\"dash\":\"dash\"},\"showlegend\":false,\"x\":[0,53.5],\"y\":[83,83],\"type\":\"scatter\"},{\"fill\":\"toself\",\"fillcolor\":\"#000000\",\"hoverinfo\":\"skip\",\"line\":{\"color\":\"white\",\"width\":3},\"mode\":\"lines\",\"opacity\":1,\"showlegend\":false,\"x\":[0,53.5,53.5,0,0],\"y\":[0,0,10,10,0],\"type\":\"scatter\"},{\"fill\":\"toself\",\"fillcolor\":\"#241773\",\"hoverinfo\":\"skip\",\"line\":{\"color\":\"white\",\"width\":3},\"mode\":\"lines\",\"opacity\":1,\"showlegend\":false,\"x\":[0,53.5,53.5,0,0],\"y\":[110,110,120,120,110],\"type\":\"scatter\"},{\"hoverinfo\":\"text\",\"hovertext\":[\"nflId:33099\\u003cbr\\u003edisplayName:Joe Flacco\\u003cbr\\u003e\",\"nflId:42371\\u003cbr\\u003edisplayName:Laken Tomlinson\\u003cbr\\u003e\",\"nflId:43433\\u003cbr\\u003edisplayName:Connor McGovern\\u003cbr\\u003e\",\"nflId:43586\\u003cbr\\u003edisplayName:George Fant\\u003cbr\\u003e\",\"nflId:44817\\u003cbr\\u003edisplayName:Corey Davis\\u003cbr\\u003e\",\"nflId:46226\\u003cbr\\u003edisplayName:Tyler Conklin\\u003cbr\\u003e\",\"nflId:46279\\u003cbr\\u003edisplayName:Braxton Berrios\\u003cbr\\u003e\",\"nflId:53443\\u003cbr\\u003edisplayName:Alijah Vera-Tucker\\u003cbr\\u003e\",\"nflId:53463\\u003cbr\\u003edisplayName:Elijah Moore\\u003cbr\\u003e\",\"nflId:53536\\u003cbr\\u003edisplayName:Michael Carter\\u003cbr\\u003e\",\"nflId:54576\\u003cbr\\u003edisplayName:Max Mitchell\\u003cbr\\u003e\"],\"marker\":{\"color\":\"#000000\",\"line\":{\"color\":\"#125740\",\"width\":2},\"size\":10},\"mode\":\"markers\",\"name\":\"NYJ\",\"x\":[23.74,22.74,24.769999999999996,24.049999999999997,18.339999999999996,20.099999999999994,42.669999999999995,21.189999999999998,40.65,22.569999999999997,28.929999999999996],\"y\":[77.78,83.26,82.13,85.95,84.88,83.93,80.47,81.81,82.91,82.61,79.83],\"type\":\"scatter\"},{\"hoverinfo\":\"text\",\"hovertext\":[\"nflId:33131\\u003cbr\\u003edisplayName:Calais Campbell\\u003cbr\\u003e\",\"nflId:37145\\u003cbr\\u003edisplayName:Justin Houston\\u003cbr\\u003e\",\"nflId:37778\\u003cbr\\u003edisplayName:Josh Bynes\\u003cbr\\u003e\",\"nflId:40095\\u003cbr\\u003edisplayName:Steven Means\\u003cbr\\u003e\",\"nflId:41240\\u003cbr\\u003edisplayName:Kyle Fuller\\u003cbr\\u003e\",\"nflId:43694\\u003cbr\\u003edisplayName:Michael Pierce\\u003cbr\\u003e\",\"nflId:44828\\u003cbr\\u003edisplayName:Marlon Humphrey\\u003cbr\\u003e\",\"nflId:44854\\u003cbr\\u003edisplayName:Marcus Williams\\u003cbr\\u003e\",\"nflId:44999\\u003cbr\\u003edisplayName:Chuck Clark\\u003cbr\\u003e\",\"nflId:52436\\u003cbr\\u003edisplayName:Patrick Queen\\u003cbr\\u003e\",\"nflId:53533\\u003cbr\\u003edisplayName:Brandon Stephens\\u003cbr\\u003e\"],\"marker\":{\"color\":\"#241773\",\"line\":{\"color\":\"#000000\",\"width\":2},\"size\":10},\"mode\":\"markers\",\"name\":\"BAL\",\"x\":[23.019999999999996,22.609999999999996,24.819999999999997,29.47,41.14,24.179999999999996,16.799999999999997,18.549999999999997,27.019999999999996,19.019999999999996,37.19],\"y\":[83.46,81.98,86.1,80.24,84.52,81.78,90.82,85.43,99.25,84.28,93.13],\"type\":\"scatter\"},{\"hoverinfo\":\"none\",\"marker\":{\"color\":\"#CBB67C\",\"line\":{\"color\":\"#663831\",\"width\":2},\"size\":10},\"mode\":\"markers\",\"name\":\"football\",\"x\":[22.449999618530295],\"y\":[82.6800003051758],\"type\":\"scatter\"}],\"name\":\"29\"},{\"data\":[{\"hoverinfo\":\"none\",\"mode\":\"text\",\"showlegend\":false,\"text\":[\"10\",\"20\",\"30\",\"40\",\"50\",\"40\",\"30\",\"20\",\"10\"],\"textfont\":{\"color\":\"#ffffff\",\"family\":\"Courier New, monospace\",\"size\":30},\"x\":[5,5,5,5,5,5,5,5,5],\"y\":[20,30,40,50,60,70,80,90,100],\"type\":\"scatter\"},{\"hoverinfo\":\"none\",\"mode\":\"text\",\"showlegend\":false,\"text\":[\"10\",\"20\",\"30\",\"40\",\"50\",\"40\",\"30\",\"20\",\"10\"],\"textfont\":{\"color\":\"#ffffff\",\"family\":\"Courier New, monospace\",\"size\":30},\"x\":[48.5,48.5,48.5,48.5,48.5,48.5,48.5,48.5,48.5],\"y\":[20,30,40,50,60,70,80,90,100],\"type\":\"scatter\"},{\"hoverinfo\":\"none\",\"line\":{\"color\":\"blue\",\"dash\":\"dash\"},\"showlegend\":false,\"x\":[0,53.5],\"y\":[83,83],\"type\":\"scatter\"},{\"fill\":\"toself\",\"fillcolor\":\"#000000\",\"hoverinfo\":\"skip\",\"line\":{\"color\":\"white\",\"width\":3},\"mode\":\"lines\",\"opacity\":1,\"showlegend\":false,\"x\":[0,53.5,53.5,0,0],\"y\":[0,0,10,10,0],\"type\":\"scatter\"},{\"fill\":\"toself\",\"fillcolor\":\"#241773\",\"hoverinfo\":\"skip\",\"line\":{\"color\":\"white\",\"width\":3},\"mode\":\"lines\",\"opacity\":1,\"showlegend\":false,\"x\":[0,53.5,53.5,0,0],\"y\":[110,110,120,120,110],\"type\":\"scatter\"},{\"hoverinfo\":\"text\",\"hovertext\":[\"nflId:33099\\u003cbr\\u003edisplayName:Joe Flacco\\u003cbr\\u003e\",\"nflId:42371\\u003cbr\\u003edisplayName:Laken Tomlinson\\u003cbr\\u003e\",\"nflId:43433\\u003cbr\\u003edisplayName:Connor McGovern\\u003cbr\\u003e\",\"nflId:43586\\u003cbr\\u003edisplayName:George Fant\\u003cbr\\u003e\",\"nflId:44817\\u003cbr\\u003edisplayName:Corey Davis\\u003cbr\\u003e\",\"nflId:46226\\u003cbr\\u003edisplayName:Tyler Conklin\\u003cbr\\u003e\",\"nflId:46279\\u003cbr\\u003edisplayName:Braxton Berrios\\u003cbr\\u003e\",\"nflId:53443\\u003cbr\\u003edisplayName:Alijah Vera-Tucker\\u003cbr\\u003e\",\"nflId:53463\\u003cbr\\u003edisplayName:Elijah Moore\\u003cbr\\u003e\",\"nflId:53536\\u003cbr\\u003edisplayName:Michael Carter\\u003cbr\\u003e\",\"nflId:54576\\u003cbr\\u003edisplayName:Max Mitchell\\u003cbr\\u003e\"],\"marker\":{\"color\":\"#000000\",\"line\":{\"color\":\"#125740\",\"width\":2},\"size\":10},\"mode\":\"markers\",\"name\":\"NYJ\",\"x\":[23.749999999999996,22.599999999999998,24.889999999999997,24.199999999999996,18.369999999999997,20.019999999999996,42.989999999999995,21.31,40.9,22.419999999999998,28.939999999999998],\"y\":[77.73,83.32,82.13,86.04,84.94,83.93,80.44,81.84,83.04,82.85,79.93],\"type\":\"scatter\"},{\"hoverinfo\":\"text\",\"hovertext\":[\"nflId:33131\\u003cbr\\u003edisplayName:Calais Campbell\\u003cbr\\u003e\",\"nflId:37145\\u003cbr\\u003edisplayName:Justin Houston\\u003cbr\\u003e\",\"nflId:37778\\u003cbr\\u003edisplayName:Josh Bynes\\u003cbr\\u003e\",\"nflId:40095\\u003cbr\\u003edisplayName:Steven Means\\u003cbr\\u003e\",\"nflId:41240\\u003cbr\\u003edisplayName:Kyle Fuller\\u003cbr\\u003e\",\"nflId:43694\\u003cbr\\u003edisplayName:Michael Pierce\\u003cbr\\u003e\",\"nflId:44828\\u003cbr\\u003edisplayName:Marlon Humphrey\\u003cbr\\u003e\",\"nflId:44854\\u003cbr\\u003edisplayName:Marcus Williams\\u003cbr\\u003e\",\"nflId:44999\\u003cbr\\u003edisplayName:Chuck Clark\\u003cbr\\u003e\",\"nflId:52436\\u003cbr\\u003edisplayName:Patrick Queen\\u003cbr\\u003e\",\"nflId:53533\\u003cbr\\u003edisplayName:Brandon Stephens\\u003cbr\\u003e\"],\"marker\":{\"color\":\"#241773\",\"line\":{\"color\":\"#000000\",\"width\":2},\"size\":10},\"mode\":\"markers\",\"name\":\"BAL\",\"x\":[22.769999999999996,22.709999999999997,24.849999999999998,29.419999999999998,41.26,24.08,17.08,18.669999999999995,26.909999999999997,19.009999999999998,36.9],\"y\":[83.61,82.13,86.22,80.4,84.78,81.8,90.57,85.46,98.86,84.39,93.08],\"type\":\"scatter\"},{\"hoverinfo\":\"none\",\"marker\":{\"color\":\"#CBB67C\",\"line\":{\"color\":\"#663831\",\"width\":2},\"size\":10},\"mode\":\"markers\",\"name\":\"football\",\"x\":[22.259999084472696],\"y\":[82.9499969482422],\"type\":\"scatter\"}],\"name\":\"30\"},{\"data\":[{\"hoverinfo\":\"none\",\"mode\":\"text\",\"showlegend\":false,\"text\":[\"10\",\"20\",\"30\",\"40\",\"50\",\"40\",\"30\",\"20\",\"10\"],\"textfont\":{\"color\":\"#ffffff\",\"family\":\"Courier New, monospace\",\"size\":30},\"x\":[5,5,5,5,5,5,5,5,5],\"y\":[20,30,40,50,60,70,80,90,100],\"type\":\"scatter\"},{\"hoverinfo\":\"none\",\"mode\":\"text\",\"showlegend\":false,\"text\":[\"10\",\"20\",\"30\",\"40\",\"50\",\"40\",\"30\",\"20\",\"10\"],\"textfont\":{\"color\":\"#ffffff\",\"family\":\"Courier New, monospace\",\"size\":30},\"x\":[48.5,48.5,48.5,48.5,48.5,48.5,48.5,48.5,48.5],\"y\":[20,30,40,50,60,70,80,90,100],\"type\":\"scatter\"},{\"hoverinfo\":\"none\",\"line\":{\"color\":\"blue\",\"dash\":\"dash\"},\"showlegend\":false,\"x\":[0,53.5],\"y\":[83,83],\"type\":\"scatter\"},{\"fill\":\"toself\",\"fillcolor\":\"#000000\",\"hoverinfo\":\"skip\",\"line\":{\"color\":\"white\",\"width\":3},\"mode\":\"lines\",\"opacity\":1,\"showlegend\":false,\"x\":[0,53.5,53.5,0,0],\"y\":[0,0,10,10,0],\"type\":\"scatter\"},{\"fill\":\"toself\",\"fillcolor\":\"#241773\",\"hoverinfo\":\"skip\",\"line\":{\"color\":\"white\",\"width\":3},\"mode\":\"lines\",\"opacity\":1,\"showlegend\":false,\"x\":[0,53.5,53.5,0,0],\"y\":[110,110,120,120,110],\"type\":\"scatter\"},{\"hoverinfo\":\"text\",\"hovertext\":[\"nflId:33099\\u003cbr\\u003edisplayName:Joe Flacco\\u003cbr\\u003e\",\"nflId:42371\\u003cbr\\u003edisplayName:Laken Tomlinson\\u003cbr\\u003e\",\"nflId:43433\\u003cbr\\u003edisplayName:Connor McGovern\\u003cbr\\u003e\",\"nflId:43586\\u003cbr\\u003edisplayName:George Fant\\u003cbr\\u003e\",\"nflId:44817\\u003cbr\\u003edisplayName:Corey Davis\\u003cbr\\u003e\",\"nflId:46226\\u003cbr\\u003edisplayName:Tyler Conklin\\u003cbr\\u003e\",\"nflId:46279\\u003cbr\\u003edisplayName:Braxton Berrios\\u003cbr\\u003e\",\"nflId:53443\\u003cbr\\u003edisplayName:Alijah Vera-Tucker\\u003cbr\\u003e\",\"nflId:53463\\u003cbr\\u003edisplayName:Elijah Moore\\u003cbr\\u003e\",\"nflId:53536\\u003cbr\\u003edisplayName:Michael Carter\\u003cbr\\u003e\",\"nflId:54576\\u003cbr\\u003edisplayName:Max Mitchell\\u003cbr\\u003e\"],\"marker\":{\"color\":\"#000000\",\"line\":{\"color\":\"#125740\",\"width\":2},\"size\":10},\"mode\":\"markers\",\"name\":\"NYJ\",\"x\":[23.749999999999996,22.459999999999997,24.99,24.33,18.43,19.939999999999998,43.29,21.419999999999998,41.129999999999995,22.209999999999997,28.939999999999998],\"y\":[77.68,83.38,82.14,86.14,85.02,83.93,80.41,81.87,83.17,82.93,80.09],\"type\":\"scatter\"},{\"hoverinfo\":\"text\",\"hovertext\":[\"nflId:33131\\u003cbr\\u003edisplayName:Calais Campbell\\u003cbr\\u003e\",\"nflId:37145\\u003cbr\\u003edisplayName:Justin Houston\\u003cbr\\u003e\",\"nflId:37778\\u003cbr\\u003edisplayName:Josh Bynes\\u003cbr\\u003e\",\"nflId:40095\\u003cbr\\u003edisplayName:Steven Means\\u003cbr\\u003e\",\"nflId:41240\\u003cbr\\u003edisplayName:Kyle Fuller\\u003cbr\\u003e\",\"nflId:43694\\u003cbr\\u003edisplayName:Michael Pierce\\u003cbr\\u003e\",\"nflId:44828\\u003cbr\\u003edisplayName:Marlon Humphrey\\u003cbr\\u003e\",\"nflId:44854\\u003cbr\\u003edisplayName:Marcus Williams\\u003cbr\\u003e\",\"nflId:44999\\u003cbr\\u003edisplayName:Chuck Clark\\u003cbr\\u003e\",\"nflId:52436\\u003cbr\\u003edisplayName:Patrick Queen\\u003cbr\\u003e\",\"nflId:53533\\u003cbr\\u003edisplayName:Brandon Stephens\\u003cbr\\u003e\"],\"marker\":{\"color\":\"#241773\",\"line\":{\"color\":\"#000000\",\"width\":2},\"size\":10},\"mode\":\"markers\",\"name\":\"BAL\",\"x\":[22.569999999999997,22.789999999999996,24.9,29.359999999999996,41.33,23.99,17.369999999999997,18.83,26.779999999999998,19.04,36.56],\"y\":[83.72,82.27,86.36,80.6,85.04,81.84,90.32,85.52,98.42,84.5,93.01],\"type\":\"scatter\"},{\"hoverinfo\":\"none\",\"marker\":{\"color\":\"#CBB67C\",\"line\":{\"color\":\"#663831\",\"width\":2},\"size\":10},\"mode\":\"markers\",\"name\":\"football\",\"x\":[22.0900009155273],\"y\":[82.9899978637695],\"type\":\"scatter\"}],\"name\":\"31\"},{\"data\":[{\"hoverinfo\":\"none\",\"mode\":\"text\",\"showlegend\":false,\"text\":[\"10\",\"20\",\"30\",\"40\",\"50\",\"40\",\"30\",\"20\",\"10\"],\"textfont\":{\"color\":\"#ffffff\",\"family\":\"Courier New, monospace\",\"size\":30},\"x\":[5,5,5,5,5,5,5,5,5],\"y\":[20,30,40,50,60,70,80,90,100],\"type\":\"scatter\"},{\"hoverinfo\":\"none\",\"mode\":\"text\",\"showlegend\":false,\"text\":[\"10\",\"20\",\"30\",\"40\",\"50\",\"40\",\"30\",\"20\",\"10\"],\"textfont\":{\"color\":\"#ffffff\",\"family\":\"Courier New, monospace\",\"size\":30},\"x\":[48.5,48.5,48.5,48.5,48.5,48.5,48.5,48.5,48.5],\"y\":[20,30,40,50,60,70,80,90,100],\"type\":\"scatter\"},{\"hoverinfo\":\"none\",\"line\":{\"color\":\"blue\",\"dash\":\"dash\"},\"showlegend\":false,\"x\":[0,53.5],\"y\":[83,83],\"type\":\"scatter\"},{\"fill\":\"toself\",\"fillcolor\":\"#000000\",\"hoverinfo\":\"skip\",\"line\":{\"color\":\"white\",\"width\":3},\"mode\":\"lines\",\"opacity\":1,\"showlegend\":false,\"x\":[0,53.5,53.5,0,0],\"y\":[0,0,10,10,0],\"type\":\"scatter\"},{\"fill\":\"toself\",\"fillcolor\":\"#241773\",\"hoverinfo\":\"skip\",\"line\":{\"color\":\"white\",\"width\":3},\"mode\":\"lines\",\"opacity\":1,\"showlegend\":false,\"x\":[0,53.5,53.5,0,0],\"y\":[110,110,120,120,110],\"type\":\"scatter\"},{\"hoverinfo\":\"text\",\"hovertext\":[\"nflId:33099\\u003cbr\\u003edisplayName:Joe Flacco\\u003cbr\\u003e\",\"nflId:42371\\u003cbr\\u003edisplayName:Laken Tomlinson\\u003cbr\\u003e\",\"nflId:43433\\u003cbr\\u003edisplayName:Connor McGovern\\u003cbr\\u003e\",\"nflId:43586\\u003cbr\\u003edisplayName:George Fant\\u003cbr\\u003e\",\"nflId:44817\\u003cbr\\u003edisplayName:Corey Davis\\u003cbr\\u003e\",\"nflId:46226\\u003cbr\\u003edisplayName:Tyler Conklin\\u003cbr\\u003e\",\"nflId:46279\\u003cbr\\u003edisplayName:Braxton Berrios\\u003cbr\\u003e\",\"nflId:53443\\u003cbr\\u003edisplayName:Alijah Vera-Tucker\\u003cbr\\u003e\",\"nflId:53463\\u003cbr\\u003edisplayName:Elijah Moore\\u003cbr\\u003e\",\"nflId:53536\\u003cbr\\u003edisplayName:Michael Carter\\u003cbr\\u003e\",\"nflId:54576\\u003cbr\\u003edisplayName:Max Mitchell\\u003cbr\\u003e\"],\"marker\":{\"color\":\"#000000\",\"line\":{\"color\":\"#125740\",\"width\":2},\"size\":10},\"mode\":\"markers\",\"name\":\"NYJ\",\"x\":[23.749999999999996,22.31,25.049999999999997,24.439999999999998,18.489999999999995,19.869999999999997,43.559999999999995,21.539999999999996,41.31999999999999,22.049999999999997,28.929999999999996],\"y\":[77.64,83.46,82.16,86.25,85.09,83.96,80.39,81.9,83.3,83.07,80.3],\"type\":\"scatter\"},{\"hoverinfo\":\"text\",\"hovertext\":[\"nflId:33131\\u003cbr\\u003edisplayName:Calais Campbell\\u003cbr\\u003e\",\"nflId:37145\\u003cbr\\u003edisplayName:Justin Houston\\u003cbr\\u003e\",\"nflId:37778\\u003cbr\\u003edisplayName:Josh Bynes\\u003cbr\\u003e\",\"nflId:40095\\u003cbr\\u003edisplayName:Steven Means\\u003cbr\\u003e\",\"nflId:41240\\u003cbr\\u003edisplayName:Kyle Fuller\\u003cbr\\u003e\",\"nflId:43694\\u003cbr\\u003edisplayName:Michael Pierce\\u003cbr\\u003e\",\"nflId:44828\\u003cbr\\u003edisplayName:Marlon Humphrey\\u003cbr\\u003e\",\"nflId:44854\\u003cbr\\u003edisplayName:Marcus Williams\\u003cbr\\u003e\",\"nflId:44999\\u003cbr\\u003edisplayName:Chuck Clark\\u003cbr\\u003e\",\"nflId:52436\\u003cbr\\u003edisplayName:Patrick Queen\\u003cbr\\u003e\",\"nflId:53533\\u003cbr\\u003edisplayName:Brandon Stephens\\u003cbr\\u003e\"],\"marker\":{\"color\":\"#241773\",\"line\":{\"color\":\"#000000\",\"width\":2},\"size\":10},\"mode\":\"markers\",\"name\":\"BAL\",\"x\":[22.359999999999996,22.849999999999998,24.939999999999998,29.279999999999998,41.36,23.909999999999997,17.659999999999997,18.989999999999995,26.619999999999997,19.099999999999994,36.19],\"y\":[83.84,82.43,86.53,80.85,85.3,81.9,90.08,85.58,97.97,84.63,92.92],\"type\":\"scatter\"},{\"hoverinfo\":\"none\",\"marker\":{\"color\":\"#CBB67C\",\"line\":{\"color\":\"#663831\",\"width\":2},\"size\":10},\"mode\":\"markers\",\"name\":\"football\",\"x\":[21.8900001525879],\"y\":[83.0999984741211],\"type\":\"scatter\"}],\"name\":\"32\"},{\"data\":[{\"hoverinfo\":\"none\",\"mode\":\"text\",\"showlegend\":false,\"text\":[\"10\",\"20\",\"30\",\"40\",\"50\",\"40\",\"30\",\"20\",\"10\"],\"textfont\":{\"color\":\"#ffffff\",\"family\":\"Courier New, monospace\",\"size\":30},\"x\":[5,5,5,5,5,5,5,5,5],\"y\":[20,30,40,50,60,70,80,90,100],\"type\":\"scatter\"},{\"hoverinfo\":\"none\",\"mode\":\"text\",\"showlegend\":false,\"text\":[\"10\",\"20\",\"30\",\"40\",\"50\",\"40\",\"30\",\"20\",\"10\"],\"textfont\":{\"color\":\"#ffffff\",\"family\":\"Courier New, monospace\",\"size\":30},\"x\":[48.5,48.5,48.5,48.5,48.5,48.5,48.5,48.5,48.5],\"y\":[20,30,40,50,60,70,80,90,100],\"type\":\"scatter\"},{\"hoverinfo\":\"none\",\"line\":{\"color\":\"blue\",\"dash\":\"dash\"},\"showlegend\":false,\"x\":[0,53.5],\"y\":[83,83],\"type\":\"scatter\"},{\"fill\":\"toself\",\"fillcolor\":\"#000000\",\"hoverinfo\":\"skip\",\"line\":{\"color\":\"white\",\"width\":3},\"mode\":\"lines\",\"opacity\":1,\"showlegend\":false,\"x\":[0,53.5,53.5,0,0],\"y\":[0,0,10,10,0],\"type\":\"scatter\"},{\"fill\":\"toself\",\"fillcolor\":\"#241773\",\"hoverinfo\":\"skip\",\"line\":{\"color\":\"white\",\"width\":3},\"mode\":\"lines\",\"opacity\":1,\"showlegend\":false,\"x\":[0,53.5,53.5,0,0],\"y\":[110,110,120,120,110],\"type\":\"scatter\"},{\"hoverinfo\":\"text\",\"hovertext\":[\"nflId:33099\\u003cbr\\u003edisplayName:Joe Flacco\\u003cbr\\u003e\",\"nflId:42371\\u003cbr\\u003edisplayName:Laken Tomlinson\\u003cbr\\u003e\",\"nflId:43433\\u003cbr\\u003edisplayName:Connor McGovern\\u003cbr\\u003e\",\"nflId:43586\\u003cbr\\u003edisplayName:George Fant\\u003cbr\\u003e\",\"nflId:44817\\u003cbr\\u003edisplayName:Corey Davis\\u003cbr\\u003e\",\"nflId:46226\\u003cbr\\u003edisplayName:Tyler Conklin\\u003cbr\\u003e\",\"nflId:46279\\u003cbr\\u003edisplayName:Braxton Berrios\\u003cbr\\u003e\",\"nflId:53443\\u003cbr\\u003edisplayName:Alijah Vera-Tucker\\u003cbr\\u003e\",\"nflId:53463\\u003cbr\\u003edisplayName:Elijah Moore\\u003cbr\\u003e\",\"nflId:53536\\u003cbr\\u003edisplayName:Michael Carter\\u003cbr\\u003e\",\"nflId:54576\\u003cbr\\u003edisplayName:Max Mitchell\\u003cbr\\u003e\"],\"marker\":{\"color\":\"#000000\",\"line\":{\"color\":\"#125740\",\"width\":2},\"size\":10},\"mode\":\"markers\",\"name\":\"NYJ\",\"x\":[23.749999999999996,22.129999999999995,25.099999999999998,24.529999999999998,18.559999999999995,19.799999999999997,43.8,21.639999999999997,41.5,21.859999999999996,28.889999999999997],\"y\":[77.61,83.52,82.19,86.37,85.19,84.0,80.37,81.93,83.43,83.12,80.56],\"type\":\"scatter\"},{\"hoverinfo\":\"text\",\"hovertext\":[\"nflId:33131\\u003cbr\\u003edisplayName:Calais Campbell\\u003cbr\\u003e\",\"nflId:37145\\u003cbr\\u003edisplayName:Justin Houston\\u003cbr\\u003e\",\"nflId:37778\\u003cbr\\u003edisplayName:Josh Bynes\\u003cbr\\u003e\",\"nflId:40095\\u003cbr\\u003edisplayName:Steven Means\\u003cbr\\u003e\",\"nflId:41240\\u003cbr\\u003edisplayName:Kyle Fuller\\u003cbr\\u003e\",\"nflId:43694\\u003cbr\\u003edisplayName:Michael Pierce\\u003cbr\\u003e\",\"nflId:44828\\u003cbr\\u003edisplayName:Marlon Humphrey\\u003cbr\\u003e\",\"nflId:44854\\u003cbr\\u003edisplayName:Marcus Williams\\u003cbr\\u003e\",\"nflId:44999\\u003cbr\\u003edisplayName:Chuck Clark\\u003cbr\\u003e\",\"nflId:52436\\u003cbr\\u003edisplayName:Patrick Queen\\u003cbr\\u003e\",\"nflId:53533\\u003cbr\\u003edisplayName:Brandon Stephens\\u003cbr\\u003e\"],\"marker\":{\"color\":\"#241773\",\"line\":{\"color\":\"#000000\",\"width\":2},\"size\":10},\"mode\":\"markers\",\"name\":\"BAL\",\"x\":[22.159999999999997,22.919999999999998,24.959999999999997,29.169999999999998,41.349999999999994,23.839999999999996,17.93,19.159999999999997,26.449999999999996,19.18,35.8],\"y\":[83.98,82.57,86.72,81.14,85.56,81.95,89.85,85.64,97.51,84.75,92.81],\"type\":\"scatter\"},{\"hoverinfo\":\"none\",\"marker\":{\"color\":\"#CBB67C\",\"line\":{\"color\":\"#663831\",\"width\":2},\"size\":10},\"mode\":\"markers\",\"name\":\"football\",\"x\":[21.720000076293896],\"y\":[83.1999969482422],\"type\":\"scatter\"}],\"name\":\"33\"},{\"data\":[{\"hoverinfo\":\"none\",\"mode\":\"text\",\"showlegend\":false,\"text\":[\"10\",\"20\",\"30\",\"40\",\"50\",\"40\",\"30\",\"20\",\"10\"],\"textfont\":{\"color\":\"#ffffff\",\"family\":\"Courier New, monospace\",\"size\":30},\"x\":[5,5,5,5,5,5,5,5,5],\"y\":[20,30,40,50,60,70,80,90,100],\"type\":\"scatter\"},{\"hoverinfo\":\"none\",\"mode\":\"text\",\"showlegend\":false,\"text\":[\"10\",\"20\",\"30\",\"40\",\"50\",\"40\",\"30\",\"20\",\"10\"],\"textfont\":{\"color\":\"#ffffff\",\"family\":\"Courier New, monospace\",\"size\":30},\"x\":[48.5,48.5,48.5,48.5,48.5,48.5,48.5,48.5,48.5],\"y\":[20,30,40,50,60,70,80,90,100],\"type\":\"scatter\"},{\"hoverinfo\":\"none\",\"line\":{\"color\":\"blue\",\"dash\":\"dash\"},\"showlegend\":false,\"x\":[0,53.5],\"y\":[83,83],\"type\":\"scatter\"},{\"fill\":\"toself\",\"fillcolor\":\"#000000\",\"hoverinfo\":\"skip\",\"line\":{\"color\":\"white\",\"width\":3},\"mode\":\"lines\",\"opacity\":1,\"showlegend\":false,\"x\":[0,53.5,53.5,0,0],\"y\":[0,0,10,10,0],\"type\":\"scatter\"},{\"fill\":\"toself\",\"fillcolor\":\"#241773\",\"hoverinfo\":\"skip\",\"line\":{\"color\":\"white\",\"width\":3},\"mode\":\"lines\",\"opacity\":1,\"showlegend\":false,\"x\":[0,53.5,53.5,0,0],\"y\":[110,110,120,120,110],\"type\":\"scatter\"},{\"hoverinfo\":\"text\",\"hovertext\":[\"nflId:33099\\u003cbr\\u003edisplayName:Joe Flacco\\u003cbr\\u003e\",\"nflId:42371\\u003cbr\\u003edisplayName:Laken Tomlinson\\u003cbr\\u003e\",\"nflId:43433\\u003cbr\\u003edisplayName:Connor McGovern\\u003cbr\\u003e\",\"nflId:43586\\u003cbr\\u003edisplayName:George Fant\\u003cbr\\u003e\",\"nflId:44817\\u003cbr\\u003edisplayName:Corey Davis\\u003cbr\\u003e\",\"nflId:46226\\u003cbr\\u003edisplayName:Tyler Conklin\\u003cbr\\u003e\",\"nflId:46279\\u003cbr\\u003edisplayName:Braxton Berrios\\u003cbr\\u003e\",\"nflId:53443\\u003cbr\\u003edisplayName:Alijah Vera-Tucker\\u003cbr\\u003e\",\"nflId:53463\\u003cbr\\u003edisplayName:Elijah Moore\\u003cbr\\u003e\",\"nflId:53536\\u003cbr\\u003edisplayName:Michael Carter\\u003cbr\\u003e\",\"nflId:54576\\u003cbr\\u003edisplayName:Max Mitchell\\u003cbr\\u003e\"],\"marker\":{\"color\":\"#000000\",\"line\":{\"color\":\"#125740\",\"width\":2},\"size\":10},\"mode\":\"markers\",\"name\":\"NYJ\",\"x\":[23.729999999999997,21.929999999999996,25.139999999999997,24.599999999999998,18.659999999999997,19.729999999999997,44.01,21.729999999999997,41.65,21.729999999999997,28.839999999999996],\"y\":[77.59,83.57,82.21,86.5,85.28,84.05,80.36,81.95,83.55,83.13,80.83],\"type\":\"scatter\"},{\"hoverinfo\":\"text\",\"hovertext\":[\"nflId:33131\\u003cbr\\u003edisplayName:Calais Campbell\\u003cbr\\u003e\",\"nflId:37145\\u003cbr\\u003edisplayName:Justin Houston\\u003cbr\\u003e\",\"nflId:37778\\u003cbr\\u003edisplayName:Josh Bynes\\u003cbr\\u003e\",\"nflId:40095\\u003cbr\\u003edisplayName:Steven Means\\u003cbr\\u003e\",\"nflId:41240\\u003cbr\\u003edisplayName:Kyle Fuller\\u003cbr\\u003e\",\"nflId:43694\\u003cbr\\u003edisplayName:Michael Pierce\\u003cbr\\u003e\",\"nflId:44828\\u003cbr\\u003edisplayName:Marlon Humphrey\\u003cbr\\u003e\",\"nflId:44854\\u003cbr\\u003edisplayName:Marcus Williams\\u003cbr\\u003e\",\"nflId:44999\\u003cbr\\u003edisplayName:Chuck Clark\\u003cbr\\u003e\",\"nflId:52436\\u003cbr\\u003edisplayName:Patrick Queen\\u003cbr\\u003e\",\"nflId:53533\\u003cbr\\u003edisplayName:Brandon Stephens\\u003cbr\\u003e\"],\"marker\":{\"color\":\"#241773\",\"line\":{\"color\":\"#000000\",\"width\":2},\"size\":10},\"mode\":\"markers\",\"name\":\"BAL\",\"x\":[21.909999999999997,22.97,24.949999999999996,29.029999999999998,41.29,23.769999999999996,18.189999999999998,19.339999999999996,26.249999999999996,19.29,35.39],\"y\":[84.21,82.72,86.91,81.45,85.81,81.99,89.63,85.67,97.04,84.85,92.7],\"type\":\"scatter\"},{\"hoverinfo\":\"none\",\"marker\":{\"color\":\"#CBB67C\",\"line\":{\"color\":\"#663831\",\"width\":2},\"size\":10},\"mode\":\"markers\",\"name\":\"football\",\"x\":[21.599999237060498],\"y\":[83.2200012207031],\"type\":\"scatter\"}],\"name\":\"34\"},{\"data\":[{\"hoverinfo\":\"none\",\"mode\":\"text\",\"showlegend\":false,\"text\":[\"10\",\"20\",\"30\",\"40\",\"50\",\"40\",\"30\",\"20\",\"10\"],\"textfont\":{\"color\":\"#ffffff\",\"family\":\"Courier New, monospace\",\"size\":30},\"x\":[5,5,5,5,5,5,5,5,5],\"y\":[20,30,40,50,60,70,80,90,100],\"type\":\"scatter\"},{\"hoverinfo\":\"none\",\"mode\":\"text\",\"showlegend\":false,\"text\":[\"10\",\"20\",\"30\",\"40\",\"50\",\"40\",\"30\",\"20\",\"10\"],\"textfont\":{\"color\":\"#ffffff\",\"family\":\"Courier New, monospace\",\"size\":30},\"x\":[48.5,48.5,48.5,48.5,48.5,48.5,48.5,48.5,48.5],\"y\":[20,30,40,50,60,70,80,90,100],\"type\":\"scatter\"},{\"hoverinfo\":\"none\",\"line\":{\"color\":\"blue\",\"dash\":\"dash\"},\"showlegend\":false,\"x\":[0,53.5],\"y\":[83,83],\"type\":\"scatter\"},{\"fill\":\"toself\",\"fillcolor\":\"#000000\",\"hoverinfo\":\"skip\",\"line\":{\"color\":\"white\",\"width\":3},\"mode\":\"lines\",\"opacity\":1,\"showlegend\":false,\"x\":[0,53.5,53.5,0,0],\"y\":[0,0,10,10,0],\"type\":\"scatter\"},{\"fill\":\"toself\",\"fillcolor\":\"#241773\",\"hoverinfo\":\"skip\",\"line\":{\"color\":\"white\",\"width\":3},\"mode\":\"lines\",\"opacity\":1,\"showlegend\":false,\"x\":[0,53.5,53.5,0,0],\"y\":[110,110,120,120,110],\"type\":\"scatter\"},{\"hoverinfo\":\"text\",\"hovertext\":[\"nflId:33099\\u003cbr\\u003edisplayName:Joe Flacco\\u003cbr\\u003e\",\"nflId:42371\\u003cbr\\u003edisplayName:Laken Tomlinson\\u003cbr\\u003e\",\"nflId:43433\\u003cbr\\u003edisplayName:Connor McGovern\\u003cbr\\u003e\",\"nflId:43586\\u003cbr\\u003edisplayName:George Fant\\u003cbr\\u003e\",\"nflId:44817\\u003cbr\\u003edisplayName:Corey Davis\\u003cbr\\u003e\",\"nflId:46226\\u003cbr\\u003edisplayName:Tyler Conklin\\u003cbr\\u003e\",\"nflId:46279\\u003cbr\\u003edisplayName:Braxton Berrios\\u003cbr\\u003e\",\"nflId:53443\\u003cbr\\u003edisplayName:Alijah Vera-Tucker\\u003cbr\\u003e\",\"nflId:53463\\u003cbr\\u003edisplayName:Elijah Moore\\u003cbr\\u003e\",\"nflId:53536\\u003cbr\\u003edisplayName:Michael Carter\\u003cbr\\u003e\",\"nflId:54576\\u003cbr\\u003edisplayName:Max Mitchell\\u003cbr\\u003e\"],\"marker\":{\"color\":\"#000000\",\"line\":{\"color\":\"#125740\",\"width\":2},\"size\":10},\"mode\":\"markers\",\"name\":\"NYJ\",\"x\":[23.72,21.729999999999997,25.139999999999997,24.65,18.779999999999994,19.689999999999998,44.18,21.81,41.769999999999996,21.619999999999997,28.759999999999998],\"y\":[77.58,83.63,82.24,86.64,85.38,84.12,80.34,81.97,83.65,83.14,81.13],\"type\":\"scatter\"},{\"hoverinfo\":\"text\",\"hovertext\":[\"nflId:33131\\u003cbr\\u003edisplayName:Calais Campbell\\u003cbr\\u003e\",\"nflId:37145\\u003cbr\\u003edisplayName:Justin Houston\\u003cbr\\u003e\",\"nflId:37778\\u003cbr\\u003edisplayName:Josh Bynes\\u003cbr\\u003e\",\"nflId:40095\\u003cbr\\u003edisplayName:Steven Means\\u003cbr\\u003e\",\"nflId:41240\\u003cbr\\u003edisplayName:Kyle Fuller\\u003cbr\\u003e\",\"nflId:43694\\u003cbr\\u003edisplayName:Michael Pierce\\u003cbr\\u003e\",\"nflId:44828\\u003cbr\\u003edisplayName:Marlon Humphrey\\u003cbr\\u003e\",\"nflId:44854\\u003cbr\\u003edisplayName:Marcus Williams\\u003cbr\\u003e\",\"nflId:44999\\u003cbr\\u003edisplayName:Chuck Clark\\u003cbr\\u003e\",\"nflId:52436\\u003cbr\\u003edisplayName:Patrick Queen\\u003cbr\\u003e\",\"nflId:53533\\u003cbr\\u003edisplayName:Brandon Stephens\\u003cbr\\u003e\"],\"marker\":{\"color\":\"#241773\",\"line\":{\"color\":\"#000000\",\"width\":2},\"size\":10},\"mode\":\"markers\",\"name\":\"BAL\",\"x\":[21.699999999999996,22.979999999999997,24.919999999999998,28.839999999999996,41.199999999999996,23.709999999999997,18.439999999999998,19.529999999999994,26.029999999999998,19.419999999999995,34.989999999999995],\"y\":[84.39,82.86,87.1,81.75,86.02,82.03,89.41,85.72,96.57,84.94,92.58],\"type\":\"scatter\"},{\"hoverinfo\":\"none\",\"marker\":{\"color\":\"#CBB67C\",\"line\":{\"color\":\"#663831\",\"width\":2},\"size\":10},\"mode\":\"markers\",\"name\":\"football\",\"x\":[21.490000534057597],\"y\":[83.1999969482422],\"type\":\"scatter\"}],\"name\":\"35\"},{\"data\":[{\"hoverinfo\":\"none\",\"mode\":\"text\",\"showlegend\":false,\"text\":[\"10\",\"20\",\"30\",\"40\",\"50\",\"40\",\"30\",\"20\",\"10\"],\"textfont\":{\"color\":\"#ffffff\",\"family\":\"Courier New, monospace\",\"size\":30},\"x\":[5,5,5,5,5,5,5,5,5],\"y\":[20,30,40,50,60,70,80,90,100],\"type\":\"scatter\"},{\"hoverinfo\":\"none\",\"mode\":\"text\",\"showlegend\":false,\"text\":[\"10\",\"20\",\"30\",\"40\",\"50\",\"40\",\"30\",\"20\",\"10\"],\"textfont\":{\"color\":\"#ffffff\",\"family\":\"Courier New, monospace\",\"size\":30},\"x\":[48.5,48.5,48.5,48.5,48.5,48.5,48.5,48.5,48.5],\"y\":[20,30,40,50,60,70,80,90,100],\"type\":\"scatter\"},{\"hoverinfo\":\"none\",\"line\":{\"color\":\"blue\",\"dash\":\"dash\"},\"showlegend\":false,\"x\":[0,53.5],\"y\":[83,83],\"type\":\"scatter\"},{\"fill\":\"toself\",\"fillcolor\":\"#000000\",\"hoverinfo\":\"skip\",\"line\":{\"color\":\"white\",\"width\":3},\"mode\":\"lines\",\"opacity\":1,\"showlegend\":false,\"x\":[0,53.5,53.5,0,0],\"y\":[0,0,10,10,0],\"type\":\"scatter\"},{\"fill\":\"toself\",\"fillcolor\":\"#241773\",\"hoverinfo\":\"skip\",\"line\":{\"color\":\"white\",\"width\":3},\"mode\":\"lines\",\"opacity\":1,\"showlegend\":false,\"x\":[0,53.5,53.5,0,0],\"y\":[110,110,120,120,110],\"type\":\"scatter\"},{\"hoverinfo\":\"text\",\"hovertext\":[\"nflId:33099\\u003cbr\\u003edisplayName:Joe Flacco\\u003cbr\\u003e\",\"nflId:42371\\u003cbr\\u003edisplayName:Laken Tomlinson\\u003cbr\\u003e\",\"nflId:43433\\u003cbr\\u003edisplayName:Connor McGovern\\u003cbr\\u003e\",\"nflId:43586\\u003cbr\\u003edisplayName:George Fant\\u003cbr\\u003e\",\"nflId:44817\\u003cbr\\u003edisplayName:Corey Davis\\u003cbr\\u003e\",\"nflId:46226\\u003cbr\\u003edisplayName:Tyler Conklin\\u003cbr\\u003e\",\"nflId:46279\\u003cbr\\u003edisplayName:Braxton Berrios\\u003cbr\\u003e\",\"nflId:53443\\u003cbr\\u003edisplayName:Alijah Vera-Tucker\\u003cbr\\u003e\",\"nflId:53463\\u003cbr\\u003edisplayName:Elijah Moore\\u003cbr\\u003e\",\"nflId:53536\\u003cbr\\u003edisplayName:Michael Carter\\u003cbr\\u003e\",\"nflId:54576\\u003cbr\\u003edisplayName:Max Mitchell\\u003cbr\\u003e\"],\"marker\":{\"color\":\"#000000\",\"line\":{\"color\":\"#125740\",\"width\":2},\"size\":10},\"mode\":\"markers\",\"name\":\"NYJ\",\"x\":[23.699999999999996,21.549999999999997,25.129999999999995,24.689999999999998,18.919999999999995,19.659999999999997,44.31999999999999,21.869999999999997,41.87,21.509999999999998,28.669999999999998],\"y\":[77.59,83.68,82.27,86.79,85.48,84.2,80.34,81.98,83.74,83.17,81.44],\"type\":\"scatter\"},{\"hoverinfo\":\"text\",\"hovertext\":[\"nflId:33131\\u003cbr\\u003edisplayName:Calais Campbell\\u003cbr\\u003e\",\"nflId:37145\\u003cbr\\u003edisplayName:Justin Houston\\u003cbr\\u003e\",\"nflId:37778\\u003cbr\\u003edisplayName:Josh Bynes\\u003cbr\\u003e\",\"nflId:40095\\u003cbr\\u003edisplayName:Steven Means\\u003cbr\\u003e\",\"nflId:41240\\u003cbr\\u003edisplayName:Kyle Fuller\\u003cbr\\u003e\",\"nflId:43694\\u003cbr\\u003edisplayName:Michael Pierce\\u003cbr\\u003e\",\"nflId:44828\\u003cbr\\u003edisplayName:Marlon Humphrey\\u003cbr\\u003e\",\"nflId:44854\\u003cbr\\u003edisplayName:Marcus Williams\\u003cbr\\u003e\",\"nflId:44999\\u003cbr\\u003edisplayName:Chuck Clark\\u003cbr\\u003e\",\"nflId:52436\\u003cbr\\u003edisplayName:Patrick Queen\\u003cbr\\u003e\",\"nflId:53533\\u003cbr\\u003edisplayName:Brandon Stephens\\u003cbr\\u003e\"],\"marker\":{\"color\":\"#241773\",\"line\":{\"color\":\"#000000\",\"width\":2},\"size\":10},\"mode\":\"markers\",\"name\":\"BAL\",\"x\":[21.519999999999996,22.889999999999997,24.879999999999995,28.629999999999995,41.089999999999996,23.659999999999997,18.659999999999997,19.709999999999994,25.799999999999997,19.57,34.58],\"y\":[84.58,82.97,87.29,82.07,86.21,82.05,89.22,85.77,96.11,85.01,92.45],\"type\":\"scatter\"},{\"hoverinfo\":\"none\",\"marker\":{\"color\":\"#CBB67C\",\"line\":{\"color\":\"#663831\",\"width\":2},\"size\":10},\"mode\":\"markers\",\"name\":\"football\",\"x\":[21.369999694824198],\"y\":[83.1900024414062],\"type\":\"scatter\"}],\"name\":\"36\"},{\"data\":[{\"hoverinfo\":\"none\",\"mode\":\"text\",\"showlegend\":false,\"text\":[\"10\",\"20\",\"30\",\"40\",\"50\",\"40\",\"30\",\"20\",\"10\"],\"textfont\":{\"color\":\"#ffffff\",\"family\":\"Courier New, monospace\",\"size\":30},\"x\":[5,5,5,5,5,5,5,5,5],\"y\":[20,30,40,50,60,70,80,90,100],\"type\":\"scatter\"},{\"hoverinfo\":\"none\",\"mode\":\"text\",\"showlegend\":false,\"text\":[\"10\",\"20\",\"30\",\"40\",\"50\",\"40\",\"30\",\"20\",\"10\"],\"textfont\":{\"color\":\"#ffffff\",\"family\":\"Courier New, monospace\",\"size\":30},\"x\":[48.5,48.5,48.5,48.5,48.5,48.5,48.5,48.5,48.5],\"y\":[20,30,40,50,60,70,80,90,100],\"type\":\"scatter\"},{\"hoverinfo\":\"none\",\"line\":{\"color\":\"blue\",\"dash\":\"dash\"},\"showlegend\":false,\"x\":[0,53.5],\"y\":[83,83],\"type\":\"scatter\"},{\"fill\":\"toself\",\"fillcolor\":\"#000000\",\"hoverinfo\":\"skip\",\"line\":{\"color\":\"white\",\"width\":3},\"mode\":\"lines\",\"opacity\":1,\"showlegend\":false,\"x\":[0,53.5,53.5,0,0],\"y\":[0,0,10,10,0],\"type\":\"scatter\"},{\"fill\":\"toself\",\"fillcolor\":\"#241773\",\"hoverinfo\":\"skip\",\"line\":{\"color\":\"white\",\"width\":3},\"mode\":\"lines\",\"opacity\":1,\"showlegend\":false,\"x\":[0,53.5,53.5,0,0],\"y\":[110,110,120,120,110],\"type\":\"scatter\"},{\"hoverinfo\":\"text\",\"hovertext\":[\"nflId:33099\\u003cbr\\u003edisplayName:Joe Flacco\\u003cbr\\u003e\",\"nflId:42371\\u003cbr\\u003edisplayName:Laken Tomlinson\\u003cbr\\u003e\",\"nflId:43433\\u003cbr\\u003edisplayName:Connor McGovern\\u003cbr\\u003e\",\"nflId:43586\\u003cbr\\u003edisplayName:George Fant\\u003cbr\\u003e\",\"nflId:44817\\u003cbr\\u003edisplayName:Corey Davis\\u003cbr\\u003e\",\"nflId:46226\\u003cbr\\u003edisplayName:Tyler Conklin\\u003cbr\\u003e\",\"nflId:46279\\u003cbr\\u003edisplayName:Braxton Berrios\\u003cbr\\u003e\",\"nflId:53443\\u003cbr\\u003edisplayName:Alijah Vera-Tucker\\u003cbr\\u003e\",\"nflId:53463\\u003cbr\\u003edisplayName:Elijah Moore\\u003cbr\\u003e\",\"nflId:53536\\u003cbr\\u003edisplayName:Michael Carter\\u003cbr\\u003e\",\"nflId:54576\\u003cbr\\u003edisplayName:Max Mitchell\\u003cbr\\u003e\"],\"marker\":{\"color\":\"#000000\",\"line\":{\"color\":\"#125740\",\"width\":2},\"size\":10},\"mode\":\"markers\",\"name\":\"NYJ\",\"x\":[23.679999999999996,21.379999999999995,25.089999999999996,24.709999999999997,19.07,19.659999999999997,44.419999999999995,21.919999999999998,41.93,21.409999999999997,28.539999999999996],\"y\":[77.6,83.74,82.31,86.95,85.58,84.29,80.33,82.0,83.82,83.16,81.75],\"type\":\"scatter\"},{\"hoverinfo\":\"text\",\"hovertext\":[\"nflId:33131\\u003cbr\\u003edisplayName:Calais Campbell\\u003cbr\\u003e\",\"nflId:37145\\u003cbr\\u003edisplayName:Justin Houston\\u003cbr\\u003e\",\"nflId:37778\\u003cbr\\u003edisplayName:Josh Bynes\\u003cbr\\u003e\",\"nflId:40095\\u003cbr\\u003edisplayName:Steven Means\\u003cbr\\u003e\",\"nflId:41240\\u003cbr\\u003edisplayName:Kyle Fuller\\u003cbr\\u003e\",\"nflId:43694\\u003cbr\\u003edisplayName:Michael Pierce\\u003cbr\\u003e\",\"nflId:44828\\u003cbr\\u003edisplayName:Marlon Humphrey\\u003cbr\\u003e\",\"nflId:44854\\u003cbr\\u003edisplayName:Marcus Williams\\u003cbr\\u003e\",\"nflId:44999\\u003cbr\\u003edisplayName:Chuck Clark\\u003cbr\\u003e\",\"nflId:52436\\u003cbr\\u003edisplayName:Patrick Queen\\u003cbr\\u003e\",\"nflId:53533\\u003cbr\\u003edisplayName:Brandon Stephens\\u003cbr\\u003e\"],\"marker\":{\"color\":\"#241773\",\"line\":{\"color\":\"#000000\",\"width\":2},\"size\":10},\"mode\":\"markers\",\"name\":\"BAL\",\"x\":[21.339999999999996,22.839999999999996,24.799999999999997,28.379999999999995,40.949999999999996,23.619999999999997,18.869999999999997,19.879999999999995,25.56,19.709999999999994,34.17999999999999],\"y\":[84.78,83.09,87.46,82.37,86.36,82.07,89.04,85.7,95.66,85.06,92.33],\"type\":\"scatter\"},{\"hoverinfo\":\"none\",\"marker\":{\"color\":\"#CBB67C\",\"line\":{\"color\":\"#663831\",\"width\":2},\"size\":10},\"mode\":\"markers\",\"name\":\"football\",\"x\":[21.270001220703094],\"y\":[83.1699981689453],\"type\":\"scatter\"}],\"name\":\"37\"},{\"data\":[{\"hoverinfo\":\"none\",\"mode\":\"text\",\"showlegend\":false,\"text\":[\"10\",\"20\",\"30\",\"40\",\"50\",\"40\",\"30\",\"20\",\"10\"],\"textfont\":{\"color\":\"#ffffff\",\"family\":\"Courier New, monospace\",\"size\":30},\"x\":[5,5,5,5,5,5,5,5,5],\"y\":[20,30,40,50,60,70,80,90,100],\"type\":\"scatter\"},{\"hoverinfo\":\"none\",\"mode\":\"text\",\"showlegend\":false,\"text\":[\"10\",\"20\",\"30\",\"40\",\"50\",\"40\",\"30\",\"20\",\"10\"],\"textfont\":{\"color\":\"#ffffff\",\"family\":\"Courier New, monospace\",\"size\":30},\"x\":[48.5,48.5,48.5,48.5,48.5,48.5,48.5,48.5,48.5],\"y\":[20,30,40,50,60,70,80,90,100],\"type\":\"scatter\"},{\"hoverinfo\":\"none\",\"line\":{\"color\":\"blue\",\"dash\":\"dash\"},\"showlegend\":false,\"x\":[0,53.5],\"y\":[83,83],\"type\":\"scatter\"},{\"fill\":\"toself\",\"fillcolor\":\"#000000\",\"hoverinfo\":\"skip\",\"line\":{\"color\":\"white\",\"width\":3},\"mode\":\"lines\",\"opacity\":1,\"showlegend\":false,\"x\":[0,53.5,53.5,0,0],\"y\":[0,0,10,10,0],\"type\":\"scatter\"},{\"fill\":\"toself\",\"fillcolor\":\"#241773\",\"hoverinfo\":\"skip\",\"line\":{\"color\":\"white\",\"width\":3},\"mode\":\"lines\",\"opacity\":1,\"showlegend\":false,\"x\":[0,53.5,53.5,0,0],\"y\":[110,110,120,120,110],\"type\":\"scatter\"},{\"hoverinfo\":\"text\",\"hovertext\":[\"nflId:33099\\u003cbr\\u003edisplayName:Joe Flacco\\u003cbr\\u003e\",\"nflId:42371\\u003cbr\\u003edisplayName:Laken Tomlinson\\u003cbr\\u003e\",\"nflId:43433\\u003cbr\\u003edisplayName:Connor McGovern\\u003cbr\\u003e\",\"nflId:43586\\u003cbr\\u003edisplayName:George Fant\\u003cbr\\u003e\",\"nflId:44817\\u003cbr\\u003edisplayName:Corey Davis\\u003cbr\\u003e\",\"nflId:46226\\u003cbr\\u003edisplayName:Tyler Conklin\\u003cbr\\u003e\",\"nflId:46279\\u003cbr\\u003edisplayName:Braxton Berrios\\u003cbr\\u003e\",\"nflId:53443\\u003cbr\\u003edisplayName:Alijah Vera-Tucker\\u003cbr\\u003e\",\"nflId:53463\\u003cbr\\u003edisplayName:Elijah Moore\\u003cbr\\u003e\",\"nflId:53536\\u003cbr\\u003edisplayName:Michael Carter\\u003cbr\\u003e\",\"nflId:54576\\u003cbr\\u003edisplayName:Max Mitchell\\u003cbr\\u003e\"],\"marker\":{\"color\":\"#000000\",\"line\":{\"color\":\"#125740\",\"width\":2},\"size\":10},\"mode\":\"markers\",\"name\":\"NYJ\",\"x\":[23.669999999999998,21.229999999999997,25.019999999999996,24.72,19.229999999999997,19.669999999999995,44.48,21.949999999999996,41.98,21.31,28.4],\"y\":[77.61,83.78,82.35,87.11,85.69,84.38,80.34,82.02,83.88,83.16,82.06],\"type\":\"scatter\"},{\"hoverinfo\":\"text\",\"hovertext\":[\"nflId:33131\\u003cbr\\u003edisplayName:Calais Campbell\\u003cbr\\u003e\",\"nflId:37145\\u003cbr\\u003edisplayName:Justin Houston\\u003cbr\\u003e\",\"nflId:37778\\u003cbr\\u003edisplayName:Josh Bynes\\u003cbr\\u003e\",\"nflId:40095\\u003cbr\\u003edisplayName:Steven Means\\u003cbr\\u003e\",\"nflId:41240\\u003cbr\\u003edisplayName:Kyle Fuller\\u003cbr\\u003e\",\"nflId:43694\\u003cbr\\u003edisplayName:Michael Pierce\\u003cbr\\u003e\",\"nflId:44828\\u003cbr\\u003edisplayName:Marlon Humphrey\\u003cbr\\u003e\",\"nflId:44854\\u003cbr\\u003edisplayName:Marcus Williams\\u003cbr\\u003e\",\"nflId:44999\\u003cbr\\u003edisplayName:Chuck Clark\\u003cbr\\u003e\",\"nflId:52436\\u003cbr\\u003edisplayName:Patrick Queen\\u003cbr\\u003e\",\"nflId:53533\\u003cbr\\u003edisplayName:Brandon Stephens\\u003cbr\\u003e\"],\"marker\":{\"color\":\"#241773\",\"line\":{\"color\":\"#000000\",\"width\":2},\"size\":10},\"mode\":\"markers\",\"name\":\"BAL\",\"x\":[21.199999999999996,22.769999999999996,24.679999999999996,28.089999999999996,40.8,23.569999999999997,19.049999999999997,20.04,25.299999999999997,19.869999999999997,33.78999999999999],\"y\":[84.98,83.2,87.62,82.66,86.48,82.08,88.88,85.7,95.23,85.1,92.2],\"type\":\"scatter\"},{\"hoverinfo\":\"none\",\"marker\":{\"color\":\"#CBB67C\",\"line\":{\"color\":\"#663831\",\"width\":2},\"size\":10},\"mode\":\"markers\",\"name\":\"football\",\"x\":[21.1899993896484],\"y\":[83.1500015258789],\"type\":\"scatter\"}],\"name\":\"38\"},{\"data\":[{\"hoverinfo\":\"none\",\"mode\":\"text\",\"showlegend\":false,\"text\":[\"10\",\"20\",\"30\",\"40\",\"50\",\"40\",\"30\",\"20\",\"10\"],\"textfont\":{\"color\":\"#ffffff\",\"family\":\"Courier New, monospace\",\"size\":30},\"x\":[5,5,5,5,5,5,5,5,5],\"y\":[20,30,40,50,60,70,80,90,100],\"type\":\"scatter\"},{\"hoverinfo\":\"none\",\"mode\":\"text\",\"showlegend\":false,\"text\":[\"10\",\"20\",\"30\",\"40\",\"50\",\"40\",\"30\",\"20\",\"10\"],\"textfont\":{\"color\":\"#ffffff\",\"family\":\"Courier New, monospace\",\"size\":30},\"x\":[48.5,48.5,48.5,48.5,48.5,48.5,48.5,48.5,48.5],\"y\":[20,30,40,50,60,70,80,90,100],\"type\":\"scatter\"},{\"hoverinfo\":\"none\",\"line\":{\"color\":\"blue\",\"dash\":\"dash\"},\"showlegend\":false,\"x\":[0,53.5],\"y\":[83,83],\"type\":\"scatter\"},{\"fill\":\"toself\",\"fillcolor\":\"#000000\",\"hoverinfo\":\"skip\",\"line\":{\"color\":\"white\",\"width\":3},\"mode\":\"lines\",\"opacity\":1,\"showlegend\":false,\"x\":[0,53.5,53.5,0,0],\"y\":[0,0,10,10,0],\"type\":\"scatter\"},{\"fill\":\"toself\",\"fillcolor\":\"#241773\",\"hoverinfo\":\"skip\",\"line\":{\"color\":\"white\",\"width\":3},\"mode\":\"lines\",\"opacity\":1,\"showlegend\":false,\"x\":[0,53.5,53.5,0,0],\"y\":[110,110,120,120,110],\"type\":\"scatter\"},{\"hoverinfo\":\"text\",\"hovertext\":[\"nflId:33099\\u003cbr\\u003edisplayName:Joe Flacco\\u003cbr\\u003e\",\"nflId:42371\\u003cbr\\u003edisplayName:Laken Tomlinson\\u003cbr\\u003e\",\"nflId:43433\\u003cbr\\u003edisplayName:Connor McGovern\\u003cbr\\u003e\",\"nflId:43586\\u003cbr\\u003edisplayName:George Fant\\u003cbr\\u003e\",\"nflId:44817\\u003cbr\\u003edisplayName:Corey Davis\\u003cbr\\u003e\",\"nflId:46226\\u003cbr\\u003edisplayName:Tyler Conklin\\u003cbr\\u003e\",\"nflId:46279\\u003cbr\\u003edisplayName:Braxton Berrios\\u003cbr\\u003e\",\"nflId:53443\\u003cbr\\u003edisplayName:Alijah Vera-Tucker\\u003cbr\\u003e\",\"nflId:53463\\u003cbr\\u003edisplayName:Elijah Moore\\u003cbr\\u003e\",\"nflId:53536\\u003cbr\\u003edisplayName:Michael Carter\\u003cbr\\u003e\",\"nflId:54576\\u003cbr\\u003edisplayName:Max Mitchell\\u003cbr\\u003e\"],\"marker\":{\"color\":\"#000000\",\"line\":{\"color\":\"#125740\",\"width\":2},\"size\":10},\"mode\":\"markers\",\"name\":\"NYJ\",\"x\":[23.65,21.129999999999995,24.949999999999996,24.729999999999997,19.409999999999997,19.689999999999998,44.5,21.979999999999997,42.0,21.229999999999997,28.229999999999997],\"y\":[77.63,83.82,82.38,87.29,85.79,84.48,80.34,82.05,83.92,83.16,82.33],\"type\":\"scatter\"},{\"hoverinfo\":\"text\",\"hovertext\":[\"nflId:33131\\u003cbr\\u003edisplayName:Calais Campbell\\u003cbr\\u003e\",\"nflId:37145\\u003cbr\\u003edisplayName:Justin Houston\\u003cbr\\u003e\",\"nflId:37778\\u003cbr\\u003edisplayName:Josh Bynes\\u003cbr\\u003e\",\"nflId:40095\\u003cbr\\u003edisplayName:Steven Means\\u003cbr\\u003e\",\"nflId:41240\\u003cbr\\u003edisplayName:Kyle Fuller\\u003cbr\\u003e\",\"nflId:43694\\u003cbr\\u003edisplayName:Michael Pierce\\u003cbr\\u003e\",\"nflId:44828\\u003cbr\\u003edisplayName:Marlon Humphrey\\u003cbr\\u003e\",\"nflId:44854\\u003cbr\\u003edisplayName:Marcus Williams\\u003cbr\\u003e\",\"nflId:44999\\u003cbr\\u003edisplayName:Chuck Clark\\u003cbr\\u003e\",\"nflId:52436\\u003cbr\\u003edisplayName:Patrick Queen\\u003cbr\\u003e\",\"nflId:53533\\u003cbr\\u003edisplayName:Brandon Stephens\\u003cbr\\u003e\"],\"marker\":{\"color\":\"#241773\",\"line\":{\"color\":\"#000000\",\"width\":2},\"size\":10},\"mode\":\"markers\",\"name\":\"BAL\",\"x\":[21.089999999999996,22.639999999999997,24.549999999999997,27.779999999999998,40.65,23.539999999999996,19.199999999999996,20.199999999999996,25.039999999999996,20.009999999999998,33.41],\"y\":[85.18,83.26,87.75,82.93,86.57,82.08,88.73,85.68,94.82,85.12,92.06],\"type\":\"scatter\"},{\"hoverinfo\":\"none\",\"marker\":{\"color\":\"#CBB67C\",\"line\":{\"color\":\"#663831\",\"width\":2},\"size\":10},\"mode\":\"markers\",\"name\":\"football\",\"x\":[21.119999694824195],\"y\":[83.129997253418],\"type\":\"scatter\"}],\"name\":\"39\"},{\"data\":[{\"hoverinfo\":\"none\",\"mode\":\"text\",\"showlegend\":false,\"text\":[\"10\",\"20\",\"30\",\"40\",\"50\",\"40\",\"30\",\"20\",\"10\"],\"textfont\":{\"color\":\"#ffffff\",\"family\":\"Courier New, monospace\",\"size\":30},\"x\":[5,5,5,5,5,5,5,5,5],\"y\":[20,30,40,50,60,70,80,90,100],\"type\":\"scatter\"},{\"hoverinfo\":\"none\",\"mode\":\"text\",\"showlegend\":false,\"text\":[\"10\",\"20\",\"30\",\"40\",\"50\",\"40\",\"30\",\"20\",\"10\"],\"textfont\":{\"color\":\"#ffffff\",\"family\":\"Courier New, monospace\",\"size\":30},\"x\":[48.5,48.5,48.5,48.5,48.5,48.5,48.5,48.5,48.5],\"y\":[20,30,40,50,60,70,80,90,100],\"type\":\"scatter\"},{\"hoverinfo\":\"none\",\"line\":{\"color\":\"blue\",\"dash\":\"dash\"},\"showlegend\":false,\"x\":[0,53.5],\"y\":[83,83],\"type\":\"scatter\"},{\"fill\":\"toself\",\"fillcolor\":\"#000000\",\"hoverinfo\":\"skip\",\"line\":{\"color\":\"white\",\"width\":3},\"mode\":\"lines\",\"opacity\":1,\"showlegend\":false,\"x\":[0,53.5,53.5,0,0],\"y\":[0,0,10,10,0],\"type\":\"scatter\"},{\"fill\":\"toself\",\"fillcolor\":\"#241773\",\"hoverinfo\":\"skip\",\"line\":{\"color\":\"white\",\"width\":3},\"mode\":\"lines\",\"opacity\":1,\"showlegend\":false,\"x\":[0,53.5,53.5,0,0],\"y\":[110,110,120,120,110],\"type\":\"scatter\"},{\"hoverinfo\":\"text\",\"hovertext\":[\"nflId:33099\\u003cbr\\u003edisplayName:Joe Flacco\\u003cbr\\u003e\",\"nflId:42371\\u003cbr\\u003edisplayName:Laken Tomlinson\\u003cbr\\u003e\",\"nflId:43433\\u003cbr\\u003edisplayName:Connor McGovern\\u003cbr\\u003e\",\"nflId:43586\\u003cbr\\u003edisplayName:George Fant\\u003cbr\\u003e\",\"nflId:44817\\u003cbr\\u003edisplayName:Corey Davis\\u003cbr\\u003e\",\"nflId:46226\\u003cbr\\u003edisplayName:Tyler Conklin\\u003cbr\\u003e\",\"nflId:46279\\u003cbr\\u003edisplayName:Braxton Berrios\\u003cbr\\u003e\",\"nflId:53443\\u003cbr\\u003edisplayName:Alijah Vera-Tucker\\u003cbr\\u003e\",\"nflId:53463\\u003cbr\\u003edisplayName:Elijah Moore\\u003cbr\\u003e\",\"nflId:53536\\u003cbr\\u003edisplayName:Michael Carter\\u003cbr\\u003e\",\"nflId:54576\\u003cbr\\u003edisplayName:Max Mitchell\\u003cbr\\u003e\"],\"marker\":{\"color\":\"#000000\",\"line\":{\"color\":\"#125740\",\"width\":2},\"size\":10},\"mode\":\"markers\",\"name\":\"NYJ\",\"x\":[23.629999999999995,21.029999999999994,24.869999999999997,24.72,19.589999999999996,19.709999999999994,44.489999999999995,21.99,42.0,21.18,28.039999999999996],\"y\":[77.66,83.86,82.42,87.45,85.87,84.58,80.35,82.07,83.96,83.14,82.6],\"type\":\"scatter\"},{\"hoverinfo\":\"text\",\"hovertext\":[\"nflId:33131\\u003cbr\\u003edisplayName:Calais Campbell\\u003cbr\\u003e\",\"nflId:37145\\u003cbr\\u003edisplayName:Justin Houston\\u003cbr\\u003e\",\"nflId:37778\\u003cbr\\u003edisplayName:Josh Bynes\\u003cbr\\u003e\",\"nflId:40095\\u003cbr\\u003edisplayName:Steven Means\\u003cbr\\u003e\",\"nflId:41240\\u003cbr\\u003edisplayName:Kyle Fuller\\u003cbr\\u003e\",\"nflId:43694\\u003cbr\\u003edisplayName:Michael Pierce\\u003cbr\\u003e\",\"nflId:44828\\u003cbr\\u003edisplayName:Marlon Humphrey\\u003cbr\\u003e\",\"nflId:44854\\u003cbr\\u003edisplayName:Marcus Williams\\u003cbr\\u003e\",\"nflId:44999\\u003cbr\\u003edisplayName:Chuck Clark\\u003cbr\\u003e\",\"nflId:52436\\u003cbr\\u003edisplayName:Patrick Queen\\u003cbr\\u003e\",\"nflId:53533\\u003cbr\\u003edisplayName:Brandon Stephens\\u003cbr\\u003e\"],\"marker\":{\"color\":\"#241773\",\"line\":{\"color\":\"#000000\",\"width\":2},\"size\":10},\"mode\":\"markers\",\"name\":\"BAL\",\"x\":[21.0,22.549999999999997,24.409999999999997,27.439999999999998,40.489999999999995,23.509999999999998,19.33,20.36,24.779999999999998,20.15,33.05],\"y\":[85.36,83.32,87.86,83.17,86.62,82.08,88.6,85.64,94.42,85.13,91.93],\"type\":\"scatter\"},{\"hoverinfo\":\"none\",\"marker\":{\"color\":\"#CBB67C\",\"line\":{\"color\":\"#663831\",\"width\":2},\"size\":10},\"mode\":\"markers\",\"name\":\"football\",\"x\":[21.070000457763697],\"y\":[83.1100006103516],\"type\":\"scatter\"}],\"name\":\"40\"},{\"data\":[{\"hoverinfo\":\"none\",\"mode\":\"text\",\"showlegend\":false,\"text\":[\"10\",\"20\",\"30\",\"40\",\"50\",\"40\",\"30\",\"20\",\"10\"],\"textfont\":{\"color\":\"#ffffff\",\"family\":\"Courier New, monospace\",\"size\":30},\"x\":[5,5,5,5,5,5,5,5,5],\"y\":[20,30,40,50,60,70,80,90,100],\"type\":\"scatter\"},{\"hoverinfo\":\"none\",\"mode\":\"text\",\"showlegend\":false,\"text\":[\"10\",\"20\",\"30\",\"40\",\"50\",\"40\",\"30\",\"20\",\"10\"],\"textfont\":{\"color\":\"#ffffff\",\"family\":\"Courier New, monospace\",\"size\":30},\"x\":[48.5,48.5,48.5,48.5,48.5,48.5,48.5,48.5,48.5],\"y\":[20,30,40,50,60,70,80,90,100],\"type\":\"scatter\"},{\"hoverinfo\":\"none\",\"line\":{\"color\":\"blue\",\"dash\":\"dash\"},\"showlegend\":false,\"x\":[0,53.5],\"y\":[83,83],\"type\":\"scatter\"},{\"fill\":\"toself\",\"fillcolor\":\"#000000\",\"hoverinfo\":\"skip\",\"line\":{\"color\":\"white\",\"width\":3},\"mode\":\"lines\",\"opacity\":1,\"showlegend\":false,\"x\":[0,53.5,53.5,0,0],\"y\":[0,0,10,10,0],\"type\":\"scatter\"},{\"fill\":\"toself\",\"fillcolor\":\"#241773\",\"hoverinfo\":\"skip\",\"line\":{\"color\":\"white\",\"width\":3},\"mode\":\"lines\",\"opacity\":1,\"showlegend\":false,\"x\":[0,53.5,53.5,0,0],\"y\":[110,110,120,120,110],\"type\":\"scatter\"},{\"hoverinfo\":\"text\",\"hovertext\":[\"nflId:33099\\u003cbr\\u003edisplayName:Joe Flacco\\u003cbr\\u003e\",\"nflId:42371\\u003cbr\\u003edisplayName:Laken Tomlinson\\u003cbr\\u003e\",\"nflId:43433\\u003cbr\\u003edisplayName:Connor McGovern\\u003cbr\\u003e\",\"nflId:43586\\u003cbr\\u003edisplayName:George Fant\\u003cbr\\u003e\",\"nflId:44817\\u003cbr\\u003edisplayName:Corey Davis\\u003cbr\\u003e\",\"nflId:46226\\u003cbr\\u003edisplayName:Tyler Conklin\\u003cbr\\u003e\",\"nflId:46279\\u003cbr\\u003edisplayName:Braxton Berrios\\u003cbr\\u003e\",\"nflId:53443\\u003cbr\\u003edisplayName:Alijah Vera-Tucker\\u003cbr\\u003e\",\"nflId:53463\\u003cbr\\u003edisplayName:Elijah Moore\\u003cbr\\u003e\",\"nflId:53536\\u003cbr\\u003edisplayName:Michael Carter\\u003cbr\\u003e\",\"nflId:54576\\u003cbr\\u003edisplayName:Max Mitchell\\u003cbr\\u003e\"],\"marker\":{\"color\":\"#000000\",\"line\":{\"color\":\"#125740\",\"width\":2},\"size\":10},\"mode\":\"markers\",\"name\":\"NYJ\",\"x\":[23.609999999999996,20.939999999999998,24.779999999999998,24.709999999999997,19.75,19.729999999999997,44.44,22.009999999999998,41.97,21.14,27.83],\"y\":[77.69,83.89,82.44,87.62,85.89,84.71,80.36,82.1,83.98,83.12,82.83],\"type\":\"scatter\"},{\"hoverinfo\":\"text\",\"hovertext\":[\"nflId:33131\\u003cbr\\u003edisplayName:Calais Campbell\\u003cbr\\u003e\",\"nflId:37145\\u003cbr\\u003edisplayName:Justin Houston\\u003cbr\\u003e\",\"nflId:37778\\u003cbr\\u003edisplayName:Josh Bynes\\u003cbr\\u003e\",\"nflId:40095\\u003cbr\\u003edisplayName:Steven Means\\u003cbr\\u003e\",\"nflId:41240\\u003cbr\\u003edisplayName:Kyle Fuller\\u003cbr\\u003e\",\"nflId:43694\\u003cbr\\u003edisplayName:Michael Pierce\\u003cbr\\u003e\",\"nflId:44828\\u003cbr\\u003edisplayName:Marlon Humphrey\\u003cbr\\u003e\",\"nflId:44854\\u003cbr\\u003edisplayName:Marcus Williams\\u003cbr\\u003e\",\"nflId:44999\\u003cbr\\u003edisplayName:Chuck Clark\\u003cbr\\u003e\",\"nflId:52436\\u003cbr\\u003edisplayName:Patrick Queen\\u003cbr\\u003e\",\"nflId:53533\\u003cbr\\u003edisplayName:Brandon Stephens\\u003cbr\\u003e\"],\"marker\":{\"color\":\"#241773\",\"line\":{\"color\":\"#000000\",\"width\":2},\"size\":10},\"mode\":\"markers\",\"name\":\"BAL\",\"x\":[20.939999999999998,22.479999999999997,24.249999999999996,27.089999999999996,40.31999999999999,23.479999999999997,19.449999999999996,20.509999999999998,24.529999999999998,20.299999999999997,32.709999999999994],\"y\":[85.54,83.36,87.95,83.39,86.68,82.07,88.48,85.6,94.05,85.12,91.8],\"type\":\"scatter\"},{\"hoverinfo\":\"none\",\"marker\":{\"color\":\"#CBB67C\",\"line\":{\"color\":\"#663831\",\"width\":2},\"size\":10},\"mode\":\"markers\",\"name\":\"football\",\"x\":[21.020001220703094],\"y\":[83.0899963378906],\"type\":\"scatter\"}],\"name\":\"41\"}]);\n",
       "                        }).then(function(){\n",
       "                            \n",
       "var gd = document.getElementById('cd7bd020-8a0c-4a0f-b10b-92c1fc7682f7');\n",
       "var x = new MutationObserver(function (mutations, observer) {{\n",
       "        var display = window.getComputedStyle(gd).display;\n",
       "        if (!display || display === 'none') {{\n",
       "            console.log([gd, 'removed!']);\n",
       "            Plotly.purge(gd);\n",
       "            observer.disconnect();\n",
       "        }}\n",
       "}});\n",
       "\n",
       "// Listen for the removal of the full notebook cells\n",
       "var notebookContainer = gd.closest('#notebook-container');\n",
       "if (notebookContainer) {{\n",
       "    x.observe(notebookContainer, {childList: true});\n",
       "}}\n",
       "\n",
       "// Listen for the clearing of the current output cell\n",
       "var outputEl = gd.closest('.output');\n",
       "if (outputEl) {{\n",
       "    x.observe(outputEl, {childList: true});\n",
       "}}\n",
       "\n",
       "                        })                };                });            </script>        </div>"
      ]
     },
     "metadata": {},
     "output_type": "display_data"
    }
   ],
   "source": [
    "from plotly.offline import plot\n",
    "animate_play(games.to_pandas(), tracking.to_pandas(), plays.to_pandas(), players.to_pandas(), 2022091107, 1841, [75, 50])"
   ]
  },
  {
   "cell_type": "code",
   "execution_count": null,
   "id": "b538330a-b019-470d-94a6-3eb0b303be01",
   "metadata": {},
   "outputs": [],
   "source": []
  }
 ],
 "metadata": {
  "kernelspec": {
   "display_name": "Python 3 (ipykernel)",
   "language": "python",
   "name": "python3"
  },
  "language_info": {
   "codemirror_mode": {
    "name": "ipython",
    "version": 3
   },
   "file_extension": ".py",
   "mimetype": "text/x-python",
   "name": "python",
   "nbconvert_exporter": "python",
   "pygments_lexer": "ipython3",
   "version": "3.11.0"
  }
 },
 "nbformat": 4,
 "nbformat_minor": 5
}
