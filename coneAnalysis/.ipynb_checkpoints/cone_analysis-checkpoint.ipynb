{
 "cells": [
  {
   "cell_type": "code",
   "execution_count": 19,
   "id": "a691a07c-00b8-4843-90f2-efaaa252ea85",
   "metadata": {},
   "outputs": [],
   "source": [
    "import polars as pl\n",
    "import pandas as pd\n",
    "import numpy as np\n",
    "import math as math"
   ]
  },
  {
   "cell_type": "code",
   "execution_count": 20,
   "id": "668e7aa3-6f90-4ca7-b9e8-b6e1e0573005",
   "metadata": {},
   "outputs": [],
   "source": [
    "# read all data\n",
    "players = pl.read_csv('../nfl-big-data-bowl-2024/players.csv')\n",
    "plays = pl.read_csv('../nfl-big-data-bowl-2024/plays.csv',infer_schema_length=100000)\n",
    "games = pl.read_csv('../nfl-big-data-bowl-2024/games.csv',infer_schema_length=10000)\n",
    "tracking = pl.read_csv('../nfl-big-data-bowl-2024/tracking_week*.csv',infer_schema_length=10000)"
   ]
  },
  {
   "cell_type": "code",
   "execution_count": 21,
   "id": "147a0c33-dad8-4f51-a150-69b2fbbef229",
   "metadata": {},
   "outputs": [],
   "source": [
    "# normalize data\n",
    "master_players = players.with_columns([pl.col('nflId').cast(str)])\n",
    "plays = plays.join(games,on='gameId')\n",
    "plays = plays.with_columns([\n",
    "    (pl.col('gameId').cast(str) + '-'\n",
    "     + pl.col('playId').cast(str)).alias('uniquePlayId')\n",
    "])\n",
    "\n",
    "tracking = tracking.with_columns(\n",
    "    (pl.col('gameId').cast(str) + '-'\n",
    "     + pl.col('playId').cast(str)).alias('uniquePlayId'),\n",
    "    (pl.col('gameId').cast(str) + '-'\n",
    "     + pl.col('playId').cast(str) + '-'\n",
    "     + pl.col('nflId').cast(str)).alias('uniquePlayerId'),\n",
    ")\n",
    "\n",
    "# normalize position\n",
    "tracking=tracking.with_columns([\n",
    "    pl.when(pl.col('playDirection')=='right').then(53.3-pl.col('y')).otherwise(pl.col('y')).alias('adjustedX'),\n",
    "    pl.when(pl.col('playDirection')=='right').then(pl.col('x')).otherwise(120-pl.col('x')).alias('adjustedY')\n",
    "])\n",
    "\n",
    "tracking=tracking.with_columns([\n",
    "    pl.when(pl.col('event').is_in(['ball_snap','autoevent_ballsnap'])).then(pl.col('frameId')).otherwise(-1)\n",
    "    .alias('startingFrameId'),\n",
    "])\n",
    "tracking=tracking.with_columns([\n",
    "    pl.col('startingFrameId').max().over(pl.col('uniquePlayId')),\n",
    "])\n",
    "tracking=tracking.with_columns([\n",
    "    (pl.col('frameId') - pl.col('startingFrameId')).alias('framesSinceSnap'),\n",
    "])\n",
    "tracking = tracking.filter(pl.col('startingFrameId')!=-1)\n",
    "\n",
    "# normalize orientation 'o' and direction 'dir'\n",
    "# convert 'NA' to 0\n",
    "replacement_values = {'NA': '0'}\n",
    "tracking = tracking.with_columns(\n",
    "    pl.col('o').apply(lambda x: replacement_values.get(x, x)),\n",
    "    pl.col('dir').apply(lambda x: replacement_values.get(x, x)),\n",
    ")\n",
    "\n",
    "tracking=tracking.with_columns([\n",
    "    pl.when(pl.col('playDirection')=='right').then(pl.col('dir').cast(pl.Float64)).otherwise(180-pl.col('dir').cast(pl.Float64)).alias('adjustedDir'),\n",
    "    pl.when(pl.col('playDirection')=='right').then(pl.col('o').cast(pl.Float64)).otherwise((180+pl.col('o').cast(pl.Float64))%360).alias('firstAdjustedO'),\n",
    "])\n",
    "\n",
    "tracking=tracking.with_columns([\n",
    "    pl.when(pl.col('firstAdjustedO') <= 180).then(180-pl.col('firstAdjustedO')).otherwise(540-pl.col('firstAdjustedO')).alias('adjustedO')\n",
    "])"
   ]
  },
  {
   "cell_type": "code",
   "execution_count": 23,
   "id": "e74626b0-a053-4344-bf2e-bdcd3e862b65",
   "metadata": {},
   "outputs": [],
   "source": [
    "CONE_ANGLE_FAR = 50 # degrees\n",
    "CONE_ANGLE_CLOSE = 120 # degrees\n",
    "MAX_DISTANCE = 3 # yards\n",
    "BLOCKING_RADIUS = 1.25 # yards\n",
    "\n",
    "def angle_in_range(angle, left_boundary, right_boundary):\n",
    "    return (angle - left_boundary) % 360 <= (right_boundary - left_boundary) % 360\n",
    "\n",
    "# row = [o, dir, adjustedX, adjustedY, oDefender, dirDefender, adjustedXDefender, adjustedYDefender]\n",
    "def looking_to_block_or_blocking_df_fn(row) -> int:\n",
    "    blocking_status = 0\n",
    "    player1 = row[0:4]\n",
    "    player2 = row[4:]\n",
    "\n",
    "    if is_in_vision_cone(player1, player2, CONE_ANGLE_FAR, MAX_DISTANCE) or is_in_vision_cone(player1, player2, CONE_ANGLE_CLOSE, BLOCKING_RADIUS):\n",
    "        blocking_status = 1\n",
    "\n",
    "    if is_blocking(player1, player2) and blocking_status == 1:\n",
    "        blocking_status = 2\n",
    "\n",
    "    return blocking_status\n",
    "    \n",
    "\n",
    "def looking_to_block_or_blocking(player1: tuple, player2: tuple) -> int:\n",
    "    blocking_status = 0\n",
    "    if is_in_vision_cone(player1, player2):\n",
    "        blocking_status = 1\n",
    "\n",
    "    if is_blocking(player1, player2) and blocking_status == 1:\n",
    "        blocking_status = 2\n",
    "\n",
    "    return 0\n",
    "\n",
    "def is_in_vision_cone(player1: tuple, player2: tuple, cone_angle, distance) -> bool:\n",
    "    return (is_in_angle(player1, player2, cone_angle) and is_in_distance(player1, player2, distance))\n",
    "\n",
    "def is_in_angle(player1: tuple, player2: tuple, cone_angle) -> bool:\n",
    "    half_cone_angle = cone_angle / 2\n",
    "\n",
    "    y_dist = player2[3] - player1[3]\n",
    "    x_dist = player2[2] - player1[2]\n",
    "    player1_orientation = float(player1[0]) if type(player1[0]) == str else player1[0]\n",
    "\n",
    "    # print(\"isinangle\")\n",
    "    # print(\"player1\")\n",
    "    # print(player1)\n",
    "\n",
    "    # print(\"player2\")\n",
    "    # print(player2)\n",
    "\n",
    "    # print(\"player1_ori\")\n",
    "    # print(player1_orientation)\n",
    "\n",
    "    angle = math.degrees(math.atan2(y_dist, x_dist))\n",
    "    angle = (angle + 360) % 360\n",
    "    \n",
    "    left_vision_boundary = (360 + player1_orientation - half_cone_angle) % 360\n",
    "    right_vision_boundary = (player1_orientation + half_cone_angle) % 360\n",
    "    \n",
    "    \n",
    "#     print(left_vision_boundary)\n",
    "#     print(angle)\n",
    "#     print(right_vision_boundary)\n",
    "#     print(angle_in_range(angle,left_vision_boundary,right_vision_boundary))\n",
    "\n",
    "    # print(\"angle\")\n",
    "    # print(angle)\n",
    "\n",
    "    if angle_in_range(angle,left_vision_boundary,right_vision_boundary):\n",
    "        return True\n",
    "    \n",
    "    return False\n",
    "\n",
    "def is_in_distance(player1: tuple, player2: tuple, dist=MAX_DISTANCE) -> bool:\n",
    "    distance_between_players = calculate_distance(player1, player2)\n",
    "    if distance_between_players <= dist:\n",
    "        return True\n",
    "    \n",
    "    return False\n",
    "\n",
    "def is_blocking(player1: tuple, player2: tuple) -> bool:\n",
    "    distance_between_players = calculate_distance(player1, player2)\n",
    "    if distance_between_players <= BLOCKING_RADIUS:\n",
    "        return True\n",
    "\n",
    "    return False\n",
    "\n",
    "\n",
    "def calculate_distance(player1: tuple, player2: tuple) -> float:\n",
    "    y_dist = abs(player1[3] - player2[3])\n",
    "    x_dist = abs(player1[2] - player2[2])\n",
    "\n",
    "    # print(y_dist)\n",
    "    # print(x_dist)\n",
    "    # print(math.sqrt(x_dist**2 + y_dist**2))\n",
    "\n",
    "    return math.sqrt(x_dist**2 + y_dist**2)"
   ]
  },
  {
   "cell_type": "code",
   "execution_count": 24,
   "id": "1130d89d-3973-48d9-98ce-d95b4fc6de93",
   "metadata": {},
   "outputs": [],
   "source": [
    "# We need copy so we don't modify the original list :)\n",
    "import copy\n",
    "DENT_CONE_ANGLE = 30\n",
    "DENT_DISTANCE = 1.25\n",
    "SIDE_CONE_ANGLES = 180\n",
    "\n",
    "# 0 => None\n",
    "# 1 => Box -> Left\n",
    "# 2 => Dent\n",
    "# 3 => Spill -> Right\n",
    "def type_of_block_df_fn(row) -> str:    \n",
    "    player1 = list(row[0:4])\n",
    "    player2 = list(row[4:])\n",
    "    \n",
    "    if is_dent(player1, copy.copy(player2)):\n",
    "        return \"dent\"\n",
    "    if is_left_vision_cone(player1, copy.copy(player2)):\n",
    "        return \"left\"\n",
    "    elif is_right_vision_cone(player1, copy.copy(player2)):\n",
    "        return \"right\"\n",
    "    \n",
    "    return \"none\"\n",
    "\n",
    "def is_left_vision_cone(player1: tuple, player2: tuple) -> bool:\n",
    "    player2[0] = (player2[0] + 90) % 360\n",
    "    return is_in_angle(player2, player1, SIDE_CONE_ANGLES)\n",
    "\n",
    "# Both players can see each other\n",
    "# Only need to check player2 vision cone since we calculate blockType based on player1 earlier\n",
    "def is_dent(player1: tuple, player2: tuple) -> bool:\n",
    "    return is_in_vision_cone(player2, player1, DENT_CONE_ANGLE, DENT_DISTANCE)\n",
    "\n",
    "def is_right_vision_cone(player1: tuple, player2: tuple) -> bool:\n",
    "    player2[0] = (player2[0] - 90) % 360\n",
    "    return is_in_angle(player2, player1, SIDE_CONE_ANGLES)\n",
    "    "
   ]
  },
  {
   "cell_type": "code",
   "execution_count": 25,
   "id": "eb658699",
   "metadata": {},
   "outputs": [
    {
     "data": {
      "text/html": [
       "<div><style>\n",
       ".dataframe > thead > tr > th,\n",
       ".dataframe > tbody > tr > td {\n",
       "  text-align: right;\n",
       "}\n",
       "</style>\n",
       "<small>shape: (1_683, 7)</small><table border=\"1\" class=\"dataframe\"><thead><tr><th>nflId</th><th>height</th><th>weight</th><th>birthDate</th><th>collegeName</th><th>position</th><th>displayName</th></tr><tr><td>str</td><td>str</td><td>i64</td><td>str</td><td>str</td><td>str</td><td>str</td></tr></thead><tbody><tr><td>&quot;25511&quot;</td><td>&quot;6-4&quot;</td><td>225</td><td>&quot;1977-08-03&quot;</td><td>&quot;Michigan&quot;</td><td>&quot;QB&quot;</td><td>&quot;Tom Brady&quot;</td></tr><tr><td>&quot;29550&quot;</td><td>&quot;6-4&quot;</td><td>328</td><td>&quot;1982-01-22&quot;</td><td>&quot;Arkansas&quot;</td><td>&quot;T&quot;</td><td>&quot;Jason Peters&quot;</td></tr><tr><td>&quot;29851&quot;</td><td>&quot;6-2&quot;</td><td>225</td><td>&quot;1983-12-02&quot;</td><td>&quot;California&quot;</td><td>&quot;QB&quot;</td><td>&quot;Aaron Rodgers&quot;</td></tr><tr><td>&quot;30842&quot;</td><td>&quot;6-6&quot;</td><td>267</td><td>&quot;1984-05-19&quot;</td><td>&quot;UCLA&quot;</td><td>&quot;TE&quot;</td><td>&quot;Marcedes Lewis…</td></tr><tr><td>&quot;33084&quot;</td><td>&quot;6-4&quot;</td><td>217</td><td>&quot;1985-05-17&quot;</td><td>&quot;Boston College…</td><td>&quot;QB&quot;</td><td>&quot;Matt Ryan&quot;</td></tr><tr><td>&quot;33099&quot;</td><td>&quot;6-6&quot;</td><td>245</td><td>&quot;1985-01-16&quot;</td><td>&quot;Delaware&quot;</td><td>&quot;QB&quot;</td><td>&quot;Joe Flacco&quot;</td></tr><tr><td>&quot;33107&quot;</td><td>&quot;6-4&quot;</td><td>315</td><td>&quot;1985-08-30&quot;</td><td>&quot;Virginia Tech&quot;</td><td>&quot;T&quot;</td><td>&quot;Duane Brown&quot;</td></tr><tr><td>&quot;33130&quot;</td><td>&quot;5-10&quot;</td><td>175</td><td>&quot;1986-12-01&quot;</td><td>&quot;California&quot;</td><td>&quot;WR&quot;</td><td>&quot;DeSean Jackson…</td></tr><tr><td>&quot;33131&quot;</td><td>&quot;6-8&quot;</td><td>300</td><td>&quot;1986-09-01&quot;</td><td>&quot;Miami&quot;</td><td>&quot;DE&quot;</td><td>&quot;Calais Campbel…</td></tr><tr><td>&quot;33138&quot;</td><td>&quot;6-3&quot;</td><td>222</td><td>&quot;1985-07-02&quot;</td><td>&quot;Michigan&quot;</td><td>&quot;QB&quot;</td><td>&quot;Chad Henne&quot;</td></tr><tr><td>&quot;34452&quot;</td><td>&quot;6-3&quot;</td><td>220</td><td>&quot;1988-02-07&quot;</td><td>&quot;Georgia&quot;</td><td>&quot;QB&quot;</td><td>&quot;Matthew Staffo…</td></tr><tr><td>&quot;34754&quot;</td><td>&quot;6-0&quot;</td><td>229</td><td>&quot;1986-10-07&quot;</td><td>&quot;Missouri&quot;</td><td>&quot;QB&quot;</td><td>&quot;Chase Daniel&quot;</td></tr><tr><td>&hellip;</td><td>&hellip;</td><td>&hellip;</td><td>&hellip;</td><td>&hellip;</td><td>&hellip;</td><td>&hellip;</td></tr><tr><td>&quot;55157&quot;</td><td>&quot;6-4&quot;</td><td>245</td><td>&quot;NA&quot;</td><td>&quot;Indiana&quot;</td><td>&quot;TE&quot;</td><td>&quot;Peyton Henders…</td></tr><tr><td>&quot;55158&quot;</td><td>&quot;6-2&quot;</td><td>205</td><td>&quot;NA&quot;</td><td>&quot;Western Illino…</td><td>&quot;WR&quot;</td><td>&quot;Dennis Houston…</td></tr><tr><td>&quot;55168&quot;</td><td>&quot;6-1&quot;</td><td>195</td><td>&quot;NA&quot;</td><td>&quot;Ferris State&quot;</td><td>&quot;WR&quot;</td><td>&quot;Jared Bernhard…</td></tr><tr><td>&quot;55173&quot;</td><td>&quot;6-5&quot;</td><td>321</td><td>&quot;NA&quot;</td><td>&quot;Kansas State&quot;</td><td>&quot;DT&quot;</td><td>&quot;Timmy Horne&quot;</td></tr><tr><td>&quot;55175&quot;</td><td>&quot;6-3&quot;</td><td>230</td><td>&quot;NA&quot;</td><td>&quot;Colorado&quot;</td><td>&quot;ILB&quot;</td><td>&quot;Nate Landman&quot;</td></tr><tr><td>&quot;55181&quot;</td><td>&quot;5-11&quot;</td><td>190</td><td>&quot;NA&quot;</td><td>&quot;Rutgers&quot;</td><td>&quot;CB&quot;</td><td>&quot;Tre Avery&quot;</td></tr><tr><td>&quot;55190&quot;</td><td>&quot;6-1&quot;</td><td>285</td><td>&quot;NA&quot;</td><td>&quot;Maryland&quot;</td><td>&quot;DE&quot;</td><td>&quot;Sam Okuayinonu…</td></tr><tr><td>&quot;55200&quot;</td><td>&quot;6-6&quot;</td><td>266</td><td>&quot;NA&quot;</td><td>&quot;Indiana&quot;</td><td>&quot;DT&quot;</td><td>&quot;Ryder Anderson…</td></tr><tr><td>&quot;55212&quot;</td><td>&quot;6-0&quot;</td><td>230</td><td>&quot;NA&quot;</td><td>&quot;Iowa State&quot;</td><td>&quot;ILB&quot;</td><td>&quot;Jake Hummel&quot;</td></tr><tr><td>&quot;55239&quot;</td><td>&quot;6-2&quot;</td><td>300</td><td>&quot;NA&quot;</td><td>&quot;Pennsylvania&quot;</td><td>&quot;DT&quot;</td><td>&quot;Prince Emili&quot;</td></tr><tr><td>&quot;55240&quot;</td><td>&quot;6-1&quot;</td><td>185</td><td>&quot;NA&quot;</td><td>&quot;Buffalo&quot;</td><td>&quot;CB&quot;</td><td>&quot;Ja&#x27;Marcus Ingr…</td></tr><tr><td>&quot;55241&quot;</td><td>&quot;6-2&quot;</td><td>280</td><td>&quot;NA&quot;</td><td>&quot;Coastal Caroli…</td><td>&quot;DT&quot;</td><td>&quot;C.J. Brewer&quot;</td></tr></tbody></table></div>"
      ],
      "text/plain": [
       "shape: (1_683, 7)\n",
       "┌───────┬────────┬────────┬────────────┬──────────────────┬──────────┬──────────────────┐\n",
       "│ nflId ┆ height ┆ weight ┆ birthDate  ┆ collegeName      ┆ position ┆ displayName      │\n",
       "│ ---   ┆ ---    ┆ ---    ┆ ---        ┆ ---              ┆ ---      ┆ ---              │\n",
       "│ str   ┆ str    ┆ i64    ┆ str        ┆ str              ┆ str      ┆ str              │\n",
       "╞═══════╪════════╪════════╪════════════╪══════════════════╪══════════╪══════════════════╡\n",
       "│ 25511 ┆ 6-4    ┆ 225    ┆ 1977-08-03 ┆ Michigan         ┆ QB       ┆ Tom Brady        │\n",
       "│ 29550 ┆ 6-4    ┆ 328    ┆ 1982-01-22 ┆ Arkansas         ┆ T        ┆ Jason Peters     │\n",
       "│ 29851 ┆ 6-2    ┆ 225    ┆ 1983-12-02 ┆ California       ┆ QB       ┆ Aaron Rodgers    │\n",
       "│ 30842 ┆ 6-6    ┆ 267    ┆ 1984-05-19 ┆ UCLA             ┆ TE       ┆ Marcedes Lewis   │\n",
       "│ …     ┆ …      ┆ …      ┆ …          ┆ …                ┆ …        ┆ …                │\n",
       "│ 55212 ┆ 6-0    ┆ 230    ┆ NA         ┆ Iowa State       ┆ ILB      ┆ Jake Hummel      │\n",
       "│ 55239 ┆ 6-2    ┆ 300    ┆ NA         ┆ Pennsylvania     ┆ DT       ┆ Prince Emili     │\n",
       "│ 55240 ┆ 6-1    ┆ 185    ┆ NA         ┆ Buffalo          ┆ CB       ┆ Ja'Marcus Ingram │\n",
       "│ 55241 ┆ 6-2    ┆ 280    ┆ NA         ┆ Coastal Carolina ┆ DT       ┆ C.J. Brewer      │\n",
       "└───────┴────────┴────────┴────────────┴──────────────────┴──────────┴──────────────────┘"
      ]
     },
     "execution_count": 25,
     "metadata": {},
     "output_type": "execute_result"
    }
   ],
   "source": [
    "master_players"
   ]
  },
  {
   "cell_type": "code",
   "execution_count": 29,
   "id": "3120895b-29e3-4bbb-8b55-6ffcdf587384",
   "metadata": {},
   "outputs": [
    {
     "name": "stdout",
     "output_type": "stream",
     "text": [
      "1683\n",
      "0\n",
      "0\n",
      "0\n",
      "0\n"
     ]
    }
   ],
   "source": [
    "GAME_ID = 2022110608\n",
    "PLAY_ID = 91\n",
    "JERSEY_NUMBER = '83'\n",
    "JERSEY_NUMBER_DEFENDER = '90'\n",
    "\n",
    "\n",
    "labeled = tracking.filter(pl.col('gameId')==GAME_ID).filter(pl.col('playId')==PLAY_ID)\n",
    "players = master_players\n",
    "print(len(players))\n",
    "\n",
    "players = labeled.join(players,on='nflId',how='left')\n",
    "print(len(players))\n",
    "players = players.filter(pl.col('club')!='football')\n",
    "print(len(players))\n",
    "players = players.join(games.select(['gameId','homeTeamAbbr','visitorTeamAbbr']),on='gameId')\n",
    "print(len(players))\n",
    "players = players.with_columns([\n",
    "    pl.when(pl.col('club')==pl.col('homeTeamAbbr'))\n",
    "    .then(pl.col('visitorTeamAbbr'))\n",
    "    .otherwise(pl.col('homeTeamAbbr'))\n",
    "    .alias('opponentClub')\n",
    "])\n",
    "\n",
    "print(len(players))"
   ]
  },
  {
   "cell_type": "code",
   "execution_count": 18,
   "id": "69501176",
   "metadata": {},
   "outputs": [
    {
     "data": {
      "text/html": [
       "<div><style>\n",
       ".dataframe > thead > tr > th,\n",
       ".dataframe > tbody > tr > td {\n",
       "  text-align: right;\n",
       "}\n",
       "</style>\n",
       "<small>shape: (0, 35)</small><table border=\"1\" class=\"dataframe\"><thead><tr><th>gameId</th><th>playId</th><th>nflId</th><th>displayName</th><th>frameId</th><th>time</th><th>jerseyNumber</th><th>club</th><th>playDirection</th><th>x</th><th>y</th><th>s</th><th>a</th><th>dis</th><th>o</th><th>dir</th><th>event</th><th>uniquePlayId</th><th>uniquePlayerId</th><th>adjustedX</th><th>adjustedY</th><th>startingFrameId</th><th>framesSinceSnap</th><th>adjustedDir</th><th>firstAdjustedO</th><th>adjustedO</th><th>height</th><th>weight</th><th>birthDate</th><th>collegeName</th><th>position</th><th>displayName_right</th><th>homeTeamAbbr</th><th>visitorTeamAbbr</th><th>opponentClub</th></tr><tr><td>i64</td><td>i64</td><td>str</td><td>str</td><td>i64</td><td>str</td><td>str</td><td>str</td><td>str</td><td>f64</td><td>f64</td><td>f64</td><td>f64</td><td>f64</td><td>str</td><td>str</td><td>str</td><td>str</td><td>str</td><td>f64</td><td>f64</td><td>i64</td><td>i64</td><td>f64</td><td>f64</td><td>f64</td><td>str</td><td>i64</td><td>str</td><td>str</td><td>str</td><td>str</td><td>str</td><td>str</td><td>str</td></tr></thead><tbody></tbody></table></div>"
      ],
      "text/plain": [
       "shape: (0, 35)\n",
       "┌────────┬────────┬───────┬───────────┬───┬────────────┬────────────┬───────────────┬──────────────┐\n",
       "│ gameId ┆ playId ┆ nflId ┆ displayNa ┆ … ┆ displayNam ┆ homeTeamAb ┆ visitorTeamAb ┆ opponentClub │\n",
       "│ ---    ┆ ---    ┆ ---   ┆ me        ┆   ┆ e_right    ┆ br         ┆ br            ┆ ---          │\n",
       "│ i64    ┆ i64    ┆ str   ┆ ---       ┆   ┆ ---        ┆ ---        ┆ ---           ┆ str          │\n",
       "│        ┆        ┆       ┆ str       ┆   ┆ str        ┆ str        ┆ str           ┆              │\n",
       "╞════════╪════════╪═══════╪═══════════╪═══╪════════════╪════════════╪═══════════════╪══════════════╡\n",
       "└────────┴────────┴───────┴───────────┴───┴────────────┴────────────┴───────────────┴──────────────┘"
      ]
     },
     "execution_count": 18,
     "metadata": {},
     "output_type": "execute_result"
    }
   ],
   "source": [
    "players"
   ]
  },
  {
   "cell_type": "code",
   "execution_count": 7,
   "id": "4a9fd1a6-62ca-4c8c-86a8-12853d69cb11",
   "metadata": {},
   "outputs": [],
   "source": [
    "players = players.join(\n",
    "    players,\n",
    "    left_on=['gameId','playId','frameId','club'],\n",
    "    right_on=['gameId','playId','frameId','opponentClub'],\n",
    "    suffix='Defender'\n",
    ")"
   ]
  },
  {
   "cell_type": "code",
   "execution_count": 9,
   "id": "88aa813e",
   "metadata": {},
   "outputs": [
    {
     "data": {
      "text/html": [
       "<div><style>\n",
       ".dataframe > thead > tr > th,\n",
       ".dataframe > tbody > tr > td {\n",
       "  text-align: right;\n",
       "}\n",
       "</style>\n",
       "<small>shape: (0, 66)</small><table border=\"1\" class=\"dataframe\"><thead><tr><th>gameId</th><th>playId</th><th>nflId</th><th>displayName</th><th>frameId</th><th>time</th><th>jerseyNumber</th><th>club</th><th>playDirection</th><th>x</th><th>y</th><th>s</th><th>a</th><th>dis</th><th>o</th><th>dir</th><th>event</th><th>uniquePlayId</th><th>uniquePlayerId</th><th>adjustedX</th><th>adjustedY</th><th>startingFrameId</th><th>framesSinceSnap</th><th>adjustedDir</th><th>firstAdjustedO</th><th>adjustedO</th><th>height</th><th>weight</th><th>birthDate</th><th>collegeName</th><th>position</th><th>displayName_right</th><th>homeTeamAbbr</th><th>visitorTeamAbbr</th><th>opponentClub</th><th>nflIdDefender</th><th>displayNameDefender</th><th>timeDefender</th><th>jerseyNumberDefender</th><th>clubDefender</th><th>playDirectionDefender</th><th>xDefender</th><th>yDefender</th><th>sDefender</th><th>aDefender</th><th>disDefender</th><th>oDefender</th><th>dirDefender</th><th>eventDefender</th><th>uniquePlayIdDefender</th><th>uniquePlayerIdDefender</th><th>adjustedXDefender</th><th>adjustedYDefender</th><th>startingFrameIdDefender</th><th>framesSinceSnapDefender</th><th>adjustedDirDefender</th><th>firstAdjustedODefender</th><th>adjustedODefender</th><th>heightDefender</th><th>weightDefender</th><th>birthDateDefender</th><th>collegeNameDefender</th><th>positionDefender</th><th>displayName_rightDefender</th><th>homeTeamAbbrDefender</th><th>visitorTeamAbbrDefender</th></tr><tr><td>i64</td><td>i64</td><td>str</td><td>str</td><td>i64</td><td>str</td><td>str</td><td>str</td><td>str</td><td>f64</td><td>f64</td><td>f64</td><td>f64</td><td>f64</td><td>str</td><td>str</td><td>str</td><td>str</td><td>str</td><td>f64</td><td>f64</td><td>i64</td><td>i64</td><td>f64</td><td>f64</td><td>f64</td><td>str</td><td>i64</td><td>str</td><td>str</td><td>str</td><td>str</td><td>str</td><td>str</td><td>str</td><td>str</td><td>str</td><td>str</td><td>str</td><td>str</td><td>str</td><td>f64</td><td>f64</td><td>f64</td><td>f64</td><td>f64</td><td>str</td><td>str</td><td>str</td><td>str</td><td>str</td><td>f64</td><td>f64</td><td>i64</td><td>i64</td><td>f64</td><td>f64</td><td>f64</td><td>str</td><td>i64</td><td>str</td><td>str</td><td>str</td><td>str</td><td>str</td><td>str</td></tr></thead><tbody></tbody></table></div>"
      ],
      "text/plain": [
       "shape: (0, 66)\n",
       "┌────────┬────────┬───────┬───────────┬───┬────────────┬────────────┬───────────────┬──────────────┐\n",
       "│ gameId ┆ playId ┆ nflId ┆ displayNa ┆ … ┆ positionDe ┆ displayNam ┆ homeTeamAbbrD ┆ visitorTeamA │\n",
       "│ ---    ┆ ---    ┆ ---   ┆ me        ┆   ┆ fender     ┆ e_rightDef ┆ efender       ┆ bbrDefender  │\n",
       "│ i64    ┆ i64    ┆ str   ┆ ---       ┆   ┆ ---        ┆ ender      ┆ ---           ┆ ---          │\n",
       "│        ┆        ┆       ┆ str       ┆   ┆ str        ┆ ---        ┆ str           ┆ str          │\n",
       "│        ┆        ┆       ┆           ┆   ┆            ┆ str        ┆               ┆              │\n",
       "╞════════╪════════╪═══════╪═══════════╪═══╪════════════╪════════════╪═══════════════╪══════════════╡\n",
       "└────────┴────────┴───────┴───────────┴───┴────────────┴────────────┴───────────────┴──────────────┘"
      ]
     },
     "execution_count": 9,
     "metadata": {},
     "output_type": "execute_result"
    }
   ],
   "source": [
    "players"
   ]
  },
  {
   "cell_type": "code",
   "execution_count": 8,
   "id": "ef1f12a3-c2df-4692-88b0-06d7d0c5aa40",
   "metadata": {},
   "outputs": [
    {
     "ename": "RuntimeError",
     "evalue": "BindingsError: \"Could not determine output type\"",
     "output_type": "error",
     "traceback": [
      "\u001b[0;31m---------------------------------------------------------------------------\u001b[0m",
      "\u001b[0;31mRuntimeError\u001b[0m                              Traceback (most recent call last)",
      "Cell \u001b[0;32mIn[8], line 3\u001b[0m\n\u001b[1;32m      1\u001b[0m blocking_df \u001b[38;5;241m=\u001b[39m \u001b[43mplayers\u001b[49m\u001b[38;5;241;43m.\u001b[39;49m\u001b[43mselect\u001b[49m\u001b[43m(\u001b[49m\n\u001b[1;32m      2\u001b[0m \u001b[43m    \u001b[49m\u001b[38;5;124;43m'\u001b[39;49m\u001b[38;5;124;43madjustedO\u001b[39;49m\u001b[38;5;124;43m'\u001b[39;49m\u001b[43m,\u001b[49m\u001b[43m \u001b[49m\u001b[38;5;124;43m'\u001b[39;49m\u001b[38;5;124;43madjustedDir\u001b[39;49m\u001b[38;5;124;43m'\u001b[39;49m\u001b[43m,\u001b[49m\u001b[43m \u001b[49m\u001b[38;5;124;43m'\u001b[39;49m\u001b[38;5;124;43madjustedX\u001b[39;49m\u001b[38;5;124;43m'\u001b[39;49m\u001b[43m,\u001b[49m\u001b[43m \u001b[49m\u001b[38;5;124;43m'\u001b[39;49m\u001b[38;5;124;43madjustedY\u001b[39;49m\u001b[38;5;124;43m'\u001b[39;49m\u001b[43m,\u001b[49m\u001b[43m \u001b[49m\u001b[38;5;124;43m'\u001b[39;49m\u001b[38;5;124;43madjustedODefender\u001b[39;49m\u001b[38;5;124;43m'\u001b[39;49m\u001b[43m,\u001b[49m\u001b[43m \u001b[49m\u001b[38;5;124;43m'\u001b[39;49m\u001b[38;5;124;43madjustedDirDefender\u001b[39;49m\u001b[38;5;124;43m'\u001b[39;49m\u001b[43m,\u001b[49m\u001b[43m \u001b[49m\u001b[38;5;124;43m'\u001b[39;49m\u001b[38;5;124;43madjustedXDefender\u001b[39;49m\u001b[38;5;124;43m'\u001b[39;49m\u001b[43m,\u001b[49m\u001b[43m \u001b[49m\u001b[38;5;124;43m'\u001b[39;49m\u001b[38;5;124;43madjustedYDefender\u001b[39;49m\u001b[38;5;124;43m'\u001b[39;49m\n\u001b[0;32m----> 3\u001b[0m \u001b[43m)\u001b[49m\u001b[38;5;241;43m.\u001b[39;49m\u001b[43mapply\u001b[49m\u001b[43m(\u001b[49m\u001b[43mlooking_to_block_or_blocking_df_fn\u001b[49m\u001b[43m)\u001b[49m\n\u001b[1;32m      5\u001b[0m blocking_df \u001b[38;5;241m=\u001b[39m blocking_df\u001b[38;5;241m.\u001b[39mto_series()\n\u001b[1;32m      6\u001b[0m players \u001b[38;5;241m=\u001b[39m players\u001b[38;5;241m.\u001b[39mwith_columns(blockType\u001b[38;5;241m=\u001b[39mblocking_df)\n",
      "File \u001b[0;32m~/anaconda3/lib/python3.10/site-packages/polars/dataframe/frame.py:5670\u001b[0m, in \u001b[0;36mDataFrame.apply\u001b[0;34m(self, function, return_dtype, inference_size)\u001b[0m\n\u001b[1;32m   5581\u001b[0m \u001b[38;5;28;01mdef\u001b[39;00m \u001b[38;5;21mapply\u001b[39m(\n\u001b[1;32m   5582\u001b[0m     \u001b[38;5;28mself\u001b[39m,\n\u001b[1;32m   5583\u001b[0m     function: Callable[[\u001b[38;5;28mtuple\u001b[39m[Any, \u001b[38;5;241m.\u001b[39m\u001b[38;5;241m.\u001b[39m\u001b[38;5;241m.\u001b[39m]], Any],\n\u001b[0;32m   (...)\u001b[0m\n\u001b[1;32m   5586\u001b[0m     inference_size: \u001b[38;5;28mint\u001b[39m \u001b[38;5;241m=\u001b[39m \u001b[38;5;241m256\u001b[39m,\n\u001b[1;32m   5587\u001b[0m ) \u001b[38;5;241m-\u001b[39m\u001b[38;5;241m>\u001b[39m DataFrame:\n\u001b[1;32m   5588\u001b[0m \u001b[38;5;250m    \u001b[39m\u001b[38;5;124;03m\"\"\"\u001b[39;00m\n\u001b[1;32m   5589\u001b[0m \u001b[38;5;124;03m    Apply a custom/user-defined function (UDF) over the rows of the DataFrame.\u001b[39;00m\n\u001b[1;32m   5590\u001b[0m \n\u001b[0;32m   (...)\u001b[0m\n\u001b[1;32m   5668\u001b[0m \n\u001b[1;32m   5669\u001b[0m \u001b[38;5;124;03m    \"\"\"\u001b[39;00m\n\u001b[0;32m-> 5670\u001b[0m     out, is_df \u001b[38;5;241m=\u001b[39m \u001b[38;5;28;43mself\u001b[39;49m\u001b[38;5;241;43m.\u001b[39;49m\u001b[43m_df\u001b[49m\u001b[38;5;241;43m.\u001b[39;49m\u001b[43mapply\u001b[49m\u001b[43m(\u001b[49m\u001b[43mfunction\u001b[49m\u001b[43m,\u001b[49m\u001b[43m \u001b[49m\u001b[43mreturn_dtype\u001b[49m\u001b[43m,\u001b[49m\u001b[43m \u001b[49m\u001b[43minference_size\u001b[49m\u001b[43m)\u001b[49m\n\u001b[1;32m   5671\u001b[0m     \u001b[38;5;28;01mif\u001b[39;00m is_df:\n\u001b[1;32m   5672\u001b[0m         \u001b[38;5;28;01mreturn\u001b[39;00m \u001b[38;5;28mself\u001b[39m\u001b[38;5;241m.\u001b[39m_from_pydf(out)\n",
      "\u001b[0;31mRuntimeError\u001b[0m: BindingsError: \"Could not determine output type\""
     ]
    }
   ],
   "source": [
    "blocking_df = players.select(\n",
    "    'adjustedO', 'adjustedDir', 'adjustedX', 'adjustedY', 'adjustedODefender', 'adjustedDirDefender', 'adjustedXDefender', 'adjustedYDefender'\n",
    ").apply(looking_to_block_or_blocking_df_fn)\n",
    "\n",
    "blocking_df = blocking_df.to_series()\n",
    "players = players.with_columns(blockType=blocking_df)"
   ]
  },
  {
   "cell_type": "code",
   "execution_count": null,
   "id": "55dff58e-5318-4f3b-a680-5ca0da8dfadb",
   "metadata": {},
   "outputs": [],
   "source": [
    "test_data = players.filter(pl.col('gameId')==GAME_ID).filter(pl.col('playId')==PLAY_ID)\n",
    "# test_data = test_data.filter(pl.col('jerseyNumber')=='73').filter(pl.col('framesSinceSnap')==12)\n",
    "# test_data = test_data.filter(pl.col('jerseyNumberDefender')=='91')\n",
    "\n",
    "is_blocking_df = test_data.select(\n",
    "    'adjustedO', 'adjustedDir', 'adjustedX', 'adjustedY', 'adjustedODefender', \n",
    "    'adjustedDirDefender', 'adjustedXDefender', 'adjustedYDefender'\n",
    ").apply(looking_to_block_or_blocking_df_fn)\n",
    "\n",
    "is_blocking_df = is_blocking_df.to_series()\n",
    "test_data = test_data.with_columns(blockType=is_blocking_df)"
   ]
  },
  {
   "cell_type": "code",
   "execution_count": null,
   "id": "b215deae-24c8-4e0e-96d9-5e8d8cf6e9f2",
   "metadata": {},
   "outputs": [],
   "source": [
    "type_of_block_df = test_data.select(\n",
    "    'adjustedO', 'adjustedDir', 'adjustedX', 'adjustedY', 'adjustedODefender', \n",
    "    'adjustedDirDefender', 'adjustedXDefender', 'adjustedYDefender', 'blockType'\n",
    ").apply(type_of_block_df_fn)\n",
    "\n",
    "test_data = test_data.with_columns(blockLocation=type_of_block_df.to_series())"
   ]
  },
  {
   "cell_type": "code",
   "execution_count": null,
   "id": "4fe4010a-0725-4bde-86e4-2400cb4d51ae",
   "metadata": {},
   "outputs": [],
   "source": [
    "test_blocking = test_data.filter(pl.col('jerseyNumberDefender')=='99')#.filter(pl.col('jerseyNumberDefender')==JERSEY_NUMBER_DEFENDER)\n",
    "test_blocking.select(\n",
    "    'adjustedO', 'adjustedDir', 'adjustedX', 'adjustedY', 'adjustedODefender', \n",
    "    'adjustedDirDefender', 'adjustedXDefender', 'adjustedYDefender', \n",
    "    'jerseyNumber','jerseyNumberDefender','blockType',\n",
    "    'framesSinceSnap', 'blockLocation'\n",
    ").filter(pl.col('framesSinceSnap')>=5).filter(pl.col('blockType')>0)\\\n",
    ".sort(by='framesSinceSnap').head(20).tail(20)\n"
   ]
  },
  {
   "cell_type": "code",
   "execution_count": null,
   "id": "7e33ddb2-9f18-4409-94f7-e31d561f1491",
   "metadata": {},
   "outputs": [],
   "source": [
    "# take third frame after contact to check dent vs spill"
   ]
  },
  {
   "cell_type": "code",
   "execution_count": null,
   "id": "929b61cc",
   "metadata": {},
   "outputs": [],
   "source": []
  }
 ],
 "metadata": {
  "kernelspec": {
   "display_name": "Python 3 (ipykernel)",
   "language": "python",
   "name": "python3"
  },
  "language_info": {
   "codemirror_mode": {
    "name": "ipython",
    "version": 3
   },
   "file_extension": ".py",
   "mimetype": "text/x-python",
   "name": "python",
   "nbconvert_exporter": "python",
   "pygments_lexer": "ipython3",
   "version": "3.10.9"
  }
 },
 "nbformat": 4,
 "nbformat_minor": 5
}
